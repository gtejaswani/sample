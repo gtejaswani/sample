{
  "nbformat": 4,
  "nbformat_minor": 0,
  "metadata": {
    "kernelspec": {
      "display_name": "Python 3",
      "language": "python",
      "name": "python3"
    },
    "colab": {
      "name": "sentiment-analysis.ipynb",
      "provenance": [],
      "include_colab_link": true
    }
  },
  "cells": [
    {
      "cell_type": "markdown",
      "metadata": {
        "id": "view-in-github",
        "colab_type": "text"
      },
      "source": [
        "<a href=\"https://colab.research.google.com/github/gtejaswani/sample/blob/master/Sentiment_analysis.ipynb\" target=\"_parent\"><img src=\"https://colab.research.google.com/assets/colab-badge.svg\" alt=\"Open In Colab\"/></a>"
      ]
    },
    {
      "cell_type": "markdown",
      "metadata": {
        "_uuid": "92b885dd147dac19bd0a33db3cd0da100bd5bc23",
        "id": "pK3VHZbh5yag"
      },
      "source": [
        "# Sentiment Analysis"
      ]
    },
    {
      "cell_type": "code",
      "metadata": {
        "_uuid": "70282bce8b42a51e4d44f2c7d85c4ca9567b0fd4",
        "id": "DXrl0hrv5yaj",
        "outputId": "304590d1-cc29-4b55-9041-f097accfbf43",
        "colab": {
          "base_uri": "https://localhost:8080/",
          "height": 844
        }
      },
      "source": [
        "!pip install gensim --upgrade\n",
        "!pip install keras --upgrade\n",
        "!pip install pandas --upgrade"
      ],
      "execution_count": 3,
      "outputs": [
        {
          "output_type": "stream",
          "text": [
            "Collecting gensim\n",
            "\u001b[?25l  Downloading https://files.pythonhosted.org/packages/2b/e0/fa6326251692056dc880a64eb22117e03269906ba55a6864864d24ec8b4e/gensim-3.8.3-cp36-cp36m-manylinux1_x86_64.whl (24.2MB)\n",
            "\u001b[K     |████████████████████████████████| 24.2MB 158kB/s \n",
            "\u001b[?25hRequirement already satisfied, skipping upgrade: smart-open>=1.8.1 in /usr/local/lib/python3.6/dist-packages (from gensim) (2.1.1)\n",
            "Requirement already satisfied, skipping upgrade: scipy>=0.18.1 in /usr/local/lib/python3.6/dist-packages (from gensim) (1.4.1)\n",
            "Requirement already satisfied, skipping upgrade: numpy>=1.11.3 in /usr/local/lib/python3.6/dist-packages (from gensim) (1.18.5)\n",
            "Requirement already satisfied, skipping upgrade: six>=1.5.0 in /usr/local/lib/python3.6/dist-packages (from gensim) (1.15.0)\n",
            "Requirement already satisfied, skipping upgrade: boto3 in /usr/local/lib/python3.6/dist-packages (from smart-open>=1.8.1->gensim) (1.14.63)\n",
            "Requirement already satisfied, skipping upgrade: requests in /usr/local/lib/python3.6/dist-packages (from smart-open>=1.8.1->gensim) (2.23.0)\n",
            "Requirement already satisfied, skipping upgrade: boto in /usr/local/lib/python3.6/dist-packages (from smart-open>=1.8.1->gensim) (2.49.0)\n",
            "Requirement already satisfied, skipping upgrade: jmespath<1.0.0,>=0.7.1 in /usr/local/lib/python3.6/dist-packages (from boto3->smart-open>=1.8.1->gensim) (0.10.0)\n",
            "Requirement already satisfied, skipping upgrade: s3transfer<0.4.0,>=0.3.0 in /usr/local/lib/python3.6/dist-packages (from boto3->smart-open>=1.8.1->gensim) (0.3.3)\n",
            "Requirement already satisfied, skipping upgrade: botocore<1.18.0,>=1.17.63 in /usr/local/lib/python3.6/dist-packages (from boto3->smart-open>=1.8.1->gensim) (1.17.63)\n",
            "Requirement already satisfied, skipping upgrade: certifi>=2017.4.17 in /usr/local/lib/python3.6/dist-packages (from requests->smart-open>=1.8.1->gensim) (2020.6.20)\n",
            "Requirement already satisfied, skipping upgrade: idna<3,>=2.5 in /usr/local/lib/python3.6/dist-packages (from requests->smart-open>=1.8.1->gensim) (2.10)\n",
            "Requirement already satisfied, skipping upgrade: urllib3!=1.25.0,!=1.25.1,<1.26,>=1.21.1 in /usr/local/lib/python3.6/dist-packages (from requests->smart-open>=1.8.1->gensim) (1.24.3)\n",
            "Requirement already satisfied, skipping upgrade: chardet<4,>=3.0.2 in /usr/local/lib/python3.6/dist-packages (from requests->smart-open>=1.8.1->gensim) (3.0.4)\n",
            "Requirement already satisfied, skipping upgrade: python-dateutil<3.0.0,>=2.1 in /usr/local/lib/python3.6/dist-packages (from botocore<1.18.0,>=1.17.63->boto3->smart-open>=1.8.1->gensim) (2.8.1)\n",
            "Requirement already satisfied, skipping upgrade: docutils<0.16,>=0.10 in /usr/local/lib/python3.6/dist-packages (from botocore<1.18.0,>=1.17.63->boto3->smart-open>=1.8.1->gensim) (0.15.2)\n",
            "Installing collected packages: gensim\n",
            "  Found existing installation: gensim 3.6.0\n",
            "    Uninstalling gensim-3.6.0:\n",
            "      Successfully uninstalled gensim-3.6.0\n",
            "Successfully installed gensim-3.8.3\n",
            "Requirement already up-to-date: keras in /usr/local/lib/python3.6/dist-packages (2.4.3)\n",
            "Requirement already satisfied, skipping upgrade: numpy>=1.9.1 in /usr/local/lib/python3.6/dist-packages (from keras) (1.18.5)\n",
            "Requirement already satisfied, skipping upgrade: h5py in /usr/local/lib/python3.6/dist-packages (from keras) (2.10.0)\n",
            "Requirement already satisfied, skipping upgrade: scipy>=0.14 in /usr/local/lib/python3.6/dist-packages (from keras) (1.4.1)\n",
            "Requirement already satisfied, skipping upgrade: pyyaml in /usr/local/lib/python3.6/dist-packages (from keras) (3.13)\n",
            "Requirement already satisfied, skipping upgrade: six in /usr/local/lib/python3.6/dist-packages (from h5py->keras) (1.15.0)\n",
            "Collecting pandas\n",
            "\u001b[?25l  Downloading https://files.pythonhosted.org/packages/1c/11/e1f53db0614f2721027aab297c8afd2eaf58d33d566441a97ea454541c5e/pandas-1.1.2-cp36-cp36m-manylinux1_x86_64.whl (10.5MB)\n",
            "\u001b[K     |████████████████████████████████| 10.5MB 2.5MB/s \n",
            "\u001b[?25hRequirement already satisfied, skipping upgrade: numpy>=1.15.4 in /usr/local/lib/python3.6/dist-packages (from pandas) (1.18.5)\n",
            "Requirement already satisfied, skipping upgrade: pytz>=2017.2 in /usr/local/lib/python3.6/dist-packages (from pandas) (2018.9)\n",
            "Requirement already satisfied, skipping upgrade: python-dateutil>=2.7.3 in /usr/local/lib/python3.6/dist-packages (from pandas) (2.8.1)\n",
            "Requirement already satisfied, skipping upgrade: six>=1.5 in /usr/local/lib/python3.6/dist-packages (from python-dateutil>=2.7.3->pandas) (1.15.0)\n",
            "\u001b[31mERROR: google-colab 1.0.0 has requirement pandas~=1.0.0; python_version >= \"3.0\", but you'll have pandas 1.1.2 which is incompatible.\u001b[0m\n",
            "Installing collected packages: pandas\n",
            "  Found existing installation: pandas 1.0.5\n",
            "    Uninstalling pandas-1.0.5:\n",
            "      Successfully uninstalled pandas-1.0.5\n",
            "Successfully installed pandas-1.1.2\n"
          ],
          "name": "stdout"
        },
        {
          "output_type": "display_data",
          "data": {
            "application/vnd.colab-display-data+json": {
              "pip_warning": {
                "packages": [
                  "pandas"
                ]
              }
            }
          },
          "metadata": {
            "tags": []
          }
        }
      ]
    },
    {
      "cell_type": "code",
      "metadata": {
        "id": "br97uKH3axYL",
        "outputId": "c5f9b270-45da-4c17-b141-d5d39456c6b1",
        "colab": {
          "base_uri": "https://localhost:8080/",
          "height": 34
        }
      },
      "source": [
        "from google.colab import drive\n",
        "drive.mount('/content/drive')"
      ],
      "execution_count": 4,
      "outputs": [
        {
          "output_type": "stream",
          "text": [
            "Mounted at /content/drive\n"
          ],
          "name": "stdout"
        }
      ]
    },
    {
      "cell_type": "code",
      "metadata": {
        "_uuid": "303e72966af732ddef0bd8108a321095314e44af",
        "id": "MJ7cI_g05ya0"
      },
      "source": [
        "# DataFrame\n",
        "import pandas as pd\n",
        "\n",
        "# Matplot\n",
        "import matplotlib.pyplot as plt\n",
        "%matplotlib inline\n",
        "\n",
        "# Scikit-learn\n",
        "from sklearn.model_selection import train_test_split\n",
        "from sklearn.preprocessing import LabelEncoder\n",
        "from sklearn.metrics import confusion_matrix, classification_report, accuracy_score\n",
        "from sklearn.manifold import TSNE\n",
        "from sklearn.feature_extraction.text import TfidfVectorizer\n",
        "\n",
        "# Keras\n",
        "from keras.preprocessing.text import Tokenizer\n",
        "from keras.preprocessing.sequence import pad_sequences\n",
        "from keras.models import Sequential\n",
        "from keras.layers import Activation, Dense, Dropout, Embedding, Flatten, Conv1D, MaxPooling1D, LSTM\n",
        "from keras import utils\n",
        "from keras.callbacks import ReduceLROnPlateau, EarlyStopping\n",
        "\n",
        "# nltk\n",
        "import nltk\n",
        "from nltk.corpus import stopwords\n",
        "from  nltk.stem import SnowballStemmer\n",
        "\n",
        "# Word2vec\n",
        "import gensim\n",
        "\n",
        "# Utility\n",
        "import re\n",
        "import numpy as np\n",
        "import os\n",
        "from collections import Counter\n",
        "import logging\n",
        "import time\n",
        "import pickle\n",
        "import itertools\n",
        "\n",
        "# Set log\n",
        "logging.basicConfig(format='%(asctime)s : %(levelname)s : %(message)s', level=logging.INFO)"
      ],
      "execution_count": 5,
      "outputs": []
    },
    {
      "cell_type": "code",
      "metadata": {
        "_uuid": "35e1a89dead5fd160e4c9a024a21d2e569fc89ff",
        "id": "ndFANF2w5ya-",
        "outputId": "e5d7b360-ab05-411c-e1a2-d11dd0f2eb20",
        "colab": {
          "base_uri": "https://localhost:8080/",
          "height": 67
        }
      },
      "source": [
        "nltk.download('stopwords')"
      ],
      "execution_count": 6,
      "outputs": [
        {
          "output_type": "stream",
          "text": [
            "[nltk_data] Downloading package stopwords to /root/nltk_data...\n",
            "[nltk_data]   Unzipping corpora/stopwords.zip.\n"
          ],
          "name": "stdout"
        },
        {
          "output_type": "execute_result",
          "data": {
            "text/plain": [
              "True"
            ]
          },
          "metadata": {
            "tags": []
          },
          "execution_count": 6
        }
      ]
    },
    {
      "cell_type": "markdown",
      "metadata": {
        "_uuid": "e8b01a07df001e4abcc745900336c4db06e455f3",
        "id": "LxWHRuso5ybK"
      },
      "source": [
        "### Settings"
      ]
    },
    {
      "cell_type": "code",
      "metadata": {
        "_uuid": "180f0dd2a95419e4602b5c0229822b0111c826f6",
        "id": "FlUcRExE5ybN"
      },
      "source": [
        "# DATASET\n",
        "DATASET_COLUMNS = [\"target\", \"ids\", \"date\", \"flag\", \"user\", \"text\"]\n",
        "DATASET_ENCODING = \"ISO-8859-1\"\n",
        "TRAIN_SIZE = 0.8\n",
        "\n",
        "# TEXT CLENAING\n",
        "TEXT_CLEANING_RE = \"@\\S+|https?:\\S+|http?:\\S|[^A-Za-z0-9]+\"\n",
        "\n",
        "# WORD2VEC \n",
        "W2V_SIZE = 300\n",
        "W2V_WINDOW = 7\n",
        "W2V_EPOCH = 32\n",
        "W2V_MIN_COUNT = 10\n",
        "\n",
        "# KERAS\n",
        "SEQUENCE_LENGTH = 300\n",
        "EPOCHS = 8\n",
        "BATCH_SIZE = 1024\n",
        "\n",
        "# SENTIMENT\n",
        "POSITIVE = \"POSITIVE\"\n",
        "NEGATIVE = \"NEGATIVE\"\n",
        "NEUTRAL = \"NEUTRAL\"\n",
        "SENTIMENT_THRESHOLDS = (0.4, 0.7)\n",
        "\n",
        "# EXPORT\n",
        "KERAS_MODEL = \"model.h5\"\n",
        "WORD2VEC_MODEL = \"model.w2v\"\n",
        "TOKENIZER_MODEL = \"tokenizer.pkl\"\n",
        "ENCODER_MODEL = \"encoder.pkl\""
      ],
      "execution_count": 7,
      "outputs": []
    },
    {
      "cell_type": "markdown",
      "metadata": {
        "_uuid": "1c3beecc618be68480b3d4f0de08d9d863da1dc1",
        "id": "QExjLxDm5ybV"
      },
      "source": [
        "### Read Dataset"
      ]
    },
    {
      "cell_type": "markdown",
      "metadata": {
        "_uuid": "563b3c44f1092dba0b853747b098e00509098cca",
        "id": "j5wpN9kO5ybW"
      },
      "source": [
        "### Dataset details\n",
        "* **target**: the polarity of the tweet (0 = negative, 2 = neutral, 4 = positive)\n",
        "* **ids**: The id of the tweet ( 2087)\n",
        "* **date**: the date of the tweet (Sat May 16 23:58:44 UTC 2009)\n",
        "* **flag**: The query (lyx). If there is no query, then this value is NO_QUERY.\n",
        "* **user**: the user that tweeted (robotickilldozr)\n",
        "* **text**: the text of the tweet (Lyx is cool)"
      ]
    },
    {
      "cell_type": "code",
      "metadata": {
        "id": "P_mAfNGD6Uhz",
        "outputId": "80c10e2b-79eb-4bbf-f413-6da3b954f08f",
        "colab": {
          "base_uri": "https://localhost:8080/",
          "height": 34
        }
      },
      "source": [
        "\n",
        "from google.colab import drive\n",
        "drive.mount('/content/drive')"
      ],
      "execution_count": 8,
      "outputs": [
        {
          "output_type": "stream",
          "text": [
            "Drive already mounted at /content/drive; to attempt to forcibly remount, call drive.mount(\"/content/drive\", force_remount=True).\n"
          ],
          "name": "stdout"
        }
      ]
    },
    {
      "cell_type": "code",
      "metadata": {
        "_uuid": "bba8f91cd70de4f5ea0fb0870ae2029b6e3dcc24",
        "id": "speqjwcQ5ybh"
      },
      "source": [
        "path=(\"/content/drive/My Drive/Copy of 1.csv\")\n",
        "df = pd.read_csv(path, encoding =DATASET_ENCODING , names=DATASET_COLUMNS)"
      ],
      "execution_count": 9,
      "outputs": []
    },
    {
      "cell_type": "code",
      "metadata": {
        "_uuid": "936d499c00c4f1648bc16ca9d283c3b39be7fb10",
        "id": "lafz6BRR5ybq",
        "outputId": "5b871a94-0651-436a-b1e9-c521324e65e2",
        "colab": {
          "base_uri": "https://localhost:8080/",
          "height": 34
        }
      },
      "source": [
        "print(\"Dataset size:\", len(df))"
      ],
      "execution_count": 10,
      "outputs": [
        {
          "output_type": "stream",
          "text": [
            "Dataset size: 1600000\n"
          ],
          "name": "stdout"
        }
      ]
    },
    {
      "cell_type": "code",
      "metadata": {
        "_uuid": "7486ed895b813c5246f97b31b6162b0f65ff763b",
        "id": "wsoEiGIB5ybv",
        "outputId": "fada561e-79c7-4454-8547-bffdd8df6f7f",
        "colab": {
          "base_uri": "https://localhost:8080/",
          "height": 252
        }
      },
      "source": [
        "df.head"
      ],
      "execution_count": 53,
      "outputs": [
        {
          "output_type": "execute_result",
          "data": {
            "text/plain": [
              "<bound method NDFrame.head of            target  ...                                               text\n",
              "0        NEGATIVE  ...       awww bummer shoulda got david carr third day\n",
              "1        NEGATIVE  ...  upset update facebook texting might cry result...\n",
              "2        NEGATIVE  ...  dived many times ball managed save 50 rest go ...\n",
              "3        NEGATIVE  ...                   whole body feels itchy like fire\n",
              "4        NEGATIVE  ...                                   behaving mad see\n",
              "...           ...  ...                                                ...\n",
              "1599995  POSITIVE  ...                      woke school best feeling ever\n",
              "1599996  POSITIVE  ...           thewdb com cool hear old walt interviews\n",
              "1599997  POSITIVE  ...                    ready mojo makeover ask details\n",
              "1599998  POSITIVE  ...  happy 38th birthday boo alll time tupac amaru ...\n",
              "1599999  POSITIVE  ...  happy charitytuesday thenspcc sparkscharity sp...\n",
              "\n",
              "[1600000 rows x 6 columns]>"
            ]
          },
          "metadata": {
            "tags": []
          },
          "execution_count": 53
        }
      ]
    },
    {
      "cell_type": "markdown",
      "metadata": {
        "_uuid": "3f9a7bb129e184967b13261fb5d253af451c75c5",
        "id": "ezcFHr5h5yb2"
      },
      "source": [
        "### Map target label to String\n",
        "* **0** -> **NEGATIVE**\n",
        "* **2** -> **NEUTRAL**\n",
        "* **4** -> **POSITIVE**"
      ]
    },
    {
      "cell_type": "code",
      "metadata": {
        "_uuid": "14074b59106cb9550440839e48b832223fc9502f",
        "id": "E_E-oJBx5yb3"
      },
      "source": [
        "decode_map = {0: \"NEGATIVE\", 2: \"NEUTRAL\", 4: \"POSITIVE\"}\n",
        "def decode_sentiment(label):\n",
        "    return decode_map[int(label)]"
      ],
      "execution_count": 15,
      "outputs": []
    },
    {
      "cell_type": "code",
      "metadata": {
        "_uuid": "4449d473187f647a195a6ac6986b009da32a7f4b",
        "id": "qhy9rQaG5yb6",
        "outputId": "8dc17a68-5c71-49c3-d63a-c5712bc11373",
        "colab": {
          "base_uri": "https://localhost:8080/",
          "height": 50
        }
      },
      "source": [
        "%%time\n",
        "df.target = df.target.apply(lambda x: decode_sentiment(x))"
      ],
      "execution_count": 16,
      "outputs": [
        {
          "output_type": "stream",
          "text": [
            "CPU times: user 530 ms, sys: 0 ns, total: 530 ms\n",
            "Wall time: 545 ms\n"
          ],
          "name": "stdout"
        }
      ]
    },
    {
      "cell_type": "code",
      "metadata": {
        "_uuid": "19eb327803192f31cce3512aacb232f4d6b38715",
        "id": "b4UnzK5O5yb9",
        "outputId": "dda5f77c-1283-42d3-83f0-09e3ba191abd",
        "colab": {
          "base_uri": "https://localhost:8080/",
          "height": 516
        }
      },
      "source": [
        "target_cnt = Counter(df.target)\n",
        "\n",
        "plt.figure(figsize=(16,8))\n",
        "plt.bar(target_cnt.keys(), target_cnt.values())\n",
        "plt.title(\"Dataset labels distribuition\")"
      ],
      "execution_count": 17,
      "outputs": [
        {
          "output_type": "execute_result",
          "data": {
            "text/plain": [
              "Text(0.5, 1.0, 'Dataset labels distribuition')"
            ]
          },
          "metadata": {
            "tags": []
          },
          "execution_count": 17
        },
        {
          "output_type": "display_data",
          "data": {
            "image/png": "[encoded data removed]",
            "text/plain": [
              "<Figure size 1152x576 with 1 Axes>"
            ]
          },
          "metadata": {
            "tags": [],
            "needs_background": "light"
          }
        }
      ]
    },
    {
      "cell_type": "markdown",
      "metadata": {
        "_uuid": "4329b1573518b03e497213efa7676220734ebb4b",
        "id": "KcgPt7O95ycB"
      },
      "source": [
        "### Pre-Process dataset"
      ]
    },
    {
      "cell_type": "code",
      "metadata": {
        "_uuid": "8aeee8b7b9ea11b749c7f91cd4787a7b50ed1a91",
        "id": "Jtnw20-p5ycB"
      },
      "source": [
        "stop_words = stopwords.words(\"english\")\n",
        "stemmer = SnowballStemmer(\"english\")"
      ],
      "execution_count": 18,
      "outputs": []
    },
    {
      "cell_type": "code",
      "metadata": {
        "_uuid": "649ebcb97969b9ac4301138783704bb3d7846a49",
        "id": "agauA70L5ycH"
      },
      "source": [
        "def preprocess(text, stem=False):\n",
        "    # Remove link,user and special characters\n",
        "    text = re.sub(TEXT_CLEANING_RE, ' ', str(text).lower()).strip()\n",
        "    tokens = []\n",
        "    for token in text.split():\n",
        "        if token not in stop_words:\n",
        "            if stem:\n",
        "                tokens.append(stemmer.stem(token))\n",
        "            else:\n",
        "                tokens.append(token)\n",
        "    return \" \".join(tokens)"
      ],
      "execution_count": 19,
      "outputs": []
    },
    {
      "cell_type": "code",
      "metadata": {
        "_uuid": "f7f3e77ab9291d14687c49e71ba9b2b1e3323432",
        "id": "YFh7dth25ycL",
        "outputId": "90269a02-0f2d-43ba-942a-38b73117eefa",
        "colab": {
          "base_uri": "https://localhost:8080/",
          "height": 50
        }
      },
      "source": [
        "%%time\n",
        "df.text = df.text.apply(lambda x: preprocess(x))"
      ],
      "execution_count": 20,
      "outputs": [
        {
          "output_type": "stream",
          "text": [
            "CPU times: user 45.7 s, sys: 303 ms, total: 46 s\n",
            "Wall time: 46.2 s\n"
          ],
          "name": "stdout"
        }
      ]
    },
    {
      "cell_type": "markdown",
      "metadata": {
        "_uuid": "f5f9714a8507409bbe780eebf2855a33e8e6ba37",
        "id": "IydlctA55ycO"
      },
      "source": [
        "### Split train and test"
      ]
    },
    {
      "cell_type": "code",
      "metadata": {
        "_uuid": "d2b1179c968e3f3910c790ecf0c5b2cbb34b0e68",
        "id": "YTc-a-Os5ycP",
        "outputId": "3f0ae4b0-cefc-4902-ae00-d30873981ce2",
        "colab": {
          "base_uri": "https://localhost:8080/",
          "height": 50
        }
      },
      "source": [
        "df_train, df_test = train_test_split(df, test_size=1-TRAIN_SIZE, random_state=42)\n",
        "print(\"TRAIN size:\", len(df_train))\n",
        "print(\"TEST size:\", len(df_test))"
      ],
      "execution_count": 21,
      "outputs": [
        {
          "output_type": "stream",
          "text": [
            "TRAIN size: 1280000\n",
            "TEST size: 320000\n"
          ],
          "name": "stdout"
        }
      ]
    },
    {
      "cell_type": "markdown",
      "metadata": {
        "_uuid": "f08a28aab2c3d16d8b9681a7d5d07587153a1cd6",
        "id": "qkyep4fO5ycT"
      },
      "source": [
        "### Word2Vec "
      ]
    },
    {
      "cell_type": "code",
      "metadata": {
        "_uuid": "2461bf564de1b4414841933d0c1d1bee5f5cc5a6",
        "id": "gWlAx96v5ycU",
        "outputId": "6548ac03-14f0-41ec-a5e7-697552d7378d",
        "colab": {
          "base_uri": "https://localhost:8080/",
          "height": 50
        }
      },
      "source": [
        "%%time\n",
        "documents = [_text.split() for _text in df_train.text] \n",
        "import os\n",
        "path=(\"/content/drive/My Drive/Copy of model.w2v\")\n",
        "model_exists = os.path.isfile('path')"
      ],
      "execution_count": 23,
      "outputs": [
        {
          "output_type": "stream",
          "text": [
            "CPU times: user 3.17 s, sys: 843 ms, total: 4.01 s\n",
            "Wall time: 4.03 s\n"
          ],
          "name": "stdout"
        }
      ]
    },
    {
      "cell_type": "code",
      "metadata": {
        "id": "0V0Ef458_qDd"
      },
      "source": [
        "if model_exists:\n",
        "    from gensim.models import Word2Vec\n",
        "    w2v_model=Word2Vec.load(r\"/content/drive/My Drive/Colab Notebooks/model.w2v\")\n",
        "    print(\"w2v model exists, existing model loaded.\")\n",
        "else:\n",
        "    w2v_model = gensim.models.word2vec.Word2Vec(size=W2V_SIZE, \n",
        "                                            window=W2V_WINDOW, \n",
        "                                            min_count=W2V_MIN_COUNT, \n",
        "                                            workers=8)"
      ],
      "execution_count": 24,
      "outputs": []
    },
    {
      "cell_type": "code",
      "metadata": {
        "id": "YiE71ze1_WQP",
        "outputId": "73a097a5-4078-492c-dad6-6d831eba4988",
        "colab": {
          "base_uri": "https://localhost:8080/",
          "height": 1000
        }
      },
      "source": [
        "if not model_exists:\n",
        "    w2v_model.build_vocab(documents)"
      ],
      "execution_count": 25,
      "outputs": [
        {
          "output_type": "stream",
          "text": [
            "2020-09-26 08:41:30,547 : INFO : collecting all words and their counts\n",
            "2020-09-26 08:41:30,548 : INFO : PROGRESS: at sentence #0, processed 0 words, keeping 0 word types\n",
            "2020-09-26 08:41:30,588 : INFO : PROGRESS: at sentence #10000, processed 72565 words, keeping 14005 word types\n",
            "2020-09-26 08:41:30,621 : INFO : PROGRESS: at sentence #20000, processed 144393 words, keeping 21587 word types\n",
            "2020-09-26 08:41:30,647 : INFO : PROGRESS: at sentence #30000, processed 215826 words, keeping 27541 word types\n",
            "2020-09-26 08:41:30,679 : INFO : PROGRESS: at sentence #40000, processed 288271 words, keeping 32764 word types\n",
            "2020-09-26 08:41:30,707 : INFO : PROGRESS: at sentence #50000, processed 359772 words, keeping 37587 word types\n",
            "2020-09-26 08:41:30,737 : INFO : PROGRESS: at sentence #60000, processed 431431 words, keeping 42198 word types\n",
            "2020-09-26 08:41:30,777 : INFO : PROGRESS: at sentence #70000, processed 503103 words, keeping 46458 word types\n",
            "2020-09-26 08:41:30,815 : INFO : PROGRESS: at sentence #80000, processed 575709 words, keeping 50476 word types\n",
            "2020-09-26 08:41:30,850 : INFO : PROGRESS: at sentence #90000, processed 647100 words, keeping 54140 word types\n",
            "2020-09-26 08:41:30,879 : INFO : PROGRESS: at sentence #100000, processed 718681 words, keeping 57777 word types\n",
            "2020-09-26 08:41:30,910 : INFO : PROGRESS: at sentence #110000, processed 790696 words, keeping 61207 word types\n",
            "2020-09-26 08:41:30,942 : INFO : PROGRESS: at sentence #120000, processed 863134 words, keeping 64583 word types\n",
            "2020-09-26 08:41:30,972 : INFO : PROGRESS: at sentence #130000, processed 935111 words, keeping 67865 word types\n",
            "2020-09-26 08:41:30,998 : INFO : PROGRESS: at sentence #140000, processed 1006668 words, keeping 70966 word types\n",
            "2020-09-26 08:41:31,028 : INFO : PROGRESS: at sentence #150000, processed 1078512 words, keeping 74119 word types\n",
            "2020-09-26 08:41:31,056 : INFO : PROGRESS: at sentence #160000, processed 1149914 words, keeping 77187 word types\n",
            "2020-09-26 08:41:31,096 : INFO : PROGRESS: at sentence #170000, processed 1222145 words, keeping 80267 word types\n",
            "2020-09-26 08:41:31,134 : INFO : PROGRESS: at sentence #180000, processed 1294708 words, keeping 83393 word types\n",
            "2020-09-26 08:41:31,172 : INFO : PROGRESS: at sentence #190000, processed 1367608 words, keeping 86329 word types\n",
            "2020-09-26 08:41:31,203 : INFO : PROGRESS: at sentence #200000, processed 1439469 words, keeping 89103 word types\n",
            "2020-09-26 08:41:31,235 : INFO : PROGRESS: at sentence #210000, processed 1512099 words, keeping 91840 word types\n",
            "2020-09-26 08:41:31,263 : INFO : PROGRESS: at sentence #220000, processed 1584149 words, keeping 94636 word types\n",
            "2020-09-26 08:41:31,301 : INFO : PROGRESS: at sentence #230000, processed 1656354 words, keeping 97353 word types\n",
            "2020-09-26 08:41:31,330 : INFO : PROGRESS: at sentence #240000, processed 1728573 words, keeping 99975 word types\n",
            "2020-09-26 08:41:31,363 : INFO : PROGRESS: at sentence #250000, processed 1801102 words, keeping 102594 word types\n",
            "2020-09-26 08:41:31,398 : INFO : PROGRESS: at sentence #260000, processed 1873103 words, keeping 105162 word types\n",
            "2020-09-26 08:41:31,425 : INFO : PROGRESS: at sentence #270000, processed 1945245 words, keeping 107626 word types\n",
            "2020-09-26 08:41:31,453 : INFO : PROGRESS: at sentence #280000, processed 2017163 words, keeping 110141 word types\n",
            "2020-09-26 08:41:31,484 : INFO : PROGRESS: at sentence #290000, processed 2089574 words, keeping 112539 word types\n",
            "2020-09-26 08:41:31,513 : INFO : PROGRESS: at sentence #300000, processed 2160996 words, keeping 114893 word types\n",
            "2020-09-26 08:41:31,544 : INFO : PROGRESS: at sentence #310000, processed 2232913 words, keeping 117298 word types\n",
            "2020-09-26 08:41:31,571 : INFO : PROGRESS: at sentence #320000, processed 2305039 words, keeping 119693 word types\n",
            "2020-09-26 08:41:31,600 : INFO : PROGRESS: at sentence #330000, processed 2377119 words, keeping 122131 word types\n",
            "2020-09-26 08:41:31,632 : INFO : PROGRESS: at sentence #340000, processed 2449370 words, keeping 124416 word types\n",
            "2020-09-26 08:41:31,664 : INFO : PROGRESS: at sentence #350000, processed 2521564 words, keeping 126669 word types\n",
            "2020-09-26 08:41:31,693 : INFO : PROGRESS: at sentence #360000, processed 2593681 words, keeping 128912 word types\n",
            "2020-09-26 08:41:31,724 : INFO : PROGRESS: at sentence #370000, processed 2665692 words, keeping 131135 word types\n",
            "2020-09-26 08:41:31,754 : INFO : PROGRESS: at sentence #380000, processed 2737859 words, keeping 133403 word types\n",
            "2020-09-26 08:41:31,787 : INFO : PROGRESS: at sentence #390000, processed 2809848 words, keeping 135551 word types\n",
            "2020-09-26 08:41:31,816 : INFO : PROGRESS: at sentence #400000, processed 2882438 words, keeping 137742 word types\n",
            "2020-09-26 08:41:31,846 : INFO : PROGRESS: at sentence #410000, processed 2954075 words, keeping 139909 word types\n",
            "2020-09-26 08:41:31,877 : INFO : PROGRESS: at sentence #420000, processed 3026247 words, keeping 142144 word types\n",
            "2020-09-26 08:41:31,911 : INFO : PROGRESS: at sentence #430000, processed 3098659 words, keeping 144364 word types\n",
            "2020-09-26 08:41:31,943 : INFO : PROGRESS: at sentence #440000, processed 3170663 words, keeping 146439 word types\n",
            "2020-09-26 08:41:31,973 : INFO : PROGRESS: at sentence #450000, processed 3243344 words, keeping 148526 word types\n",
            "2020-09-26 08:41:32,004 : INFO : PROGRESS: at sentence #460000, processed 3315466 words, keeping 150610 word types\n",
            "2020-09-26 08:41:32,032 : INFO : PROGRESS: at sentence #470000, processed 3388295 words, keeping 152737 word types\n",
            "2020-09-26 08:41:32,064 : INFO : PROGRESS: at sentence #480000, processed 3460120 words, keeping 154757 word types\n",
            "2020-09-26 08:41:32,095 : INFO : PROGRESS: at sentence #490000, processed 3531883 words, keeping 156825 word types\n",
            "2020-09-26 08:41:32,131 : INFO : PROGRESS: at sentence #500000, processed 3604217 words, keeping 158859 word types\n",
            "2020-09-26 08:41:32,171 : INFO : PROGRESS: at sentence #510000, processed 3676427 words, keeping 160852 word types\n",
            "2020-09-26 08:41:32,212 : INFO : PROGRESS: at sentence #520000, processed 3749045 words, keeping 162863 word types\n",
            "2020-09-26 08:41:32,253 : INFO : PROGRESS: at sentence #530000, processed 3821622 words, keeping 164929 word types\n",
            "2020-09-26 08:41:32,292 : INFO : PROGRESS: at sentence #540000, processed 3893627 words, keeping 166840 word types\n",
            "2020-09-26 08:41:32,326 : INFO : PROGRESS: at sentence #550000, processed 3965477 words, keeping 168799 word types\n",
            "2020-09-26 08:41:32,366 : INFO : PROGRESS: at sentence #560000, processed 4038050 words, keeping 170802 word types\n",
            "2020-09-26 08:41:32,397 : INFO : PROGRESS: at sentence #570000, processed 4110296 words, keeping 172760 word types\n",
            "2020-09-26 08:41:32,434 : INFO : PROGRESS: at sentence #580000, processed 4182385 words, keeping 174635 word types\n",
            "2020-09-26 08:41:32,478 : INFO : PROGRESS: at sentence #590000, processed 4254632 words, keeping 176470 word types\n",
            "2020-09-26 08:41:32,506 : INFO : PROGRESS: at sentence #600000, processed 4326859 words, keeping 178350 word types\n",
            "2020-09-26 08:41:32,536 : INFO : PROGRESS: at sentence #610000, processed 4399183 words, keeping 180290 word types\n",
            "2020-09-26 08:41:32,564 : INFO : PROGRESS: at sentence #620000, processed 4471343 words, keeping 182129 word types\n",
            "2020-09-26 08:41:32,591 : INFO : PROGRESS: at sentence #630000, processed 4543286 words, keeping 184005 word types\n",
            "2020-09-26 08:41:32,627 : INFO : PROGRESS: at sentence #640000, processed 4615780 words, keeping 185835 word types\n",
            "2020-09-26 08:41:32,662 : INFO : PROGRESS: at sentence #650000, processed 4688481 words, keeping 187705 word types\n",
            "2020-09-26 08:41:32,693 : INFO : PROGRESS: at sentence #660000, processed 4760481 words, keeping 189439 word types\n",
            "2020-09-26 08:41:32,722 : INFO : PROGRESS: at sentence #670000, processed 4833024 words, keeping 191232 word types\n",
            "2020-09-26 08:41:32,749 : INFO : PROGRESS: at sentence #680000, processed 4904516 words, keeping 193177 word types\n",
            "2020-09-26 08:41:32,781 : INFO : PROGRESS: at sentence #690000, processed 4976968 words, keeping 194960 word types\n",
            "2020-09-26 08:41:32,807 : INFO : PROGRESS: at sentence #700000, processed 5049412 words, keeping 196725 word types\n",
            "2020-09-26 08:41:32,837 : INFO : PROGRESS: at sentence #710000, processed 5121976 words, keeping 198516 word types\n",
            "2020-09-26 08:41:32,870 : INFO : PROGRESS: at sentence #720000, processed 5193881 words, keeping 200325 word types\n",
            "2020-09-26 08:41:32,899 : INFO : PROGRESS: at sentence #730000, processed 5265467 words, keeping 202133 word types\n",
            "2020-09-26 08:41:32,930 : INFO : PROGRESS: at sentence #740000, processed 5337518 words, keeping 203818 word types\n",
            "2020-09-26 08:41:32,958 : INFO : PROGRESS: at sentence #750000, processed 5409321 words, keeping 205535 word types\n",
            "2020-09-26 08:41:32,994 : INFO : PROGRESS: at sentence #760000, processed 5481512 words, keeping 207282 word types\n",
            "2020-09-26 08:41:33,021 : INFO : PROGRESS: at sentence #770000, processed 5554093 words, keeping 209076 word types\n",
            "2020-09-26 08:41:33,051 : INFO : PROGRESS: at sentence #780000, processed 5625382 words, keeping 210805 word types\n",
            "2020-09-26 08:41:33,081 : INFO : PROGRESS: at sentence #790000, processed 5698066 words, keeping 212618 word types\n",
            "2020-09-26 08:41:33,116 : INFO : PROGRESS: at sentence #800000, processed 5770880 words, keeping 214374 word types\n",
            "2020-09-26 08:41:33,143 : INFO : PROGRESS: at sentence #810000, processed 5843418 words, keeping 216009 word types\n",
            "2020-09-26 08:41:33,173 : INFO : PROGRESS: at sentence #820000, processed 5915628 words, keeping 217804 word types\n",
            "2020-09-26 08:41:33,210 : INFO : PROGRESS: at sentence #830000, processed 5987499 words, keeping 219585 word types\n",
            "2020-09-26 08:41:33,242 : INFO : PROGRESS: at sentence #840000, processed 6058973 words, keeping 221344 word types\n",
            "2020-09-26 08:41:33,269 : INFO : PROGRESS: at sentence #850000, processed 6131125 words, keeping 223002 word types\n",
            "2020-09-26 08:41:33,300 : INFO : PROGRESS: at sentence #860000, processed 6202951 words, keeping 224643 word types\n",
            "2020-09-26 08:41:33,339 : INFO : PROGRESS: at sentence #870000, processed 6275461 words, keeping 226362 word types\n",
            "2020-09-26 08:41:33,377 : INFO : PROGRESS: at sentence #880000, processed 6347661 words, keeping 227986 word types\n",
            "2020-09-26 08:41:33,410 : INFO : PROGRESS: at sentence #890000, processed 6419806 words, keeping 229634 word types\n",
            "2020-09-26 08:41:33,445 : INFO : PROGRESS: at sentence #900000, processed 6491644 words, keeping 231389 word types\n",
            "2020-09-26 08:41:33,477 : INFO : PROGRESS: at sentence #910000, processed 6564022 words, keeping 233050 word types\n",
            "2020-09-26 08:41:33,513 : INFO : PROGRESS: at sentence #920000, processed 6636228 words, keeping 234686 word types\n",
            "2020-09-26 08:41:33,541 : INFO : PROGRESS: at sentence #930000, processed 6708573 words, keeping 236393 word types\n",
            "2020-09-26 08:41:33,578 : INFO : PROGRESS: at sentence #940000, processed 6779956 words, keeping 238052 word types\n",
            "2020-09-26 08:41:33,609 : INFO : PROGRESS: at sentence #950000, processed 6852599 words, keeping 239716 word types\n",
            "2020-09-26 08:41:33,648 : INFO : PROGRESS: at sentence #960000, processed 6924717 words, keeping 241354 word types\n",
            "2020-09-26 08:41:33,690 : INFO : PROGRESS: at sentence #970000, processed 6996992 words, keeping 242980 word types\n",
            "2020-09-26 08:41:33,718 : INFO : PROGRESS: at sentence #980000, processed 7068402 words, keeping 244646 word types\n",
            "2020-09-26 08:41:33,749 : INFO : PROGRESS: at sentence #990000, processed 7140346 words, keeping 246186 word types\n",
            "2020-09-26 08:41:33,781 : INFO : PROGRESS: at sentence #1000000, processed 7211757 words, keeping 247726 word types\n",
            "2020-09-26 08:41:33,809 : INFO : PROGRESS: at sentence #1010000, processed 7283267 words, keeping 249288 word types\n",
            "2020-09-26 08:41:33,840 : INFO : PROGRESS: at sentence #1020000, processed 7355299 words, keeping 250860 word types\n",
            "2020-09-26 08:41:33,872 : INFO : PROGRESS: at sentence #1030000, processed 7426918 words, keeping 252366 word types\n",
            "2020-09-26 08:41:33,907 : INFO : PROGRESS: at sentence #1040000, processed 7498815 words, keeping 253930 word types\n",
            "2020-09-26 08:41:33,938 : INFO : PROGRESS: at sentence #1050000, processed 7570499 words, keeping 255471 word types\n",
            "2020-09-26 08:41:33,969 : INFO : PROGRESS: at sentence #1060000, processed 7643251 words, keeping 257035 word types\n",
            "2020-09-26 08:41:33,998 : INFO : PROGRESS: at sentence #1070000, processed 7714721 words, keeping 258509 word types\n",
            "2020-09-26 08:41:34,027 : INFO : PROGRESS: at sentence #1080000, processed 7787371 words, keeping 260071 word types\n",
            "2020-09-26 08:41:34,057 : INFO : PROGRESS: at sentence #1090000, processed 7859336 words, keeping 261683 word types\n",
            "2020-09-26 08:41:34,086 : INFO : PROGRESS: at sentence #1100000, processed 7932029 words, keeping 263278 word types\n",
            "2020-09-26 08:41:34,120 : INFO : PROGRESS: at sentence #1110000, processed 8004146 words, keeping 264800 word types\n",
            "2020-09-26 08:41:34,150 : INFO : PROGRESS: at sentence #1120000, processed 8075880 words, keeping 266309 word types\n",
            "2020-09-26 08:41:34,191 : INFO : PROGRESS: at sentence #1130000, processed 8148163 words, keeping 267826 word types\n",
            "2020-09-26 08:41:34,223 : INFO : PROGRESS: at sentence #1140000, processed 8220487 words, keeping 269391 word types\n",
            "2020-09-26 08:41:34,256 : INFO : PROGRESS: at sentence #1150000, processed 8292498 words, keeping 270894 word types\n",
            "2020-09-26 08:41:34,286 : INFO : PROGRESS: at sentence #1160000, processed 8363838 words, keeping 272400 word types\n",
            "2020-09-26 08:41:34,315 : INFO : PROGRESS: at sentence #1170000, processed 8435510 words, keeping 273970 word types\n",
            "2020-09-26 08:41:34,364 : INFO : PROGRESS: at sentence #1180000, processed 8507795 words, keeping 275521 word types\n",
            "2020-09-26 08:41:34,396 : INFO : PROGRESS: at sentence #1190000, processed 8579080 words, keeping 277007 word types\n",
            "2020-09-26 08:41:34,431 : INFO : PROGRESS: at sentence #1200000, processed 8650606 words, keeping 278457 word types\n",
            "2020-09-26 08:41:34,470 : INFO : PROGRESS: at sentence #1210000, processed 8721893 words, keeping 279959 word types\n",
            "2020-09-26 08:41:34,499 : INFO : PROGRESS: at sentence #1220000, processed 8793795 words, keeping 281427 word types\n",
            "2020-09-26 08:41:34,530 : INFO : PROGRESS: at sentence #1230000, processed 8865726 words, keeping 282981 word types\n",
            "2020-09-26 08:41:34,558 : INFO : PROGRESS: at sentence #1240000, processed 8938173 words, keeping 284542 word types\n",
            "2020-09-26 08:41:34,592 : INFO : PROGRESS: at sentence #1250000, processed 9010842 words, keeping 286064 word types\n",
            "2020-09-26 08:41:34,621 : INFO : PROGRESS: at sentence #1260000, processed 9083261 words, keeping 287521 word types\n",
            "2020-09-26 08:41:34,652 : INFO : PROGRESS: at sentence #1270000, processed 9155616 words, keeping 288987 word types\n",
            "2020-09-26 08:41:34,684 : INFO : collected 290418 word types from a corpus of 9227204 raw words and 1280000 sentences\n",
            "2020-09-26 08:41:34,685 : INFO : Loading a fresh vocabulary\n",
            "2020-09-26 08:41:34,869 : INFO : effective_min_count=10 retains 30369 unique words (10% of original 290418, drops 260049)\n",
            "2020-09-26 08:41:34,870 : INFO : effective_min_count=10 leaves 8780739 word corpus (95% of original 9227204, drops 446465)\n",
            "2020-09-26 08:41:34,976 : INFO : deleting the raw counts dictionary of 290418 items\n",
            "2020-09-26 08:41:34,989 : INFO : sample=0.001 downsamples 45 most-common words\n",
            "2020-09-26 08:41:34,991 : INFO : downsampling leaves estimated 8222658 word corpus (93.6% of prior 8780739)\n",
            "2020-09-26 08:41:35,148 : INFO : estimated required memory for 30369 words and 300 dimensions: 88070100 bytes\n",
            "2020-09-26 08:41:35,149 : INFO : resetting layer weights\n"
          ],
          "name": "stderr"
        }
      ]
    },
    {
      "cell_type": "code",
      "metadata": {
        "_uuid": "72a5628ca81fd4b8983c12d93ae0bf950b86b6ae",
        "id": "ALWGvq8n5ych",
        "outputId": "1a8c39d9-8266-469f-b681-6108ba82226a",
        "colab": {
          "base_uri": "https://localhost:8080/",
          "height": 34
        }
      },
      "source": [
        "words = w2v_model.wv.vocab.keys()\n",
        "vocab_size = len(words)\n",
        "print(\"Vocab size\", vocab_size)"
      ],
      "execution_count": 26,
      "outputs": [
        {
          "output_type": "stream",
          "text": [
            "Vocab size 30369\n"
          ],
          "name": "stdout"
        }
      ]
    },
    {
      "cell_type": "code",
      "metadata": {
        "id": "PDaG4amOAttE",
        "outputId": "b6496419-06c5-4810-bd9d-f5661f1ce135",
        "colab": {
          "base_uri": "https://localhost:8080/",
          "height": 34
        }
      },
      "source": [
        "w2v_model.wv['model'].shape"
      ],
      "execution_count": 27,
      "outputs": [
        {
          "output_type": "execute_result",
          "data": {
            "text/plain": [
              "(300,)"
            ]
          },
          "metadata": {
            "tags": []
          },
          "execution_count": 27
        }
      ]
    },
    {
      "cell_type": "code",
      "metadata": {
        "_uuid": "68c3e4a5ba07cac3dee67f78ecdd1404c7f83f14",
        "id": "GJjATba55ycl",
        "outputId": "4bd0d689-e56e-4c9b-adcc-872119559fda",
        "colab": {
          "base_uri": "https://localhost:8080/",
          "height": 1000
        }
      },
      "source": [
        "%%time\n",
        "if model_exists==False:\n",
        "    w2v_model.train(documents, total_examples=len(documents), epochs=W2V_EPOCH)\n",
        "else:\n",
        "    print(\"Trained model loaded\")"
      ],
      "execution_count": 28,
      "outputs": [
        {
          "output_type": "stream",
          "text": [
            "2020-09-26 08:42:44,153 : INFO : training model with 8 workers on 30369 vocabulary and 300 features, using sg=0 hs=0 sample=0.001 negative=5 window=7\n",
            "2020-09-26 08:42:45,237 : INFO : EPOCH 1 - PROGRESS: at 2.93% examples, 229588 words/s, in_qsize 15, out_qsize 0\n",
            "2020-09-26 08:42:46,245 : INFO : EPOCH 1 - PROGRESS: at 6.51% examples, 259972 words/s, in_qsize 14, out_qsize 1\n",
            "2020-09-26 08:42:47,265 : INFO : EPOCH 1 - PROGRESS: at 10.42% examples, 278124 words/s, in_qsize 15, out_qsize 0\n",
            "2020-09-26 08:42:48,326 : INFO : EPOCH 1 - PROGRESS: at 14.00% examples, 277758 words/s, in_qsize 15, out_qsize 0\n",
            "2020-09-26 08:42:49,379 : INFO : EPOCH 1 - PROGRESS: at 17.68% examples, 279678 words/s, in_qsize 15, out_qsize 0\n",
            "2020-09-26 08:42:50,449 : INFO : EPOCH 1 - PROGRESS: at 21.35% examples, 280834 words/s, in_qsize 15, out_qsize 3\n",
            "2020-09-26 08:42:51,563 : INFO : EPOCH 1 - PROGRESS: at 25.26% examples, 281479 words/s, in_qsize 16, out_qsize 2\n",
            "2020-09-26 08:42:52,630 : INFO : EPOCH 1 - PROGRESS: at 29.37% examples, 286068 words/s, in_qsize 15, out_qsize 0\n",
            "2020-09-26 08:42:53,633 : INFO : EPOCH 1 - PROGRESS: at 33.06% examples, 287728 words/s, in_qsize 15, out_qsize 0\n",
            "2020-09-26 08:42:54,645 : INFO : EPOCH 1 - PROGRESS: at 36.08% examples, 283747 words/s, in_qsize 15, out_qsize 4\n",
            "2020-09-26 08:42:55,727 : INFO : EPOCH 1 - PROGRESS: at 39.97% examples, 284919 words/s, in_qsize 14, out_qsize 1\n",
            "2020-09-26 08:42:56,781 : INFO : EPOCH 1 - PROGRESS: at 43.75% examples, 286630 words/s, in_qsize 15, out_qsize 1\n",
            "2020-09-26 08:42:57,773 : INFO : EPOCH 1 - PROGRESS: at 47.43% examples, 287255 words/s, in_qsize 16, out_qsize 0\n",
            "2020-09-26 08:42:58,868 : INFO : EPOCH 1 - PROGRESS: at 50.78% examples, 285614 words/s, in_qsize 16, out_qsize 5\n",
            "2020-09-26 08:42:59,844 : INFO : EPOCH 1 - PROGRESS: at 54.78% examples, 287957 words/s, in_qsize 15, out_qsize 2\n",
            "2020-09-26 08:43:00,847 : INFO : EPOCH 1 - PROGRESS: at 58.36% examples, 288279 words/s, in_qsize 15, out_qsize 0\n",
            "2020-09-26 08:43:01,850 : INFO : EPOCH 1 - PROGRESS: at 62.14% examples, 289582 words/s, in_qsize 15, out_qsize 0\n",
            "2020-09-26 08:43:02,938 : INFO : EPOCH 1 - PROGRESS: at 65.61% examples, 287993 words/s, in_qsize 15, out_qsize 0\n",
            "2020-09-26 08:43:03,950 : INFO : EPOCH 1 - PROGRESS: at 69.18% examples, 288118 words/s, in_qsize 16, out_qsize 1\n",
            "2020-09-26 08:43:04,951 : INFO : EPOCH 1 - PROGRESS: at 72.97% examples, 289238 words/s, in_qsize 12, out_qsize 2\n",
            "2020-09-26 08:43:05,953 : INFO : EPOCH 1 - PROGRESS: at 76.00% examples, 287375 words/s, in_qsize 16, out_qsize 4\n",
            "2020-09-26 08:43:06,966 : INFO : EPOCH 1 - PROGRESS: at 79.49% examples, 287111 words/s, in_qsize 16, out_qsize 2\n",
            "2020-09-26 08:43:07,981 : INFO : EPOCH 1 - PROGRESS: at 83.07% examples, 287235 words/s, in_qsize 15, out_qsize 0\n",
            "2020-09-26 08:43:08,988 : INFO : EPOCH 1 - PROGRESS: at 86.75% examples, 287779 words/s, in_qsize 15, out_qsize 0\n",
            "2020-09-26 08:43:10,089 : INFO : EPOCH 1 - PROGRESS: at 90.32% examples, 286890 words/s, in_qsize 15, out_qsize 0\n",
            "2020-09-26 08:43:11,120 : INFO : EPOCH 1 - PROGRESS: at 94.14% examples, 287462 words/s, in_qsize 12, out_qsize 3\n",
            "2020-09-26 08:43:12,135 : INFO : EPOCH 1 - PROGRESS: at 97.82% examples, 287851 words/s, in_qsize 15, out_qsize 0\n",
            "2020-09-26 08:43:12,555 : INFO : worker thread finished; awaiting finish of 7 more threads\n",
            "2020-09-26 08:43:12,556 : INFO : worker thread finished; awaiting finish of 6 more threads\n",
            "2020-09-26 08:43:12,578 : INFO : worker thread finished; awaiting finish of 5 more threads\n",
            "2020-09-26 08:43:12,590 : INFO : worker thread finished; awaiting finish of 4 more threads\n",
            "2020-09-26 08:43:12,594 : INFO : worker thread finished; awaiting finish of 3 more threads\n",
            "2020-09-26 08:43:12,642 : INFO : worker thread finished; awaiting finish of 2 more threads\n",
            "2020-09-26 08:43:12,656 : INFO : worker thread finished; awaiting finish of 1 more threads\n",
            "2020-09-26 08:43:12,660 : INFO : worker thread finished; awaiting finish of 0 more threads\n",
            "2020-09-26 08:43:12,662 : INFO : EPOCH - 1 : training on 9227204 raw words (8223671 effective words) took 28.5s, 288822 effective words/s\n",
            "2020-09-26 08:43:13,780 : INFO : EPOCH 2 - PROGRESS: at 3.36% examples, 249580 words/s, in_qsize 15, out_qsize 0\n",
            "2020-09-26 08:43:14,830 : INFO : EPOCH 2 - PROGRESS: at 7.17% examples, 272592 words/s, in_qsize 14, out_qsize 1\n",
            "2020-09-26 08:43:15,883 : INFO : EPOCH 2 - PROGRESS: at 10.86% examples, 277730 words/s, in_qsize 14, out_qsize 2\n",
            "2020-09-26 08:43:16,931 : INFO : EPOCH 2 - PROGRESS: at 14.65% examples, 282471 words/s, in_qsize 14, out_qsize 1\n",
            "2020-09-26 08:43:18,026 : INFO : EPOCH 2 - PROGRESS: at 18.32% examples, 281243 words/s, in_qsize 15, out_qsize 0\n",
            "2020-09-26 08:43:19,064 : INFO : EPOCH 2 - PROGRESS: at 22.44% examples, 288591 words/s, in_qsize 15, out_qsize 0\n",
            "2020-09-26 08:43:20,095 : INFO : EPOCH 2 - PROGRESS: at 26.02% examples, 288094 words/s, in_qsize 15, out_qsize 0\n",
            "2020-09-26 08:43:21,102 : INFO : EPOCH 2 - PROGRESS: at 29.48% examples, 287517 words/s, in_qsize 14, out_qsize 1\n",
            "2020-09-26 08:43:22,179 : INFO : EPOCH 2 - PROGRESS: at 33.59% examples, 290513 words/s, in_qsize 15, out_qsize 0\n",
            "2020-09-26 08:43:23,183 : INFO : EPOCH 2 - PROGRESS: at 36.94% examples, 289043 words/s, in_qsize 15, out_qsize 0\n",
            "2020-09-26 08:43:24,288 : INFO : EPOCH 2 - PROGRESS: at 40.62% examples, 287630 words/s, in_qsize 15, out_qsize 0\n",
            "2020-09-26 08:43:25,345 : INFO : EPOCH 2 - PROGRESS: at 43.97% examples, 285399 words/s, in_qsize 13, out_qsize 6\n",
            "2020-09-26 08:43:26,355 : INFO : EPOCH 2 - PROGRESS: at 48.19% examples, 289718 words/s, in_qsize 15, out_qsize 0\n",
            "2020-09-26 08:43:27,425 : INFO : EPOCH 2 - PROGRESS: at 51.32% examples, 286248 words/s, in_qsize 12, out_qsize 6\n",
            "2020-09-26 08:43:28,454 : INFO : EPOCH 2 - PROGRESS: at 55.64% examples, 290172 words/s, in_qsize 15, out_qsize 0\n",
            "2020-09-26 08:43:29,499 : INFO : EPOCH 2 - PROGRESS: at 59.01% examples, 288568 words/s, in_qsize 15, out_qsize 0\n",
            "2020-09-26 08:43:30,562 : INFO : EPOCH 2 - PROGRESS: at 62.68% examples, 288360 words/s, in_qsize 14, out_qsize 1\n",
            "2020-09-26 08:43:31,565 : INFO : EPOCH 2 - PROGRESS: at 66.58% examples, 290026 words/s, in_qsize 12, out_qsize 0\n",
            "2020-09-26 08:43:32,599 : INFO : EPOCH 2 - PROGRESS: at 70.15% examples, 289725 words/s, in_qsize 15, out_qsize 2\n",
            "2020-09-26 08:43:33,630 : INFO : EPOCH 2 - PROGRESS: at 74.05% examples, 290769 words/s, in_qsize 15, out_qsize 0\n",
            "2020-09-26 08:43:34,673 : INFO : EPOCH 2 - PROGRESS: at 77.53% examples, 290476 words/s, in_qsize 16, out_qsize 1\n",
            "2020-09-26 08:43:35,645 : INFO : EPOCH 2 - PROGRESS: at 81.12% examples, 290467 words/s, in_qsize 15, out_qsize 0\n",
            "2020-09-26 08:43:36,645 : INFO : EPOCH 2 - PROGRESS: at 84.80% examples, 290974 words/s, in_qsize 16, out_qsize 0\n",
            "2020-09-26 08:43:37,658 : INFO : EPOCH 2 - PROGRESS: at 88.05% examples, 289863 words/s, in_qsize 13, out_qsize 2\n",
            "2020-09-26 08:43:38,735 : INFO : EPOCH 2 - PROGRESS: at 91.96% examples, 290402 words/s, in_qsize 15, out_qsize 3\n",
            "2020-09-26 08:43:39,769 : INFO : EPOCH 2 - PROGRESS: at 95.77% examples, 290918 words/s, in_qsize 15, out_qsize 2\n",
            "2020-09-26 08:43:40,690 : INFO : worker thread finished; awaiting finish of 7 more threads\n",
            "2020-09-26 08:43:40,695 : INFO : worker thread finished; awaiting finish of 6 more threads\n",
            "2020-09-26 08:43:40,702 : INFO : worker thread finished; awaiting finish of 5 more threads\n",
            "2020-09-26 08:43:40,711 : INFO : worker thread finished; awaiting finish of 4 more threads\n",
            "2020-09-26 08:43:40,723 : INFO : worker thread finished; awaiting finish of 3 more threads\n",
            "2020-09-26 08:43:40,768 : INFO : EPOCH 2 - PROGRESS: at 99.78% examples, 292041 words/s, in_qsize 2, out_qsize 1\n",
            "2020-09-26 08:43:40,770 : INFO : worker thread finished; awaiting finish of 2 more threads\n",
            "2020-09-26 08:43:40,785 : INFO : worker thread finished; awaiting finish of 1 more threads\n",
            "2020-09-26 08:43:40,801 : INFO : worker thread finished; awaiting finish of 0 more threads\n",
            "2020-09-26 08:43:40,802 : INFO : EPOCH - 2 : training on 9227204 raw words (8222455 effective words) took 28.1s, 292319 effective words/s\n",
            "2020-09-26 08:43:41,820 : INFO : EPOCH 3 - PROGRESS: at 3.25% examples, 266733 words/s, in_qsize 15, out_qsize 1\n",
            "2020-09-26 08:43:42,829 : INFO : EPOCH 3 - PROGRESS: at 6.62% examples, 270196 words/s, in_qsize 15, out_qsize 0\n",
            "2020-09-26 08:43:43,894 : INFO : EPOCH 3 - PROGRESS: at 10.42% examples, 278082 words/s, in_qsize 16, out_qsize 1\n",
            "2020-09-26 08:43:44,896 : INFO : EPOCH 3 - PROGRESS: at 14.33% examples, 288341 words/s, in_qsize 15, out_qsize 0\n",
            "2020-09-26 08:43:45,931 : INFO : EPOCH 3 - PROGRESS: at 17.57% examples, 282175 words/s, in_qsize 12, out_qsize 3\n",
            "2020-09-26 08:43:46,935 : INFO : EPOCH 3 - PROGRESS: at 21.46% examples, 288350 words/s, in_qsize 14, out_qsize 1\n",
            "2020-09-26 08:43:48,157 : INFO : EPOCH 3 - PROGRESS: at 25.48% examples, 285228 words/s, in_qsize 14, out_qsize 2\n",
            "2020-09-26 08:43:49,183 : INFO : EPOCH 3 - PROGRESS: at 29.59% examples, 290721 words/s, in_qsize 15, out_qsize 0\n",
            "2020-09-26 08:43:50,378 : INFO : EPOCH 3 - PROGRESS: at 33.37% examples, 286999 words/s, in_qsize 14, out_qsize 1\n",
            "2020-09-26 08:43:51,378 : INFO : EPOCH 3 - PROGRESS: at 37.16% examples, 289345 words/s, in_qsize 15, out_qsize 0\n",
            "2020-09-26 08:43:52,448 : INFO : EPOCH 3 - PROGRESS: at 40.83% examples, 288755 words/s, in_qsize 15, out_qsize 0\n",
            "2020-09-26 08:43:53,469 : INFO : EPOCH 3 - PROGRESS: at 44.83% examples, 291511 words/s, in_qsize 15, out_qsize 0\n",
            "2020-09-26 08:43:54,520 : INFO : EPOCH 3 - PROGRESS: at 48.30% examples, 289969 words/s, in_qsize 15, out_qsize 0\n",
            "2020-09-26 08:43:55,674 : INFO : EPOCH 3 - PROGRESS: at 52.29% examples, 290335 words/s, in_qsize 15, out_qsize 1\n",
            "2020-09-26 08:43:56,659 : INFO : EPOCH 3 - PROGRESS: at 55.75% examples, 289661 words/s, in_qsize 16, out_qsize 0\n",
            "2020-09-26 08:43:57,681 : INFO : EPOCH 3 - PROGRESS: at 59.55% examples, 290623 words/s, in_qsize 15, out_qsize 0\n",
            "2020-09-26 08:43:58,726 : INFO : EPOCH 3 - PROGRESS: at 62.89% examples, 289724 words/s, in_qsize 15, out_qsize 1\n",
            "2020-09-26 08:43:59,809 : INFO : EPOCH 3 - PROGRESS: at 67.01% examples, 290748 words/s, in_qsize 15, out_qsize 0\n",
            "2020-09-26 08:44:00,837 : INFO : EPOCH 3 - PROGRESS: at 70.48% examples, 289739 words/s, in_qsize 15, out_qsize 0\n",
            "2020-09-26 08:44:01,876 : INFO : EPOCH 3 - PROGRESS: at 74.16% examples, 289816 words/s, in_qsize 15, out_qsize 0\n",
            "2020-09-26 08:44:02,887 : INFO : EPOCH 3 - PROGRESS: at 77.63% examples, 289450 words/s, in_qsize 15, out_qsize 0\n",
            "2020-09-26 08:44:04,014 : INFO : EPOCH 3 - PROGRESS: at 81.45% examples, 288833 words/s, in_qsize 15, out_qsize 2\n",
            "2020-09-26 08:44:05,031 : INFO : EPOCH 3 - PROGRESS: at 85.55% examples, 290681 words/s, in_qsize 15, out_qsize 0\n",
            "2020-09-26 08:44:06,039 : INFO : EPOCH 3 - PROGRESS: at 88.26% examples, 287890 words/s, in_qsize 15, out_qsize 2\n",
            "2020-09-26 08:44:07,066 : INFO : EPOCH 3 - PROGRESS: at 91.85% examples, 287809 words/s, in_qsize 15, out_qsize 0\n",
            "2020-09-26 08:44:08,081 : INFO : EPOCH 3 - PROGRESS: at 95.56% examples, 288200 words/s, in_qsize 15, out_qsize 0\n",
            "2020-09-26 08:44:09,034 : INFO : worker thread finished; awaiting finish of 7 more threads\n",
            "2020-09-26 08:44:09,053 : INFO : worker thread finished; awaiting finish of 6 more threads\n",
            "2020-09-26 08:44:09,077 : INFO : worker thread finished; awaiting finish of 5 more threads\n",
            "2020-09-26 08:44:09,098 : INFO : EPOCH 3 - PROGRESS: at 99.56% examples, 289524 words/s, in_qsize 4, out_qsize 1\n",
            "2020-09-26 08:44:09,100 : INFO : worker thread finished; awaiting finish of 4 more threads\n",
            "2020-09-26 08:44:09,163 : INFO : worker thread finished; awaiting finish of 3 more threads\n",
            "2020-09-26 08:44:09,166 : INFO : worker thread finished; awaiting finish of 2 more threads\n",
            "2020-09-26 08:44:09,169 : INFO : worker thread finished; awaiting finish of 1 more threads\n",
            "2020-09-26 08:44:09,172 : INFO : worker thread finished; awaiting finish of 0 more threads\n",
            "2020-09-26 08:44:09,172 : INFO : EPOCH - 3 : training on 9227204 raw words (8223226 effective words) took 28.4s, 290020 effective words/s\n",
            "2020-09-26 08:44:10,283 : INFO : EPOCH 4 - PROGRESS: at 1.84% examples, 138144 words/s, in_qsize 7, out_qsize 0\n",
            "2020-09-26 08:44:11,338 : INFO : EPOCH 4 - PROGRESS: at 3.25% examples, 124357 words/s, in_qsize 4, out_qsize 0\n",
            "2020-09-26 08:44:12,345 : INFO : EPOCH 4 - PROGRESS: at 5.21% examples, 135416 words/s, in_qsize 0, out_qsize 2\n",
            "2020-09-26 08:44:13,483 : INFO : EPOCH 4 - PROGRESS: at 8.36% examples, 159709 words/s, in_qsize 15, out_qsize 0\n",
            "2020-09-26 08:44:14,492 : INFO : EPOCH 4 - PROGRESS: at 12.28% examples, 189816 words/s, in_qsize 15, out_qsize 0\n",
            "2020-09-26 08:44:15,559 : INFO : EPOCH 4 - PROGRESS: at 15.84% examples, 204139 words/s, in_qsize 15, out_qsize 0\n",
            "2020-09-26 08:44:16,563 : INFO : EPOCH 4 - PROGRESS: at 19.30% examples, 214965 words/s, in_qsize 15, out_qsize 0\n",
            "2020-09-26 08:44:17,578 : INFO : EPOCH 4 - PROGRESS: at 22.87% examples, 224022 words/s, in_qsize 16, out_qsize 0\n",
            "2020-09-26 08:44:18,587 : INFO : EPOCH 4 - PROGRESS: at 26.12% examples, 228378 words/s, in_qsize 15, out_qsize 7\n",
            "2020-09-26 08:44:19,664 : INFO : EPOCH 4 - PROGRESS: at 30.24% examples, 237232 words/s, in_qsize 15, out_qsize 0\n",
            "2020-09-26 08:44:20,689 : INFO : EPOCH 4 - PROGRESS: at 33.48% examples, 239335 words/s, in_qsize 15, out_qsize 0\n",
            "2020-09-26 08:44:21,821 : INFO : EPOCH 4 - PROGRESS: at 37.49% examples, 243948 words/s, in_qsize 15, out_qsize 0\n",
            "2020-09-26 08:44:22,865 : INFO : EPOCH 4 - PROGRESS: at 41.37% examples, 248787 words/s, in_qsize 15, out_qsize 0\n",
            "2020-09-26 08:44:23,884 : INFO : EPOCH 4 - PROGRESS: at 45.05% examples, 252131 words/s, in_qsize 15, out_qsize 0\n",
            "2020-09-26 08:44:24,921 : INFO : EPOCH 4 - PROGRESS: at 48.62% examples, 254199 words/s, in_qsize 15, out_qsize 0\n",
            "2020-09-26 08:44:25,943 : INFO : EPOCH 4 - PROGRESS: at 51.96% examples, 255189 words/s, in_qsize 14, out_qsize 1\n",
            "2020-09-26 08:44:26,949 : INFO : EPOCH 4 - PROGRESS: at 55.75% examples, 258299 words/s, in_qsize 14, out_qsize 0\n",
            "2020-09-26 08:44:27,999 : INFO : EPOCH 4 - PROGRESS: at 59.66% examples, 260940 words/s, in_qsize 15, out_qsize 0\n",
            "2020-09-26 08:44:29,110 : INFO : EPOCH 4 - PROGRESS: at 63.22% examples, 261134 words/s, in_qsize 16, out_qsize 1\n",
            "2020-09-26 08:44:30,126 : INFO : EPOCH 4 - PROGRESS: at 66.58% examples, 261640 words/s, in_qsize 11, out_qsize 6\n",
            "2020-09-26 08:44:31,148 : INFO : EPOCH 4 - PROGRESS: at 70.59% examples, 264463 words/s, in_qsize 16, out_qsize 0\n",
            "2020-09-26 08:44:32,202 : INFO : EPOCH 4 - PROGRESS: at 74.27% examples, 265508 words/s, in_qsize 15, out_qsize 0\n",
            "2020-09-26 08:44:33,251 : INFO : EPOCH 4 - PROGRESS: at 77.63% examples, 265409 words/s, in_qsize 14, out_qsize 1\n",
            "2020-09-26 08:44:34,390 : INFO : EPOCH 4 - PROGRESS: at 81.44% examples, 265783 words/s, in_qsize 9, out_qsize 6\n",
            "2020-09-26 08:44:35,395 : INFO : EPOCH 4 - PROGRESS: at 85.34% examples, 267819 words/s, in_qsize 15, out_qsize 0\n",
            "2020-09-26 08:44:36,453 : INFO : EPOCH 4 - PROGRESS: at 89.23% examples, 269568 words/s, in_qsize 12, out_qsize 3\n",
            "2020-09-26 08:44:37,539 : INFO : EPOCH 4 - PROGRESS: at 92.94% examples, 269532 words/s, in_qsize 15, out_qsize 0\n",
            "2020-09-26 08:44:38,697 : INFO : EPOCH 4 - PROGRESS: at 96.85% examples, 269816 words/s, in_qsize 16, out_qsize 1\n",
            "2020-09-26 08:44:39,271 : INFO : worker thread finished; awaiting finish of 7 more threads\n",
            "2020-09-26 08:44:39,285 : INFO : worker thread finished; awaiting finish of 6 more threads\n",
            "2020-09-26 08:44:39,288 : INFO : worker thread finished; awaiting finish of 5 more threads\n",
            "2020-09-26 08:44:39,298 : INFO : worker thread finished; awaiting finish of 4 more threads\n",
            "2020-09-26 08:44:39,301 : INFO : worker thread finished; awaiting finish of 3 more threads\n",
            "2020-09-26 08:44:39,304 : INFO : worker thread finished; awaiting finish of 2 more threads\n",
            "2020-09-26 08:44:39,342 : INFO : worker thread finished; awaiting finish of 1 more threads\n",
            "2020-09-26 08:44:39,363 : INFO : worker thread finished; awaiting finish of 0 more threads\n",
            "2020-09-26 08:44:39,365 : INFO : EPOCH - 4 : training on 9227204 raw words (8222068 effective words) took 30.2s, 272453 effective words/s\n",
            "2020-09-26 08:44:40,387 : INFO : EPOCH 5 - PROGRESS: at 2.82% examples, 229106 words/s, in_qsize 9, out_qsize 6\n",
            "2020-09-26 08:44:41,536 : INFO : EPOCH 5 - PROGRESS: at 7.06% examples, 267969 words/s, in_qsize 15, out_qsize 4\n",
            "2020-09-26 08:44:42,549 : INFO : EPOCH 5 - PROGRESS: at 11.08% examples, 286473 words/s, in_qsize 15, out_qsize 0\n",
            "2020-09-26 08:44:43,565 : INFO : EPOCH 5 - PROGRESS: at 14.54% examples, 284962 words/s, in_qsize 14, out_qsize 1\n",
            "2020-09-26 08:44:44,583 : INFO : EPOCH 5 - PROGRESS: at 18.11% examples, 285630 words/s, in_qsize 16, out_qsize 0\n",
            "2020-09-26 08:44:45,714 : INFO : EPOCH 5 - PROGRESS: at 21.90% examples, 284905 words/s, in_qsize 15, out_qsize 1\n",
            "2020-09-26 08:44:46,743 : INFO : EPOCH 5 - PROGRESS: at 25.37% examples, 283278 words/s, in_qsize 16, out_qsize 6\n",
            "2020-09-26 08:44:47,815 : INFO : EPOCH 5 - PROGRESS: at 29.48% examples, 287141 words/s, in_qsize 15, out_qsize 0\n",
            "2020-09-26 08:44:48,892 : INFO : EPOCH 5 - PROGRESS: at 33.05% examples, 285511 words/s, in_qsize 14, out_qsize 5\n",
            "2020-09-26 08:44:49,946 : INFO : EPOCH 5 - PROGRESS: at 37.05% examples, 288229 words/s, in_qsize 15, out_qsize 0\n",
            "2020-09-26 08:44:50,999 : INFO : EPOCH 5 - PROGRESS: at 40.72% examples, 288855 words/s, in_qsize 15, out_qsize 1\n",
            "2020-09-26 08:44:51,994 : INFO : EPOCH 5 - PROGRESS: at 44.40% examples, 289438 words/s, in_qsize 16, out_qsize 1\n",
            "2020-09-26 08:44:53,097 : INFO : EPOCH 5 - PROGRESS: at 48.19% examples, 288891 words/s, in_qsize 16, out_qsize 1\n",
            "2020-09-26 08:44:54,114 : INFO : EPOCH 5 - PROGRESS: at 52.40% examples, 292563 words/s, in_qsize 15, out_qsize 0\n",
            "2020-09-26 08:44:55,119 : INFO : EPOCH 5 - PROGRESS: at 55.53% examples, 290281 words/s, in_qsize 15, out_qsize 1\n",
            "2020-09-26 08:44:56,174 : INFO : EPOCH 5 - PROGRESS: at 58.90% examples, 288507 words/s, in_qsize 13, out_qsize 5\n",
            "2020-09-26 08:44:57,187 : INFO : EPOCH 5 - PROGRESS: at 63.00% examples, 291096 words/s, in_qsize 15, out_qsize 0\n",
            "2020-09-26 08:44:58,202 : INFO : EPOCH 5 - PROGRESS: at 66.58% examples, 291006 words/s, in_qsize 13, out_qsize 2\n",
            "2020-09-26 08:44:59,234 : INFO : EPOCH 5 - PROGRESS: at 70.48% examples, 292038 words/s, in_qsize 15, out_qsize 0\n",
            "2020-09-26 08:45:00,269 : INFO : EPOCH 5 - PROGRESS: at 74.16% examples, 292064 words/s, in_qsize 15, out_qsize 0\n",
            "2020-09-26 08:45:01,378 : INFO : EPOCH 5 - PROGRESS: at 78.07% examples, 292166 words/s, in_qsize 15, out_qsize 0\n",
            "2020-09-26 08:45:02,382 : INFO : EPOCH 5 - PROGRESS: at 81.88% examples, 292822 words/s, in_qsize 14, out_qsize 2\n",
            "2020-09-26 08:45:03,424 : INFO : EPOCH 5 - PROGRESS: at 85.45% examples, 292250 words/s, in_qsize 15, out_qsize 0\n",
            "2020-09-26 08:45:04,499 : INFO : EPOCH 5 - PROGRESS: at 89.45% examples, 292859 words/s, in_qsize 16, out_qsize 0\n",
            "2020-09-26 08:45:05,570 : INFO : EPOCH 5 - PROGRESS: at 93.37% examples, 293126 words/s, in_qsize 16, out_qsize 0\n",
            "2020-09-26 08:45:06,612 : INFO : EPOCH 5 - PROGRESS: at 96.75% examples, 292050 words/s, in_qsize 15, out_qsize 2\n",
            "2020-09-26 08:45:07,242 : INFO : worker thread finished; awaiting finish of 7 more threads\n",
            "2020-09-26 08:45:07,250 : INFO : worker thread finished; awaiting finish of 6 more threads\n",
            "2020-09-26 08:45:07,255 : INFO : worker thread finished; awaiting finish of 5 more threads\n",
            "2020-09-26 08:45:07,271 : INFO : worker thread finished; awaiting finish of 4 more threads\n",
            "2020-09-26 08:45:07,289 : INFO : worker thread finished; awaiting finish of 3 more threads\n",
            "2020-09-26 08:45:07,304 : INFO : worker thread finished; awaiting finish of 2 more threads\n",
            "2020-09-26 08:45:07,313 : INFO : worker thread finished; awaiting finish of 1 more threads\n",
            "2020-09-26 08:45:07,315 : INFO : worker thread finished; awaiting finish of 0 more threads\n",
            "2020-09-26 08:45:07,316 : INFO : EPOCH - 5 : training on 9227204 raw words (8222766 effective words) took 27.9s, 294295 effective words/s\n",
            "2020-09-26 08:45:08,366 : INFO : EPOCH 6 - PROGRESS: at 3.36% examples, 271890 words/s, in_qsize 15, out_qsize 0\n",
            "2020-09-26 08:45:09,441 : INFO : EPOCH 6 - PROGRESS: at 6.84% examples, 268346 words/s, in_qsize 15, out_qsize 0\n",
            "2020-09-26 08:45:10,463 : INFO : EPOCH 6 - PROGRESS: at 10.53% examples, 277709 words/s, in_qsize 13, out_qsize 2\n",
            "2020-09-26 08:45:11,484 : INFO : EPOCH 6 - PROGRESS: at 14.32% examples, 284535 words/s, in_qsize 14, out_qsize 1\n",
            "2020-09-26 08:45:12,515 : INFO : EPOCH 6 - PROGRESS: at 18.32% examples, 291466 words/s, in_qsize 15, out_qsize 0\n",
            "2020-09-26 08:45:13,602 : INFO : EPOCH 6 - PROGRESS: at 21.90% examples, 289374 words/s, in_qsize 15, out_qsize 1\n",
            "2020-09-26 08:45:14,687 : INFO : EPOCH 6 - PROGRESS: at 25.91% examples, 290190 words/s, in_qsize 16, out_qsize 0\n",
            "2020-09-26 08:45:15,735 : INFO : EPOCH 6 - PROGRESS: at 29.37% examples, 287939 words/s, in_qsize 14, out_qsize 1\n",
            "2020-09-26 08:45:16,769 : INFO : EPOCH 6 - PROGRESS: at 33.27% examples, 290361 words/s, in_qsize 15, out_qsize 0\n",
            "2020-09-26 08:45:17,788 : INFO : EPOCH 6 - PROGRESS: at 36.72% examples, 289329 words/s, in_qsize 16, out_qsize 0\n",
            "2020-09-26 08:45:18,811 : INFO : EPOCH 6 - PROGRESS: at 40.51% examples, 290712 words/s, in_qsize 15, out_qsize 0\n",
            "2020-09-26 08:45:19,838 : INFO : EPOCH 6 - PROGRESS: at 43.96% examples, 289633 words/s, in_qsize 16, out_qsize 0\n",
            "2020-09-26 08:45:20,846 : INFO : EPOCH 6 - PROGRESS: at 47.32% examples, 288464 words/s, in_qsize 15, out_qsize 0\n",
            "2020-09-26 08:45:21,849 : INFO : EPOCH 6 - PROGRESS: at 51.10% examples, 290022 words/s, in_qsize 16, out_qsize 0\n",
            "2020-09-26 08:45:22,858 : INFO : EPOCH 6 - PROGRESS: at 54.78% examples, 290704 words/s, in_qsize 15, out_qsize 0\n",
            "2020-09-26 08:45:23,961 : INFO : EPOCH 6 - PROGRESS: at 58.58% examples, 290184 words/s, in_qsize 15, out_qsize 0\n",
            "2020-09-26 08:45:24,983 : INFO : EPOCH 6 - PROGRESS: at 61.82% examples, 288520 words/s, in_qsize 13, out_qsize 7\n",
            "2020-09-26 08:45:26,116 : INFO : EPOCH 6 - PROGRESS: at 66.04% examples, 289619 words/s, in_qsize 15, out_qsize 0\n",
            "2020-09-26 08:45:27,257 : INFO : EPOCH 6 - PROGRESS: at 70.16% examples, 290026 words/s, in_qsize 15, out_qsize 0\n",
            "2020-09-26 08:45:28,338 : INFO : EPOCH 6 - PROGRESS: at 74.26% examples, 291710 words/s, in_qsize 15, out_qsize 0\n",
            "2020-09-26 08:45:29,429 : INFO : EPOCH 6 - PROGRESS: at 77.74% examples, 289725 words/s, in_qsize 15, out_qsize 0\n",
            "2020-09-26 08:45:30,447 : INFO : EPOCH 6 - PROGRESS: at 81.45% examples, 290065 words/s, in_qsize 11, out_qsize 4\n",
            "2020-09-26 08:45:31,516 : INFO : EPOCH 6 - PROGRESS: at 85.56% examples, 291235 words/s, in_qsize 16, out_qsize 0\n",
            "2020-09-26 08:45:32,561 : INFO : EPOCH 6 - PROGRESS: at 89.45% examples, 291883 words/s, in_qsize 16, out_qsize 0\n",
            "2020-09-26 08:45:33,566 : INFO : EPOCH 6 - PROGRESS: at 92.94% examples, 291542 words/s, in_qsize 15, out_qsize 0\n",
            "2020-09-26 08:45:34,569 : INFO : EPOCH 6 - PROGRESS: at 96.31% examples, 290944 words/s, in_qsize 14, out_qsize 1\n",
            "2020-09-26 08:45:35,278 : INFO : worker thread finished; awaiting finish of 7 more threads\n",
            "2020-09-26 08:45:35,296 : INFO : worker thread finished; awaiting finish of 6 more threads\n",
            "2020-09-26 08:45:35,325 : INFO : worker thread finished; awaiting finish of 5 more threads\n",
            "2020-09-26 08:45:35,330 : INFO : worker thread finished; awaiting finish of 4 more threads\n",
            "2020-09-26 08:45:35,388 : INFO : worker thread finished; awaiting finish of 3 more threads\n",
            "2020-09-26 08:45:35,406 : INFO : worker thread finished; awaiting finish of 2 more threads\n",
            "2020-09-26 08:45:35,420 : INFO : worker thread finished; awaiting finish of 1 more threads\n",
            "2020-09-26 08:45:35,422 : INFO : worker thread finished; awaiting finish of 0 more threads\n",
            "2020-09-26 08:45:35,423 : INFO : EPOCH - 6 : training on 9227204 raw words (8222702 effective words) took 28.1s, 292917 effective words/s\n",
            "2020-09-26 08:45:36,445 : INFO : EPOCH 7 - PROGRESS: at 2.82% examples, 229543 words/s, in_qsize 15, out_qsize 0\n",
            "2020-09-26 08:45:37,478 : INFO : EPOCH 7 - PROGRESS: at 6.51% examples, 261830 words/s, in_qsize 15, out_qsize 0\n",
            "2020-09-26 08:45:38,492 : INFO : EPOCH 7 - PROGRESS: at 10.10% examples, 271225 words/s, in_qsize 12, out_qsize 3\n",
            "2020-09-26 08:45:39,503 : INFO : EPOCH 7 - PROGRESS: at 14.01% examples, 282603 words/s, in_qsize 16, out_qsize 0\n",
            "2020-09-26 08:45:40,537 : INFO : EPOCH 7 - PROGRESS: at 17.57% examples, 283849 words/s, in_qsize 16, out_qsize 0\n",
            "2020-09-26 08:45:41,537 : INFO : EPOCH 7 - PROGRESS: at 20.92% examples, 281843 words/s, in_qsize 14, out_qsize 1\n",
            "2020-09-26 08:45:42,542 : INFO : EPOCH 7 - PROGRESS: at 24.82% examples, 287163 words/s, in_qsize 15, out_qsize 0\n",
            "2020-09-26 08:45:43,554 : INFO : EPOCH 7 - PROGRESS: at 28.18% examples, 285369 words/s, in_qsize 11, out_qsize 4\n",
            "2020-09-26 08:45:44,557 : INFO : EPOCH 7 - PROGRESS: at 31.86% examples, 287234 words/s, in_qsize 16, out_qsize 1\n",
            "2020-09-26 08:45:45,559 : INFO : EPOCH 7 - PROGRESS: at 35.42% examples, 287840 words/s, in_qsize 15, out_qsize 0\n",
            "2020-09-26 08:45:46,655 : INFO : EPOCH 7 - PROGRESS: at 39.54% examples, 289899 words/s, in_qsize 15, out_qsize 0\n",
            "2020-09-26 08:45:47,691 : INFO : EPOCH 7 - PROGRESS: at 43.43% examples, 291543 words/s, in_qsize 16, out_qsize 0\n",
            "2020-09-26 08:45:48,810 : INFO : EPOCH 7 - PROGRESS: at 47.21% examples, 290462 words/s, in_qsize 15, out_qsize 0\n",
            "2020-09-26 08:45:49,834 : INFO : EPOCH 7 - PROGRESS: at 51.10% examples, 292084 words/s, in_qsize 14, out_qsize 1\n",
            "2020-09-26 08:45:50,944 : INFO : EPOCH 7 - PROGRESS: at 54.57% examples, 289573 words/s, in_qsize 16, out_qsize 3\n",
            "2020-09-26 08:45:51,945 : INFO : EPOCH 7 - PROGRESS: at 58.79% examples, 293077 words/s, in_qsize 15, out_qsize 0\n",
            "2020-09-26 08:45:52,973 : INFO : EPOCH 7 - PROGRESS: at 62.03% examples, 291137 words/s, in_qsize 14, out_qsize 5\n",
            "2020-09-26 08:45:54,067 : INFO : EPOCH 7 - PROGRESS: at 66.04% examples, 291716 words/s, in_qsize 15, out_qsize 0\n",
            "2020-09-26 08:45:55,100 : INFO : EPOCH 7 - PROGRESS: at 69.61% examples, 291346 words/s, in_qsize 16, out_qsize 3\n",
            "2020-09-26 08:45:56,199 : INFO : EPOCH 7 - PROGRESS: at 73.94% examples, 293081 words/s, in_qsize 15, out_qsize 1\n",
            "2020-09-26 08:45:57,249 : INFO : EPOCH 7 - PROGRESS: at 77.42% examples, 292031 words/s, in_qsize 15, out_qsize 3\n",
            "2020-09-26 08:45:58,366 : INFO : EPOCH 7 - PROGRESS: at 81.66% examples, 292970 words/s, in_qsize 15, out_qsize 0\n",
            "2020-09-26 08:45:59,399 : INFO : EPOCH 7 - PROGRESS: at 85.23% examples, 292613 words/s, in_qsize 12, out_qsize 3\n",
            "2020-09-26 08:46:00,465 : INFO : EPOCH 7 - PROGRESS: at 89.13% examples, 292944 words/s, in_qsize 12, out_qsize 3\n",
            "2020-09-26 08:46:01,577 : INFO : EPOCH 7 - PROGRESS: at 93.26% examples, 293417 words/s, in_qsize 15, out_qsize 0\n",
            "2020-09-26 08:46:02,596 : INFO : EPOCH 7 - PROGRESS: at 97.29% examples, 294553 words/s, in_qsize 15, out_qsize 0\n",
            "2020-09-26 08:46:03,122 : INFO : worker thread finished; awaiting finish of 7 more threads\n",
            "2020-09-26 08:46:03,130 : INFO : worker thread finished; awaiting finish of 6 more threads\n",
            "2020-09-26 08:46:03,141 : INFO : worker thread finished; awaiting finish of 5 more threads\n",
            "2020-09-26 08:46:03,223 : INFO : worker thread finished; awaiting finish of 4 more threads\n",
            "2020-09-26 08:46:03,230 : INFO : worker thread finished; awaiting finish of 3 more threads\n",
            "2020-09-26 08:46:03,249 : INFO : worker thread finished; awaiting finish of 2 more threads\n",
            "2020-09-26 08:46:03,256 : INFO : worker thread finished; awaiting finish of 1 more threads\n",
            "2020-09-26 08:46:03,260 : INFO : worker thread finished; awaiting finish of 0 more threads\n",
            "2020-09-26 08:46:03,261 : INFO : EPOCH - 7 : training on 9227204 raw words (8223521 effective words) took 27.8s, 295548 effective words/s\n",
            "2020-09-26 08:46:04,355 : INFO : EPOCH 8 - PROGRESS: at 3.14% examples, 248067 words/s, in_qsize 15, out_qsize 3\n",
            "2020-09-26 08:46:05,346 : INFO : EPOCH 8 - PROGRESS: at 6.84% examples, 270574 words/s, in_qsize 15, out_qsize 0\n",
            "2020-09-26 08:46:06,353 : INFO : EPOCH 8 - PROGRESS: at 10.20% examples, 271844 words/s, in_qsize 11, out_qsize 4\n",
            "2020-09-26 08:46:07,419 : INFO : EPOCH 8 - PROGRESS: at 14.33% examples, 284528 words/s, in_qsize 15, out_qsize 4\n",
            "2020-09-26 08:46:08,597 : INFO : EPOCH 8 - PROGRESS: at 18.54% examples, 286032 words/s, in_qsize 15, out_qsize 0\n",
            "2020-09-26 08:46:09,610 : INFO : EPOCH 8 - PROGRESS: at 22.01% examples, 285340 words/s, in_qsize 15, out_qsize 0\n",
            "2020-09-26 08:46:10,679 : INFO : EPOCH 8 - PROGRESS: at 25.59% examples, 283885 words/s, in_qsize 14, out_qsize 1\n",
            "2020-09-26 08:46:11,711 : INFO : EPOCH 8 - PROGRESS: at 29.37% examples, 286167 words/s, in_qsize 15, out_qsize 1\n",
            "2020-09-26 08:46:12,758 : INFO : EPOCH 8 - PROGRESS: at 32.94% examples, 285547 words/s, in_qsize 11, out_qsize 4\n",
            "2020-09-26 08:46:13,817 : INFO : EPOCH 8 - PROGRESS: at 36.39% examples, 284945 words/s, in_qsize 15, out_qsize 7\n",
            "2020-09-26 08:46:14,799 : INFO : EPOCH 8 - PROGRESS: at 40.30% examples, 287537 words/s, in_qsize 15, out_qsize 0\n",
            "2020-09-26 08:46:15,885 : INFO : EPOCH 8 - PROGRESS: at 44.18% examples, 288192 words/s, in_qsize 15, out_qsize 0\n",
            "2020-09-26 08:46:16,904 : INFO : EPOCH 8 - PROGRESS: at 47.65% examples, 287573 words/s, in_qsize 15, out_qsize 0\n",
            "2020-09-26 08:46:17,957 : INFO : EPOCH 8 - PROGRESS: at 51.53% examples, 288821 words/s, in_qsize 13, out_qsize 2\n",
            "2020-09-26 08:46:18,995 : INFO : EPOCH 8 - PROGRESS: at 55.42% examples, 290154 words/s, in_qsize 15, out_qsize 2\n",
            "2020-09-26 08:46:20,056 : INFO : EPOCH 8 - PROGRESS: at 59.01% examples, 289342 words/s, in_qsize 14, out_qsize 2\n",
            "2020-09-26 08:46:21,094 : INFO : EPOCH 8 - PROGRESS: at 63.11% examples, 291487 words/s, in_qsize 15, out_qsize 0\n",
            "2020-09-26 08:46:22,131 : INFO : EPOCH 8 - PROGRESS: at 66.80% examples, 291516 words/s, in_qsize 14, out_qsize 1\n",
            "2020-09-26 08:46:23,183 : INFO : EPOCH 8 - PROGRESS: at 70.16% examples, 289980 words/s, in_qsize 10, out_qsize 5\n",
            "2020-09-26 08:46:24,254 : INFO : EPOCH 8 - PROGRESS: at 73.73% examples, 289180 words/s, in_qsize 13, out_qsize 3\n",
            "2020-09-26 08:46:25,263 : INFO : EPOCH 8 - PROGRESS: at 77.53% examples, 290083 words/s, in_qsize 16, out_qsize 1\n",
            "2020-09-26 08:46:26,266 : INFO : EPOCH 8 - PROGRESS: at 81.01% examples, 289835 words/s, in_qsize 15, out_qsize 0\n",
            "2020-09-26 08:46:27,334 : INFO : EPOCH 8 - PROGRESS: at 84.80% examples, 290405 words/s, in_qsize 15, out_qsize 0\n",
            "2020-09-26 08:46:28,301 : INFO : EPOCH 8 - PROGRESS: at 88.48% examples, 290825 words/s, in_qsize 15, out_qsize 0\n",
            "2020-09-26 08:46:29,309 : INFO : EPOCH 8 - PROGRESS: at 92.06% examples, 290838 words/s, in_qsize 14, out_qsize 1\n",
            "2020-09-26 08:46:30,390 : INFO : EPOCH 8 - PROGRESS: at 95.66% examples, 290081 words/s, in_qsize 10, out_qsize 5\n",
            "2020-09-26 08:46:31,326 : INFO : worker thread finished; awaiting finish of 7 more threads\n",
            "2020-09-26 08:46:31,332 : INFO : worker thread finished; awaiting finish of 6 more threads\n",
            "2020-09-26 08:46:31,345 : INFO : worker thread finished; awaiting finish of 5 more threads\n",
            "2020-09-26 08:46:31,354 : INFO : worker thread finished; awaiting finish of 4 more threads\n",
            "2020-09-26 08:46:31,379 : INFO : worker thread finished; awaiting finish of 3 more threads\n",
            "2020-09-26 08:46:31,389 : INFO : worker thread finished; awaiting finish of 2 more threads\n",
            "2020-09-26 08:46:31,415 : INFO : EPOCH 8 - PROGRESS: at 99.89% examples, 291889 words/s, in_qsize 1, out_qsize 1\n",
            "2020-09-26 08:46:31,419 : INFO : worker thread finished; awaiting finish of 1 more threads\n",
            "2020-09-26 08:46:31,422 : INFO : worker thread finished; awaiting finish of 0 more threads\n",
            "2020-09-26 08:46:31,423 : INFO : EPOCH - 8 : training on 9227204 raw words (8223400 effective words) took 28.2s, 292124 effective words/s\n",
            "2020-09-26 08:46:32,460 : INFO : EPOCH 9 - PROGRESS: at 3.47% examples, 278528 words/s, in_qsize 15, out_qsize 0\n",
            "2020-09-26 08:46:33,541 : INFO : EPOCH 9 - PROGRESS: at 6.84% examples, 266585 words/s, in_qsize 16, out_qsize 1\n",
            "2020-09-26 08:46:34,605 : INFO : EPOCH 9 - PROGRESS: at 10.53% examples, 272755 words/s, in_qsize 14, out_qsize 1\n",
            "2020-09-26 08:46:35,627 : INFO : EPOCH 9 - PROGRESS: at 14.22% examples, 278475 words/s, in_qsize 15, out_qsize 0\n",
            "2020-09-26 08:46:36,676 : INFO : EPOCH 9 - PROGRESS: at 17.78% examples, 278792 words/s, in_qsize 13, out_qsize 2\n",
            "2020-09-26 08:46:37,683 : INFO : EPOCH 9 - PROGRESS: at 21.14% examples, 278091 words/s, in_qsize 16, out_qsize 7\n",
            "2020-09-26 08:46:38,689 : INFO : EPOCH 9 - PROGRESS: at 25.26% examples, 286233 words/s, in_qsize 13, out_qsize 0\n",
            "2020-09-26 08:46:39,773 : INFO : EPOCH 9 - PROGRESS: at 28.94% examples, 286421 words/s, in_qsize 15, out_qsize 1\n",
            "2020-09-26 08:46:40,775 : INFO : EPOCH 9 - PROGRESS: at 32.73% examples, 288130 words/s, in_qsize 15, out_qsize 1\n",
            "2020-09-26 08:46:41,782 : INFO : EPOCH 9 - PROGRESS: at 36.40% examples, 289356 words/s, in_qsize 16, out_qsize 1\n",
            "2020-09-26 08:46:42,839 : INFO : EPOCH 9 - PROGRESS: at 39.75% examples, 286739 words/s, in_qsize 13, out_qsize 2\n",
            "2020-09-26 08:46:43,858 : INFO : EPOCH 9 - PROGRESS: at 43.75% examples, 289746 words/s, in_qsize 15, out_qsize 0\n",
            "2020-09-26 08:46:44,894 : INFO : EPOCH 9 - PROGRESS: at 46.99% examples, 287293 words/s, in_qsize 14, out_qsize 4\n",
            "2020-09-26 08:46:46,041 : INFO : EPOCH 9 - PROGRESS: at 51.10% examples, 287902 words/s, in_qsize 15, out_qsize 1\n",
            "2020-09-26 08:46:47,099 : INFO : EPOCH 9 - PROGRESS: at 55.10% examples, 289498 words/s, in_qsize 15, out_qsize 1\n",
            "2020-09-26 08:46:48,271 : INFO : EPOCH 9 - PROGRESS: at 59.12% examples, 288950 words/s, in_qsize 14, out_qsize 4\n",
            "2020-09-26 08:46:49,276 : INFO : EPOCH 9 - PROGRESS: at 63.11% examples, 291157 words/s, in_qsize 13, out_qsize 2\n",
            "2020-09-26 08:46:50,408 : INFO : EPOCH 9 - PROGRESS: at 67.02% examples, 290669 words/s, in_qsize 15, out_qsize 0\n",
            "2020-09-26 08:46:51,508 : INFO : EPOCH 9 - PROGRESS: at 70.59% examples, 289385 words/s, in_qsize 16, out_qsize 0\n",
            "2020-09-26 08:46:52,581 : INFO : EPOCH 9 - PROGRESS: at 74.16% examples, 288589 words/s, in_qsize 13, out_qsize 2\n",
            "2020-09-26 08:46:53,619 : INFO : EPOCH 9 - PROGRESS: at 77.96% examples, 289135 words/s, in_qsize 15, out_qsize 0\n",
            "2020-09-26 08:46:54,680 : INFO : EPOCH 9 - PROGRESS: at 81.66% examples, 288973 words/s, in_qsize 15, out_qsize 0\n",
            "2020-09-26 08:46:55,695 : INFO : EPOCH 9 - PROGRESS: at 85.02% examples, 288257 words/s, in_qsize 15, out_qsize 0\n",
            "2020-09-26 08:46:56,704 : INFO : EPOCH 9 - PROGRESS: at 88.48% examples, 288029 words/s, in_qsize 16, out_qsize 0\n",
            "2020-09-26 08:46:57,786 : INFO : EPOCH 9 - PROGRESS: at 91.96% examples, 287003 words/s, in_qsize 15, out_qsize 0\n",
            "2020-09-26 08:46:58,822 : INFO : EPOCH 9 - PROGRESS: at 95.45% examples, 286546 words/s, in_qsize 14, out_qsize 1\n",
            "2020-09-26 08:46:59,828 : INFO : EPOCH 9 - PROGRESS: at 98.90% examples, 286432 words/s, in_qsize 11, out_qsize 0\n",
            "2020-09-26 08:46:59,904 : INFO : worker thread finished; awaiting finish of 7 more threads\n",
            "2020-09-26 08:46:59,914 : INFO : worker thread finished; awaiting finish of 6 more threads\n",
            "2020-09-26 08:46:59,917 : INFO : worker thread finished; awaiting finish of 5 more threads\n",
            "2020-09-26 08:46:59,949 : INFO : worker thread finished; awaiting finish of 4 more threads\n",
            "2020-09-26 08:46:59,977 : INFO : worker thread finished; awaiting finish of 3 more threads\n",
            "2020-09-26 08:46:59,985 : INFO : worker thread finished; awaiting finish of 2 more threads\n",
            "2020-09-26 08:46:59,993 : INFO : worker thread finished; awaiting finish of 1 more threads\n",
            "2020-09-26 08:47:00,011 : INFO : worker thread finished; awaiting finish of 0 more threads\n",
            "2020-09-26 08:47:00,012 : INFO : EPOCH - 9 : training on 9227204 raw words (8222210 effective words) took 28.6s, 287735 effective words/s\n",
            "2020-09-26 08:47:01,053 : INFO : EPOCH 10 - PROGRESS: at 3.25% examples, 259933 words/s, in_qsize 15, out_qsize 0\n",
            "2020-09-26 08:47:02,093 : INFO : EPOCH 10 - PROGRESS: at 6.84% examples, 271239 words/s, in_qsize 15, out_qsize 0\n",
            "2020-09-26 08:47:03,183 : INFO : EPOCH 10 - PROGRESS: at 10.64% examples, 276393 words/s, in_qsize 13, out_qsize 2\n",
            "2020-09-26 08:47:04,228 : INFO : EPOCH 10 - PROGRESS: at 14.11% examples, 275451 words/s, in_qsize 14, out_qsize 3\n",
            "2020-09-26 08:47:05,244 : INFO : EPOCH 10 - PROGRESS: at 18.00% examples, 283219 words/s, in_qsize 15, out_qsize 0\n",
            "2020-09-26 08:47:06,255 : INFO : EPOCH 10 - PROGRESS: at 21.46% examples, 283067 words/s, in_qsize 15, out_qsize 0\n",
            "2020-09-26 08:47:07,295 : INFO : EPOCH 10 - PROGRESS: at 25.04% examples, 283012 words/s, in_qsize 16, out_qsize 1\n",
            "2020-09-26 08:47:08,350 : INFO : EPOCH 10 - PROGRESS: at 29.05% examples, 286763 words/s, in_qsize 15, out_qsize 0\n",
            "2020-09-26 08:47:09,454 : INFO : EPOCH 10 - PROGRESS: at 32.62% examples, 285483 words/s, in_qsize 15, out_qsize 2\n",
            "2020-09-26 08:47:10,443 : INFO : EPOCH 10 - PROGRESS: at 36.29% examples, 286427 words/s, in_qsize 14, out_qsize 1\n",
            "2020-09-26 08:47:11,503 : INFO : EPOCH 10 - PROGRESS: at 40.08% examples, 287128 words/s, in_qsize 16, out_qsize 0\n",
            "2020-09-26 08:47:12,555 : INFO : EPOCH 10 - PROGRESS: at 43.64% examples, 286483 words/s, in_qsize 14, out_qsize 4\n",
            "2020-09-26 08:47:13,581 : INFO : EPOCH 10 - PROGRESS: at 47.86% examples, 290422 words/s, in_qsize 15, out_qsize 0\n",
            "2020-09-26 08:47:14,632 : INFO : EPOCH 10 - PROGRESS: at 51.10% examples, 287826 words/s, in_qsize 14, out_qsize 1\n",
            "2020-09-26 08:47:15,694 : INFO : EPOCH 10 - PROGRESS: at 54.89% examples, 288220 words/s, in_qsize 13, out_qsize 2\n",
            "2020-09-26 08:47:16,702 : INFO : EPOCH 10 - PROGRESS: at 58.47% examples, 288439 words/s, in_qsize 14, out_qsize 1\n",
            "2020-09-26 08:47:17,728 : INFO : EPOCH 10 - PROGRESS: at 61.71% examples, 286814 words/s, in_qsize 15, out_qsize 2\n",
            "2020-09-26 08:47:18,729 : INFO : EPOCH 10 - PROGRESS: at 65.61% examples, 288600 words/s, in_qsize 13, out_qsize 0\n",
            "2020-09-26 08:47:19,759 : INFO : EPOCH 10 - PROGRESS: at 69.18% examples, 288440 words/s, in_qsize 15, out_qsize 0\n",
            "2020-09-26 08:47:20,809 : INFO : EPOCH 10 - PROGRESS: at 73.08% examples, 289761 words/s, in_qsize 14, out_qsize 1\n",
            "2020-09-26 08:47:21,937 : INFO : EPOCH 10 - PROGRESS: at 76.77% examples, 288199 words/s, in_qsize 13, out_qsize 2\n",
            "2020-09-26 08:47:22,955 : INFO : EPOCH 10 - PROGRESS: at 80.57% examples, 289002 words/s, in_qsize 15, out_qsize 0\n",
            "2020-09-26 08:47:23,976 : INFO : EPOCH 10 - PROGRESS: at 84.48% examples, 290081 words/s, in_qsize 16, out_qsize 0\n",
            "2020-09-26 08:47:25,095 : INFO : EPOCH 10 - PROGRESS: at 88.15% examples, 289210 words/s, in_qsize 15, out_qsize 0\n",
            "2020-09-26 08:47:26,107 : INFO : EPOCH 10 - PROGRESS: at 91.84% examples, 289574 words/s, in_qsize 14, out_qsize 1\n",
            "2020-09-26 08:47:27,240 : INFO : EPOCH 10 - PROGRESS: at 95.67% examples, 288959 words/s, in_qsize 11, out_qsize 4\n",
            "2020-09-26 08:47:28,113 : INFO : worker thread finished; awaiting finish of 7 more threads\n",
            "2020-09-26 08:47:28,132 : INFO : worker thread finished; awaiting finish of 6 more threads\n",
            "2020-09-26 08:47:28,134 : INFO : worker thread finished; awaiting finish of 5 more threads\n",
            "2020-09-26 08:47:28,163 : INFO : worker thread finished; awaiting finish of 4 more threads\n",
            "2020-09-26 08:47:28,170 : INFO : worker thread finished; awaiting finish of 3 more threads\n",
            "2020-09-26 08:47:28,215 : INFO : worker thread finished; awaiting finish of 2 more threads\n",
            "2020-09-26 08:47:28,233 : INFO : worker thread finished; awaiting finish of 1 more threads\n",
            "2020-09-26 08:47:28,243 : INFO : EPOCH 10 - PROGRESS: at 100.00% examples, 291366 words/s, in_qsize 0, out_qsize 1\n",
            "2020-09-26 08:47:28,244 : INFO : worker thread finished; awaiting finish of 0 more threads\n",
            "2020-09-26 08:47:28,244 : INFO : EPOCH - 10 : training on 9227204 raw words (8222019 effective words) took 28.2s, 291345 effective words/s\n",
            "2020-09-26 08:47:29,289 : INFO : EPOCH 11 - PROGRESS: at 3.25% examples, 259699 words/s, in_qsize 16, out_qsize 2\n",
            "2020-09-26 08:47:30,292 : INFO : EPOCH 11 - PROGRESS: at 6.19% examples, 249706 words/s, in_qsize 15, out_qsize 6\n",
            "2020-09-26 08:47:31,301 : INFO : EPOCH 11 - PROGRESS: at 10.42% examples, 281363 words/s, in_qsize 14, out_qsize 0\n",
            "2020-09-26 08:47:32,319 : INFO : EPOCH 11 - PROGRESS: at 14.11% examples, 285346 words/s, in_qsize 15, out_qsize 0\n",
            "2020-09-26 08:47:33,332 : INFO : EPOCH 11 - PROGRESS: at 17.46% examples, 282753 words/s, in_qsize 16, out_qsize 0\n",
            "2020-09-26 08:47:34,350 : INFO : EPOCH 11 - PROGRESS: at 21.25% examples, 286690 words/s, in_qsize 15, out_qsize 0\n",
            "2020-09-26 08:47:35,403 : INFO : EPOCH 11 - PROGRESS: at 24.39% examples, 281758 words/s, in_qsize 15, out_qsize 4\n",
            "2020-09-26 08:47:36,494 : INFO : EPOCH 11 - PROGRESS: at 28.40% examples, 283477 words/s, in_qsize 15, out_qsize 0\n",
            "2020-09-26 08:47:37,512 : INFO : EPOCH 11 - PROGRESS: at 32.30% examples, 286957 words/s, in_qsize 14, out_qsize 0\n",
            "2020-09-26 08:47:38,526 : INFO : EPOCH 11 - PROGRESS: at 35.64% examples, 285510 words/s, in_qsize 15, out_qsize 0\n",
            "2020-09-26 08:47:39,565 : INFO : EPOCH 11 - PROGRESS: at 39.11% examples, 284478 words/s, in_qsize 14, out_qsize 4\n",
            "2020-09-26 08:47:40,608 : INFO : EPOCH 11 - PROGRESS: at 43.00% examples, 286427 words/s, in_qsize 16, out_qsize 0\n",
            "2020-09-26 08:47:41,631 : INFO : EPOCH 11 - PROGRESS: at 46.57% examples, 286506 words/s, in_qsize 15, out_qsize 0\n",
            "2020-09-26 08:47:42,714 : INFO : EPOCH 11 - PROGRESS: at 50.24% examples, 285994 words/s, in_qsize 15, out_qsize 3\n",
            "2020-09-26 08:47:43,739 : INFO : EPOCH 11 - PROGRESS: at 54.03% examples, 287213 words/s, in_qsize 16, out_qsize 0\n",
            "2020-09-26 08:47:44,772 : INFO : EPOCH 11 - PROGRESS: at 57.81% examples, 288125 words/s, in_qsize 14, out_qsize 1\n",
            "2020-09-26 08:47:45,824 : INFO : EPOCH 11 - PROGRESS: at 61.61% examples, 288639 words/s, in_qsize 15, out_qsize 1\n",
            "2020-09-26 08:47:46,825 : INFO : EPOCH 11 - PROGRESS: at 65.06% examples, 288418 words/s, in_qsize 15, out_qsize 0\n",
            "2020-09-26 08:47:47,926 : INFO : EPOCH 11 - PROGRESS: at 69.18% examples, 289497 words/s, in_qsize 16, out_qsize 0\n",
            "2020-09-26 08:47:48,984 : INFO : EPOCH 11 - PROGRESS: at 72.75% examples, 288885 words/s, in_qsize 14, out_qsize 1\n",
            "2020-09-26 08:47:50,001 : INFO : EPOCH 11 - PROGRESS: at 76.33% examples, 289067 words/s, in_qsize 16, out_qsize 3\n",
            "2020-09-26 08:47:51,007 : INFO : EPOCH 11 - PROGRESS: at 80.58% examples, 291373 words/s, in_qsize 16, out_qsize 0\n",
            "2020-09-26 08:47:52,012 : INFO : EPOCH 11 - PROGRESS: at 83.51% examples, 289175 words/s, in_qsize 11, out_qsize 4\n",
            "2020-09-26 08:47:53,020 : INFO : EPOCH 11 - PROGRESS: at 87.51% examples, 290714 words/s, in_qsize 16, out_qsize 0\n",
            "2020-09-26 08:47:54,022 : INFO : EPOCH 11 - PROGRESS: at 90.76% examples, 289768 words/s, in_qsize 14, out_qsize 1\n",
            "2020-09-26 08:47:55,186 : INFO : EPOCH 11 - PROGRESS: at 94.69% examples, 289152 words/s, in_qsize 15, out_qsize 7\n",
            "2020-09-26 08:47:56,308 : INFO : EPOCH 11 - PROGRESS: at 99.01% examples, 290280 words/s, in_qsize 8, out_qsize 2\n",
            "2020-09-26 08:47:56,322 : INFO : worker thread finished; awaiting finish of 7 more threads\n",
            "2020-09-26 08:47:56,328 : INFO : worker thread finished; awaiting finish of 6 more threads\n",
            "2020-09-26 08:47:56,391 : INFO : worker thread finished; awaiting finish of 5 more threads\n",
            "2020-09-26 08:47:56,396 : INFO : worker thread finished; awaiting finish of 4 more threads\n",
            "2020-09-26 08:47:56,409 : INFO : worker thread finished; awaiting finish of 3 more threads\n",
            "2020-09-26 08:47:56,412 : INFO : worker thread finished; awaiting finish of 2 more threads\n",
            "2020-09-26 08:47:56,423 : INFO : worker thread finished; awaiting finish of 1 more threads\n",
            "2020-09-26 08:47:56,442 : INFO : worker thread finished; awaiting finish of 0 more threads\n",
            "2020-09-26 08:47:56,443 : INFO : EPOCH - 11 : training on 9227204 raw words (8223239 effective words) took 28.2s, 291773 effective words/s\n",
            "2020-09-26 08:47:57,481 : INFO : EPOCH 12 - PROGRESS: at 3.03% examples, 246834 words/s, in_qsize 15, out_qsize 2\n",
            "2020-09-26 08:47:58,467 : INFO : EPOCH 12 - PROGRESS: at 7.06% examples, 287792 words/s, in_qsize 15, out_qsize 0\n",
            "2020-09-26 08:47:59,478 : INFO : EPOCH 12 - PROGRESS: at 10.42% examples, 283083 words/s, in_qsize 16, out_qsize 0\n",
            "2020-09-26 08:48:00,529 : INFO : EPOCH 12 - PROGRESS: at 13.79% examples, 277840 words/s, in_qsize 16, out_qsize 1\n",
            "2020-09-26 08:48:01,545 : INFO : EPOCH 12 - PROGRESS: at 17.78% examples, 287037 words/s, in_qsize 16, out_qsize 0\n",
            "2020-09-26 08:48:02,610 : INFO : EPOCH 12 - PROGRESS: at 21.03% examples, 280802 words/s, in_qsize 15, out_qsize 0\n",
            "2020-09-26 08:48:03,735 : INFO : EPOCH 12 - PROGRESS: at 25.04% examples, 282695 words/s, in_qsize 15, out_qsize 0\n",
            "2020-09-26 08:48:04,788 : INFO : EPOCH 12 - PROGRESS: at 28.61% examples, 282223 words/s, in_qsize 14, out_qsize 1\n",
            "2020-09-26 08:48:05,809 : INFO : EPOCH 12 - PROGRESS: at 32.52% examples, 285747 words/s, in_qsize 15, out_qsize 2\n",
            "2020-09-26 08:48:06,845 : INFO : EPOCH 12 - PROGRESS: at 36.18% examples, 286390 words/s, in_qsize 15, out_qsize 0\n",
            "2020-09-26 08:48:07,848 : INFO : EPOCH 12 - PROGRESS: at 39.86% examples, 287780 words/s, in_qsize 15, out_qsize 1\n",
            "2020-09-26 08:48:08,871 : INFO : EPOCH 12 - PROGRESS: at 43.54% examples, 288438 words/s, in_qsize 14, out_qsize 1\n",
            "2020-09-26 08:48:10,061 : INFO : EPOCH 12 - PROGRESS: at 47.43% examples, 286785 words/s, in_qsize 13, out_qsize 2\n",
            "2020-09-26 08:48:11,078 : INFO : EPOCH 12 - PROGRESS: at 50.89% examples, 286377 words/s, in_qsize 14, out_qsize 1\n",
            "2020-09-26 08:48:12,098 : INFO : EPOCH 12 - PROGRESS: at 54.67% examples, 287650 words/s, in_qsize 13, out_qsize 2\n",
            "2020-09-26 08:48:13,151 : INFO : EPOCH 12 - PROGRESS: at 58.25% examples, 287109 words/s, in_qsize 15, out_qsize 0\n",
            "2020-09-26 08:48:14,156 : INFO : EPOCH 12 - PROGRESS: at 62.04% examples, 288437 words/s, in_qsize 13, out_qsize 2\n",
            "2020-09-26 08:48:15,159 : INFO : EPOCH 12 - PROGRESS: at 65.60% examples, 288677 words/s, in_qsize 15, out_qsize 1\n",
            "2020-09-26 08:48:16,229 : INFO : EPOCH 12 - PROGRESS: at 69.72% examples, 290175 words/s, in_qsize 16, out_qsize 1\n",
            "2020-09-26 08:48:17,254 : INFO : EPOCH 12 - PROGRESS: at 73.41% examples, 290423 words/s, in_qsize 16, out_qsize 0\n",
            "2020-09-26 08:48:18,355 : INFO : EPOCH 12 - PROGRESS: at 77.09% examples, 290059 words/s, in_qsize 15, out_qsize 1\n",
            "2020-09-26 08:48:19,325 : INFO : EPOCH 12 - PROGRESS: at 80.47% examples, 289426 words/s, in_qsize 14, out_qsize 2\n",
            "2020-09-26 08:48:20,364 : INFO : EPOCH 12 - PROGRESS: at 84.37% examples, 290272 words/s, in_qsize 16, out_qsize 0\n",
            "2020-09-26 08:48:21,436 : INFO : EPOCH 12 - PROGRESS: at 88.26% examples, 290641 words/s, in_qsize 15, out_qsize 0\n",
            "2020-09-26 08:48:22,471 : INFO : EPOCH 12 - PROGRESS: at 91.74% examples, 290288 words/s, in_qsize 15, out_qsize 3\n",
            "2020-09-26 08:48:23,488 : INFO : EPOCH 12 - PROGRESS: at 95.88% examples, 291619 words/s, in_qsize 15, out_qsize 0\n",
            "2020-09-26 08:48:24,399 : INFO : worker thread finished; awaiting finish of 7 more threads\n",
            "2020-09-26 08:48:24,438 : INFO : worker thread finished; awaiting finish of 6 more threads\n",
            "2020-09-26 08:48:24,449 : INFO : worker thread finished; awaiting finish of 5 more threads\n",
            "2020-09-26 08:48:24,476 : INFO : worker thread finished; awaiting finish of 4 more threads\n",
            "2020-09-26 08:48:24,492 : INFO : EPOCH 12 - PROGRESS: at 99.67% examples, 292339 words/s, in_qsize 3, out_qsize 1\n",
            "2020-09-26 08:48:24,497 : INFO : worker thread finished; awaiting finish of 3 more threads\n",
            "2020-09-26 08:48:24,532 : INFO : worker thread finished; awaiting finish of 2 more threads\n",
            "2020-09-26 08:48:24,541 : INFO : worker thread finished; awaiting finish of 1 more threads\n",
            "2020-09-26 08:48:24,552 : INFO : worker thread finished; awaiting finish of 0 more threads\n",
            "2020-09-26 08:48:24,553 : INFO : EPOCH - 12 : training on 9227204 raw words (8222603 effective words) took 28.1s, 292654 effective words/s\n",
            "2020-09-26 08:48:25,666 : INFO : EPOCH 13 - PROGRESS: at 3.25% examples, 242627 words/s, in_qsize 15, out_qsize 0\n",
            "2020-09-26 08:48:26,745 : INFO : EPOCH 13 - PROGRESS: at 6.95% examples, 264228 words/s, in_qsize 15, out_qsize 1\n",
            "2020-09-26 08:48:27,735 : INFO : EPOCH 13 - PROGRESS: at 10.75% examples, 278253 words/s, in_qsize 15, out_qsize 0\n",
            "2020-09-26 08:48:28,865 : INFO : EPOCH 13 - PROGRESS: at 14.76% examples, 281753 words/s, in_qsize 15, out_qsize 0\n",
            "2020-09-26 08:48:29,872 : INFO : EPOCH 13 - PROGRESS: at 18.86% examples, 291968 words/s, in_qsize 16, out_qsize 0\n",
            "2020-09-26 08:48:31,029 : INFO : EPOCH 13 - PROGRESS: at 22.23% examples, 282509 words/s, in_qsize 9, out_qsize 6\n",
            "2020-09-26 08:48:32,034 : INFO : EPOCH 13 - PROGRESS: at 26.45% examples, 291000 words/s, in_qsize 15, out_qsize 0\n",
            "2020-09-26 08:48:33,104 : INFO : EPOCH 13 - PROGRESS: at 29.70% examples, 285825 words/s, in_qsize 16, out_qsize 2\n",
            "2020-09-26 08:48:34,135 : INFO : EPOCH 13 - PROGRESS: at 33.59% examples, 288535 words/s, in_qsize 16, out_qsize 0\n",
            "2020-09-26 08:48:35,170 : INFO : EPOCH 13 - PROGRESS: at 37.27% examples, 288942 words/s, in_qsize 15, out_qsize 0\n",
            "2020-09-26 08:48:36,289 : INFO : EPOCH 13 - PROGRESS: at 41.16% examples, 288730 words/s, in_qsize 14, out_qsize 1\n",
            "2020-09-26 08:48:37,296 : INFO : EPOCH 13 - PROGRESS: at 44.73% examples, 288972 words/s, in_qsize 15, out_qsize 0\n",
            "2020-09-26 08:48:38,313 : INFO : EPOCH 13 - PROGRESS: at 48.51% examples, 290274 words/s, in_qsize 14, out_qsize 0\n",
            "2020-09-26 08:48:39,407 : INFO : EPOCH 13 - PROGRESS: at 52.18% examples, 289708 words/s, in_qsize 15, out_qsize 1\n",
            "2020-09-26 08:48:40,399 : INFO : EPOCH 13 - PROGRESS: at 55.75% examples, 289745 words/s, in_qsize 16, out_qsize 0\n",
            "2020-09-26 08:48:41,404 : INFO : EPOCH 13 - PROGRESS: at 59.23% examples, 289398 words/s, in_qsize 14, out_qsize 2\n",
            "2020-09-26 08:48:42,472 : INFO : EPOCH 13 - PROGRESS: at 63.11% examples, 290048 words/s, in_qsize 15, out_qsize 0\n",
            "2020-09-26 08:48:43,535 : INFO : EPOCH 13 - PROGRESS: at 66.69% examples, 289276 words/s, in_qsize 14, out_qsize 1\n",
            "2020-09-26 08:48:44,543 : INFO : EPOCH 13 - PROGRESS: at 70.27% examples, 289385 words/s, in_qsize 15, out_qsize 0\n",
            "2020-09-26 08:48:45,715 : INFO : EPOCH 13 - PROGRESS: at 74.26% examples, 288920 words/s, in_qsize 12, out_qsize 3\n",
            "2020-09-26 08:48:46,746 : INFO : EPOCH 13 - PROGRESS: at 77.85% examples, 288746 words/s, in_qsize 13, out_qsize 5\n",
            "2020-09-26 08:48:47,761 : INFO : EPOCH 13 - PROGRESS: at 81.55% examples, 289160 words/s, in_qsize 13, out_qsize 2\n",
            "2020-09-26 08:48:48,856 : INFO : EPOCH 13 - PROGRESS: at 85.45% examples, 289323 words/s, in_qsize 14, out_qsize 5\n",
            "2020-09-26 08:48:49,889 : INFO : EPOCH 13 - PROGRESS: at 89.34% examples, 290176 words/s, in_qsize 14, out_qsize 1\n",
            "2020-09-26 08:48:50,924 : INFO : EPOCH 13 - PROGRESS: at 93.15% examples, 290593 words/s, in_qsize 15, out_qsize 0\n",
            "2020-09-26 08:48:51,964 : INFO : EPOCH 13 - PROGRESS: at 96.75% examples, 290287 words/s, in_qsize 14, out_qsize 1\n",
            "2020-09-26 08:48:52,540 : INFO : worker thread finished; awaiting finish of 7 more threads\n",
            "2020-09-26 08:48:52,556 : INFO : worker thread finished; awaiting finish of 6 more threads\n",
            "2020-09-26 08:48:52,612 : INFO : worker thread finished; awaiting finish of 5 more threads\n",
            "2020-09-26 08:48:52,660 : INFO : worker thread finished; awaiting finish of 4 more threads\n",
            "2020-09-26 08:48:52,670 : INFO : worker thread finished; awaiting finish of 3 more threads\n",
            "2020-09-26 08:48:52,683 : INFO : worker thread finished; awaiting finish of 2 more threads\n",
            "2020-09-26 08:48:52,684 : INFO : worker thread finished; awaiting finish of 1 more threads\n",
            "2020-09-26 08:48:52,686 : INFO : worker thread finished; awaiting finish of 0 more threads\n",
            "2020-09-26 08:48:52,687 : INFO : EPOCH - 13 : training on 9227204 raw words (8221541 effective words) took 28.1s, 292356 effective words/s\n",
            "2020-09-26 08:48:53,741 : INFO : EPOCH 14 - PROGRESS: at 3.04% examples, 240070 words/s, in_qsize 13, out_qsize 2\n",
            "2020-09-26 08:48:54,759 : INFO : EPOCH 14 - PROGRESS: at 7.28% examples, 290018 words/s, in_qsize 15, out_qsize 0\n",
            "2020-09-26 08:48:55,875 : INFO : EPOCH 14 - PROGRESS: at 10.64% examples, 275193 words/s, in_qsize 16, out_qsize 3\n",
            "2020-09-26 08:48:56,967 : INFO : EPOCH 14 - PROGRESS: at 14.54% examples, 279896 words/s, in_qsize 16, out_qsize 3\n",
            "2020-09-26 08:48:57,971 : INFO : EPOCH 14 - PROGRESS: at 18.11% examples, 282351 words/s, in_qsize 14, out_qsize 4\n",
            "2020-09-26 08:48:59,006 : INFO : EPOCH 14 - PROGRESS: at 22.22% examples, 289719 words/s, in_qsize 14, out_qsize 1\n",
            "2020-09-26 08:49:00,024 : INFO : EPOCH 14 - PROGRESS: at 25.58% examples, 287184 words/s, in_qsize 15, out_qsize 0\n",
            "2020-09-26 08:49:01,189 : INFO : EPOCH 14 - PROGRESS: at 29.70% examples, 288776 words/s, in_qsize 15, out_qsize 1\n",
            "2020-09-26 08:49:02,201 : INFO : EPOCH 14 - PROGRESS: at 33.48% examples, 289817 words/s, in_qsize 15, out_qsize 0\n",
            "2020-09-26 08:49:03,207 : INFO : EPOCH 14 - PROGRESS: at 37.59% examples, 294266 words/s, in_qsize 14, out_qsize 0\n",
            "2020-09-26 08:49:04,235 : INFO : EPOCH 14 - PROGRESS: at 40.73% examples, 290456 words/s, in_qsize 15, out_qsize 0\n",
            "2020-09-26 08:49:05,363 : INFO : EPOCH 14 - PROGRESS: at 44.83% examples, 292514 words/s, in_qsize 15, out_qsize 2\n",
            "2020-09-26 08:49:06,316 : INFO : EPOCH 14 - PROGRESS: at 48.30% examples, 291872 words/s, in_qsize 14, out_qsize 3\n",
            "2020-09-26 08:49:07,347 : INFO : EPOCH 14 - PROGRESS: at 52.07% examples, 292614 words/s, in_qsize 15, out_qsize 0\n",
            "2020-09-26 08:49:08,355 : INFO : EPOCH 14 - PROGRESS: at 55.97% examples, 294276 words/s, in_qsize 15, out_qsize 1\n",
            "2020-09-26 08:49:09,462 : INFO : EPOCH 14 - PROGRESS: at 59.44% examples, 291865 words/s, in_qsize 15, out_qsize 0\n",
            "2020-09-26 08:49:10,519 : INFO : EPOCH 14 - PROGRESS: at 63.11% examples, 291544 words/s, in_qsize 15, out_qsize 0\n",
            "2020-09-26 08:49:11,586 : INFO : EPOCH 14 - PROGRESS: at 66.91% examples, 291575 words/s, in_qsize 15, out_qsize 0\n",
            "2020-09-26 08:49:12,587 : INFO : EPOCH 14 - PROGRESS: at 70.37% examples, 291241 words/s, in_qsize 13, out_qsize 2\n",
            "2020-09-26 08:49:13,720 : INFO : EPOCH 14 - PROGRESS: at 74.26% examples, 291327 words/s, in_qsize 14, out_qsize 3\n",
            "2020-09-26 08:49:14,724 : INFO : EPOCH 14 - PROGRESS: at 77.85% examples, 290868 words/s, in_qsize 16, out_qsize 2\n",
            "2020-09-26 08:49:15,736 : INFO : EPOCH 14 - PROGRESS: at 81.45% examples, 290845 words/s, in_qsize 16, out_qsize 0\n",
            "2020-09-26 08:49:16,842 : INFO : EPOCH 14 - PROGRESS: at 85.23% examples, 290429 words/s, in_qsize 14, out_qsize 2\n",
            "2020-09-26 08:49:17,869 : INFO : EPOCH 14 - PROGRESS: at 88.92% examples, 290613 words/s, in_qsize 12, out_qsize 3\n",
            "2020-09-26 08:49:18,872 : INFO : EPOCH 14 - PROGRESS: at 92.39% examples, 290353 words/s, in_qsize 14, out_qsize 1\n",
            "2020-09-26 08:49:19,905 : INFO : EPOCH 14 - PROGRESS: at 95.88% examples, 289804 words/s, in_qsize 13, out_qsize 2\n",
            "2020-09-26 08:49:20,776 : INFO : worker thread finished; awaiting finish of 7 more threads\n",
            "2020-09-26 08:49:20,780 : INFO : worker thread finished; awaiting finish of 6 more threads\n",
            "2020-09-26 08:49:20,799 : INFO : worker thread finished; awaiting finish of 5 more threads\n",
            "2020-09-26 08:49:20,815 : INFO : worker thread finished; awaiting finish of 4 more threads\n",
            "2020-09-26 08:49:20,849 : INFO : worker thread finished; awaiting finish of 3 more threads\n",
            "2020-09-26 08:49:20,857 : INFO : worker thread finished; awaiting finish of 2 more threads\n",
            "2020-09-26 08:49:20,874 : INFO : worker thread finished; awaiting finish of 1 more threads\n",
            "2020-09-26 08:49:20,877 : INFO : worker thread finished; awaiting finish of 0 more threads\n",
            "2020-09-26 08:49:20,881 : INFO : EPOCH - 14 : training on 9227204 raw words (8222782 effective words) took 28.2s, 291806 effective words/s\n",
            "2020-09-26 08:49:21,907 : INFO : EPOCH 15 - PROGRESS: at 3.14% examples, 254788 words/s, in_qsize 15, out_qsize 2\n",
            "2020-09-26 08:49:22,942 : INFO : EPOCH 15 - PROGRESS: at 6.62% examples, 265179 words/s, in_qsize 14, out_qsize 1\n",
            "2020-09-26 08:49:24,047 : INFO : EPOCH 15 - PROGRESS: at 10.32% examples, 268385 words/s, in_qsize 11, out_qsize 4\n",
            "2020-09-26 08:49:25,172 : INFO : EPOCH 15 - PROGRESS: at 14.11% examples, 270721 words/s, in_qsize 15, out_qsize 3\n",
            "2020-09-26 08:49:26,319 : INFO : EPOCH 15 - PROGRESS: at 18.22% examples, 275834 words/s, in_qsize 14, out_qsize 1\n",
            "2020-09-26 08:49:27,349 : INFO : EPOCH 15 - PROGRESS: at 21.68% examples, 276020 words/s, in_qsize 14, out_qsize 5\n",
            "2020-09-26 08:49:28,380 : INFO : EPOCH 15 - PROGRESS: at 26.02% examples, 285621 words/s, in_qsize 15, out_qsize 1\n",
            "2020-09-26 08:49:29,561 : INFO : EPOCH 15 - PROGRESS: at 29.70% examples, 281648 words/s, in_qsize 16, out_qsize 3\n",
            "2020-09-26 08:49:30,585 : INFO : EPOCH 15 - PROGRESS: at 33.59% examples, 284962 words/s, in_qsize 15, out_qsize 0\n",
            "2020-09-26 08:49:31,687 : INFO : EPOCH 15 - PROGRESS: at 37.48% examples, 287251 words/s, in_qsize 15, out_qsize 1\n",
            "2020-09-26 08:49:32,636 : INFO : EPOCH 15 - PROGRESS: at 41.05% examples, 287540 words/s, in_qsize 15, out_qsize 0\n",
            "2020-09-26 08:49:33,648 : INFO : EPOCH 15 - PROGRESS: at 44.51% examples, 287071 words/s, in_qsize 14, out_qsize 0\n",
            "2020-09-26 08:49:34,685 : INFO : EPOCH 15 - PROGRESS: at 48.40% examples, 288748 words/s, in_qsize 16, out_qsize 0\n",
            "2020-09-26 08:49:35,774 : INFO : EPOCH 15 - PROGRESS: at 51.86% examples, 286810 words/s, in_qsize 13, out_qsize 2\n",
            "2020-09-26 08:49:36,854 : INFO : EPOCH 15 - PROGRESS: at 55.75% examples, 287507 words/s, in_qsize 12, out_qsize 3\n",
            "2020-09-26 08:49:37,905 : INFO : EPOCH 15 - PROGRESS: at 59.34% examples, 287032 words/s, in_qsize 15, out_qsize 1\n",
            "2020-09-26 08:49:38,965 : INFO : EPOCH 15 - PROGRESS: at 63.43% examples, 288927 words/s, in_qsize 16, out_qsize 2\n",
            "2020-09-26 08:49:40,020 : INFO : EPOCH 15 - PROGRESS: at 67.12% examples, 288819 words/s, in_qsize 15, out_qsize 0\n",
            "2020-09-26 08:49:41,066 : INFO : EPOCH 15 - PROGRESS: at 70.59% examples, 287961 words/s, in_qsize 15, out_qsize 0\n",
            "2020-09-26 08:49:42,099 : INFO : EPOCH 15 - PROGRESS: at 74.37% examples, 288618 words/s, in_qsize 15, out_qsize 0\n",
            "2020-09-26 08:49:43,136 : INFO : EPOCH 15 - PROGRESS: at 78.07% examples, 288776 words/s, in_qsize 15, out_qsize 2\n",
            "2020-09-26 08:49:44,158 : INFO : EPOCH 15 - PROGRESS: at 81.66% examples, 288719 words/s, in_qsize 13, out_qsize 2\n",
            "2020-09-26 08:49:45,243 : INFO : EPOCH 15 - PROGRESS: at 85.45% examples, 288650 words/s, in_qsize 16, out_qsize 2\n",
            "2020-09-26 08:49:46,251 : INFO : EPOCH 15 - PROGRESS: at 89.13% examples, 289121 words/s, in_qsize 12, out_qsize 3\n",
            "2020-09-26 08:49:47,347 : INFO : EPOCH 15 - PROGRESS: at 92.94% examples, 289164 words/s, in_qsize 15, out_qsize 2\n",
            "2020-09-26 08:49:48,337 : INFO : EPOCH 15 - PROGRESS: at 96.75% examples, 289836 words/s, in_qsize 16, out_qsize 0\n",
            "2020-09-26 08:49:48,951 : INFO : worker thread finished; awaiting finish of 7 more threads\n",
            "2020-09-26 08:49:48,959 : INFO : worker thread finished; awaiting finish of 6 more threads\n",
            "2020-09-26 08:49:48,980 : INFO : worker thread finished; awaiting finish of 5 more threads\n",
            "2020-09-26 08:49:49,010 : INFO : worker thread finished; awaiting finish of 4 more threads\n",
            "2020-09-26 08:49:49,054 : INFO : worker thread finished; awaiting finish of 3 more threads\n",
            "2020-09-26 08:49:49,080 : INFO : worker thread finished; awaiting finish of 2 more threads\n",
            "2020-09-26 08:49:49,089 : INFO : worker thread finished; awaiting finish of 1 more threads\n",
            "2020-09-26 08:49:49,094 : INFO : worker thread finished; awaiting finish of 0 more threads\n",
            "2020-09-26 08:49:49,096 : INFO : EPOCH - 15 : training on 9227204 raw words (8222781 effective words) took 28.2s, 291550 effective words/s\n",
            "2020-09-26 08:49:50,198 : INFO : EPOCH 16 - PROGRESS: at 3.36% examples, 253626 words/s, in_qsize 16, out_qsize 0\n",
            "2020-09-26 08:49:51,206 : INFO : EPOCH 16 - PROGRESS: at 6.84% examples, 267429 words/s, in_qsize 12, out_qsize 3\n",
            "2020-09-26 08:49:52,217 : INFO : EPOCH 16 - PROGRESS: at 10.64% examples, 280953 words/s, in_qsize 14, out_qsize 4\n",
            "2020-09-26 08:49:53,228 : INFO : EPOCH 16 - PROGRESS: at 14.54% examples, 289851 words/s, in_qsize 15, out_qsize 0\n",
            "2020-09-26 08:49:54,313 : INFO : EPOCH 16 - PROGRESS: at 18.00% examples, 286673 words/s, in_qsize 14, out_qsize 4\n",
            "2020-09-26 08:49:55,421 : INFO : EPOCH 16 - PROGRESS: at 22.11% examples, 287964 words/s, in_qsize 13, out_qsize 2\n",
            "2020-09-26 08:49:56,460 : INFO : EPOCH 16 - PROGRESS: at 26.23% examples, 293351 words/s, in_qsize 15, out_qsize 1\n",
            "2020-09-26 08:49:57,462 : INFO : EPOCH 16 - PROGRESS: at 29.70% examples, 292294 words/s, in_qsize 15, out_qsize 0\n",
            "2020-09-26 08:49:58,492 : INFO : EPOCH 16 - PROGRESS: at 33.48% examples, 293444 words/s, in_qsize 13, out_qsize 0\n",
            "2020-09-26 08:49:59,542 : INFO : EPOCH 16 - PROGRESS: at 37.16% examples, 292947 words/s, in_qsize 15, out_qsize 0\n",
            "2020-09-26 08:50:00,620 : INFO : EPOCH 16 - PROGRESS: at 40.73% examples, 291060 words/s, in_qsize 15, out_qsize 0\n",
            "2020-09-26 08:50:01,671 : INFO : EPOCH 16 - PROGRESS: at 44.29% examples, 290109 words/s, in_qsize 9, out_qsize 6\n",
            "2020-09-26 08:50:02,676 : INFO : EPOCH 16 - PROGRESS: at 48.51% examples, 294214 words/s, in_qsize 15, out_qsize 0\n",
            "2020-09-26 08:50:03,705 : INFO : EPOCH 16 - PROGRESS: at 51.96% examples, 293029 words/s, in_qsize 16, out_qsize 1\n",
            "2020-09-26 08:50:04,838 : INFO : EPOCH 16 - PROGRESS: at 55.53% examples, 290927 words/s, in_qsize 16, out_qsize 2\n",
            "2020-09-26 08:50:05,864 : INFO : EPOCH 16 - PROGRESS: at 59.01% examples, 289849 words/s, in_qsize 12, out_qsize 4\n",
            "2020-09-26 08:50:06,875 : INFO : EPOCH 16 - PROGRESS: at 62.79% examples, 290901 words/s, in_qsize 15, out_qsize 0\n",
            "2020-09-26 08:50:07,931 : INFO : EPOCH 16 - PROGRESS: at 66.69% examples, 291617 words/s, in_qsize 15, out_qsize 1\n",
            "2020-09-26 08:50:08,958 : INFO : EPOCH 16 - PROGRESS: at 70.58% examples, 292686 words/s, in_qsize 13, out_qsize 1\n",
            "2020-09-26 08:50:10,082 : INFO : EPOCH 16 - PROGRESS: at 74.37% examples, 291867 words/s, in_qsize 15, out_qsize 0\n",
            "2020-09-26 08:50:11,096 : INFO : EPOCH 16 - PROGRESS: at 78.07% examples, 292178 words/s, in_qsize 15, out_qsize 0\n",
            "2020-09-26 08:50:12,105 : INFO : EPOCH 16 - PROGRESS: at 81.77% examples, 292539 words/s, in_qsize 15, out_qsize 0\n",
            "2020-09-26 08:50:13,191 : INFO : EPOCH 16 - PROGRESS: at 85.66% examples, 292650 words/s, in_qsize 15, out_qsize 0\n",
            "2020-09-26 08:50:14,241 : INFO : EPOCH 16 - PROGRESS: at 89.45% examples, 293227 words/s, in_qsize 15, out_qsize 1\n",
            "2020-09-26 08:50:15,252 : INFO : EPOCH 16 - PROGRESS: at 92.72% examples, 291726 words/s, in_qsize 12, out_qsize 5\n",
            "2020-09-26 08:50:16,257 : INFO : EPOCH 16 - PROGRESS: at 96.42% examples, 292066 words/s, in_qsize 13, out_qsize 2\n",
            "2020-09-26 08:50:16,977 : INFO : worker thread finished; awaiting finish of 7 more threads\n",
            "2020-09-26 08:50:16,987 : INFO : worker thread finished; awaiting finish of 6 more threads\n",
            "2020-09-26 08:50:16,989 : INFO : worker thread finished; awaiting finish of 5 more threads\n",
            "2020-09-26 08:50:16,993 : INFO : worker thread finished; awaiting finish of 4 more threads\n",
            "2020-09-26 08:50:17,024 : INFO : worker thread finished; awaiting finish of 3 more threads\n",
            "2020-09-26 08:50:17,055 : INFO : worker thread finished; awaiting finish of 2 more threads\n",
            "2020-09-26 08:50:17,064 : INFO : worker thread finished; awaiting finish of 1 more threads\n",
            "2020-09-26 08:50:17,071 : INFO : worker thread finished; awaiting finish of 0 more threads\n",
            "2020-09-26 08:50:17,072 : INFO : EPOCH - 16 : training on 9227204 raw words (8224020 effective words) took 28.0s, 294101 effective words/s\n",
            "2020-09-26 08:50:18,100 : INFO : EPOCH 17 - PROGRESS: at 3.47% examples, 280787 words/s, in_qsize 15, out_qsize 0\n",
            "2020-09-26 08:50:19,170 : INFO : EPOCH 17 - PROGRESS: at 6.62% examples, 260469 words/s, in_qsize 10, out_qsize 5\n",
            "2020-09-26 08:50:20,214 : INFO : EPOCH 17 - PROGRESS: at 10.53% examples, 276167 words/s, in_qsize 15, out_qsize 0\n",
            "2020-09-26 08:50:21,405 : INFO : EPOCH 17 - PROGRESS: at 14.97% examples, 284491 words/s, in_qsize 14, out_qsize 1\n",
            "2020-09-26 08:50:22,429 : INFO : EPOCH 17 - PROGRESS: at 19.19% examples, 294971 words/s, in_qsize 15, out_qsize 0\n",
            "2020-09-26 08:50:23,446 : INFO : EPOCH 17 - PROGRESS: at 22.65% examples, 292662 words/s, in_qsize 16, out_qsize 0\n",
            "2020-09-26 08:50:24,484 : INFO : EPOCH 17 - PROGRESS: at 26.56% examples, 294922 words/s, in_qsize 15, out_qsize 1\n",
            "2020-09-26 08:50:25,512 : INFO : EPOCH 17 - PROGRESS: at 29.91% examples, 291743 words/s, in_qsize 12, out_qsize 3\n",
            "2020-09-26 08:50:26,651 : INFO : EPOCH 17 - PROGRESS: at 34.13% examples, 293988 words/s, in_qsize 15, out_qsize 1\n",
            "2020-09-26 08:50:27,713 : INFO : EPOCH 17 - PROGRESS: at 37.81% examples, 292512 words/s, in_qsize 11, out_qsize 4\n",
            "2020-09-26 08:50:28,757 : INFO : EPOCH 17 - PROGRESS: at 41.80% examples, 294547 words/s, in_qsize 14, out_qsize 1\n",
            "2020-09-26 08:50:29,899 : INFO : EPOCH 17 - PROGRESS: at 45.48% examples, 291941 words/s, in_qsize 16, out_qsize 0\n",
            "2020-09-26 08:50:30,990 : INFO : EPOCH 17 - PROGRESS: at 49.16% examples, 290845 words/s, in_qsize 11, out_qsize 4\n",
            "2020-09-26 08:50:32,032 : INFO : EPOCH 17 - PROGRESS: at 53.27% examples, 293234 words/s, in_qsize 15, out_qsize 0\n",
            "2020-09-26 08:50:33,067 : INFO : EPOCH 17 - PROGRESS: at 57.06% examples, 294282 words/s, in_qsize 15, out_qsize 0\n",
            "2020-09-26 08:50:34,097 : INFO : EPOCH 17 - PROGRESS: at 60.52% examples, 293099 words/s, in_qsize 15, out_qsize 1\n",
            "2020-09-26 08:50:35,117 : INFO : EPOCH 17 - PROGRESS: at 64.62% examples, 294956 words/s, in_qsize 15, out_qsize 0\n",
            "2020-09-26 08:50:36,205 : INFO : EPOCH 17 - PROGRESS: at 68.53% examples, 294957 words/s, in_qsize 15, out_qsize 0\n",
            "2020-09-26 08:50:37,229 : INFO : EPOCH 17 - PROGRESS: at 72.43% examples, 295879 words/s, in_qsize 15, out_qsize 0\n",
            "2020-09-26 08:50:38,245 : INFO : EPOCH 17 - PROGRESS: at 76.00% examples, 295567 words/s, in_qsize 15, out_qsize 0\n",
            "2020-09-26 08:50:39,274 : INFO : EPOCH 17 - PROGRESS: at 79.38% examples, 294289 words/s, in_qsize 13, out_qsize 2\n",
            "2020-09-26 08:50:40,402 : INFO : EPOCH 17 - PROGRESS: at 83.18% examples, 293438 words/s, in_qsize 16, out_qsize 0\n",
            "2020-09-26 08:50:41,509 : INFO : EPOCH 17 - PROGRESS: at 86.85% examples, 292520 words/s, in_qsize 15, out_qsize 0\n",
            "2020-09-26 08:50:42,524 : INFO : EPOCH 17 - PROGRESS: at 90.54% examples, 292788 words/s, in_qsize 15, out_qsize 1\n",
            "2020-09-26 08:50:43,523 : INFO : EPOCH 17 - PROGRESS: at 94.14% examples, 292802 words/s, in_qsize 15, out_qsize 0\n",
            "2020-09-26 08:50:44,592 : INFO : EPOCH 17 - PROGRESS: at 98.04% examples, 293079 words/s, in_qsize 15, out_qsize 0\n",
            "2020-09-26 08:50:44,897 : INFO : worker thread finished; awaiting finish of 7 more threads\n",
            "2020-09-26 08:50:44,907 : INFO : worker thread finished; awaiting finish of 6 more threads\n",
            "2020-09-26 08:50:44,914 : INFO : worker thread finished; awaiting finish of 5 more threads\n",
            "2020-09-26 08:50:44,944 : INFO : worker thread finished; awaiting finish of 4 more threads\n",
            "2020-09-26 08:50:44,961 : INFO : worker thread finished; awaiting finish of 3 more threads\n",
            "2020-09-26 08:50:44,978 : INFO : worker thread finished; awaiting finish of 2 more threads\n",
            "2020-09-26 08:50:44,983 : INFO : worker thread finished; awaiting finish of 1 more threads\n",
            "2020-09-26 08:50:44,987 : INFO : worker thread finished; awaiting finish of 0 more threads\n",
            "2020-09-26 08:50:44,989 : INFO : EPOCH - 17 : training on 9227204 raw words (8222886 effective words) took 27.9s, 294696 effective words/s\n",
            "2020-09-26 08:50:46,007 : INFO : EPOCH 18 - PROGRESS: at 3.25% examples, 265500 words/s, in_qsize 16, out_qsize 0\n",
            "2020-09-26 08:50:47,069 : INFO : EPOCH 18 - PROGRESS: at 6.73% examples, 266995 words/s, in_qsize 16, out_qsize 1\n",
            "2020-09-26 08:50:48,087 : INFO : EPOCH 18 - PROGRESS: at 10.42% examples, 277217 words/s, in_qsize 15, out_qsize 0\n",
            "2020-09-26 08:50:49,095 : INFO : EPOCH 18 - PROGRESS: at 13.90% examples, 278584 words/s, in_qsize 15, out_qsize 0\n",
            "2020-09-26 08:50:50,221 : INFO : EPOCH 18 - PROGRESS: at 18.22% examples, 286661 words/s, in_qsize 16, out_qsize 1\n",
            "2020-09-26 08:50:51,273 : INFO : EPOCH 18 - PROGRESS: at 22.22% examples, 291214 words/s, in_qsize 16, out_qsize 0\n",
            "2020-09-26 08:50:52,283 : INFO : EPOCH 18 - PROGRESS: at 25.37% examples, 286275 words/s, in_qsize 16, out_qsize 0\n",
            "2020-09-26 08:50:53,316 : INFO : EPOCH 18 - PROGRESS: at 29.59% examples, 292524 words/s, in_qsize 15, out_qsize 0\n",
            "2020-09-26 08:50:54,394 : INFO : EPOCH 18 - PROGRESS: at 33.05% examples, 289295 words/s, in_qsize 16, out_qsize 0\n",
            "2020-09-26 08:50:55,398 : INFO : EPOCH 18 - PROGRESS: at 36.72% examples, 290500 words/s, in_qsize 16, out_qsize 2\n",
            "2020-09-26 08:50:56,444 : INFO : EPOCH 18 - PROGRESS: at 40.51% examples, 291192 words/s, in_qsize 16, out_qsize 1\n",
            "2020-09-26 08:50:57,508 : INFO : EPOCH 18 - PROGRESS: at 44.18% examples, 290627 words/s, in_qsize 13, out_qsize 2\n",
            "2020-09-26 08:50:58,509 : INFO : EPOCH 18 - PROGRESS: at 48.08% examples, 292827 words/s, in_qsize 15, out_qsize 0\n",
            "2020-09-26 08:50:59,532 : INFO : EPOCH 18 - PROGRESS: at 51.32% examples, 290633 words/s, in_qsize 14, out_qsize 1\n",
            "2020-09-26 08:51:00,584 : INFO : EPOCH 18 - PROGRESS: at 55.32% examples, 292184 words/s, in_qsize 15, out_qsize 2\n",
            "2020-09-26 08:51:01,592 : INFO : EPOCH 18 - PROGRESS: at 59.01% examples, 292691 words/s, in_qsize 16, out_qsize 0\n",
            "2020-09-26 08:51:02,625 : INFO : EPOCH 18 - PROGRESS: at 62.68% examples, 292736 words/s, in_qsize 16, out_qsize 0\n",
            "2020-09-26 08:51:03,644 : INFO : EPOCH 18 - PROGRESS: at 66.04% examples, 291532 words/s, in_qsize 16, out_qsize 0\n",
            "2020-09-26 08:51:04,758 : INFO : EPOCH 18 - PROGRESS: at 69.83% examples, 290881 words/s, in_qsize 15, out_qsize 1\n",
            "2020-09-26 08:51:05,827 : INFO : EPOCH 18 - PROGRESS: at 73.73% examples, 291622 words/s, in_qsize 15, out_qsize 1\n",
            "2020-09-26 08:51:06,904 : INFO : EPOCH 18 - PROGRESS: at 77.85% examples, 292470 words/s, in_qsize 15, out_qsize 0\n",
            "2020-09-26 08:51:07,905 : INFO : EPOCH 18 - PROGRESS: at 81.45% examples, 292527 words/s, in_qsize 15, out_qsize 0\n",
            "2020-09-26 08:51:08,935 : INFO : EPOCH 18 - PROGRESS: at 85.45% examples, 293713 words/s, in_qsize 16, out_qsize 0\n",
            "2020-09-26 08:51:09,985 : INFO : EPOCH 18 - PROGRESS: at 89.02% examples, 293133 words/s, in_qsize 15, out_qsize 0\n",
            "2020-09-26 08:51:11,000 : INFO : EPOCH 18 - PROGRESS: at 92.50% examples, 292639 words/s, in_qsize 14, out_qsize 1\n",
            "2020-09-26 08:51:12,159 : INFO : EPOCH 18 - PROGRESS: at 96.75% examples, 293081 words/s, in_qsize 15, out_qsize 2\n",
            "2020-09-26 08:51:12,709 : INFO : worker thread finished; awaiting finish of 7 more threads\n",
            "2020-09-26 08:51:12,750 : INFO : worker thread finished; awaiting finish of 6 more threads\n",
            "2020-09-26 08:51:12,773 : INFO : worker thread finished; awaiting finish of 5 more threads\n",
            "2020-09-26 08:51:12,810 : INFO : worker thread finished; awaiting finish of 4 more threads\n",
            "2020-09-26 08:51:12,857 : INFO : worker thread finished; awaiting finish of 3 more threads\n",
            "2020-09-26 08:51:12,863 : INFO : worker thread finished; awaiting finish of 2 more threads\n",
            "2020-09-26 08:51:12,867 : INFO : worker thread finished; awaiting finish of 1 more threads\n",
            "2020-09-26 08:51:12,871 : INFO : worker thread finished; awaiting finish of 0 more threads\n",
            "2020-09-26 08:51:12,872 : INFO : EPOCH - 18 : training on 9227204 raw words (8223884 effective words) took 27.9s, 295063 effective words/s\n",
            "2020-09-26 08:51:13,922 : INFO : EPOCH 19 - PROGRESS: at 3.25% examples, 257194 words/s, in_qsize 15, out_qsize 0\n",
            "2020-09-26 08:51:14,926 : INFO : EPOCH 19 - PROGRESS: at 6.62% examples, 265849 words/s, in_qsize 14, out_qsize 1\n",
            "2020-09-26 08:51:15,987 : INFO : EPOCH 19 - PROGRESS: at 10.53% examples, 278432 words/s, in_qsize 15, out_qsize 1\n",
            "2020-09-26 08:51:17,050 : INFO : EPOCH 19 - PROGRESS: at 14.54% examples, 286417 words/s, in_qsize 15, out_qsize 2\n",
            "2020-09-26 08:51:18,165 : INFO : EPOCH 19 - PROGRESS: at 18.65% examples, 289932 words/s, in_qsize 16, out_qsize 1\n",
            "2020-09-26 08:51:19,235 : INFO : EPOCH 19 - PROGRESS: at 22.33% examples, 288883 words/s, in_qsize 13, out_qsize 3\n",
            "2020-09-26 08:51:20,389 : INFO : EPOCH 19 - PROGRESS: at 26.56% examples, 290763 words/s, in_qsize 15, out_qsize 1\n",
            "2020-09-26 08:51:21,391 : INFO : EPOCH 19 - PROGRESS: at 30.67% examples, 296339 words/s, in_qsize 12, out_qsize 0\n",
            "2020-09-26 08:51:22,423 : INFO : EPOCH 19 - PROGRESS: at 34.35% examples, 296020 words/s, in_qsize 15, out_qsize 0\n",
            "2020-09-26 08:51:23,428 : INFO : EPOCH 19 - PROGRESS: at 38.14% examples, 297391 words/s, in_qsize 16, out_qsize 0\n",
            "2020-09-26 08:51:24,439 : INFO : EPOCH 19 - PROGRESS: at 41.70% examples, 296819 words/s, in_qsize 15, out_qsize 0\n",
            "2020-09-26 08:51:25,485 : INFO : EPOCH 19 - PROGRESS: at 44.72% examples, 291962 words/s, in_qsize 13, out_qsize 2\n",
            "2020-09-26 08:51:26,585 : INFO : EPOCH 19 - PROGRESS: at 48.83% examples, 293248 words/s, in_qsize 16, out_qsize 1\n",
            "2020-09-26 08:51:27,626 : INFO : EPOCH 19 - PROGRESS: at 52.62% examples, 293713 words/s, in_qsize 13, out_qsize 2\n",
            "2020-09-26 08:51:28,760 : INFO : EPOCH 19 - PROGRESS: at 56.40% examples, 293049 words/s, in_qsize 16, out_qsize 3\n",
            "2020-09-26 08:51:29,737 : INFO : EPOCH 19 - PROGRESS: at 60.52% examples, 295509 words/s, in_qsize 15, out_qsize 0\n",
            "2020-09-26 08:51:30,913 : INFO : EPOCH 19 - PROGRESS: at 64.41% examples, 294025 words/s, in_qsize 15, out_qsize 0\n",
            "2020-09-26 08:51:31,920 : INFO : EPOCH 19 - PROGRESS: at 67.99% examples, 293907 words/s, in_qsize 12, out_qsize 3\n",
            "2020-09-26 08:51:32,941 : INFO : EPOCH 19 - PROGRESS: at 72.10% examples, 295824 words/s, in_qsize 15, out_qsize 0\n",
            "2020-09-26 08:51:34,037 : INFO : EPOCH 19 - PROGRESS: at 75.46% examples, 293529 words/s, in_qsize 14, out_qsize 3\n",
            "2020-09-26 08:51:35,047 : INFO : EPOCH 19 - PROGRESS: at 79.49% examples, 295016 words/s, in_qsize 15, out_qsize 0\n",
            "2020-09-26 08:51:36,174 : INFO : EPOCH 19 - PROGRESS: at 82.96% examples, 293012 words/s, in_qsize 15, out_qsize 5\n",
            "2020-09-26 08:51:37,214 : INFO : EPOCH 19 - PROGRESS: at 86.96% examples, 293999 words/s, in_qsize 14, out_qsize 1\n",
            "2020-09-26 08:51:38,220 : INFO : EPOCH 19 - PROGRESS: at 90.54% examples, 293929 words/s, in_qsize 15, out_qsize 0\n",
            "2020-09-26 08:51:39,305 : INFO : EPOCH 19 - PROGRESS: at 94.58% examples, 294314 words/s, in_qsize 13, out_qsize 2\n",
            "2020-09-26 08:51:40,320 : INFO : EPOCH 19 - PROGRESS: at 98.15% examples, 294134 words/s, in_qsize 14, out_qsize 1\n",
            "2020-09-26 08:51:40,547 : INFO : worker thread finished; awaiting finish of 7 more threads\n",
            "2020-09-26 08:51:40,559 : INFO : worker thread finished; awaiting finish of 6 more threads\n",
            "2020-09-26 08:51:40,626 : INFO : worker thread finished; awaiting finish of 5 more threads\n",
            "2020-09-26 08:51:40,645 : INFO : worker thread finished; awaiting finish of 4 more threads\n",
            "2020-09-26 08:51:40,660 : INFO : worker thread finished; awaiting finish of 3 more threads\n",
            "2020-09-26 08:51:40,667 : INFO : worker thread finished; awaiting finish of 2 more threads\n",
            "2020-09-26 08:51:40,696 : INFO : worker thread finished; awaiting finish of 1 more threads\n",
            "2020-09-26 08:51:40,699 : INFO : worker thread finished; awaiting finish of 0 more threads\n",
            "2020-09-26 08:51:40,701 : INFO : EPOCH - 19 : training on 9227204 raw words (8222411 effective words) took 27.8s, 295592 effective words/s\n",
            "2020-09-26 08:51:41,717 : INFO : EPOCH 20 - PROGRESS: at 3.03% examples, 248603 words/s, in_qsize 15, out_qsize 0\n",
            "2020-09-26 08:51:42,731 : INFO : EPOCH 20 - PROGRESS: at 6.73% examples, 273687 words/s, in_qsize 16, out_qsize 0\n",
            "2020-09-26 08:51:43,835 : INFO : EPOCH 20 - PROGRESS: at 10.53% examples, 278902 words/s, in_qsize 15, out_qsize 3\n",
            "2020-09-26 08:51:44,825 : INFO : EPOCH 20 - PROGRESS: at 14.11% examples, 281678 words/s, in_qsize 16, out_qsize 0\n",
            "2020-09-26 08:51:45,846 : INFO : EPOCH 20 - PROGRESS: at 17.46% examples, 279449 words/s, in_qsize 13, out_qsize 2\n",
            "2020-09-26 08:51:46,848 : INFO : EPOCH 20 - PROGRESS: at 21.25% examples, 284596 words/s, in_qsize 15, out_qsize 0\n",
            "2020-09-26 08:51:47,901 : INFO : EPOCH 20 - PROGRESS: at 24.94% examples, 285061 words/s, in_qsize 15, out_qsize 0\n",
            "2020-09-26 08:51:48,917 : INFO : EPOCH 20 - PROGRESS: at 28.72% examples, 287778 words/s, in_qsize 15, out_qsize 0\n",
            "2020-09-26 08:51:49,928 : INFO : EPOCH 20 - PROGRESS: at 32.41% examples, 289074 words/s, in_qsize 15, out_qsize 0\n",
            "2020-09-26 08:51:50,930 : INFO : EPOCH 20 - PROGRESS: at 36.29% examples, 292122 words/s, in_qsize 16, out_qsize 0\n",
            "2020-09-26 08:51:51,976 : INFO : EPOCH 20 - PROGRESS: at 39.54% examples, 288721 words/s, in_qsize 12, out_qsize 6\n",
            "2020-09-26 08:51:53,027 : INFO : EPOCH 20 - PROGRESS: at 43.64% examples, 291585 words/s, in_qsize 15, out_qsize 0\n",
            "2020-09-26 08:51:54,213 : INFO : EPOCH 20 - PROGRESS: at 47.75% examples, 291005 words/s, in_qsize 9, out_qsize 6\n",
            "2020-09-26 08:51:55,231 : INFO : EPOCH 20 - PROGRESS: at 51.54% examples, 292094 words/s, in_qsize 15, out_qsize 0\n",
            "2020-09-26 08:51:56,263 : INFO : EPOCH 20 - PROGRESS: at 55.42% examples, 293365 words/s, in_qsize 15, out_qsize 0\n",
            "2020-09-26 08:51:57,327 : INFO : EPOCH 20 - PROGRESS: at 59.12% examples, 293173 words/s, in_qsize 15, out_qsize 1\n",
            "2020-09-26 08:51:58,437 : INFO : EPOCH 20 - PROGRESS: at 62.90% examples, 292070 words/s, in_qsize 13, out_qsize 5\n",
            "2020-09-26 08:51:59,517 : INFO : EPOCH 20 - PROGRESS: at 66.80% examples, 292340 words/s, in_qsize 12, out_qsize 6\n",
            "2020-09-26 08:52:00,521 : INFO : EPOCH 20 - PROGRESS: at 71.13% examples, 295529 words/s, in_qsize 15, out_qsize 0\n",
            "2020-09-26 08:52:01,541 : INFO : EPOCH 20 - PROGRESS: at 74.38% examples, 293873 words/s, in_qsize 15, out_qsize 3\n",
            "2020-09-26 08:52:02,570 : INFO : EPOCH 20 - PROGRESS: at 77.74% examples, 292672 words/s, in_qsize 15, out_qsize 5\n",
            "2020-09-26 08:52:03,608 : INFO : EPOCH 20 - PROGRESS: at 81.99% examples, 294587 words/s, in_qsize 15, out_qsize 0\n",
            "2020-09-26 08:52:04,643 : INFO : EPOCH 20 - PROGRESS: at 85.23% examples, 293006 words/s, in_qsize 15, out_qsize 0\n",
            "2020-09-26 08:52:05,647 : INFO : EPOCH 20 - PROGRESS: at 88.70% examples, 292643 words/s, in_qsize 15, out_qsize 0\n",
            "2020-09-26 08:52:06,704 : INFO : EPOCH 20 - PROGRESS: at 91.96% examples, 290999 words/s, in_qsize 12, out_qsize 3\n",
            "2020-09-26 08:52:07,711 : INFO : EPOCH 20 - PROGRESS: at 95.88% examples, 292011 words/s, in_qsize 15, out_qsize 0\n",
            "2020-09-26 08:52:08,731 : INFO : EPOCH 20 - PROGRESS: at 99.24% examples, 291274 words/s, in_qsize 7, out_qsize 1\n",
            "2020-09-26 08:52:08,735 : INFO : worker thread finished; awaiting finish of 7 more threads\n",
            "2020-09-26 08:52:08,795 : INFO : worker thread finished; awaiting finish of 6 more threads\n",
            "2020-09-26 08:52:08,852 : INFO : worker thread finished; awaiting finish of 5 more threads\n",
            "2020-09-26 08:52:08,865 : INFO : worker thread finished; awaiting finish of 4 more threads\n",
            "2020-09-26 08:52:08,877 : INFO : worker thread finished; awaiting finish of 3 more threads\n",
            "2020-09-26 08:52:08,879 : INFO : worker thread finished; awaiting finish of 2 more threads\n",
            "2020-09-26 08:52:08,880 : INFO : worker thread finished; awaiting finish of 1 more threads\n",
            "2020-09-26 08:52:08,881 : INFO : worker thread finished; awaiting finish of 0 more threads\n",
            "2020-09-26 08:52:08,882 : INFO : EPOCH - 20 : training on 9227204 raw words (8222934 effective words) took 28.2s, 291926 effective words/s\n",
            "2020-09-26 08:52:09,928 : INFO : EPOCH 21 - PROGRESS: at 3.03% examples, 242855 words/s, in_qsize 15, out_qsize 0\n",
            "2020-09-26 08:52:10,934 : INFO : EPOCH 21 - PROGRESS: at 6.51% examples, 262837 words/s, in_qsize 15, out_qsize 0\n",
            "2020-09-26 08:52:11,952 : INFO : EPOCH 21 - PROGRESS: at 9.99% examples, 268709 words/s, in_qsize 14, out_qsize 1\n",
            "2020-09-26 08:52:12,986 : INFO : EPOCH 21 - PROGRESS: at 13.79% examples, 276961 words/s, in_qsize 15, out_qsize 0\n",
            "2020-09-26 08:52:14,062 : INFO : EPOCH 21 - PROGRESS: at 17.46% examples, 277837 words/s, in_qsize 14, out_qsize 1\n",
            "2020-09-26 08:52:15,091 : INFO : EPOCH 21 - PROGRESS: at 20.92% examples, 277710 words/s, in_qsize 15, out_qsize 0\n",
            "2020-09-26 08:52:16,092 : INFO : EPOCH 21 - PROGRESS: at 24.83% examples, 283711 words/s, in_qsize 16, out_qsize 1\n",
            "2020-09-26 08:52:17,130 : INFO : EPOCH 21 - PROGRESS: at 28.40% examples, 283635 words/s, in_qsize 14, out_qsize 1\n",
            "2020-09-26 08:52:18,156 : INFO : EPOCH 21 - PROGRESS: at 32.19% examples, 285900 words/s, in_qsize 15, out_qsize 0\n",
            "2020-09-26 08:52:19,159 : INFO : EPOCH 21 - PROGRESS: at 35.97% examples, 288340 words/s, in_qsize 14, out_qsize 1\n",
            "2020-09-26 08:52:20,214 : INFO : EPOCH 21 - PROGRESS: at 39.33% examples, 286051 words/s, in_qsize 15, out_qsize 2\n",
            "2020-09-26 08:52:21,225 : INFO : EPOCH 21 - PROGRESS: at 43.00% examples, 286978 words/s, in_qsize 16, out_qsize 1\n",
            "2020-09-26 08:52:22,290 : INFO : EPOCH 21 - PROGRESS: at 46.67% examples, 286795 words/s, in_qsize 13, out_qsize 2\n",
            "2020-09-26 08:52:23,411 : INFO : EPOCH 21 - PROGRESS: at 50.78% examples, 287977 words/s, in_qsize 15, out_qsize 0\n",
            "2020-09-26 08:52:24,447 : INFO : EPOCH 21 - PROGRESS: at 54.78% examples, 290007 words/s, in_qsize 16, out_qsize 2\n",
            "2020-09-26 08:52:25,500 : INFO : EPOCH 21 - PROGRESS: at 58.69% examples, 290952 words/s, in_qsize 16, out_qsize 1\n",
            "2020-09-26 08:52:26,557 : INFO : EPOCH 21 - PROGRESS: at 62.36% examples, 290695 words/s, in_qsize 16, out_qsize 0\n",
            "2020-09-26 08:52:27,575 : INFO : EPOCH 21 - PROGRESS: at 65.83% examples, 290112 words/s, in_qsize 15, out_qsize 0\n",
            "2020-09-26 08:52:28,578 : INFO : EPOCH 21 - PROGRESS: at 69.83% examples, 292083 words/s, in_qsize 16, out_qsize 0\n",
            "2020-09-26 08:52:29,653 : INFO : EPOCH 21 - PROGRESS: at 73.41% examples, 291109 words/s, in_qsize 15, out_qsize 0\n",
            "2020-09-26 08:52:30,670 : INFO : EPOCH 21 - PROGRESS: at 76.98% examples, 291014 words/s, in_qsize 16, out_qsize 0\n",
            "2020-09-26 08:52:31,746 : INFO : EPOCH 21 - PROGRESS: at 80.79% examples, 291619 words/s, in_qsize 15, out_qsize 0\n",
            "2020-09-26 08:52:32,779 : INFO : EPOCH 21 - PROGRESS: at 84.15% examples, 289948 words/s, in_qsize 13, out_qsize 2\n",
            "2020-09-26 08:52:33,817 : INFO : EPOCH 21 - PROGRESS: at 88.37% examples, 291804 words/s, in_qsize 15, out_qsize 0\n",
            "2020-09-26 08:52:34,820 : INFO : EPOCH 21 - PROGRESS: at 91.96% examples, 291834 words/s, in_qsize 15, out_qsize 0\n",
            "2020-09-26 08:52:35,846 : INFO : EPOCH 21 - PROGRESS: at 95.45% examples, 291297 words/s, in_qsize 15, out_qsize 0\n",
            "2020-09-26 08:52:36,849 : INFO : EPOCH 21 - PROGRESS: at 99.23% examples, 292039 words/s, in_qsize 7, out_qsize 1\n",
            "2020-09-26 08:52:36,853 : INFO : worker thread finished; awaiting finish of 7 more threads\n",
            "2020-09-26 08:52:36,858 : INFO : worker thread finished; awaiting finish of 6 more threads\n",
            "2020-09-26 08:52:36,929 : INFO : worker thread finished; awaiting finish of 5 more threads\n",
            "2020-09-26 08:52:36,932 : INFO : worker thread finished; awaiting finish of 4 more threads\n",
            "2020-09-26 08:52:36,948 : INFO : worker thread finished; awaiting finish of 3 more threads\n",
            "2020-09-26 08:52:36,959 : INFO : worker thread finished; awaiting finish of 2 more threads\n",
            "2020-09-26 08:52:36,974 : INFO : worker thread finished; awaiting finish of 1 more threads\n",
            "2020-09-26 08:52:36,985 : INFO : worker thread finished; awaiting finish of 0 more threads\n",
            "2020-09-26 08:52:36,986 : INFO : EPOCH - 21 : training on 9227204 raw words (8224478 effective words) took 28.1s, 292836 effective words/s\n",
            "2020-09-26 08:52:38,031 : INFO : EPOCH 22 - PROGRESS: at 3.14% examples, 250603 words/s, in_qsize 15, out_qsize 0\n",
            "2020-09-26 08:52:39,090 : INFO : EPOCH 22 - PROGRESS: at 6.62% examples, 260091 words/s, in_qsize 13, out_qsize 2\n",
            "2020-09-26 08:52:40,090 : INFO : EPOCH 22 - PROGRESS: at 10.75% examples, 285467 words/s, in_qsize 13, out_qsize 0\n",
            "2020-09-26 08:52:41,092 : INFO : EPOCH 22 - PROGRESS: at 14.00% examples, 280845 words/s, in_qsize 15, out_qsize 0\n",
            "2020-09-26 08:52:42,103 : INFO : EPOCH 22 - PROGRESS: at 17.46% examples, 280977 words/s, in_qsize 16, out_qsize 0\n",
            "2020-09-26 08:52:43,155 : INFO : EPOCH 22 - PROGRESS: at 20.92% examples, 279286 words/s, in_qsize 15, out_qsize 0\n",
            "2020-09-26 08:52:44,212 : INFO : EPOCH 22 - PROGRESS: at 24.50% examples, 279153 words/s, in_qsize 13, out_qsize 2\n",
            "2020-09-26 08:52:45,255 : INFO : EPOCH 22 - PROGRESS: at 28.51% examples, 283802 words/s, in_qsize 15, out_qsize 0\n",
            "2020-09-26 08:52:46,293 : INFO : EPOCH 22 - PROGRESS: at 31.65% examples, 279951 words/s, in_qsize 12, out_qsize 3\n",
            "2020-09-26 08:52:47,312 : INFO : EPOCH 22 - PROGRESS: at 35.64% examples, 284227 words/s, in_qsize 15, out_qsize 0\n",
            "2020-09-26 08:52:48,372 : INFO : EPOCH 22 - PROGRESS: at 39.11% examples, 282772 words/s, in_qsize 16, out_qsize 0\n",
            "2020-09-26 08:52:49,547 : INFO : EPOCH 22 - PROGRESS: at 43.00% examples, 281929 words/s, in_qsize 15, out_qsize 1\n",
            "2020-09-26 08:52:50,639 : INFO : EPOCH 22 - PROGRESS: at 46.89% examples, 282795 words/s, in_qsize 16, out_qsize 2\n",
            "2020-09-26 08:52:51,683 : INFO : EPOCH 22 - PROGRESS: at 51.10% examples, 286372 words/s, in_qsize 15, out_qsize 0\n",
            "2020-09-26 08:52:52,693 : INFO : EPOCH 22 - PROGRESS: at 54.46% examples, 285540 words/s, in_qsize 16, out_qsize 0\n",
            "2020-09-26 08:52:53,763 : INFO : EPOCH 22 - PROGRESS: at 57.92% examples, 284732 words/s, in_qsize 15, out_qsize 2\n",
            "2020-09-26 08:52:54,902 : INFO : EPOCH 22 - PROGRESS: at 62.14% examples, 285647 words/s, in_qsize 16, out_qsize 0\n",
            "2020-09-26 08:52:55,910 : INFO : EPOCH 22 - PROGRESS: at 66.04% examples, 287362 words/s, in_qsize 16, out_qsize 0\n",
            "2020-09-26 08:52:56,911 : INFO : EPOCH 22 - PROGRESS: at 69.39% examples, 286798 words/s, in_qsize 15, out_qsize 0\n",
            "2020-09-26 08:52:57,984 : INFO : EPOCH 22 - PROGRESS: at 72.75% examples, 285919 words/s, in_qsize 15, out_qsize 3\n",
            "2020-09-26 08:52:58,973 : INFO : EPOCH 22 - PROGRESS: at 76.55% examples, 286622 words/s, in_qsize 15, out_qsize 0\n",
            "2020-09-26 08:53:00,033 : INFO : EPOCH 22 - PROGRESS: at 80.36% examples, 287384 words/s, in_qsize 15, out_qsize 1\n",
            "2020-09-26 08:53:01,000 : INFO : EPOCH 22 - PROGRESS: at 84.15% examples, 288407 words/s, in_qsize 12, out_qsize 0\n",
            "2020-09-26 08:53:02,021 : INFO : EPOCH 22 - PROGRESS: at 87.18% examples, 286598 words/s, in_qsize 16, out_qsize 4\n",
            "2020-09-26 08:53:03,044 : INFO : EPOCH 22 - PROGRESS: at 91.20% examples, 287984 words/s, in_qsize 14, out_qsize 1\n",
            "2020-09-26 08:53:04,114 : INFO : EPOCH 22 - PROGRESS: at 95.45% examples, 289425 words/s, in_qsize 16, out_qsize 1\n",
            "2020-09-26 08:53:05,156 : INFO : EPOCH 22 - PROGRESS: at 98.79% examples, 288524 words/s, in_qsize 9, out_qsize 3\n",
            "2020-09-26 08:53:05,169 : INFO : worker thread finished; awaiting finish of 7 more threads\n",
            "2020-09-26 08:53:05,180 : INFO : worker thread finished; awaiting finish of 6 more threads\n",
            "2020-09-26 08:53:05,186 : INFO : worker thread finished; awaiting finish of 5 more threads\n",
            "2020-09-26 08:53:05,271 : INFO : worker thread finished; awaiting finish of 4 more threads\n",
            "2020-09-26 08:53:05,280 : INFO : worker thread finished; awaiting finish of 3 more threads\n",
            "2020-09-26 08:53:05,289 : INFO : worker thread finished; awaiting finish of 2 more threads\n",
            "2020-09-26 08:53:05,296 : INFO : worker thread finished; awaiting finish of 1 more threads\n",
            "2020-09-26 08:53:05,298 : INFO : worker thread finished; awaiting finish of 0 more threads\n",
            "2020-09-26 08:53:05,300 : INFO : EPOCH - 22 : training on 9227204 raw words (8222760 effective words) took 28.3s, 290558 effective words/s\n",
            "2020-09-26 08:53:06,315 : INFO : EPOCH 23 - PROGRESS: at 3.03% examples, 249019 words/s, in_qsize 15, out_qsize 0\n",
            "2020-09-26 08:53:07,380 : INFO : EPOCH 23 - PROGRESS: at 6.73% examples, 267253 words/s, in_qsize 15, out_qsize 0\n",
            "2020-09-26 08:53:08,389 : INFO : EPOCH 23 - PROGRESS: at 10.10% examples, 269438 words/s, in_qsize 10, out_qsize 5\n",
            "2020-09-26 08:53:09,450 : INFO : EPOCH 23 - PROGRESS: at 14.11% examples, 279957 words/s, in_qsize 15, out_qsize 0\n",
            "2020-09-26 08:53:10,498 : INFO : EPOCH 23 - PROGRESS: at 17.68% examples, 279979 words/s, in_qsize 13, out_qsize 3\n",
            "2020-09-26 08:53:11,512 : INFO : EPOCH 23 - PROGRESS: at 21.25% examples, 281608 words/s, in_qsize 15, out_qsize 1\n",
            "2020-09-26 08:53:12,533 : INFO : EPOCH 23 - PROGRESS: at 24.61% examples, 280103 words/s, in_qsize 12, out_qsize 6\n",
            "2020-09-26 08:53:13,574 : INFO : EPOCH 23 - PROGRESS: at 28.72% examples, 285737 words/s, in_qsize 15, out_qsize 0\n",
            "2020-09-26 08:53:14,580 : INFO : EPOCH 23 - PROGRESS: at 32.41% examples, 287434 words/s, in_qsize 15, out_qsize 0\n",
            "2020-09-26 08:53:15,628 : INFO : EPOCH 23 - PROGRESS: at 35.64% examples, 284133 words/s, in_qsize 16, out_qsize 2\n",
            "2020-09-26 08:53:16,698 : INFO : EPOCH 23 - PROGRESS: at 39.76% examples, 287149 words/s, in_qsize 16, out_qsize 0\n",
            "2020-09-26 08:53:17,760 : INFO : EPOCH 23 - PROGRESS: at 43.43% examples, 286976 words/s, in_qsize 15, out_qsize 0\n",
            "2020-09-26 08:53:18,775 : INFO : EPOCH 23 - PROGRESS: at 47.22% examples, 288491 words/s, in_qsize 10, out_qsize 3\n",
            "2020-09-26 08:53:19,858 : INFO : EPOCH 23 - PROGRESS: at 50.99% examples, 288472 words/s, in_qsize 15, out_qsize 0\n",
            "2020-09-26 08:53:20,894 : INFO : EPOCH 23 - PROGRESS: at 54.99% examples, 290454 words/s, in_qsize 15, out_qsize 0\n",
            "2020-09-26 08:53:21,923 : INFO : EPOCH 23 - PROGRESS: at 58.47% examples, 289634 words/s, in_qsize 14, out_qsize 1\n",
            "2020-09-26 08:53:23,058 : INFO : EPOCH 23 - PROGRESS: at 62.46% examples, 289675 words/s, in_qsize 14, out_qsize 1\n",
            "2020-09-26 08:53:24,060 : INFO : EPOCH 23 - PROGRESS: at 66.25% examples, 290808 words/s, in_qsize 16, out_qsize 0\n",
            "2020-09-26 08:53:25,067 : INFO : EPOCH 23 - PROGRESS: at 69.83% examples, 290879 words/s, in_qsize 15, out_qsize 0\n",
            "2020-09-26 08:53:26,169 : INFO : EPOCH 23 - PROGRESS: at 73.94% examples, 291744 words/s, in_qsize 15, out_qsize 0\n",
            "2020-09-26 08:53:27,218 : INFO : EPOCH 23 - PROGRESS: at 77.31% examples, 290366 words/s, in_qsize 14, out_qsize 4\n",
            "2020-09-26 08:53:28,359 : INFO : EPOCH 23 - PROGRESS: at 81.45% examples, 290676 words/s, in_qsize 15, out_qsize 0\n",
            "2020-09-26 08:53:29,361 : INFO : EPOCH 23 - PROGRESS: at 85.55% examples, 292634 words/s, in_qsize 13, out_qsize 0\n",
            "2020-09-26 08:53:30,381 : INFO : EPOCH 23 - PROGRESS: at 88.69% examples, 291022 words/s, in_qsize 15, out_qsize 5\n",
            "2020-09-26 08:53:31,409 : INFO : EPOCH 23 - PROGRESS: at 92.50% examples, 291493 words/s, in_qsize 15, out_qsize 0\n",
            "2020-09-26 08:53:32,439 : INFO : EPOCH 23 - PROGRESS: at 96.10% examples, 291258 words/s, in_qsize 15, out_qsize 0\n",
            "2020-09-26 08:53:33,309 : INFO : worker thread finished; awaiting finish of 7 more threads\n",
            "2020-09-26 08:53:33,331 : INFO : worker thread finished; awaiting finish of 6 more threads\n",
            "2020-09-26 08:53:33,333 : INFO : worker thread finished; awaiting finish of 5 more threads\n",
            "2020-09-26 08:53:33,338 : INFO : worker thread finished; awaiting finish of 4 more threads\n",
            "2020-09-26 08:53:33,392 : INFO : worker thread finished; awaiting finish of 3 more threads\n",
            "2020-09-26 08:53:33,409 : INFO : worker thread finished; awaiting finish of 2 more threads\n",
            "2020-09-26 08:53:33,422 : INFO : worker thread finished; awaiting finish of 1 more threads\n",
            "2020-09-26 08:53:33,434 : INFO : worker thread finished; awaiting finish of 0 more threads\n",
            "2020-09-26 08:53:33,435 : INFO : EPOCH - 23 : training on 9227204 raw words (8222033 effective words) took 28.1s, 292379 effective words/s\n",
            "2020-09-26 08:53:34,459 : INFO : EPOCH 24 - PROGRESS: at 2.93% examples, 237769 words/s, in_qsize 15, out_qsize 0\n",
            "2020-09-26 08:53:35,555 : INFO : EPOCH 24 - PROGRESS: at 6.84% examples, 266267 words/s, in_qsize 14, out_qsize 1\n",
            "2020-09-26 08:53:36,575 : INFO : EPOCH 24 - PROGRESS: at 10.32% examples, 270598 words/s, in_qsize 16, out_qsize 0\n",
            "2020-09-26 08:53:37,702 : INFO : EPOCH 24 - PROGRESS: at 14.11% examples, 272177 words/s, in_qsize 10, out_qsize 5\n",
            "2020-09-26 08:53:38,755 : INFO : EPOCH 24 - PROGRESS: at 18.22% examples, 281905 words/s, in_qsize 15, out_qsize 0\n",
            "2020-09-26 08:53:39,849 : INFO : EPOCH 24 - PROGRESS: at 21.68% examples, 279831 words/s, in_qsize 15, out_qsize 2\n",
            "2020-09-26 08:53:40,851 : INFO : EPOCH 24 - PROGRESS: at 25.26% examples, 280427 words/s, in_qsize 15, out_qsize 1\n",
            "2020-09-26 08:53:41,920 : INFO : EPOCH 24 - PROGRESS: at 29.27% examples, 283858 words/s, in_qsize 15, out_qsize 0\n",
            "2020-09-26 08:53:42,956 : INFO : EPOCH 24 - PROGRESS: at 32.95% examples, 284778 words/s, in_qsize 15, out_qsize 0\n",
            "2020-09-26 08:53:44,020 : INFO : EPOCH 24 - PROGRESS: at 36.51% examples, 283994 words/s, in_qsize 15, out_qsize 1\n",
            "2020-09-26 08:53:45,030 : INFO : EPOCH 24 - PROGRESS: at 39.97% examples, 283751 words/s, in_qsize 14, out_qsize 1\n",
            "2020-09-26 08:53:46,054 : INFO : EPOCH 24 - PROGRESS: at 43.64% examples, 284729 words/s, in_qsize 12, out_qsize 3\n",
            "2020-09-26 08:53:47,178 : INFO : EPOCH 24 - PROGRESS: at 47.65% examples, 285411 words/s, in_qsize 15, out_qsize 0\n",
            "2020-09-26 08:53:48,245 : INFO : EPOCH 24 - PROGRESS: at 51.75% examples, 287749 words/s, in_qsize 15, out_qsize 0\n",
            "2020-09-26 08:53:49,346 : INFO : EPOCH 24 - PROGRESS: at 55.21% examples, 285747 words/s, in_qsize 13, out_qsize 2\n",
            "2020-09-26 08:53:50,495 : INFO : EPOCH 24 - PROGRESS: at 59.23% examples, 285846 words/s, in_qsize 12, out_qsize 3\n",
            "2020-09-26 08:53:51,500 : INFO : EPOCH 24 - PROGRESS: at 63.22% examples, 288168 words/s, in_qsize 15, out_qsize 0\n",
            "2020-09-26 08:53:52,581 : INFO : EPOCH 24 - PROGRESS: at 66.91% examples, 287710 words/s, in_qsize 15, out_qsize 0\n",
            "2020-09-26 08:53:53,607 : INFO : EPOCH 24 - PROGRESS: at 70.48% examples, 287647 words/s, in_qsize 15, out_qsize 4\n",
            "2020-09-26 08:53:54,639 : INFO : EPOCH 24 - PROGRESS: at 74.48% examples, 289181 words/s, in_qsize 15, out_qsize 0\n",
            "2020-09-26 08:53:55,669 : INFO : EPOCH 24 - PROGRESS: at 77.96% examples, 288612 words/s, in_qsize 14, out_qsize 2\n",
            "2020-09-26 08:53:56,735 : INFO : EPOCH 24 - PROGRESS: at 81.55% examples, 288021 words/s, in_qsize 16, out_qsize 0\n",
            "2020-09-26 08:53:57,766 : INFO : EPOCH 24 - PROGRESS: at 85.34% examples, 288626 words/s, in_qsize 15, out_qsize 0\n",
            "2020-09-26 08:53:58,785 : INFO : EPOCH 24 - PROGRESS: at 88.70% examples, 287916 words/s, in_qsize 15, out_qsize 0\n",
            "2020-09-26 08:53:59,881 : INFO : EPOCH 24 - PROGRESS: at 92.39% examples, 287422 words/s, in_qsize 14, out_qsize 1\n",
            "2020-09-26 08:54:00,893 : INFO : EPOCH 24 - PROGRESS: at 95.98% examples, 287536 words/s, in_qsize 15, out_qsize 0\n",
            "2020-09-26 08:54:01,804 : INFO : worker thread finished; awaiting finish of 7 more threads\n",
            "2020-09-26 08:54:01,811 : INFO : worker thread finished; awaiting finish of 6 more threads\n",
            "2020-09-26 08:54:01,813 : INFO : worker thread finished; awaiting finish of 5 more threads\n",
            "2020-09-26 08:54:01,814 : INFO : worker thread finished; awaiting finish of 4 more threads\n",
            "2020-09-26 08:54:01,818 : INFO : worker thread finished; awaiting finish of 3 more threads\n",
            "2020-09-26 08:54:01,823 : INFO : worker thread finished; awaiting finish of 2 more threads\n",
            "2020-09-26 08:54:01,825 : INFO : worker thread finished; awaiting finish of 1 more threads\n",
            "2020-09-26 08:54:01,865 : INFO : worker thread finished; awaiting finish of 0 more threads\n",
            "2020-09-26 08:54:01,866 : INFO : EPOCH - 24 : training on 9227204 raw words (8221822 effective words) took 28.4s, 289314 effective words/s\n",
            "2020-09-26 08:54:02,881 : INFO : EPOCH 25 - PROGRESS: at 3.36% examples, 275692 words/s, in_qsize 13, out_qsize 0\n",
            "2020-09-26 08:54:03,897 : INFO : EPOCH 25 - PROGRESS: at 6.95% examples, 284157 words/s, in_qsize 16, out_qsize 1\n",
            "2020-09-26 08:54:05,003 : INFO : EPOCH 25 - PROGRESS: at 10.64% examples, 279494 words/s, in_qsize 16, out_qsize 0\n",
            "2020-09-26 08:54:06,038 : INFO : EPOCH 25 - PROGRESS: at 14.22% examples, 280496 words/s, in_qsize 14, out_qsize 1\n",
            "2020-09-26 08:54:07,080 : INFO : EPOCH 25 - PROGRESS: at 18.11% examples, 285920 words/s, in_qsize 15, out_qsize 1\n",
            "2020-09-26 08:54:08,108 : INFO : EPOCH 25 - PROGRESS: at 21.79% examples, 287404 words/s, in_qsize 16, out_qsize 2\n",
            "2020-09-26 08:54:09,123 : INFO : EPOCH 25 - PROGRESS: at 25.26% examples, 286492 words/s, in_qsize 16, out_qsize 3\n",
            "2020-09-26 08:54:10,145 : INFO : EPOCH 25 - PROGRESS: at 29.48% examples, 293091 words/s, in_qsize 15, out_qsize 0\n",
            "2020-09-26 08:54:11,170 : INFO : EPOCH 25 - PROGRESS: at 32.62% examples, 288576 words/s, in_qsize 15, out_qsize 2\n",
            "2020-09-26 08:54:12,177 : INFO : EPOCH 25 - PROGRESS: at 36.08% examples, 288036 words/s, in_qsize 15, out_qsize 0\n",
            "2020-09-26 08:54:13,253 : INFO : EPOCH 25 - PROGRESS: at 40.08% examples, 289749 words/s, in_qsize 16, out_qsize 0\n",
            "2020-09-26 08:54:14,263 : INFO : EPOCH 25 - PROGRESS: at 43.32% examples, 287704 words/s, in_qsize 16, out_qsize 1\n",
            "2020-09-26 08:54:15,285 : INFO : EPOCH 25 - PROGRESS: at 46.78% examples, 287040 words/s, in_qsize 15, out_qsize 0\n",
            "2020-09-26 08:54:16,307 : INFO : EPOCH 25 - PROGRESS: at 50.46% examples, 287727 words/s, in_qsize 15, out_qsize 0\n",
            "2020-09-26 08:54:17,363 : INFO : EPOCH 25 - PROGRESS: at 54.03% examples, 287105 words/s, in_qsize 16, out_qsize 0\n",
            "2020-09-26 08:54:18,445 : INFO : EPOCH 25 - PROGRESS: at 57.71% examples, 286658 words/s, in_qsize 15, out_qsize 0\n",
            "2020-09-26 08:54:19,486 : INFO : EPOCH 25 - PROGRESS: at 61.39% examples, 286907 words/s, in_qsize 12, out_qsize 3\n",
            "2020-09-26 08:54:20,582 : INFO : EPOCH 25 - PROGRESS: at 65.17% examples, 287650 words/s, in_qsize 14, out_qsize 5\n",
            "2020-09-26 08:54:21,545 : INFO : EPOCH 25 - PROGRESS: at 68.64% examples, 287196 words/s, in_qsize 13, out_qsize 2\n",
            "2020-09-26 08:54:22,591 : INFO : EPOCH 25 - PROGRESS: at 72.53% examples, 288172 words/s, in_qsize 15, out_qsize 0\n",
            "2020-09-26 08:54:23,606 : INFO : EPOCH 25 - PROGRESS: at 76.22% examples, 288631 words/s, in_qsize 15, out_qsize 0\n",
            "2020-09-26 08:54:24,646 : INFO : EPOCH 25 - PROGRESS: at 79.92% examples, 288753 words/s, in_qsize 15, out_qsize 0\n",
            "2020-09-26 08:54:25,649 : INFO : EPOCH 25 - PROGRESS: at 83.40% examples, 288561 words/s, in_qsize 11, out_qsize 3\n",
            "2020-09-26 08:54:26,755 : INFO : EPOCH 25 - PROGRESS: at 87.18% examples, 288265 words/s, in_qsize 15, out_qsize 0\n",
            "2020-09-26 08:54:27,756 : INFO : EPOCH 25 - PROGRESS: at 91.20% examples, 289843 words/s, in_qsize 16, out_qsize 0\n",
            "2020-09-26 08:54:28,816 : INFO : EPOCH 25 - PROGRESS: at 94.58% examples, 288683 words/s, in_qsize 16, out_qsize 1\n",
            "2020-09-26 08:54:29,820 : INFO : EPOCH 25 - PROGRESS: at 98.36% examples, 289465 words/s, in_qsize 15, out_qsize 0\n",
            "2020-09-26 08:54:30,004 : INFO : worker thread finished; awaiting finish of 7 more threads\n",
            "2020-09-26 08:54:30,112 : INFO : worker thread finished; awaiting finish of 6 more threads\n",
            "2020-09-26 08:54:30,135 : INFO : worker thread finished; awaiting finish of 5 more threads\n",
            "2020-09-26 08:54:30,137 : INFO : worker thread finished; awaiting finish of 4 more threads\n",
            "2020-09-26 08:54:30,142 : INFO : worker thread finished; awaiting finish of 3 more threads\n",
            "2020-09-26 08:54:30,144 : INFO : worker thread finished; awaiting finish of 2 more threads\n",
            "2020-09-26 08:54:30,146 : INFO : worker thread finished; awaiting finish of 1 more threads\n",
            "2020-09-26 08:54:30,148 : INFO : worker thread finished; awaiting finish of 0 more threads\n",
            "2020-09-26 08:54:30,149 : INFO : EPOCH - 25 : training on 9227204 raw words (8222404 effective words) took 28.3s, 290859 effective words/s\n",
            "2020-09-26 08:54:31,189 : INFO : EPOCH 26 - PROGRESS: at 3.36% examples, 270705 words/s, in_qsize 15, out_qsize 0\n",
            "2020-09-26 08:54:32,259 : INFO : EPOCH 26 - PROGRESS: at 6.95% examples, 272617 words/s, in_qsize 16, out_qsize 0\n",
            "2020-09-26 08:54:33,262 : INFO : EPOCH 26 - PROGRESS: at 10.64% examples, 282262 words/s, in_qsize 15, out_qsize 0\n",
            "2020-09-26 08:54:34,328 : INFO : EPOCH 26 - PROGRESS: at 14.43% examples, 284790 words/s, in_qsize 14, out_qsize 0\n",
            "2020-09-26 08:54:35,370 : INFO : EPOCH 26 - PROGRESS: at 18.00% examples, 284198 words/s, in_qsize 13, out_qsize 2\n",
            "2020-09-26 08:54:36,394 : INFO : EPOCH 26 - PROGRESS: at 21.68% examples, 286122 words/s, in_qsize 12, out_qsize 3\n",
            "2020-09-26 08:54:37,541 : INFO : EPOCH 26 - PROGRESS: at 25.91% examples, 288753 words/s, in_qsize 15, out_qsize 0\n",
            "2020-09-26 08:54:38,599 : INFO : EPOCH 26 - PROGRESS: at 29.48% examples, 287404 words/s, in_qsize 12, out_qsize 3\n",
            "2020-09-26 08:54:39,639 : INFO : EPOCH 26 - PROGRESS: at 33.16% examples, 287808 words/s, in_qsize 10, out_qsize 5\n",
            "2020-09-26 08:54:40,662 : INFO : EPOCH 26 - PROGRESS: at 36.62% examples, 286912 words/s, in_qsize 10, out_qsize 5\n",
            "2020-09-26 08:54:41,701 : INFO : EPOCH 26 - PROGRESS: at 40.73% examples, 290431 words/s, in_qsize 15, out_qsize 0\n",
            "2020-09-26 08:54:42,737 : INFO : EPOCH 26 - PROGRESS: at 44.29% examples, 289870 words/s, in_qsize 15, out_qsize 0\n",
            "2020-09-26 08:54:43,756 : INFO : EPOCH 26 - PROGRESS: at 47.65% examples, 288455 words/s, in_qsize 15, out_qsize 0\n",
            "2020-09-26 08:54:44,802 : INFO : EPOCH 26 - PROGRESS: at 51.32% examples, 288550 words/s, in_qsize 13, out_qsize 2\n",
            "2020-09-26 08:54:45,806 : INFO : EPOCH 26 - PROGRESS: at 54.78% examples, 288263 words/s, in_qsize 12, out_qsize 3\n",
            "2020-09-26 08:54:46,848 : INFO : EPOCH 26 - PROGRESS: at 58.69% examples, 289804 words/s, in_qsize 15, out_qsize 2\n",
            "2020-09-26 08:54:47,837 : INFO : EPOCH 26 - PROGRESS: at 62.46% examples, 290930 words/s, in_qsize 15, out_qsize 0\n",
            "2020-09-26 08:54:48,843 : INFO : EPOCH 26 - PROGRESS: at 65.93% examples, 290519 words/s, in_qsize 15, out_qsize 0\n",
            "2020-09-26 08:54:49,873 : INFO : EPOCH 26 - PROGRESS: at 69.61% examples, 290708 words/s, in_qsize 15, out_qsize 0\n",
            "2020-09-26 08:54:50,897 : INFO : EPOCH 26 - PROGRESS: at 73.19% examples, 290520 words/s, in_qsize 15, out_qsize 0\n",
            "2020-09-26 08:54:51,899 : INFO : EPOCH 26 - PROGRESS: at 77.09% examples, 291874 words/s, in_qsize 16, out_qsize 0\n",
            "2020-09-26 08:54:52,920 : INFO : EPOCH 26 - PROGRESS: at 80.46% examples, 290921 words/s, in_qsize 15, out_qsize 1\n",
            "2020-09-26 08:54:54,005 : INFO : EPOCH 26 - PROGRESS: at 84.69% examples, 292262 words/s, in_qsize 15, out_qsize 0\n",
            "2020-09-26 08:54:55,021 : INFO : EPOCH 26 - PROGRESS: at 88.26% examples, 292140 words/s, in_qsize 16, out_qsize 0\n",
            "2020-09-26 08:54:56,036 : INFO : EPOCH 26 - PROGRESS: at 91.63% examples, 291328 words/s, in_qsize 12, out_qsize 3\n",
            "2020-09-26 08:54:57,083 : INFO : EPOCH 26 - PROGRESS: at 95.56% examples, 291913 words/s, in_qsize 14, out_qsize 1\n",
            "2020-09-26 08:54:57,988 : INFO : worker thread finished; awaiting finish of 7 more threads\n",
            "2020-09-26 08:54:58,045 : INFO : worker thread finished; awaiting finish of 6 more threads\n",
            "2020-09-26 08:54:58,115 : INFO : EPOCH 26 - PROGRESS: at 99.45% examples, 292640 words/s, in_qsize 5, out_qsize 1\n",
            "2020-09-26 08:54:58,122 : INFO : worker thread finished; awaiting finish of 5 more threads\n",
            "2020-09-26 08:54:58,124 : INFO : worker thread finished; awaiting finish of 4 more threads\n",
            "2020-09-26 08:54:58,136 : INFO : worker thread finished; awaiting finish of 3 more threads\n",
            "2020-09-26 08:54:58,139 : INFO : worker thread finished; awaiting finish of 2 more threads\n",
            "2020-09-26 08:54:58,164 : INFO : worker thread finished; awaiting finish of 1 more threads\n",
            "2020-09-26 08:54:58,168 : INFO : worker thread finished; awaiting finish of 0 more threads\n",
            "2020-09-26 08:54:58,170 : INFO : EPOCH - 26 : training on 9227204 raw words (8222731 effective words) took 28.0s, 293660 effective words/s\n",
            "2020-09-26 08:54:59,202 : INFO : EPOCH 27 - PROGRESS: at 2.93% examples, 235646 words/s, in_qsize 11, out_qsize 4\n",
            "2020-09-26 08:55:00,216 : INFO : EPOCH 27 - PROGRESS: at 6.95% examples, 280034 words/s, in_qsize 16, out_qsize 0\n",
            "2020-09-26 08:55:01,230 : INFO : EPOCH 27 - PROGRESS: at 10.42% examples, 280505 words/s, in_qsize 14, out_qsize 1\n",
            "2020-09-26 08:55:02,358 : INFO : EPOCH 27 - PROGRESS: at 14.43% examples, 283618 words/s, in_qsize 16, out_qsize 2\n",
            "2020-09-26 08:55:03,383 : INFO : EPOCH 27 - PROGRESS: at 18.00% examples, 285422 words/s, in_qsize 15, out_qsize 4\n",
            "2020-09-26 08:55:04,370 : INFO : EPOCH 27 - PROGRESS: at 21.90% examples, 290718 words/s, in_qsize 15, out_qsize 0\n",
            "2020-09-26 08:55:05,474 : INFO : EPOCH 27 - PROGRESS: at 25.48% examples, 287011 words/s, in_qsize 14, out_qsize 1\n",
            "2020-09-26 08:55:06,475 : INFO : EPOCH 27 - PROGRESS: at 29.48% examples, 292128 words/s, in_qsize 16, out_qsize 0\n",
            "2020-09-26 08:55:07,631 : INFO : EPOCH 27 - PROGRESS: at 33.05% examples, 287520 words/s, in_qsize 14, out_qsize 3\n",
            "2020-09-26 08:55:08,706 : INFO : EPOCH 27 - PROGRESS: at 37.27% examples, 292051 words/s, in_qsize 15, out_qsize 0\n",
            "2020-09-26 08:55:09,678 : INFO : EPOCH 27 - PROGRESS: at 40.83% examples, 292080 words/s, in_qsize 15, out_qsize 0\n",
            "2020-09-26 08:55:10,769 : INFO : EPOCH 27 - PROGRESS: at 44.40% examples, 290983 words/s, in_qsize 15, out_qsize 2\n",
            "2020-09-26 08:55:11,794 : INFO : EPOCH 27 - PROGRESS: at 48.08% examples, 290550 words/s, in_qsize 14, out_qsize 2\n",
            "2020-09-26 08:55:12,893 : INFO : EPOCH 27 - PROGRESS: at 51.75% examples, 289454 words/s, in_qsize 10, out_qsize 6\n",
            "2020-09-26 08:55:13,897 : INFO : EPOCH 27 - PROGRESS: at 55.53% examples, 290829 words/s, in_qsize 11, out_qsize 4\n",
            "2020-09-26 08:55:14,989 : INFO : EPOCH 27 - PROGRESS: at 59.77% examples, 293102 words/s, in_qsize 15, out_qsize 0\n",
            "2020-09-26 08:55:16,014 : INFO : EPOCH 27 - PROGRESS: at 63.32% examples, 292271 words/s, in_qsize 15, out_qsize 0\n",
            "2020-09-26 08:55:17,020 : INFO : EPOCH 27 - PROGRESS: at 66.90% examples, 292247 words/s, in_qsize 14, out_qsize 1\n",
            "2020-09-26 08:55:18,070 : INFO : EPOCH 27 - PROGRESS: at 70.91% examples, 293393 words/s, in_qsize 15, out_qsize 0\n",
            "2020-09-26 08:55:19,155 : INFO : EPOCH 27 - PROGRESS: at 74.37% examples, 291793 words/s, in_qsize 12, out_qsize 3\n",
            "2020-09-26 08:55:20,235 : INFO : EPOCH 27 - PROGRESS: at 78.51% examples, 292841 words/s, in_qsize 15, out_qsize 0\n",
            "2020-09-26 08:55:21,334 : INFO : EPOCH 27 - PROGRESS: at 82.53% examples, 293180 words/s, in_qsize 15, out_qsize 0\n",
            "2020-09-26 08:55:22,408 : INFO : EPOCH 27 - PROGRESS: at 86.42% examples, 293413 words/s, in_qsize 15, out_qsize 0\n",
            "2020-09-26 08:55:23,461 : INFO : EPOCH 27 - PROGRESS: at 90.00% examples, 292809 words/s, in_qsize 15, out_qsize 0\n",
            "2020-09-26 08:55:24,473 : INFO : EPOCH 27 - PROGRESS: at 93.37% examples, 292031 words/s, in_qsize 14, out_qsize 1\n",
            "2020-09-26 08:55:25,501 : INFO : EPOCH 27 - PROGRESS: at 97.40% examples, 293091 words/s, in_qsize 15, out_qsize 0\n",
            "2020-09-26 08:55:26,035 : INFO : worker thread finished; awaiting finish of 7 more threads\n",
            "2020-09-26 08:55:26,056 : INFO : worker thread finished; awaiting finish of 6 more threads\n",
            "2020-09-26 08:55:26,077 : INFO : worker thread finished; awaiting finish of 5 more threads\n",
            "2020-09-26 08:55:26,107 : INFO : worker thread finished; awaiting finish of 4 more threads\n",
            "2020-09-26 08:55:26,117 : INFO : worker thread finished; awaiting finish of 3 more threads\n",
            "2020-09-26 08:55:26,143 : INFO : worker thread finished; awaiting finish of 2 more threads\n",
            "2020-09-26 08:55:26,157 : INFO : worker thread finished; awaiting finish of 1 more threads\n",
            "2020-09-26 08:55:26,165 : INFO : worker thread finished; awaiting finish of 0 more threads\n",
            "2020-09-26 08:55:26,166 : INFO : EPOCH - 27 : training on 9227204 raw words (8221827 effective words) took 28.0s, 293801 effective words/s\n",
            "2020-09-26 08:55:27,186 : INFO : EPOCH 28 - PROGRESS: at 3.03% examples, 247836 words/s, in_qsize 13, out_qsize 3\n",
            "2020-09-26 08:55:28,192 : INFO : EPOCH 28 - PROGRESS: at 6.73% examples, 274555 words/s, in_qsize 15, out_qsize 0\n",
            "2020-09-26 08:55:29,209 : INFO : EPOCH 28 - PROGRESS: at 10.42% examples, 282356 words/s, in_qsize 14, out_qsize 1\n",
            "2020-09-26 08:55:30,210 : INFO : EPOCH 28 - PROGRESS: at 14.00% examples, 285168 words/s, in_qsize 14, out_qsize 1\n",
            "2020-09-26 08:55:31,279 : INFO : EPOCH 28 - PROGRESS: at 17.67% examples, 284738 words/s, in_qsize 13, out_qsize 2\n",
            "2020-09-26 08:55:32,416 : INFO : EPOCH 28 - PROGRESS: at 21.89% examples, 288547 words/s, in_qsize 15, out_qsize 0\n",
            "2020-09-26 08:55:33,434 : INFO : EPOCH 28 - PROGRESS: at 25.91% examples, 293510 words/s, in_qsize 16, out_qsize 0\n",
            "2020-09-26 08:55:34,434 : INFO : EPOCH 28 - PROGRESS: at 29.16% examples, 290336 words/s, in_qsize 15, out_qsize 0\n",
            "2020-09-26 08:55:35,459 : INFO : EPOCH 28 - PROGRESS: at 32.63% examples, 288981 words/s, in_qsize 15, out_qsize 4\n",
            "2020-09-26 08:55:36,464 : INFO : EPOCH 28 - PROGRESS: at 36.51% examples, 291922 words/s, in_qsize 15, out_qsize 0\n",
            "2020-09-26 08:55:37,558 : INFO : EPOCH 28 - PROGRESS: at 40.40% examples, 292042 words/s, in_qsize 15, out_qsize 0\n",
            "2020-09-26 08:55:38,560 : INFO : EPOCH 28 - PROGRESS: at 43.86% examples, 291435 words/s, in_qsize 11, out_qsize 4\n",
            "2020-09-26 08:55:39,687 : INFO : EPOCH 28 - PROGRESS: at 47.65% examples, 290193 words/s, in_qsize 15, out_qsize 0\n",
            "2020-09-26 08:55:40,717 : INFO : EPOCH 28 - PROGRESS: at 50.99% examples, 288637 words/s, in_qsize 10, out_qsize 5\n",
            "2020-09-26 08:55:41,798 : INFO : EPOCH 28 - PROGRESS: at 55.21% examples, 290909 words/s, in_qsize 14, out_qsize 1\n",
            "2020-09-26 08:55:42,852 : INFO : EPOCH 28 - PROGRESS: at 58.80% examples, 290164 words/s, in_qsize 16, out_qsize 0\n",
            "2020-09-26 08:55:43,877 : INFO : EPOCH 28 - PROGRESS: at 62.46% examples, 290462 words/s, in_qsize 15, out_qsize 0\n",
            "2020-09-26 08:55:44,888 : INFO : EPOCH 28 - PROGRESS: at 65.82% examples, 289519 words/s, in_qsize 16, out_qsize 1\n",
            "2020-09-26 08:55:45,935 : INFO : EPOCH 28 - PROGRESS: at 69.72% examples, 290416 words/s, in_qsize 11, out_qsize 3\n",
            "2020-09-26 08:55:47,080 : INFO : EPOCH 28 - PROGRESS: at 73.73% examples, 290266 words/s, in_qsize 15, out_qsize 0\n",
            "2020-09-26 08:55:48,143 : INFO : EPOCH 28 - PROGRESS: at 77.74% examples, 291214 words/s, in_qsize 15, out_qsize 0\n",
            "2020-09-26 08:55:49,160 : INFO : EPOCH 28 - PROGRESS: at 81.34% examples, 291124 words/s, in_qsize 15, out_qsize 0\n",
            "2020-09-26 08:55:50,283 : INFO : EPOCH 28 - PROGRESS: at 84.80% examples, 289388 words/s, in_qsize 14, out_qsize 1\n",
            "2020-09-26 08:55:51,376 : INFO : EPOCH 28 - PROGRESS: at 88.80% examples, 289909 words/s, in_qsize 13, out_qsize 2\n",
            "2020-09-26 08:55:52,393 : INFO : EPOCH 28 - PROGRESS: at 92.83% examples, 291205 words/s, in_qsize 14, out_qsize 1\n",
            "2020-09-26 08:55:53,397 : INFO : EPOCH 28 - PROGRESS: at 96.64% examples, 291908 words/s, in_qsize 15, out_qsize 0\n",
            "2020-09-26 08:55:54,247 : INFO : worker thread finished; awaiting finish of 7 more threads\n",
            "2020-09-26 08:55:54,252 : INFO : worker thread finished; awaiting finish of 6 more threads\n",
            "2020-09-26 08:55:54,278 : INFO : worker thread finished; awaiting finish of 5 more threads\n",
            "2020-09-26 08:55:54,308 : INFO : worker thread finished; awaiting finish of 4 more threads\n",
            "2020-09-26 08:55:54,314 : INFO : worker thread finished; awaiting finish of 3 more threads\n",
            "2020-09-26 08:55:54,317 : INFO : worker thread finished; awaiting finish of 2 more threads\n",
            "2020-09-26 08:55:54,323 : INFO : worker thread finished; awaiting finish of 1 more threads\n",
            "2020-09-26 08:55:54,342 : INFO : worker thread finished; awaiting finish of 0 more threads\n",
            "2020-09-26 08:55:54,344 : INFO : EPOCH - 28 : training on 9227204 raw words (8222407 effective words) took 28.2s, 291941 effective words/s\n",
            "2020-09-26 08:55:55,370 : INFO : EPOCH 29 - PROGRESS: at 3.14% examples, 256427 words/s, in_qsize 15, out_qsize 0\n",
            "2020-09-26 08:55:56,421 : INFO : EPOCH 29 - PROGRESS: at 6.73% examples, 268368 words/s, in_qsize 15, out_qsize 0\n",
            "2020-09-26 08:55:57,435 : INFO : EPOCH 29 - PROGRESS: at 10.53% examples, 281391 words/s, in_qsize 15, out_qsize 0\n",
            "2020-09-26 08:55:58,555 : INFO : EPOCH 29 - PROGRESS: at 14.33% examples, 280544 words/s, in_qsize 15, out_qsize 0\n",
            "2020-09-26 08:55:59,666 : INFO : EPOCH 29 - PROGRESS: at 18.43% examples, 285573 words/s, in_qsize 15, out_qsize 0\n",
            "2020-09-26 08:56:00,685 : INFO : EPOCH 29 - PROGRESS: at 22.01% examples, 286068 words/s, in_qsize 15, out_qsize 0\n",
            "2020-09-26 08:56:01,715 : INFO : EPOCH 29 - PROGRESS: at 25.59% examples, 286017 words/s, in_qsize 14, out_qsize 1\n",
            "2020-09-26 08:56:02,790 : INFO : EPOCH 29 - PROGRESS: at 29.48% examples, 287595 words/s, in_qsize 16, out_qsize 1\n",
            "2020-09-26 08:56:03,872 : INFO : EPOCH 29 - PROGRESS: at 33.16% examples, 286747 words/s, in_qsize 15, out_qsize 0\n",
            "2020-09-26 08:56:04,895 : INFO : EPOCH 29 - PROGRESS: at 37.05% examples, 289314 words/s, in_qsize 15, out_qsize 0\n",
            "2020-09-26 08:56:05,933 : INFO : EPOCH 29 - PROGRESS: at 40.62% examples, 288764 words/s, in_qsize 15, out_qsize 0\n",
            "2020-09-26 08:56:06,985 : INFO : EPOCH 29 - PROGRESS: at 44.51% examples, 290102 words/s, in_qsize 16, out_qsize 0\n",
            "2020-09-26 08:56:08,108 : INFO : EPOCH 29 - PROGRESS: at 48.40% examples, 289757 words/s, in_qsize 15, out_qsize 0\n",
            "2020-09-26 08:56:09,111 : INFO : EPOCH 29 - PROGRESS: at 51.96% examples, 289983 words/s, in_qsize 15, out_qsize 0\n",
            "2020-09-26 08:56:10,152 : INFO : EPOCH 29 - PROGRESS: at 55.43% examples, 288912 words/s, in_qsize 11, out_qsize 4\n",
            "2020-09-26 08:56:11,214 : INFO : EPOCH 29 - PROGRESS: at 59.44% examples, 290272 words/s, in_qsize 15, out_qsize 0\n",
            "2020-09-26 08:56:12,229 : INFO : EPOCH 29 - PROGRESS: at 63.11% examples, 290738 words/s, in_qsize 15, out_qsize 0\n",
            "2020-09-26 08:56:13,317 : INFO : EPOCH 29 - PROGRESS: at 66.47% examples, 288610 words/s, in_qsize 13, out_qsize 7\n",
            "2020-09-26 08:56:14,317 : INFO : EPOCH 29 - PROGRESS: at 70.48% examples, 290672 words/s, in_qsize 15, out_qsize 0\n",
            "2020-09-26 08:56:15,342 : INFO : EPOCH 29 - PROGRESS: at 73.84% examples, 289633 words/s, in_qsize 16, out_qsize 1\n",
            "2020-09-26 08:56:16,396 : INFO : EPOCH 29 - PROGRESS: at 77.31% examples, 288703 words/s, in_qsize 14, out_qsize 3\n",
            "2020-09-26 08:56:17,434 : INFO : EPOCH 29 - PROGRESS: at 81.45% examples, 290382 words/s, in_qsize 15, out_qsize 0\n",
            "2020-09-26 08:56:18,531 : INFO : EPOCH 29 - PROGRESS: at 84.91% examples, 288999 words/s, in_qsize 15, out_qsize 0\n",
            "2020-09-26 08:56:19,538 : INFO : EPOCH 29 - PROGRESS: at 88.80% examples, 290169 words/s, in_qsize 16, out_qsize 0\n",
            "2020-09-26 08:56:20,545 : INFO : EPOCH 29 - PROGRESS: at 92.28% examples, 289882 words/s, in_qsize 14, out_qsize 1\n",
            "2020-09-26 08:56:21,565 : INFO : EPOCH 29 - PROGRESS: at 96.21% examples, 290802 words/s, in_qsize 16, out_qsize 0\n",
            "2020-09-26 08:56:22,490 : INFO : worker thread finished; awaiting finish of 7 more threads\n",
            "2020-09-26 08:56:22,538 : INFO : worker thread finished; awaiting finish of 6 more threads\n",
            "2020-09-26 08:56:22,570 : INFO : EPOCH 29 - PROGRESS: at 99.46% examples, 289943 words/s, in_qsize 5, out_qsize 1\n",
            "2020-09-26 08:56:22,575 : INFO : worker thread finished; awaiting finish of 5 more threads\n",
            "2020-09-26 08:56:22,601 : INFO : worker thread finished; awaiting finish of 4 more threads\n",
            "2020-09-26 08:56:22,630 : INFO : worker thread finished; awaiting finish of 3 more threads\n",
            "2020-09-26 08:56:22,637 : INFO : worker thread finished; awaiting finish of 2 more threads\n",
            "2020-09-26 08:56:22,642 : INFO : worker thread finished; awaiting finish of 1 more threads\n",
            "2020-09-26 08:56:22,649 : INFO : worker thread finished; awaiting finish of 0 more threads\n",
            "2020-09-26 08:56:22,650 : INFO : EPOCH - 29 : training on 9227204 raw words (8223143 effective words) took 28.3s, 290701 effective words/s\n",
            "2020-09-26 08:56:23,731 : INFO : EPOCH 30 - PROGRESS: at 3.03% examples, 233508 words/s, in_qsize 13, out_qsize 2\n",
            "2020-09-26 08:56:24,736 : INFO : EPOCH 30 - PROGRESS: at 6.73% examples, 266398 words/s, in_qsize 15, out_qsize 0\n",
            "2020-09-26 08:56:25,779 : INFO : EPOCH 30 - PROGRESS: at 10.42% examples, 274590 words/s, in_qsize 15, out_qsize 0\n",
            "2020-09-26 08:56:26,784 : INFO : EPOCH 30 - PROGRESS: at 13.90% examples, 276763 words/s, in_qsize 15, out_qsize 0\n",
            "2020-09-26 08:56:27,820 : INFO : EPOCH 30 - PROGRESS: at 17.46% examples, 278142 words/s, in_qsize 16, out_qsize 3\n",
            "2020-09-26 08:56:28,858 : INFO : EPOCH 30 - PROGRESS: at 21.57% examples, 286213 words/s, in_qsize 15, out_qsize 0\n",
            "2020-09-26 08:56:30,064 : INFO : EPOCH 30 - PROGRESS: at 25.37% examples, 281724 words/s, in_qsize 12, out_qsize 3\n",
            "2020-09-26 08:56:31,071 : INFO : EPOCH 30 - PROGRESS: at 29.27% examples, 286155 words/s, in_qsize 15, out_qsize 1\n",
            "2020-09-26 08:56:32,162 : INFO : EPOCH 30 - PROGRESS: at 33.06% examples, 286086 words/s, in_qsize 16, out_qsize 0\n",
            "2020-09-26 08:56:33,178 : INFO : EPOCH 30 - PROGRESS: at 36.83% examples, 288100 words/s, in_qsize 13, out_qsize 2\n",
            "2020-09-26 08:56:34,259 : INFO : EPOCH 30 - PROGRESS: at 40.51% examples, 287360 words/s, in_qsize 15, out_qsize 0\n",
            "2020-09-26 08:56:35,269 : INFO : EPOCH 30 - PROGRESS: at 43.96% examples, 286951 words/s, in_qsize 14, out_qsize 1\n",
            "2020-09-26 08:56:36,306 : INFO : EPOCH 30 - PROGRESS: at 47.86% examples, 288661 words/s, in_qsize 14, out_qsize 2\n",
            "2020-09-26 08:56:37,330 : INFO : EPOCH 30 - PROGRESS: at 51.75% examples, 290386 words/s, in_qsize 15, out_qsize 0\n",
            "2020-09-26 08:56:38,368 : INFO : EPOCH 30 - PROGRESS: at 55.32% examples, 289932 words/s, in_qsize 15, out_qsize 0\n",
            "2020-09-26 08:56:39,426 : INFO : EPOCH 30 - PROGRESS: at 59.23% examples, 290761 words/s, in_qsize 15, out_qsize 0\n",
            "2020-09-26 08:56:40,435 : INFO : EPOCH 30 - PROGRESS: at 63.11% examples, 292291 words/s, in_qsize 15, out_qsize 0\n",
            "2020-09-26 08:56:41,501 : INFO : EPOCH 30 - PROGRESS: at 66.15% examples, 288995 words/s, in_qsize 16, out_qsize 3\n",
            "2020-09-26 08:56:42,545 : INFO : EPOCH 30 - PROGRESS: at 70.48% examples, 291740 words/s, in_qsize 15, out_qsize 0\n",
            "2020-09-26 08:56:43,588 : INFO : EPOCH 30 - PROGRESS: at 73.73% examples, 289960 words/s, in_qsize 12, out_qsize 4\n",
            "2020-09-26 08:56:44,661 : INFO : EPOCH 30 - PROGRESS: at 77.53% examples, 289995 words/s, in_qsize 15, out_qsize 0\n",
            "2020-09-26 08:56:45,720 : INFO : EPOCH 30 - PROGRESS: at 81.34% examples, 290197 words/s, in_qsize 16, out_qsize 0\n",
            "2020-09-26 08:56:46,765 : INFO : EPOCH 30 - PROGRESS: at 84.91% examples, 289818 words/s, in_qsize 12, out_qsize 3\n",
            "2020-09-26 08:56:47,773 : INFO : EPOCH 30 - PROGRESS: at 88.59% examples, 290236 words/s, in_qsize 15, out_qsize 0\n",
            "2020-09-26 08:56:48,794 : INFO : EPOCH 30 - PROGRESS: at 92.72% examples, 291829 words/s, in_qsize 15, out_qsize 0\n",
            "2020-09-26 08:56:49,810 : INFO : EPOCH 30 - PROGRESS: at 96.21% examples, 291415 words/s, in_qsize 14, out_qsize 0\n",
            "2020-09-26 08:56:50,707 : INFO : worker thread finished; awaiting finish of 7 more threads\n",
            "2020-09-26 08:56:50,712 : INFO : worker thread finished; awaiting finish of 6 more threads\n",
            "2020-09-26 08:56:50,717 : INFO : worker thread finished; awaiting finish of 5 more threads\n",
            "2020-09-26 08:56:50,726 : INFO : worker thread finished; awaiting finish of 4 more threads\n",
            "2020-09-26 08:56:50,751 : INFO : worker thread finished; awaiting finish of 3 more threads\n",
            "2020-09-26 08:56:50,774 : INFO : worker thread finished; awaiting finish of 2 more threads\n",
            "2020-09-26 08:56:50,783 : INFO : worker thread finished; awaiting finish of 1 more threads\n",
            "2020-09-26 08:56:50,790 : INFO : worker thread finished; awaiting finish of 0 more threads\n",
            "2020-09-26 08:56:50,791 : INFO : EPOCH - 30 : training on 9227204 raw words (8223583 effective words) took 28.1s, 292366 effective words/s\n",
            "2020-09-26 08:56:51,856 : INFO : EPOCH 31 - PROGRESS: at 3.14% examples, 245511 words/s, in_qsize 15, out_qsize 0\n",
            "2020-09-26 08:56:52,931 : INFO : EPOCH 31 - PROGRESS: at 6.94% examples, 267876 words/s, in_qsize 14, out_qsize 1\n",
            "2020-09-26 08:56:53,973 : INFO : EPOCH 31 - PROGRESS: at 10.97% examples, 283845 words/s, in_qsize 15, out_qsize 0\n",
            "2020-09-26 08:56:54,979 : INFO : EPOCH 31 - PROGRESS: at 14.33% examples, 281646 words/s, in_qsize 15, out_qsize 0\n",
            "2020-09-26 08:56:55,981 : INFO : EPOCH 31 - PROGRESS: at 17.89% examples, 283786 words/s, in_qsize 15, out_qsize 3\n",
            "2020-09-26 08:56:56,985 : INFO : EPOCH 31 - PROGRESS: at 21.46% examples, 285269 words/s, in_qsize 15, out_qsize 1\n",
            "2020-09-26 08:56:57,986 : INFO : EPOCH 31 - PROGRESS: at 25.04% examples, 286468 words/s, in_qsize 16, out_qsize 0\n",
            "2020-09-26 08:56:59,011 : INFO : EPOCH 31 - PROGRESS: at 28.29% examples, 283719 words/s, in_qsize 15, out_qsize 1\n",
            "2020-09-26 08:57:00,014 : INFO : EPOCH 31 - PROGRESS: at 32.30% examples, 288220 words/s, in_qsize 16, out_qsize 0\n",
            "2020-09-26 08:57:01,040 : INFO : EPOCH 31 - PROGRESS: at 35.97% examples, 288911 words/s, in_qsize 14, out_qsize 1\n",
            "2020-09-26 08:57:02,049 : INFO : EPOCH 31 - PROGRESS: at 39.43% examples, 288349 words/s, in_qsize 12, out_qsize 3\n",
            "2020-09-26 08:57:03,087 : INFO : EPOCH 31 - PROGRESS: at 43.43% examples, 290824 words/s, in_qsize 13, out_qsize 0\n",
            "2020-09-26 08:57:04,093 : INFO : EPOCH 31 - PROGRESS: at 46.99% examples, 290931 words/s, in_qsize 15, out_qsize 0\n",
            "2020-09-26 08:57:05,106 : INFO : EPOCH 31 - PROGRESS: at 50.67% examples, 291523 words/s, in_qsize 16, out_qsize 0\n",
            "2020-09-26 08:57:06,143 : INFO : EPOCH 31 - PROGRESS: at 54.46% examples, 292151 words/s, in_qsize 16, out_qsize 1\n",
            "2020-09-26 08:57:07,255 : INFO : EPOCH 31 - PROGRESS: at 58.03% examples, 290893 words/s, in_qsize 15, out_qsize 2\n",
            "2020-09-26 08:57:08,270 : INFO : EPOCH 31 - PROGRESS: at 61.82% examples, 291263 words/s, in_qsize 16, out_qsize 0\n",
            "2020-09-26 08:57:09,362 : INFO : EPOCH 31 - PROGRESS: at 65.82% examples, 291894 words/s, in_qsize 15, out_qsize 0\n",
            "2020-09-26 08:57:10,454 : INFO : EPOCH 31 - PROGRESS: at 69.61% examples, 291542 words/s, in_qsize 14, out_qsize 1\n",
            "2020-09-26 08:57:11,470 : INFO : EPOCH 31 - PROGRESS: at 73.73% examples, 293574 words/s, in_qsize 15, out_qsize 0\n",
            "2020-09-26 08:57:12,475 : INFO : EPOCH 31 - PROGRESS: at 76.88% examples, 291872 words/s, in_qsize 15, out_qsize 0\n",
            "2020-09-26 08:57:13,545 : INFO : EPOCH 31 - PROGRESS: at 80.90% examples, 292643 words/s, in_qsize 15, out_qsize 0\n",
            "2020-09-26 08:57:14,566 : INFO : EPOCH 31 - PROGRESS: at 84.04% examples, 290942 words/s, in_qsize 15, out_qsize 0\n",
            "2020-09-26 08:57:15,597 : INFO : EPOCH 31 - PROGRESS: at 87.72% examples, 291054 words/s, in_qsize 15, out_qsize 0\n",
            "2020-09-26 08:57:16,649 : INFO : EPOCH 31 - PROGRESS: at 91.31% examples, 290958 words/s, in_qsize 15, out_qsize 0\n",
            "2020-09-26 08:57:17,697 : INFO : EPOCH 31 - PROGRESS: at 95.12% examples, 290832 words/s, in_qsize 15, out_qsize 0\n",
            "2020-09-26 08:57:18,704 : INFO : EPOCH 31 - PROGRESS: at 98.58% examples, 290552 words/s, in_qsize 11, out_qsize 3\n",
            "2020-09-26 08:57:18,863 : INFO : worker thread finished; awaiting finish of 7 more threads\n",
            "2020-09-26 08:57:18,875 : INFO : worker thread finished; awaiting finish of 6 more threads\n",
            "2020-09-26 08:57:18,902 : INFO : worker thread finished; awaiting finish of 5 more threads\n",
            "2020-09-26 08:57:18,915 : INFO : worker thread finished; awaiting finish of 4 more threads\n",
            "2020-09-26 08:57:18,932 : INFO : worker thread finished; awaiting finish of 3 more threads\n",
            "2020-09-26 08:57:18,937 : INFO : worker thread finished; awaiting finish of 2 more threads\n",
            "2020-09-26 08:57:18,941 : INFO : worker thread finished; awaiting finish of 1 more threads\n",
            "2020-09-26 08:57:18,964 : INFO : worker thread finished; awaiting finish of 0 more threads\n",
            "2020-09-26 08:57:18,965 : INFO : EPOCH - 31 : training on 9227204 raw words (8223459 effective words) took 28.2s, 292008 effective words/s\n",
            "2020-09-26 08:57:20,034 : INFO : EPOCH 32 - PROGRESS: at 2.93% examples, 228043 words/s, in_qsize 13, out_qsize 2\n",
            "2020-09-26 08:57:21,085 : INFO : EPOCH 32 - PROGRESS: at 6.95% examples, 270677 words/s, in_qsize 15, out_qsize 0\n",
            "2020-09-26 08:57:22,127 : INFO : EPOCH 32 - PROGRESS: at 10.42% examples, 271776 words/s, in_qsize 16, out_qsize 0\n",
            "2020-09-26 08:57:23,180 : INFO : EPOCH 32 - PROGRESS: at 14.33% examples, 279934 words/s, in_qsize 15, out_qsize 0\n",
            "2020-09-26 08:57:24,191 : INFO : EPOCH 32 - PROGRESS: at 17.68% examples, 278615 words/s, in_qsize 15, out_qsize 0\n",
            "2020-09-26 08:57:25,247 : INFO : EPOCH 32 - PROGRESS: at 20.92% examples, 274326 words/s, in_qsize 12, out_qsize 7\n",
            "2020-09-26 08:57:26,258 : INFO : EPOCH 32 - PROGRESS: at 24.83% examples, 280290 words/s, in_qsize 15, out_qsize 0\n",
            "2020-09-26 08:57:27,298 : INFO : EPOCH 32 - PROGRESS: at 28.40% examples, 280621 words/s, in_qsize 16, out_qsize 0\n",
            "2020-09-26 08:57:28,377 : INFO : EPOCH 32 - PROGRESS: at 31.75% examples, 277794 words/s, in_qsize 15, out_qsize 2\n",
            "2020-09-26 08:57:29,545 : INFO : EPOCH 32 - PROGRESS: at 35.97% examples, 280437 words/s, in_qsize 15, out_qsize 1\n",
            "2020-09-26 08:57:30,556 : INFO : EPOCH 32 - PROGRESS: at 39.76% examples, 282451 words/s, in_qsize 15, out_qsize 0\n",
            "2020-09-26 08:57:31,610 : INFO : EPOCH 32 - PROGRESS: at 43.43% examples, 282839 words/s, in_qsize 16, out_qsize 0\n",
            "2020-09-26 08:57:32,686 : INFO : EPOCH 32 - PROGRESS: at 46.89% examples, 281433 words/s, in_qsize 11, out_qsize 7\n",
            "2020-09-26 08:57:33,712 : INFO : EPOCH 32 - PROGRESS: at 51.21% examples, 286044 words/s, in_qsize 15, out_qsize 0\n",
            "2020-09-26 08:57:34,717 : INFO : EPOCH 32 - PROGRESS: at 54.67% examples, 285897 words/s, in_qsize 15, out_qsize 0\n",
            "2020-09-26 08:57:35,745 : INFO : EPOCH 32 - PROGRESS: at 58.47% examples, 286983 words/s, in_qsize 16, out_qsize 0\n",
            "2020-09-26 08:57:36,765 : INFO : EPOCH 32 - PROGRESS: at 62.03% examples, 287035 words/s, in_qsize 16, out_qsize 0\n",
            "2020-09-26 08:57:37,779 : INFO : EPOCH 32 - PROGRESS: at 65.72% examples, 287665 words/s, in_qsize 15, out_qsize 0\n",
            "2020-09-26 08:57:38,849 : INFO : EPOCH 32 - PROGRESS: at 69.40% examples, 287429 words/s, in_qsize 14, out_qsize 1\n",
            "2020-09-26 08:57:39,905 : INFO : EPOCH 32 - PROGRESS: at 73.41% examples, 288665 words/s, in_qsize 16, out_qsize 0\n",
            "2020-09-26 08:57:40,924 : INFO : EPOCH 32 - PROGRESS: at 76.66% examples, 287434 words/s, in_qsize 13, out_qsize 2\n",
            "2020-09-26 08:57:41,970 : INFO : EPOCH 32 - PROGRESS: at 80.25% examples, 287150 words/s, in_qsize 13, out_qsize 2\n",
            "2020-09-26 08:57:42,977 : INFO : EPOCH 32 - PROGRESS: at 83.94% examples, 287725 words/s, in_qsize 15, out_qsize 1\n",
            "2020-09-26 08:57:43,991 : INFO : EPOCH 32 - PROGRESS: at 87.51% examples, 287806 words/s, in_qsize 15, out_qsize 0\n",
            "2020-09-26 08:57:45,029 : INFO : EPOCH 32 - PROGRESS: at 91.42% examples, 288630 words/s, in_qsize 15, out_qsize 0\n",
            "2020-09-26 08:57:46,040 : INFO : EPOCH 32 - PROGRESS: at 95.23% examples, 289361 words/s, in_qsize 15, out_qsize 1\n",
            "2020-09-26 08:57:47,062 : INFO : EPOCH 32 - PROGRESS: at 98.69% examples, 288982 words/s, in_qsize 13, out_qsize 0\n",
            "2020-09-26 08:57:47,170 : INFO : worker thread finished; awaiting finish of 7 more threads\n",
            "2020-09-26 08:57:47,180 : INFO : worker thread finished; awaiting finish of 6 more threads\n",
            "2020-09-26 08:57:47,182 : INFO : worker thread finished; awaiting finish of 5 more threads\n",
            "2020-09-26 08:57:47,211 : INFO : worker thread finished; awaiting finish of 4 more threads\n",
            "2020-09-26 08:57:47,270 : INFO : worker thread finished; awaiting finish of 3 more threads\n",
            "2020-09-26 08:57:47,296 : INFO : worker thread finished; awaiting finish of 2 more threads\n",
            "2020-09-26 08:57:47,301 : INFO : worker thread finished; awaiting finish of 1 more threads\n",
            "2020-09-26 08:57:47,304 : INFO : worker thread finished; awaiting finish of 0 more threads\n",
            "2020-09-26 08:57:47,305 : INFO : EPOCH - 32 : training on 9227204 raw words (8223179 effective words) took 28.3s, 290306 effective words/s\n",
            "2020-09-26 08:57:47,306 : INFO : training on a 295270528 raw words (263130945 effective words) took 903.2s, 291347 effective words/s\n"
          ],
          "name": "stderr"
        },
        {
          "output_type": "stream",
          "text": [
            "CPU times: user 28min 55s, sys: 8.4 s, total: 29min 3s\n",
            "Wall time: 15min 3s\n"
          ],
          "name": "stdout"
        }
      ]
    },
    {
      "cell_type": "code",
      "metadata": {
        "_uuid": "27cc2651c74227115d8bfd8c40e5618048e05edd",
        "id": "DNxQK-hB5ycp",
        "outputId": "fa96b59b-344f-465b-fe1a-b0cf49c26c89",
        "colab": {
          "base_uri": "https://localhost:8080/",
          "height": 238
        }
      },
      "source": [
        "w2v_model.most_similar(\"love\")"
      ],
      "execution_count": 40,
      "outputs": [
        {
          "output_type": "stream",
          "text": [
            "/usr/local/lib/python3.6/dist-packages/ipykernel_launcher.py:1: DeprecationWarning: Call to deprecated `most_similar` (Method will be removed in 4.0.0, use self.wv.most_similar() instead).\n",
            "  \"\"\"Entry point for launching an IPython kernel.\n"
          ],
          "name": "stderr"
        },
        {
          "output_type": "execute_result",
          "data": {
            "text/plain": [
              "[('luv', 0.5888869166374207),\n",
              " ('loves', 0.5708596706390381),\n",
              " ('loved', 0.5283610820770264),\n",
              " ('adore', 0.5163772106170654),\n",
              " ('amazing', 0.4994962811470032),\n",
              " ('looove', 0.48800984025001526),\n",
              " ('awesome', 0.4608444571495056),\n",
              " ('loveee', 0.4424547255039215),\n",
              " ('lovee', 0.4415190815925598),\n",
              " ('loooove', 0.43893131613731384)]"
            ]
          },
          "metadata": {
            "tags": []
          },
          "execution_count": 40
        }
      ]
    },
    {
      "cell_type": "markdown",
      "metadata": {
        "_uuid": "e13563644468037258598637b49373ca96b9b879",
        "id": "Ud_GuD_05ycs"
      },
      "source": [
        "### Tokenize Text"
      ]
    },
    {
      "cell_type": "code",
      "metadata": {
        "_uuid": "6852bc709a7cd20173cbeeb218505078f8f37c57",
        "id": "hBvZW9VT5ycs",
        "outputId": "a0e44b59-4e8e-4782-8155-bcb5880ff960",
        "colab": {
          "base_uri": "https://localhost:8080/",
          "height": 67
        }
      },
      "source": [
        "%%time\n",
        "tokenizer = Tokenizer()\n",
        "tokenizer.fit_on_texts(df_train.text)\n",
        "\n",
        "vocab_size = len(tokenizer.word_index) + 1\n",
        "print(\"Total words\", vocab_size)"
      ],
      "execution_count": 41,
      "outputs": [
        {
          "output_type": "stream",
          "text": [
            "Total words 290419\n",
            "CPU times: user 19.1 s, sys: 102 ms, total: 19.2 s\n",
            "Wall time: 19.2 s\n"
          ],
          "name": "stdout"
        }
      ]
    },
    {
      "cell_type": "code",
      "metadata": {
        "_uuid": "45de439df3015030c71f84c2d170346936a1d68f",
        "id": "mg3wHbW55ycv",
        "outputId": "4dff77cf-48cf-420c-ce85-868dbfbd7f77",
        "colab": {
          "base_uri": "https://localhost:8080/",
          "height": 50
        }
      },
      "source": [
        "%%time\n",
        "x_train = pad_sequences(tokenizer.texts_to_sequences(df_train.text), maxlen=SEQUENCE_LENGTH)\n",
        "x_test = pad_sequences(tokenizer.texts_to_sequences(df_test.text), maxlen=SEQUENCE_LENGTH)"
      ],
      "execution_count": 37,
      "outputs": [
        {
          "output_type": "stream",
          "text": [
            "CPU times: user 27.3 s, sys: 1.24 s, total: 28.6 s\n",
            "Wall time: 28.7 s\n"
          ],
          "name": "stdout"
        }
      ]
    },
    {
      "cell_type": "markdown",
      "metadata": {
        "_uuid": "03b35903fc6260e190d6928d240ef7432de117fc",
        "id": "0Jr_HzPT5ycz"
      },
      "source": [
        "### Label Encoder "
      ]
    },
    {
      "cell_type": "code",
      "metadata": {
        "_uuid": "33676e0efa39e97d89bd650b8b4eae933a22fbf0",
        "id": "HFD-VXG95yc0",
        "outputId": "21f7e212-5f98-4e84-8112-6ae05f412607",
        "colab": {
          "base_uri": "https://localhost:8080/",
          "height": 34
        }
      },
      "source": [
        "labels = df_train.target.unique().tolist()\n",
        "labels.append(NEUTRAL)\n",
        "labels"
      ],
      "execution_count": 42,
      "outputs": [
        {
          "output_type": "execute_result",
          "data": {
            "text/plain": [
              "['POSITIVE', 'NEGATIVE', 'NEUTRAL']"
            ]
          },
          "metadata": {
            "tags": []
          },
          "execution_count": 42
        }
      ]
    },
    {
      "cell_type": "code",
      "metadata": {
        "_uuid": "04239a9bef76e7922fd86098a5601dfde8ee4665",
        "id": "YzK386Gp5yc4",
        "outputId": "d5cd0bf2-dd8b-4e65-e23e-9a2c5c4be79d",
        "colab": {
          "base_uri": "https://localhost:8080/",
          "height": 50
        }
      },
      "source": [
        "encoder = LabelEncoder()\n",
        "encoder.fit(df_train.target.tolist())\n",
        "\n",
        "y_train = encoder.transform(df_train.target.tolist())\n",
        "y_test = encoder.transform(df_test.target.tolist())\n",
        "\n",
        "y_train = y_train.reshape(-1,1)\n",
        "y_test = y_test.reshape(-1,1)\n",
        "\n",
        "print(\"y_train\",y_train.shape)\n",
        "print(\"y_test\",y_test.shape)"
      ],
      "execution_count": 43,
      "outputs": [
        {
          "output_type": "stream",
          "text": [
            "y_train (1280000, 1)\n",
            "y_test (320000, 1)\n"
          ],
          "name": "stdout"
        }
      ]
    },
    {
      "cell_type": "code",
      "metadata": {
        "_uuid": "04299c886911ca135583ab64878f213939a2990c",
        "id": "tfsZibZ95yc-",
        "outputId": "e014a6f0-cb44-45ab-a4c6-344c9637ad39",
        "colab": {
          "base_uri": "https://localhost:8080/",
          "height": 101
        }
      },
      "source": [
        "print(\"x_train\", x_train.shape)\n",
        "print(\"y_train\", y_train.shape)\n",
        "print()\n",
        "print(\"x_test\", x_test.shape)\n",
        "print(\"y_test\", y_test.shape)"
      ],
      "execution_count": 44,
      "outputs": [
        {
          "output_type": "stream",
          "text": [
            "x_train (1280000, 300)\n",
            "y_train (1280000, 1)\n",
            "\n",
            "x_test (320000, 300)\n",
            "y_test (320000, 1)\n"
          ],
          "name": "stdout"
        }
      ]
    },
    {
      "cell_type": "code",
      "metadata": {
        "_uuid": "232533fb27b7be99d9b8c2f8fb22c9c6bf121a6f",
        "id": "6dfSQOJV5ydB",
        "outputId": "e098d7fe-9ee2-424e-beda-f8824c3a6d17",
        "colab": {
          "base_uri": "https://localhost:8080/",
          "height": 185
        }
      },
      "source": [
        "y_train[:10]"
      ],
      "execution_count": 45,
      "outputs": [
        {
          "output_type": "execute_result",
          "data": {
            "text/plain": [
              "array([[1],\n",
              "       [1],\n",
              "       [1],\n",
              "       [0],\n",
              "       [1],\n",
              "       [1],\n",
              "       [1],\n",
              "       [1],\n",
              "       [1],\n",
              "       [1]])"
            ]
          },
          "metadata": {
            "tags": []
          },
          "execution_count": 45
        }
      ]
    },
    {
      "cell_type": "markdown",
      "metadata": {
        "_uuid": "233c0ea94055a03e2e7df3e2a13d036ec963484f",
        "id": "G5HqrCdi5ydE"
      },
      "source": [
        "### Embedding layer"
      ]
    },
    {
      "cell_type": "code",
      "metadata": {
        "_uuid": "9ab488374b59e3f30f8b1ea92767d853c4846bac",
        "id": "N-Tr1wRI5ydE",
        "outputId": "623b9c01-9fb2-4ea7-ad76-0f5ef9dda141",
        "colab": {
          "base_uri": "https://localhost:8080/",
          "height": 34
        }
      },
      "source": [
        "embedding_matrix = np.zeros((vocab_size, W2V_SIZE))\n",
        "for word, i in tokenizer.word_index.items():\n",
        "  if word in w2v_model.wv:\n",
        "    embedding_matrix[i] = w2v_model.wv[word]\n",
        "print(embedding_matrix.shape)"
      ],
      "execution_count": 46,
      "outputs": [
        {
          "output_type": "stream",
          "text": [
            "(290419, 300)\n"
          ],
          "name": "stdout"
        }
      ]
    },
    {
      "cell_type": "code",
      "metadata": {
        "_uuid": "833279d91e4286065968237fb5f2a0c2dd4d246c",
        "id": "FrssyEfi5ydH"
      },
      "source": [
        "embedding_layer = Embedding(vocab_size, W2V_SIZE, weights=[embedding_matrix], input_length=SEQUENCE_LENGTH, trainable=False)"
      ],
      "execution_count": 47,
      "outputs": []
    },
    {
      "cell_type": "markdown",
      "metadata": {
        "_uuid": "b299ef78f94c2085942c993a2d58753a7476305a",
        "id": "qR6SCw7g5ydK"
      },
      "source": [
        "### Build Model"
      ]
    },
    {
      "cell_type": "code",
      "metadata": {
        "_uuid": "e775ef4f1b74e6412457181383c39f2df554ef3f",
        "id": "7NiEpkb05ydM",
        "outputId": "4c39bea6-a158-4471-d6c8-bb9eb29c74b2",
        "colab": {
          "base_uri": "https://localhost:8080/",
          "height": 302
        }
      },
      "source": [
        "model_exists=os.path.isfile('/content/drive/My Drive/Copy of model.h5')\n",
        "if model_exists:\n",
        "    from keras.models import load_model\n",
        "    model = load_model('/content/drive/My Drive/Copy of model.h5')\n",
        "    print(\"Keras model file found and loaded.\")\n",
        "else:\n",
        "    model = Sequential()\n",
        "    model.add(embedding_layer)\n",
        "    model.add(Dropout(0.5))\n",
        "    model.add(LSTM(100, dropout=0.2, recurrent_dropout=0.2))\n",
        "    model.add(Dense(1, activation='sigmoid'))\n",
        "\n",
        "model.summary()"
      ],
      "execution_count": 48,
      "outputs": [
        {
          "output_type": "stream",
          "text": [
            "Keras model file found and loaded.\n",
            "Model: \"sequential_1\"\n",
            "_________________________________________________________________\n",
            "Layer (type)                 Output Shape              Param #   \n",
            "=================================================================\n",
            "embedding_1 (Embedding)      (None, 300, 300)          87125700  \n",
            "_________________________________________________________________\n",
            "dropout_1 (Dropout)          (None, 300, 300)          0         \n",
            "_________________________________________________________________\n",
            "lstm_1 (LSTM)                (None, 100)               160400    \n",
            "_________________________________________________________________\n",
            "dense_1 (Dense)              (None, 1)                 101       \n",
            "=================================================================\n",
            "Total params: 87,286,201\n",
            "Trainable params: 160,501\n",
            "Non-trainable params: 87,125,700\n",
            "_________________________________________________________________\n"
          ],
          "name": "stdout"
        }
      ]
    },
    {
      "cell_type": "markdown",
      "metadata": {
        "_uuid": "28d22eafd0c7d798dcf3d742bc92fb8577939e6c",
        "id": "PdKXkROU5ydR"
      },
      "source": [
        "### Compile model"
      ]
    },
    {
      "cell_type": "code",
      "metadata": {
        "_uuid": "1331e08d590bb2aa2033706c8faca217afc0f1c3",
        "id": "bXkV36DM5ydR",
        "outputId": "103c7174-fb1f-4c72-fed4-d808e5805876",
        "colab": {
          "base_uri": "https://localhost:8080/",
          "height": 34
        }
      },
      "source": [
        "if not model_exists:\n",
        "    model.compile(loss='binary_crossentropy',\n",
        "                  optimizer=\"adam\",\n",
        "                  metrics=['accuracy'])\n",
        "else:\n",
        "    print(\"Compiled Model Loaded.\")"
      ],
      "execution_count": 49,
      "outputs": [
        {
          "output_type": "stream",
          "text": [
            "Compiled Model Loaded.\n"
          ],
          "name": "stdout"
        }
      ]
    },
    {
      "cell_type": "markdown",
      "metadata": {
        "_uuid": "c7733127cb8b380e0c807268903bf4d03ef92542",
        "id": "q7g3wazi5ydU"
      },
      "source": [
        "### Callbacks"
      ]
    },
    {
      "cell_type": "code",
      "metadata": {
        "_uuid": "a688df590386f5748da6fe00b01904fe6c71619e",
        "id": "kmG-Jp9A5ydV"
      },
      "source": [
        "callbacks = [ ReduceLROnPlateau(monitor='val_loss', patience=5, cooldown=0),\n",
        "              EarlyStopping(monitor='val_acc', min_delta=1e-4, patience=5)]"
      ],
      "execution_count": 50,
      "outputs": []
    },
    {
      "cell_type": "markdown",
      "metadata": {
        "_uuid": "8d0873633dd49179c8cae17377641b97d323ef3b",
        "id": "MVWAXq_s5ydY"
      },
      "source": [
        "### Train"
      ]
    },
    {
      "cell_type": "code",
      "metadata": {
        "_uuid": "2b659d390c6577dc5cdb6b6297934279b4e801d5",
        "id": "lYzhZfLy5ydZ",
        "outputId": "aea06680-cfc6-41bf-b269-376cc826d3c4",
        "colab": {
          "base_uri": "https://localhost:8080/",
          "height": 50
        }
      },
      "source": [
        "%%time\n",
        "if not model_exists:#if model doesn't exist, fit the model on the training set\n",
        "    from keras.callbacks import CSVLogger\n",
        "\n",
        "    csv_logger = CSVLogger('training.log', separator=',', append=False)\n",
        "    history = model.fit(x_train, y_train,\n",
        "                        batch_size=BATCH_SIZE,\n",
        "                        epochs=EPOCHS,\n",
        "                        validation_split=0.1,\n",
        "                        verbose=1,\n",
        "                        callbacks=callbacks)\n",
        "    #storing history for visualization\n",
        "    pickle_out = open(\"../input/trained-model/history.pickle\",\"wb\")\n",
        "    pickle.dump(history.histpry, pickle_out)\n",
        "    pickle_out.close()\n",
        "else:\n",
        "    if os.path.isfile('../input/trained-model/history.pickle'):\n",
        "        history=pickle.load('../input/trained-model/history.pickle')\n",
        "        print(\"History file found and loaded.\")"
      ],
      "execution_count": 51,
      "outputs": [
        {
          "output_type": "stream",
          "text": [
            "CPU times: user 530 µs, sys: 5 µs, total: 535 µs\n",
            "Wall time: 323 µs\n"
          ],
          "name": "stdout"
        }
      ]
    },
    {
      "cell_type": "markdown",
      "metadata": {
        "_uuid": "267258196d96796ac69a7b8c466314bcf5d6ee42",
        "id": "toSANz2R5ydb"
      },
      "source": [
        "### Evaluate"
      ]
    },
    {
      "cell_type": "code",
      "metadata": {
        "_uuid": "98ecd8f1b8b74594c3ea775dd68a094e92458022",
        "id": "luabHg3e5ydc",
        "outputId": "5a86d89f-e173-49bb-a855-614f9c8810e3",
        "colab": {
          "base_uri": "https://localhost:8080/",
          "height": 118
        }
      },
      "source": [
        "%%time\n",
        "score = model.evaluate(x_test, y_test, batch_size=BATCH_SIZE)\n",
        "print()\n",
        "print(\"ACCURACY:\",score[1])\n",
        "print(\"LOSS:\",score[0])"
      ],
      "execution_count": 52,
      "outputs": [
        {
          "output_type": "stream",
          "text": [
            "313/313 [==============================] - 1235s 4s/step - loss: 0.4443 - accuracy: 0.7911\n",
            "\n",
            "ACCURACY: 0.7911343574523926\n",
            "LOSS: 0.44429531693458557\n",
            "CPU times: user 28min 43s, sys: 7min 22s, total: 36min 6s\n",
            "Wall time: 20min 40s\n"
          ],
          "name": "stdout"
        }
      ]
    },
    {
      "cell_type": "markdown",
      "metadata": {
        "_uuid": "6bdfc0f6a6af5bebc0271d83dd7432c91001409b",
        "id": "ywQ48_Zh5ydi"
      },
      "source": [
        "### Predict"
      ]
    },
    {
      "cell_type": "code",
      "metadata": {
        "_uuid": "f0b0fa3d4b1bb14b3f5e3d169a369f3ebef29ae1",
        "id": "WQyx01XD5ydi"
      },
      "source": [
        "def decode_sentiment(score, include_neutral=True):\n",
        "    if include_neutral:        \n",
        "        label = NEUTRAL\n",
        "        if score <= SENTIMENT_THRESHOLDS[0]:\n",
        "            label = NEGATIVE\n",
        "        elif score >= SENTIMENT_THRESHOLDS[1]:\n",
        "            label = POSITIVE\n",
        "\n",
        "        return label\n",
        "    else:\n",
        "        return NEGATIVE if score < 0.5 else POSITIVE"
      ],
      "execution_count": 54,
      "outputs": []
    },
    {
      "cell_type": "code",
      "metadata": {
        "_uuid": "ed4086d651f2f8cbed11d3c909a8873607d29a06",
        "id": "Yfps6thj5ydl"
      },
      "source": [
        "def predict(text, include_neutral=True):\n",
        "    start_at = time.time()\n",
        "    # Tokenize text\n",
        "    x_test = pad_sequences(tokenizer.texts_to_sequences([text]), maxlen=SEQUENCE_LENGTH)\n",
        "    # Predict\n",
        "    score = model.predict([x_test])[0]\n",
        "    # Decode sentiment\n",
        "    label = decode_sentiment(score, include_neutral=include_neutral)\n",
        "\n",
        "    return {\"label\": label, \"score\": float(score),\n",
        "       \"elapsed_time\": time.time()-start_at}  "
      ],
      "execution_count": 55,
      "outputs": []
    },
    {
      "cell_type": "code",
      "metadata": {
        "_uuid": "ca38b1e6c9b5acfed7467de2cf02a78333108872",
        "id": "V5WcOFK45ydo",
        "outputId": "f5055981-b00f-41b4-e2c8-57e43b5f9c8c",
        "colab": {
          "base_uri": "https://localhost:8080/",
          "height": 67
        }
      },
      "source": [
        "predict(\"I love the music\")"
      ],
      "execution_count": 56,
      "outputs": [
        {
          "output_type": "execute_result",
          "data": {
            "text/plain": [
              "{'elapsed_time': 0.4449467658996582,\n",
              " 'label': 'POSITIVE',\n",
              " 'score': 0.9656286239624023}"
            ]
          },
          "metadata": {
            "tags": []
          },
          "execution_count": 56
        }
      ]
    },
    {
      "cell_type": "code",
      "metadata": {
        "_uuid": "0e5fe647533be0148850de349fea6ef6f71303d1",
        "id": "JufMgVmO5yds",
        "outputId": "0c572fb8-334c-472d-bb56-cb82444efe28",
        "colab": {
          "base_uri": "https://localhost:8080/",
          "height": 67
        }
      },
      "source": [
        "predict(\"I hate the rain\")"
      ],
      "execution_count": 57,
      "outputs": [
        {
          "output_type": "execute_result",
          "data": {
            "text/plain": [
              "{'elapsed_time': 0.12054085731506348,\n",
              " 'label': 'NEGATIVE',\n",
              " 'score': 0.01075369119644165}"
            ]
          },
          "metadata": {
            "tags": []
          },
          "execution_count": 57
        }
      ]
    },
    {
      "cell_type": "code",
      "metadata": {
        "_uuid": "37064dffcc8920d34ccd54fac7c8b50e583a8269",
        "id": "I3nCUHkW5yd0",
        "outputId": "5d038121-af83-48bc-a109-30d51882b180",
        "colab": {
          "base_uri": "https://localhost:8080/",
          "height": 67
        }
      },
      "source": [
        "predict(\"i don't know what i'm doing\")"
      ],
      "execution_count": 58,
      "outputs": [
        {
          "output_type": "execute_result",
          "data": {
            "text/plain": [
              "{'elapsed_time': 0.10913848876953125,\n",
              " 'label': 'NEGATIVE',\n",
              " 'score': 0.2742375135421753}"
            ]
          },
          "metadata": {
            "tags": []
          },
          "execution_count": 58
        }
      ]
    },
    {
      "cell_type": "code",
      "metadata": {
        "id": "o9l2ZEatJ7YM",
        "outputId": "2f73575e-04e6-4c5c-afd8-3aa7bc5f2514",
        "colab": {
          "base_uri": "https://localhost:8080/",
          "height": 67
        }
      },
      "source": [
        "predict(\"teju likes to dance\")"
      ],
      "execution_count": 59,
      "outputs": [
        {
          "output_type": "execute_result",
          "data": {
            "text/plain": [
              "{'elapsed_time': 0.10303282737731934,\n",
              " 'label': 'POSITIVE',\n",
              " 'score': 0.8790203332901001}"
            ]
          },
          "metadata": {
            "tags": []
          },
          "execution_count": 59
        }
      ]
    },
    {
      "cell_type": "code",
      "metadata": {
        "id": "qqU3weDCKBr7",
        "outputId": "746a3aaa-c7c5-4429-e8e0-d908d1008d90",
        "colab": {
          "base_uri": "https://localhost:8080/",
          "height": 67
        }
      },
      "source": [
        "predict(\"i am going out\")"
      ],
      "execution_count": 60,
      "outputs": [
        {
          "output_type": "execute_result",
          "data": {
            "text/plain": [
              "{'elapsed_time': 0.10097956657409668,\n",
              " 'label': 'NEUTRAL',\n",
              " 'score': 0.5986215472221375}"
            ]
          },
          "metadata": {
            "tags": []
          },
          "execution_count": 60
        }
      ]
    },
    {
      "cell_type": "markdown",
      "metadata": {
        "_uuid": "3ee72e47f84b6dbc32e02a783de5ec1661f157e1",
        "id": "PXtpKgFF5yd5"
      },
      "source": [
        "### Confusion Matrix"
      ]
    },
    {
      "cell_type": "code",
      "metadata": {
        "_uuid": "0e920173eb05f04aecdd735bc5dff0f5be5f8d15",
        "id": "E8Adxcn45yd5",
        "outputId": "b2c345ea-f08d-4165-da8b-3209bfeb063e",
        "colab": {
          "base_uri": "https://localhost:8080/",
          "height": 67
        }
      },
      "source": [
        "%%time\n",
        "y_pred_1d = []\n",
        "y_test_1d = list(df_test.target)\n",
        "scores = model.predict(x_test, verbose=1, batch_size=8000)\n",
        "y_pred_1d = [decode_sentiment(score, include_neutral=False) for score in scores]"
      ],
      "execution_count": 61,
      "outputs": [
        {
          "output_type": "stream",
          "text": [
            "40/40 [==============================] - 1035s 26s/step\n",
            "CPU times: user 26min 25s, sys: 7min 12s, total: 33min 37s\n",
            "Wall time: 17min 45s\n"
          ],
          "name": "stdout"
        }
      ]
    },
    {
      "cell_type": "code",
      "metadata": {
        "_uuid": "b3575191bb425ab871f3f41e83812ee84bb7e595",
        "id": "cg8HjzMq5yeB"
      },
      "source": [
        "def plot_confusion_matrix(cm, classes,\n",
        "                          title='Confusion matrix',\n",
        "                          cmap=plt.cm.Blues):\n",
        "    \"\"\"\n",
        "    This function prints and plots the confusion matrix.\n",
        "    Normalization can be applied by setting `normalize=True`.\n",
        "    \"\"\"\n",
        "\n",
        "    cm = cm.astype('float') / cm.sum(axis=1)[:, np.newaxis]\n",
        "\n",
        "    plt.imshow(cm, interpolation='nearest', cmap=cmap)\n",
        "    plt.title(title, fontsize=30)\n",
        "    plt.colorbar()\n",
        "    tick_marks = np.arange(len(classes))\n",
        "    plt.xticks(tick_marks, classes, rotation=90, fontsize=22)\n",
        "    plt.yticks(tick_marks, classes, fontsize=22)\n",
        "\n",
        "    fmt = '.2f'\n",
        "    thresh = cm.max() / 2.\n",
        "    for i, j in itertools.product(range(cm.shape[0]), range(cm.shape[1])):\n",
        "        plt.text(j, i, format(cm[i, j], fmt),\n",
        "                 horizontalalignment=\"center\",\n",
        "                 color=\"white\" if cm[i, j] > thresh else \"black\")\n",
        "\n",
        "    plt.ylabel('True label', fontsize=25)\n",
        "    plt.xlabel('Predicted label', fontsize=25)"
      ],
      "execution_count": 62,
      "outputs": []
    },
    {
      "cell_type": "code",
      "metadata": {
        "_uuid": "a57dc6f6211c144491a70f533225edfa95a2dc66",
        "id": "dNA2yTu65yeI",
        "outputId": "08e0c952-5daf-447e-8163-a9dcc1117acd",
        "colab": {
          "base_uri": "https://localhost:8080/",
          "height": 802
        }
      },
      "source": [
        "%%time\n",
        "\n",
        "cnf_matrix = confusion_matrix(y_test_1d, y_pred_1d)\n",
        "plt.figure(figsize=(12,12))\n",
        "plot_confusion_matrix(cnf_matrix, classes=df_train.target.unique(), title=\"Confusion matrix\")\n",
        "plt.show()"
      ],
      "execution_count": 63,
      "outputs": [
        {
          "output_type": "display_data",
          "data": {
            "image/png": "[encoded data removed]",
            "text/plain": [
              "<Figure size 864x864 with 2 Axes>"
            ]
          },
          "metadata": {
            "tags": [],
            "needs_background": "light"
          }
        },
        {
          "output_type": "stream",
          "text": [
            "CPU times: user 1.27 s, sys: 31.6 ms, total: 1.3 s\n",
            "Wall time: 1.39 s\n"
          ],
          "name": "stdout"
        }
      ]
    },
    {
      "cell_type": "markdown",
      "metadata": {
        "_uuid": "e23b957348dcc084249d3cc7538b972da471c2cd",
        "id": "Jrighkh55yeO"
      },
      "source": [
        "### Classification Report"
      ]
    },
    {
      "cell_type": "code",
      "metadata": {
        "_uuid": "a7fe05b7caa1c984ff1deb0be2f7c6bc043df9f5",
        "id": "veewudLq5yeP",
        "outputId": "515f077e-1fc5-4b11-ea56-3cc7a7d4a99f",
        "colab": {
          "base_uri": "https://localhost:8080/",
          "height": 168
        }
      },
      "source": [
        "print(classification_report(y_test_1d, y_pred_1d))"
      ],
      "execution_count": 64,
      "outputs": [
        {
          "output_type": "stream",
          "text": [
            "              precision    recall  f1-score   support\n",
            "\n",
            "    NEGATIVE       0.79      0.79      0.79    159494\n",
            "    POSITIVE       0.79      0.80      0.79    160506\n",
            "\n",
            "    accuracy                           0.79    320000\n",
            "   macro avg       0.79      0.79      0.79    320000\n",
            "weighted avg       0.79      0.79      0.79    320000\n",
            "\n"
          ],
          "name": "stdout"
        }
      ]
    },
    {
      "cell_type": "markdown",
      "metadata": {
        "_uuid": "4eb300f0c6693a618587c7dcf32f77f5416cbfb9",
        "id": "YTqIUgSN5yeS"
      },
      "source": [
        "### Accuracy Score"
      ]
    },
    {
      "cell_type": "code",
      "metadata": {
        "_uuid": "5cf76e6e09f8a60ed25947932b94c772eda44d23",
        "id": "MebSDnJw5yeT",
        "outputId": "6b1d76cb-56f5-4495-807a-e88b90f3de5f",
        "colab": {
          "base_uri": "https://localhost:8080/",
          "height": 34
        }
      },
      "source": [
        "accuracy_score(y_test_1d, y_pred_1d)"
      ],
      "execution_count": 65,
      "outputs": [
        {
          "output_type": "execute_result",
          "data": {
            "text/plain": [
              "0.791134375"
            ]
          },
          "metadata": {
            "tags": []
          },
          "execution_count": 65
        }
      ]
    },
    {
      "cell_type": "markdown",
      "metadata": {
        "_uuid": "4f014c32f3833db282e1a075c526604f34e3158c",
        "id": "IJl5vCQo5yeW"
      },
      "source": [
        "### Save model"
      ]
    },
    {
      "cell_type": "code",
      "metadata": {
        "_uuid": "3b2b3ad5b592977b404acfa1c9ad303a62837255",
        "id": "nGphHQmD5yeW",
        "outputId": "c3a583e0-43be-42bc-cd8e-713f51d0e6f5",
        "colab": {
          "base_uri": "https://localhost:8080/",
          "height": 84
        }
      },
      "source": [
        "model.save(KERAS_MODEL)\n",
        "w2v_model.save(WORD2VEC_MODEL)\n",
        "pickle.dump(tokenizer, open(TOKENIZER_MODEL, \"wb\"), protocol=0)\n",
        "pickle.dump(encoder, open(ENCODER_MODEL, \"wb\"), protocol=0)"
      ],
      "execution_count": 66,
      "outputs": [
        {
          "output_type": "stream",
          "text": [
            "2020-09-26 10:03:13,535 : INFO : saving Word2Vec object under model.w2v, separately None\n",
            "2020-09-26 10:03:13,537 : INFO : not storing attribute vectors_norm\n",
            "2020-09-26 10:03:13,538 : INFO : not storing attribute cum_table\n",
            "2020-09-26 10:03:14,592 : INFO : saved model.w2v\n"
          ],
          "name": "stderr"
        }
      ]
    },
    {
      "cell_type": "code",
      "metadata": {
        "_uuid": "cc363c54782894757f5ea8820c6a170f2e16ef93",
        "id": "CHNdHEJp5yea"
      },
      "source": [
        ""
      ],
      "execution_count": null,
      "outputs": []
    }
  ]
}