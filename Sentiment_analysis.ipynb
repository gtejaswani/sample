{
  "nbformat": 4,
  "nbformat_minor": 0,
  "metadata": {
    "kernelspec": {
      "display_name": "Python 3",
      "language": "python",
      "name": "python3"
    },
    "colab": {
      "name": "sentiment-analysis.ipynb",
      "provenance": [],
      "include_colab_link": true
    }
  },
  "cells": [
    {
      "cell_type": "markdown",
      "metadata": {
        "id": "view-in-github",
        "colab_type": "text"
      },
      "source": [
        "<a href=\"https://colab.research.google.com/github/gtejaswani/sample/blob/master/Sentiment_analysis.ipynb\" target=\"_parent\"><img src=\"https://colab.research.google.com/assets/colab-badge.svg\" alt=\"Open In Colab\"/></a>"
      ]
    },
    {
      "cell_type": "markdown",
      "metadata": {
        "_uuid": "92b885dd147dac19bd0a33db3cd0da100bd5bc23",
        "id": "pK3VHZbh5yag",
        "colab_type": "text"
      },
      "source": [
        "#Sentiment Analysis"
      ]
    },
    {
      "cell_type": "code",
      "metadata": {
        "_uuid": "70282bce8b42a51e4d44f2c7d85c4ca9567b0fd4",
        "id": "DXrl0hrv5yaj",
        "colab_type": "code",
        "colab": {
          "base_uri": "https://localhost:8080/",
          "height": 844
        },
        "outputId": "44905a9d-ce0d-49c9-88e7-13cda9566b90"
      },
      "source": [
        "!pip install gensim --upgrade\n",
        "!pip install keras --upgrade\n",
        "!pip install pandas --upgrade"
      ],
      "execution_count": null,
      "outputs": [
        {
          "output_type": "stream",
          "text": [
            "Collecting gensim\n",
            "\u001b[?25l  Downloading https://files.pythonhosted.org/packages/2b/e0/fa6326251692056dc880a64eb22117e03269906ba55a6864864d24ec8b4e/gensim-3.8.3-cp36-cp36m-manylinux1_x86_64.whl (24.2MB)\n",
            "\u001b[K     |████████████████████████████████| 24.2MB 9.5MB/s \n",
            "\u001b[?25hRequirement already satisfied, skipping upgrade: six>=1.5.0 in /usr/local/lib/python3.6/dist-packages (from gensim) (1.15.0)\n",
            "Requirement already satisfied, skipping upgrade: scipy>=0.18.1 in /usr/local/lib/python3.6/dist-packages (from gensim) (1.4.1)\n",
            "Requirement already satisfied, skipping upgrade: smart-open>=1.8.1 in /usr/local/lib/python3.6/dist-packages (from gensim) (2.1.1)\n",
            "Requirement already satisfied, skipping upgrade: numpy>=1.11.3 in /usr/local/lib/python3.6/dist-packages (from gensim) (1.18.5)\n",
            "Requirement already satisfied, skipping upgrade: boto in /usr/local/lib/python3.6/dist-packages (from smart-open>=1.8.1->gensim) (2.49.0)\n",
            "Requirement already satisfied, skipping upgrade: requests in /usr/local/lib/python3.6/dist-packages (from smart-open>=1.8.1->gensim) (2.23.0)\n",
            "Requirement already satisfied, skipping upgrade: boto3 in /usr/local/lib/python3.6/dist-packages (from smart-open>=1.8.1->gensim) (1.14.63)\n",
            "Requirement already satisfied, skipping upgrade: idna<3,>=2.5 in /usr/local/lib/python3.6/dist-packages (from requests->smart-open>=1.8.1->gensim) (2.10)\n",
            "Requirement already satisfied, skipping upgrade: chardet<4,>=3.0.2 in /usr/local/lib/python3.6/dist-packages (from requests->smart-open>=1.8.1->gensim) (3.0.4)\n",
            "Requirement already satisfied, skipping upgrade: urllib3!=1.25.0,!=1.25.1,<1.26,>=1.21.1 in /usr/local/lib/python3.6/dist-packages (from requests->smart-open>=1.8.1->gensim) (1.24.3)\n",
            "Requirement already satisfied, skipping upgrade: certifi>=2017.4.17 in /usr/local/lib/python3.6/dist-packages (from requests->smart-open>=1.8.1->gensim) (2020.6.20)\n",
            "Requirement already satisfied, skipping upgrade: s3transfer<0.4.0,>=0.3.0 in /usr/local/lib/python3.6/dist-packages (from boto3->smart-open>=1.8.1->gensim) (0.3.3)\n",
            "Requirement already satisfied, skipping upgrade: jmespath<1.0.0,>=0.7.1 in /usr/local/lib/python3.6/dist-packages (from boto3->smart-open>=1.8.1->gensim) (0.10.0)\n",
            "Requirement already satisfied, skipping upgrade: botocore<1.18.0,>=1.17.63 in /usr/local/lib/python3.6/dist-packages (from boto3->smart-open>=1.8.1->gensim) (1.17.63)\n",
            "Requirement already satisfied, skipping upgrade: python-dateutil<3.0.0,>=2.1 in /usr/local/lib/python3.6/dist-packages (from botocore<1.18.0,>=1.17.63->boto3->smart-open>=1.8.1->gensim) (2.8.1)\n",
            "Requirement already satisfied, skipping upgrade: docutils<0.16,>=0.10 in /usr/local/lib/python3.6/dist-packages (from botocore<1.18.0,>=1.17.63->boto3->smart-open>=1.8.1->gensim) (0.15.2)\n",
            "Installing collected packages: gensim\n",
            "  Found existing installation: gensim 3.6.0\n",
            "    Uninstalling gensim-3.6.0:\n",
            "      Successfully uninstalled gensim-3.6.0\n",
            "Successfully installed gensim-3.8.3\n",
            "Requirement already up-to-date: keras in /usr/local/lib/python3.6/dist-packages (2.4.3)\n",
            "Requirement already satisfied, skipping upgrade: scipy>=0.14 in /usr/local/lib/python3.6/dist-packages (from keras) (1.4.1)\n",
            "Requirement already satisfied, skipping upgrade: h5py in /usr/local/lib/python3.6/dist-packages (from keras) (2.10.0)\n",
            "Requirement already satisfied, skipping upgrade: numpy>=1.9.1 in /usr/local/lib/python3.6/dist-packages (from keras) (1.18.5)\n",
            "Requirement already satisfied, skipping upgrade: pyyaml in /usr/local/lib/python3.6/dist-packages (from keras) (3.13)\n",
            "Requirement already satisfied, skipping upgrade: six in /usr/local/lib/python3.6/dist-packages (from h5py->keras) (1.15.0)\n",
            "Collecting pandas\n",
            "\u001b[?25l  Downloading https://files.pythonhosted.org/packages/1c/11/e1f53db0614f2721027aab297c8afd2eaf58d33d566441a97ea454541c5e/pandas-1.1.2-cp36-cp36m-manylinux1_x86_64.whl (10.5MB)\n",
            "\u001b[K     |████████████████████████████████| 10.5MB 2.6MB/s \n",
            "\u001b[?25hRequirement already satisfied, skipping upgrade: numpy>=1.15.4 in /usr/local/lib/python3.6/dist-packages (from pandas) (1.18.5)\n",
            "Requirement already satisfied, skipping upgrade: python-dateutil>=2.7.3 in /usr/local/lib/python3.6/dist-packages (from pandas) (2.8.1)\n",
            "Requirement already satisfied, skipping upgrade: pytz>=2017.2 in /usr/local/lib/python3.6/dist-packages (from pandas) (2018.9)\n",
            "Requirement already satisfied, skipping upgrade: six>=1.5 in /usr/local/lib/python3.6/dist-packages (from python-dateutil>=2.7.3->pandas) (1.15.0)\n",
            "\u001b[31mERROR: google-colab 1.0.0 has requirement pandas~=1.0.0; python_version >= \"3.0\", but you'll have pandas 1.1.2 which is incompatible.\u001b[0m\n",
            "Installing collected packages: pandas\n",
            "  Found existing installation: pandas 1.0.5\n",
            "    Uninstalling pandas-1.0.5:\n",
            "      Successfully uninstalled pandas-1.0.5\n",
            "Successfully installed pandas-1.1.2\n"
          ],
          "name": "stdout"
        },
        {
          "output_type": "display_data",
          "data": {
            "application/vnd.colab-display-data+json": {
              "pip_warning": {
                "packages": [
                  "pandas"
                ]
              }
            }
          },
          "metadata": {
            "tags": []
          }
        }
      ]
    },
    {
      "cell_type": "code",
      "metadata": {
        "id": "br97uKH3axYL",
        "colab_type": "code",
        "colab": {
          "base_uri": "https://localhost:8080/",
          "height": 34
        },
        "outputId": "b37fe78c-2b98-40a7-821b-66414c00fa15"
      },
      "source": [
        "from google.colab import drive\n",
        "drive.mount('/content/drive')"
      ],
      "execution_count": null,
      "outputs": [
        {
          "output_type": "stream",
          "text": [
            "Mounted at /content/drive\n"
          ],
          "name": "stdout"
        }
      ]
    },
    {
      "cell_type": "code",
      "metadata": {
        "_uuid": "303e72966af732ddef0bd8108a321095314e44af",
        "id": "MJ7cI_g05ya0",
        "colab_type": "code",
        "colab": {}
      },
      "source": [
        "# DataFrame\n",
        "import pandas as pd\n",
        "\n",
        "# Matplot\n",
        "import matplotlib.pyplot as plt\n",
        "%matplotlib inline\n",
        "\n",
        "# Scikit-learn\n",
        "from sklearn.model_selection import train_test_split\n",
        "from sklearn.preprocessing import LabelEncoder\n",
        "from sklearn.metrics import confusion_matrix, classification_report, accuracy_score\n",
        "from sklearn.manifold import TSNE\n",
        "from sklearn.feature_extraction.text import TfidfVectorizer\n",
        "\n",
        "# Keras\n",
        "from keras.preprocessing.text import Tokenizer\n",
        "from keras.preprocessing.sequence import pad_sequences\n",
        "from keras.models import Sequential\n",
        "from keras.layers import Activation, Dense, Dropout, Embedding, Flatten, Conv1D, MaxPooling1D, LSTM\n",
        "from keras import utils\n",
        "from keras.callbacks import ReduceLROnPlateau, EarlyStopping\n",
        "\n",
        "# nltk\n",
        "import nltk\n",
        "from nltk.corpus import stopwords\n",
        "from  nltk.stem import SnowballStemmer\n",
        "\n",
        "# Word2vec\n",
        "import gensim\n",
        "\n",
        "# Utility\n",
        "import re\n",
        "import numpy as np\n",
        "import os\n",
        "from collections import Counter\n",
        "import logging\n",
        "import time\n",
        "import pickle\n",
        "import itertools\n",
        "\n",
        "# Set log\n",
        "logging.basicConfig(format='%(asctime)s : %(levelname)s : %(message)s', level=logging.INFO)"
      ],
      "execution_count": null,
      "outputs": []
    },
    {
      "cell_type": "code",
      "metadata": {
        "_uuid": "35e1a89dead5fd160e4c9a024a21d2e569fc89ff",
        "id": "ndFANF2w5ya-",
        "colab_type": "code",
        "colab": {
          "base_uri": "https://localhost:8080/",
          "height": 67
        },
        "outputId": "09c66452-c635-4f06-870e-371e1fab0981"
      },
      "source": [
        "nltk.download('stopwords')"
      ],
      "execution_count": null,
      "outputs": [
        {
          "output_type": "stream",
          "text": [
            "[nltk_data] Downloading package stopwords to /root/nltk_data...\n",
            "[nltk_data]   Unzipping corpora/stopwords.zip.\n"
          ],
          "name": "stdout"
        },
        {
          "output_type": "execute_result",
          "data": {
            "text/plain": [
              "True"
            ]
          },
          "metadata": {
            "tags": []
          },
          "execution_count": 4
        }
      ]
    },
    {
      "cell_type": "markdown",
      "metadata": {
        "_uuid": "e8b01a07df001e4abcc745900336c4db06e455f3",
        "id": "LxWHRuso5ybK",
        "colab_type": "text"
      },
      "source": [
        "### Settings"
      ]
    },
    {
      "cell_type": "code",
      "metadata": {
        "_uuid": "180f0dd2a95419e4602b5c0229822b0111c826f6",
        "id": "FlUcRExE5ybN",
        "colab_type": "code",
        "colab": {}
      },
      "source": [
        "# DATASET\n",
        "DATASET_COLUMNS = [\"target\", \"ids\", \"date\", \"flag\", \"user\", \"text\"]\n",
        "DATASET_ENCODING = \"ISO-8859-1\"\n",
        "TRAIN_SIZE = 0.8\n",
        "\n",
        "# TEXT CLENAING\n",
        "TEXT_CLEANING_RE = \"@\\S+|https?:\\S+|http?:\\S|[^A-Za-z0-9]+\"\n",
        "\n",
        "# WORD2VEC \n",
        "W2V_SIZE = 300\n",
        "W2V_WINDOW = 7\n",
        "W2V_EPOCH = 32\n",
        "W2V_MIN_COUNT = 10\n",
        "\n",
        "# KERAS\n",
        "SEQUENCE_LENGTH = 300\n",
        "EPOCHS = 8\n",
        "BATCH_SIZE = 1024\n",
        "\n",
        "# SENTIMENT\n",
        "POSITIVE = \"POSITIVE\"\n",
        "NEGATIVE = \"NEGATIVE\"\n",
        "NEUTRAL = \"NEUTRAL\"\n",
        "SENTIMENT_THRESHOLDS = (0.4, 0.7)\n",
        "\n",
        "# EXPORT\n",
        "KERAS_MODEL = \"model.h5\"\n",
        "WORD2VEC_MODEL = \"model.w2v\"\n",
        "TOKENIZER_MODEL = \"tokenizer.pkl\"\n",
        "ENCODER_MODEL = \"encoder.pkl\""
      ],
      "execution_count": null,
      "outputs": []
    },
    {
      "cell_type": "markdown",
      "metadata": {
        "_uuid": "1c3beecc618be68480b3d4f0de08d9d863da1dc1",
        "id": "QExjLxDm5ybV",
        "colab_type": "text"
      },
      "source": [
        "### Read Dataset"
      ]
    },
    {
      "cell_type": "markdown",
      "metadata": {
        "_uuid": "563b3c44f1092dba0b853747b098e00509098cca",
        "id": "j5wpN9kO5ybW",
        "colab_type": "text"
      },
      "source": [
        "### Dataset details\n",
        "* **target**: the polarity of the tweet (0 = negative, 2 = neutral, 4 = positive)\n",
        "* **ids**: The id of the tweet ( 2087)\n",
        "* **date**: the date of the tweet (Sat May 16 23:58:44 UTC 2009)\n",
        "* **flag**: The query (lyx). If there is no query, then this value is NO_QUERY.\n",
        "* **user**: the user that tweeted (robotickilldozr)\n",
        "* **text**: the text of the tweet (Lyx is cool)"
      ]
    },
    {
      "cell_type": "code",
      "metadata": {
        "id": "P_mAfNGD6Uhz",
        "colab_type": "code",
        "colab": {
          "base_uri": "https://localhost:8080/",
          "height": 34
        },
        "outputId": "b0651be3-e153-41d8-a6ff-0917886ea688"
      },
      "source": [
        "\n",
        "from google.colab import drive\n",
        "drive.mount('/content/drive')"
      ],
      "execution_count": null,
      "outputs": [
        {
          "output_type": "stream",
          "text": [
            "Drive already mounted at /content/drive; to attempt to forcibly remount, call drive.mount(\"/content/drive\", force_remount=True).\n"
          ],
          "name": "stdout"
        }
      ]
    },
    {
      "cell_type": "code",
      "metadata": {
        "_uuid": "bba8f91cd70de4f5ea0fb0870ae2029b6e3dcc24",
        "id": "speqjwcQ5ybh",
        "colab_type": "code",
        "colab": {}
      },
      "source": [
        "path=(\"/content/drive/My Drive/Copy of 1.csv\")\n",
        "df = pd.read_csv(path, encoding =DATASET_ENCODING , names=DATASET_COLUMNS)"
      ],
      "execution_count": null,
      "outputs": []
    },
    {
      "cell_type": "code",
      "metadata": {
        "_uuid": "936d499c00c4f1648bc16ca9d283c3b39be7fb10",
        "id": "lafz6BRR5ybq",
        "colab_type": "code",
        "colab": {
          "base_uri": "https://localhost:8080/",
          "height": 34
        },
        "outputId": "91250b5a-03c4-4d29-edcb-a9d41ed2b9dc"
      },
      "source": [
        "print(\"Dataset size:\", len(df))"
      ],
      "execution_count": null,
      "outputs": [
        {
          "output_type": "stream",
          "text": [
            "Dataset size: 1600000\n"
          ],
          "name": "stdout"
        }
      ]
    },
    {
      "cell_type": "code",
      "metadata": {
        "_uuid": "7486ed895b813c5246f97b31b6162b0f65ff763b",
        "id": "wsoEiGIB5ybv",
        "colab_type": "code",
        "colab": {}
      },
      "source": [
        "df.head(5)"
      ],
      "execution_count": null,
      "outputs": []
    },
    {
      "cell_type": "markdown",
      "metadata": {
        "_uuid": "3f9a7bb129e184967b13261fb5d253af451c75c5",
        "id": "ezcFHr5h5yb2",
        "colab_type": "text"
      },
      "source": [
        "### Map target label to String\n",
        "* **0** -> **NEGATIVE**\n",
        "* **2** -> **NEUTRAL**\n",
        "* **4** -> **POSITIVE**"
      ]
    },
    {
      "cell_type": "code",
      "metadata": {
        "_uuid": "14074b59106cb9550440839e48b832223fc9502f",
        "id": "E_E-oJBx5yb3",
        "colab_type": "code",
        "colab": {}
      },
      "source": [
        "decode_map = {0: \"NEGATIVE\", 2: \"NEUTRAL\", 4: \"POSITIVE\"}\n",
        "def decode_sentiment(label):\n",
        "    return decode_map[int(label)]"
      ],
      "execution_count": null,
      "outputs": []
    },
    {
      "cell_type": "code",
      "metadata": {
        "_uuid": "4449d473187f647a195a6ac6986b009da32a7f4b",
        "id": "qhy9rQaG5yb6",
        "colab_type": "code",
        "colab": {
          "base_uri": "https://localhost:8080/",
          "height": 50
        },
        "outputId": "b1f46c78-da0a-4b0f-8ee7-d0c2fc19578b"
      },
      "source": [
        "%%time\n",
        "df.target = df.target.apply(lambda x: decode_sentiment(x))"
      ],
      "execution_count": null,
      "outputs": [
        {
          "output_type": "stream",
          "text": [
            "CPU times: user 520 ms, sys: 1.93 ms, total: 522 ms\n",
            "Wall time: 527 ms\n"
          ],
          "name": "stdout"
        }
      ]
    },
    {
      "cell_type": "code",
      "metadata": {
        "_uuid": "19eb327803192f31cce3512aacb232f4d6b38715",
        "id": "b4UnzK5O5yb9",
        "colab_type": "code",
        "colab": {
          "base_uri": "https://localhost:8080/",
          "height": 516
        },
        "outputId": "65ed4605-43d1-45d0-e9d5-992e4307d7c1"
      },
      "source": [
        "target_cnt = Counter(df.target)\n",
        "\n",
        "plt.figure(figsize=(16,8))\n",
        "plt.bar(target_cnt.keys(), target_cnt.values())\n",
        "plt.title(\"Dataset labels distribuition\")"
      ],
      "execution_count": null,
      "outputs": [
        {
          "output_type": "execute_result",
          "data": {
            "text/plain": [
              "Text(0.5, 1.0, 'Dataset labels distribuition')"
            ]
          },
          "metadata": {
            "tags": []
          },
          "execution_count": 16
        },
        {
          "output_type": "display_data",
          "data": {
            "image/png": "[encoded data removed]",
            "text/plain": [
              "<Figure size 1152x576 with 1 Axes>"
            ]
          },
          "metadata": {
            "tags": [],
            "needs_background": "light"
          }
        }
      ]
    },
    {
      "cell_type": "markdown",
      "metadata": {
        "_uuid": "4329b1573518b03e497213efa7676220734ebb4b",
        "id": "KcgPt7O95ycB",
        "colab_type": "text"
      },
      "source": [
        "### Pre-Process dataset"
      ]
    },
    {
      "cell_type": "code",
      "metadata": {
        "_uuid": "8aeee8b7b9ea11b749c7f91cd4787a7b50ed1a91",
        "id": "Jtnw20-p5ycB",
        "colab_type": "code",
        "colab": {}
      },
      "source": [
        "stop_words = stopwords.words(\"english\")\n",
        "stemmer = SnowballStemmer(\"english\")"
      ],
      "execution_count": null,
      "outputs": []
    },
    {
      "cell_type": "code",
      "metadata": {
        "_uuid": "649ebcb97969b9ac4301138783704bb3d7846a49",
        "id": "agauA70L5ycH",
        "colab_type": "code",
        "colab": {}
      },
      "source": [
        "def preprocess(text, stem=False):\n",
        "    # Remove link,user and special characters\n",
        "    text = re.sub(TEXT_CLEANING_RE, ' ', str(text).lower()).strip()\n",
        "    tokens = []\n",
        "    for token in text.split():\n",
        "        if token not in stop_words:\n",
        "            if stem:\n",
        "                tokens.append(stemmer.stem(token))\n",
        "            else:\n",
        "                tokens.append(token)\n",
        "    return \" \".join(tokens)"
      ],
      "execution_count": null,
      "outputs": []
    },
    {
      "cell_type": "code",
      "metadata": {
        "_uuid": "f7f3e77ab9291d14687c49e71ba9b2b1e3323432",
        "id": "YFh7dth25ycL",
        "colab_type": "code",
        "colab": {
          "base_uri": "https://localhost:8080/",
          "height": 50
        },
        "outputId": "6d8f0e0e-02ba-40d9-b678-5aeb703573bb"
      },
      "source": [
        "%%time\n",
        "df.text = df.text.apply(lambda x: preprocess(x))"
      ],
      "execution_count": null,
      "outputs": [
        {
          "output_type": "stream",
          "text": [
            "CPU times: user 44.8 s, sys: 272 ms, total: 45.1 s\n",
            "Wall time: 45.2 s\n"
          ],
          "name": "stdout"
        }
      ]
    },
    {
      "cell_type": "markdown",
      "metadata": {
        "_uuid": "f5f9714a8507409bbe780eebf2855a33e8e6ba37",
        "id": "IydlctA55ycO",
        "colab_type": "text"
      },
      "source": [
        "### Split train and test"
      ]
    },
    {
      "cell_type": "code",
      "metadata": {
        "_uuid": "d2b1179c968e3f3910c790ecf0c5b2cbb34b0e68",
        "id": "YTc-a-Os5ycP",
        "colab_type": "code",
        "colab": {
          "base_uri": "https://localhost:8080/",
          "height": 50
        },
        "outputId": "66352369-f373-4d75-8435-7050c7da4a69"
      },
      "source": [
        "df_train, df_test = train_test_split(df, test_size=1-TRAIN_SIZE, random_state=42)\n",
        "print(\"TRAIN size:\", len(df_train))\n",
        "print(\"TEST size:\", len(df_test))"
      ],
      "execution_count": null,
      "outputs": [
        {
          "output_type": "stream",
          "text": [
            "TRAIN size: 1280000\n",
            "TEST size: 320000\n"
          ],
          "name": "stdout"
        }
      ]
    },
    {
      "cell_type": "markdown",
      "metadata": {
        "_uuid": "f08a28aab2c3d16d8b9681a7d5d07587153a1cd6",
        "id": "qkyep4fO5ycT",
        "colab_type": "text"
      },
      "source": [
        "### Word2Vec "
      ]
    },
    {
      "cell_type": "code",
      "metadata": {
        "_uuid": "2461bf564de1b4414841933d0c1d1bee5f5cc5a6",
        "id": "gWlAx96v5ycU",
        "colab_type": "code",
        "colab": {
          "base_uri": "https://localhost:8080/",
          "height": 50
        },
        "outputId": "31bedb1e-5c53-4feb-d34e-1dfb1c14915e"
      },
      "source": [
        "%%time\n",
        "documents = [_text.split() for _text in df_train.text] \n",
        "import os\n",
        "path=(\"/content/drive/My Drive/Copy of model.w2v\")\n",
        "model_exists = os.path.isfile('path')"
      ],
      "execution_count": null,
      "outputs": [
        {
          "output_type": "stream",
          "text": [
            "CPU times: user 3.48 s, sys: 446 ms, total: 3.93 s\n",
            "Wall time: 3.93 s\n"
          ],
          "name": "stdout"
        }
      ]
    },
    {
      "cell_type": "code",
      "metadata": {
        "id": "0V0Ef458_qDd",
        "colab_type": "code",
        "colab": {}
      },
      "source": [
        "if model_exists:\n",
        "    from gensim.models import Word2Vec\n",
        "    w2v_model=Word2Vec.load(r\"/content/drive/My Drive/Colab Notebooks/model.w2v\")\n",
        "    print(\"w2v model exists, existing model loaded.\")\n",
        "else:\n",
        "    w2v_model = gensim.models.word2vec.Word2Vec(size=W2V_SIZE, \n",
        "                                            window=W2V_WINDOW, \n",
        "                                            min_count=W2V_MIN_COUNT, \n",
        "                                            workers=8)"
      ],
      "execution_count": null,
      "outputs": []
    },
    {
      "cell_type": "code",
      "metadata": {
        "id": "YiE71ze1_WQP",
        "colab_type": "code",
        "colab": {
          "base_uri": "https://localhost:8080/",
          "height": 1000
        },
        "outputId": "9479b96d-7b3c-4579-8947-70218455fd39"
      },
      "source": [
        "if not model_exists:\n",
        "    w2v_model.build_vocab(documents)"
      ],
      "execution_count": null,
      "outputs": [
        {
          "output_type": "stream",
          "text": [
            "2020-09-22 15:40:09,720 : INFO : collecting all words and their counts\n",
            "2020-09-22 15:40:09,722 : INFO : PROGRESS: at sentence #0, processed 0 words, keeping 0 word types\n",
            "2020-09-22 15:40:09,755 : INFO : PROGRESS: at sentence #10000, processed 72565 words, keeping 14005 word types\n",
            "2020-09-22 15:40:09,782 : INFO : PROGRESS: at sentence #20000, processed 144393 words, keeping 21587 word types\n",
            "2020-09-22 15:40:09,811 : INFO : PROGRESS: at sentence #30000, processed 215826 words, keeping 27541 word types\n",
            "2020-09-22 15:40:09,838 : INFO : PROGRESS: at sentence #40000, processed 288271 words, keeping 32764 word types\n",
            "2020-09-22 15:40:09,865 : INFO : PROGRESS: at sentence #50000, processed 359772 words, keeping 37587 word types\n",
            "2020-09-22 15:40:09,893 : INFO : PROGRESS: at sentence #60000, processed 431431 words, keeping 42198 word types\n",
            "2020-09-22 15:40:09,924 : INFO : PROGRESS: at sentence #70000, processed 503103 words, keeping 46458 word types\n",
            "2020-09-22 15:40:09,954 : INFO : PROGRESS: at sentence #80000, processed 575709 words, keeping 50476 word types\n",
            "2020-09-22 15:40:09,983 : INFO : PROGRESS: at sentence #90000, processed 647100 words, keeping 54140 word types\n",
            "2020-09-22 15:40:10,011 : INFO : PROGRESS: at sentence #100000, processed 718681 words, keeping 57777 word types\n",
            "2020-09-22 15:40:10,047 : INFO : PROGRESS: at sentence #110000, processed 790696 words, keeping 61207 word types\n",
            "2020-09-22 15:40:10,077 : INFO : PROGRESS: at sentence #120000, processed 863134 words, keeping 64583 word types\n",
            "2020-09-22 15:40:10,104 : INFO : PROGRESS: at sentence #130000, processed 935111 words, keeping 67865 word types\n",
            "2020-09-22 15:40:10,138 : INFO : PROGRESS: at sentence #140000, processed 1006668 words, keeping 70966 word types\n",
            "2020-09-22 15:40:10,166 : INFO : PROGRESS: at sentence #150000, processed 1078512 words, keeping 74119 word types\n",
            "2020-09-22 15:40:10,200 : INFO : PROGRESS: at sentence #160000, processed 1149914 words, keeping 77187 word types\n",
            "2020-09-22 15:40:10,230 : INFO : PROGRESS: at sentence #170000, processed 1222145 words, keeping 80267 word types\n",
            "2020-09-22 15:40:10,261 : INFO : PROGRESS: at sentence #180000, processed 1294708 words, keeping 83393 word types\n",
            "2020-09-22 15:40:10,306 : INFO : PROGRESS: at sentence #190000, processed 1367608 words, keeping 86329 word types\n",
            "2020-09-22 15:40:10,338 : INFO : PROGRESS: at sentence #200000, processed 1439469 words, keeping 89103 word types\n",
            "2020-09-22 15:40:10,367 : INFO : PROGRESS: at sentence #210000, processed 1512099 words, keeping 91840 word types\n",
            "2020-09-22 15:40:10,396 : INFO : PROGRESS: at sentence #220000, processed 1584149 words, keeping 94636 word types\n",
            "2020-09-22 15:40:10,426 : INFO : PROGRESS: at sentence #230000, processed 1656354 words, keeping 97353 word types\n",
            "2020-09-22 15:40:10,459 : INFO : PROGRESS: at sentence #240000, processed 1728573 words, keeping 99975 word types\n",
            "2020-09-22 15:40:10,487 : INFO : PROGRESS: at sentence #250000, processed 1801102 words, keeping 102594 word types\n",
            "2020-09-22 15:40:10,516 : INFO : PROGRESS: at sentence #260000, processed 1873103 words, keeping 105162 word types\n",
            "2020-09-22 15:40:10,546 : INFO : PROGRESS: at sentence #270000, processed 1945245 words, keeping 107626 word types\n",
            "2020-09-22 15:40:10,574 : INFO : PROGRESS: at sentence #280000, processed 2017163 words, keeping 110141 word types\n",
            "2020-09-22 15:40:10,606 : INFO : PROGRESS: at sentence #290000, processed 2089574 words, keeping 112539 word types\n",
            "2020-09-22 15:40:10,635 : INFO : PROGRESS: at sentence #300000, processed 2160996 words, keeping 114893 word types\n",
            "2020-09-22 15:40:10,666 : INFO : PROGRESS: at sentence #310000, processed 2232913 words, keeping 117298 word types\n",
            "2020-09-22 15:40:10,695 : INFO : PROGRESS: at sentence #320000, processed 2305039 words, keeping 119693 word types\n",
            "2020-09-22 15:40:10,727 : INFO : PROGRESS: at sentence #330000, processed 2377119 words, keeping 122131 word types\n",
            "2020-09-22 15:40:10,759 : INFO : PROGRESS: at sentence #340000, processed 2449370 words, keeping 124416 word types\n",
            "2020-09-22 15:40:10,790 : INFO : PROGRESS: at sentence #350000, processed 2521564 words, keeping 126669 word types\n",
            "2020-09-22 15:40:10,821 : INFO : PROGRESS: at sentence #360000, processed 2593681 words, keeping 128912 word types\n",
            "2020-09-22 15:40:10,852 : INFO : PROGRESS: at sentence #370000, processed 2665692 words, keeping 131135 word types\n",
            "2020-09-22 15:40:10,885 : INFO : PROGRESS: at sentence #380000, processed 2737859 words, keeping 133403 word types\n",
            "2020-09-22 15:40:10,916 : INFO : PROGRESS: at sentence #390000, processed 2809848 words, keeping 135551 word types\n",
            "2020-09-22 15:40:10,949 : INFO : PROGRESS: at sentence #400000, processed 2882438 words, keeping 137742 word types\n",
            "2020-09-22 15:40:10,984 : INFO : PROGRESS: at sentence #410000, processed 2954075 words, keeping 139909 word types\n",
            "2020-09-22 15:40:11,017 : INFO : PROGRESS: at sentence #420000, processed 3026247 words, keeping 142144 word types\n",
            "2020-09-22 15:40:11,046 : INFO : PROGRESS: at sentence #430000, processed 3098659 words, keeping 144364 word types\n",
            "2020-09-22 15:40:11,080 : INFO : PROGRESS: at sentence #440000, processed 3170663 words, keeping 146439 word types\n",
            "2020-09-22 15:40:11,110 : INFO : PROGRESS: at sentence #450000, processed 3243344 words, keeping 148526 word types\n",
            "2020-09-22 15:40:11,146 : INFO : PROGRESS: at sentence #460000, processed 3315466 words, keeping 150610 word types\n",
            "2020-09-22 15:40:11,177 : INFO : PROGRESS: at sentence #470000, processed 3388295 words, keeping 152737 word types\n",
            "2020-09-22 15:40:11,205 : INFO : PROGRESS: at sentence #480000, processed 3460120 words, keeping 154757 word types\n",
            "2020-09-22 15:40:11,240 : INFO : PROGRESS: at sentence #490000, processed 3531883 words, keeping 156825 word types\n",
            "2020-09-22 15:40:11,272 : INFO : PROGRESS: at sentence #500000, processed 3604217 words, keeping 158859 word types\n",
            "2020-09-22 15:40:11,306 : INFO : PROGRESS: at sentence #510000, processed 3676427 words, keeping 160852 word types\n",
            "2020-09-22 15:40:11,340 : INFO : PROGRESS: at sentence #520000, processed 3749045 words, keeping 162863 word types\n",
            "2020-09-22 15:40:11,372 : INFO : PROGRESS: at sentence #530000, processed 3821622 words, keeping 164929 word types\n",
            "2020-09-22 15:40:11,408 : INFO : PROGRESS: at sentence #540000, processed 3893627 words, keeping 166840 word types\n",
            "2020-09-22 15:40:11,441 : INFO : PROGRESS: at sentence #550000, processed 3965477 words, keeping 168799 word types\n",
            "2020-09-22 15:40:11,474 : INFO : PROGRESS: at sentence #560000, processed 4038050 words, keeping 170802 word types\n",
            "2020-09-22 15:40:11,505 : INFO : PROGRESS: at sentence #570000, processed 4110296 words, keeping 172760 word types\n",
            "2020-09-22 15:40:11,535 : INFO : PROGRESS: at sentence #580000, processed 4182385 words, keeping 174635 word types\n",
            "2020-09-22 15:40:11,579 : INFO : PROGRESS: at sentence #590000, processed 4254632 words, keeping 176470 word types\n",
            "2020-09-22 15:40:11,611 : INFO : PROGRESS: at sentence #600000, processed 4326859 words, keeping 178350 word types\n",
            "2020-09-22 15:40:11,643 : INFO : PROGRESS: at sentence #610000, processed 4399183 words, keeping 180290 word types\n",
            "2020-09-22 15:40:11,672 : INFO : PROGRESS: at sentence #620000, processed 4471343 words, keeping 182129 word types\n",
            "2020-09-22 15:40:11,705 : INFO : PROGRESS: at sentence #630000, processed 4543286 words, keeping 184005 word types\n",
            "2020-09-22 15:40:11,739 : INFO : PROGRESS: at sentence #640000, processed 4615780 words, keeping 185835 word types\n",
            "2020-09-22 15:40:11,775 : INFO : PROGRESS: at sentence #650000, processed 4688481 words, keeping 187705 word types\n",
            "2020-09-22 15:40:11,808 : INFO : PROGRESS: at sentence #660000, processed 4760481 words, keeping 189439 word types\n",
            "2020-09-22 15:40:11,837 : INFO : PROGRESS: at sentence #670000, processed 4833024 words, keeping 191232 word types\n",
            "2020-09-22 15:40:11,866 : INFO : PROGRESS: at sentence #680000, processed 4904516 words, keeping 193177 word types\n",
            "2020-09-22 15:40:11,894 : INFO : PROGRESS: at sentence #690000, processed 4976968 words, keeping 194960 word types\n",
            "2020-09-22 15:40:11,923 : INFO : PROGRESS: at sentence #700000, processed 5049412 words, keeping 196725 word types\n",
            "2020-09-22 15:40:11,954 : INFO : PROGRESS: at sentence #710000, processed 5121976 words, keeping 198516 word types\n",
            "2020-09-22 15:40:11,982 : INFO : PROGRESS: at sentence #720000, processed 5193881 words, keeping 200325 word types\n",
            "2020-09-22 15:40:12,013 : INFO : PROGRESS: at sentence #730000, processed 5265467 words, keeping 202133 word types\n",
            "2020-09-22 15:40:12,044 : INFO : PROGRESS: at sentence #740000, processed 5337518 words, keeping 203818 word types\n",
            "2020-09-22 15:40:12,079 : INFO : PROGRESS: at sentence #750000, processed 5409321 words, keeping 205535 word types\n",
            "2020-09-22 15:40:12,109 : INFO : PROGRESS: at sentence #760000, processed 5481512 words, keeping 207282 word types\n",
            "2020-09-22 15:40:12,147 : INFO : PROGRESS: at sentence #770000, processed 5554093 words, keeping 209076 word types\n",
            "2020-09-22 15:40:12,173 : INFO : PROGRESS: at sentence #780000, processed 5625382 words, keeping 210805 word types\n",
            "2020-09-22 15:40:12,203 : INFO : PROGRESS: at sentence #790000, processed 5698066 words, keeping 212618 word types\n",
            "2020-09-22 15:40:12,234 : INFO : PROGRESS: at sentence #800000, processed 5770880 words, keeping 214374 word types\n",
            "2020-09-22 15:40:12,265 : INFO : PROGRESS: at sentence #810000, processed 5843418 words, keeping 216009 word types\n",
            "2020-09-22 15:40:12,302 : INFO : PROGRESS: at sentence #820000, processed 5915628 words, keeping 217804 word types\n",
            "2020-09-22 15:40:12,345 : INFO : PROGRESS: at sentence #830000, processed 5987499 words, keeping 219585 word types\n",
            "2020-09-22 15:40:12,375 : INFO : PROGRESS: at sentence #840000, processed 6058973 words, keeping 221344 word types\n",
            "2020-09-22 15:40:12,404 : INFO : PROGRESS: at sentence #850000, processed 6131125 words, keeping 223002 word types\n",
            "2020-09-22 15:40:12,435 : INFO : PROGRESS: at sentence #860000, processed 6202951 words, keeping 224643 word types\n",
            "2020-09-22 15:40:12,467 : INFO : PROGRESS: at sentence #870000, processed 6275461 words, keeping 226362 word types\n",
            "2020-09-22 15:40:12,496 : INFO : PROGRESS: at sentence #880000, processed 6347661 words, keeping 227986 word types\n",
            "2020-09-22 15:40:12,527 : INFO : PROGRESS: at sentence #890000, processed 6419806 words, keeping 229634 word types\n",
            "2020-09-22 15:40:12,556 : INFO : PROGRESS: at sentence #900000, processed 6491644 words, keeping 231389 word types\n",
            "2020-09-22 15:40:12,586 : INFO : PROGRESS: at sentence #910000, processed 6564022 words, keeping 233050 word types\n",
            "2020-09-22 15:40:12,616 : INFO : PROGRESS: at sentence #920000, processed 6636228 words, keeping 234686 word types\n",
            "2020-09-22 15:40:12,647 : INFO : PROGRESS: at sentence #930000, processed 6708573 words, keeping 236393 word types\n",
            "2020-09-22 15:40:12,678 : INFO : PROGRESS: at sentence #940000, processed 6779956 words, keeping 238052 word types\n",
            "2020-09-22 15:40:12,707 : INFO : PROGRESS: at sentence #950000, processed 6852599 words, keeping 239716 word types\n",
            "2020-09-22 15:40:12,737 : INFO : PROGRESS: at sentence #960000, processed 6924717 words, keeping 241354 word types\n",
            "2020-09-22 15:40:12,767 : INFO : PROGRESS: at sentence #970000, processed 6996992 words, keeping 242980 word types\n",
            "2020-09-22 15:40:12,795 : INFO : PROGRESS: at sentence #980000, processed 7068402 words, keeping 244646 word types\n",
            "2020-09-22 15:40:12,824 : INFO : PROGRESS: at sentence #990000, processed 7140346 words, keeping 246186 word types\n",
            "2020-09-22 15:40:12,853 : INFO : PROGRESS: at sentence #1000000, processed 7211757 words, keeping 247726 word types\n",
            "2020-09-22 15:40:12,883 : INFO : PROGRESS: at sentence #1010000, processed 7283267 words, keeping 249288 word types\n",
            "2020-09-22 15:40:12,913 : INFO : PROGRESS: at sentence #1020000, processed 7355299 words, keeping 250860 word types\n",
            "2020-09-22 15:40:12,943 : INFO : PROGRESS: at sentence #1030000, processed 7426918 words, keeping 252366 word types\n",
            "2020-09-22 15:40:12,973 : INFO : PROGRESS: at sentence #1040000, processed 7498815 words, keeping 253930 word types\n",
            "2020-09-22 15:40:13,003 : INFO : PROGRESS: at sentence #1050000, processed 7570499 words, keeping 255471 word types\n",
            "2020-09-22 15:40:13,034 : INFO : PROGRESS: at sentence #1060000, processed 7643251 words, keeping 257035 word types\n",
            "2020-09-22 15:40:13,062 : INFO : PROGRESS: at sentence #1070000, processed 7714721 words, keeping 258509 word types\n",
            "2020-09-22 15:40:13,093 : INFO : PROGRESS: at sentence #1080000, processed 7787371 words, keeping 260071 word types\n",
            "2020-09-22 15:40:13,128 : INFO : PROGRESS: at sentence #1090000, processed 7859336 words, keeping 261683 word types\n",
            "2020-09-22 15:40:13,157 : INFO : PROGRESS: at sentence #1100000, processed 7932029 words, keeping 263278 word types\n",
            "2020-09-22 15:40:13,188 : INFO : PROGRESS: at sentence #1110000, processed 8004146 words, keeping 264800 word types\n",
            "2020-09-22 15:40:13,218 : INFO : PROGRESS: at sentence #1120000, processed 8075880 words, keeping 266309 word types\n",
            "2020-09-22 15:40:13,264 : INFO : PROGRESS: at sentence #1130000, processed 8148163 words, keeping 267826 word types\n",
            "2020-09-22 15:40:13,297 : INFO : PROGRESS: at sentence #1140000, processed 8220487 words, keeping 269391 word types\n",
            "2020-09-22 15:40:13,336 : INFO : PROGRESS: at sentence #1150000, processed 8292498 words, keeping 270894 word types\n",
            "2020-09-22 15:40:13,372 : INFO : PROGRESS: at sentence #1160000, processed 8363838 words, keeping 272400 word types\n",
            "2020-09-22 15:40:13,404 : INFO : PROGRESS: at sentence #1170000, processed 8435510 words, keeping 273970 word types\n",
            "2020-09-22 15:40:13,452 : INFO : PROGRESS: at sentence #1180000, processed 8507795 words, keeping 275521 word types\n",
            "2020-09-22 15:40:13,483 : INFO : PROGRESS: at sentence #1190000, processed 8579080 words, keeping 277007 word types\n",
            "2020-09-22 15:40:13,516 : INFO : PROGRESS: at sentence #1200000, processed 8650606 words, keeping 278457 word types\n",
            "2020-09-22 15:40:13,546 : INFO : PROGRESS: at sentence #1210000, processed 8721893 words, keeping 279959 word types\n",
            "2020-09-22 15:40:13,578 : INFO : PROGRESS: at sentence #1220000, processed 8793795 words, keeping 281427 word types\n",
            "2020-09-22 15:40:13,607 : INFO : PROGRESS: at sentence #1230000, processed 8865726 words, keeping 282981 word types\n",
            "2020-09-22 15:40:13,640 : INFO : PROGRESS: at sentence #1240000, processed 8938173 words, keeping 284542 word types\n",
            "2020-09-22 15:40:13,670 : INFO : PROGRESS: at sentence #1250000, processed 9010842 words, keeping 286064 word types\n",
            "2020-09-22 15:40:13,702 : INFO : PROGRESS: at sentence #1260000, processed 9083261 words, keeping 287521 word types\n",
            "2020-09-22 15:40:13,733 : INFO : PROGRESS: at sentence #1270000, processed 9155616 words, keeping 288987 word types\n",
            "2020-09-22 15:40:13,764 : INFO : collected 290418 word types from a corpus of 9227204 raw words and 1280000 sentences\n",
            "2020-09-22 15:40:13,766 : INFO : Loading a fresh vocabulary\n",
            "2020-09-22 15:40:13,943 : INFO : effective_min_count=10 retains 30369 unique words (10% of original 290418, drops 260049)\n",
            "2020-09-22 15:40:13,944 : INFO : effective_min_count=10 leaves 8780739 word corpus (95% of original 9227204, drops 446465)\n",
            "2020-09-22 15:40:14,056 : INFO : deleting the raw counts dictionary of 290418 items\n",
            "2020-09-22 15:40:14,066 : INFO : sample=0.001 downsamples 45 most-common words\n",
            "2020-09-22 15:40:14,069 : INFO : downsampling leaves estimated 8222658 word corpus (93.6% of prior 8780739)\n",
            "2020-09-22 15:40:14,201 : INFO : estimated required memory for 30369 words and 300 dimensions: 88070100 bytes\n",
            "2020-09-22 15:40:14,203 : INFO : resetting layer weights\n"
          ],
          "name": "stderr"
        }
      ]
    },
    {
      "cell_type": "code",
      "metadata": {
        "_uuid": "72a5628ca81fd4b8983c12d93ae0bf950b86b6ae",
        "id": "ALWGvq8n5ych",
        "colab_type": "code",
        "colab": {
          "base_uri": "https://localhost:8080/",
          "height": 34
        },
        "outputId": "bbb35f97-d290-4766-ff0a-f4f08ce4025d"
      },
      "source": [
        "words = w2v_model.wv.vocab.keys()\n",
        "vocab_size = len(words)\n",
        "print(\"Vocab size\", vocab_size)"
      ],
      "execution_count": null,
      "outputs": [
        {
          "output_type": "stream",
          "text": [
            "Vocab size 30369\n"
          ],
          "name": "stdout"
        }
      ]
    },
    {
      "cell_type": "code",
      "metadata": {
        "id": "PDaG4amOAttE",
        "colab_type": "code",
        "colab": {
          "base_uri": "https://localhost:8080/",
          "height": 34
        },
        "outputId": "961fe1d7-3143-4867-b9e5-006c83a7ae87"
      },
      "source": [
        "w2v_model.wv['model'].shape"
      ],
      "execution_count": null,
      "outputs": [
        {
          "output_type": "execute_result",
          "data": {
            "text/plain": [
              "(300,)"
            ]
          },
          "metadata": {
            "tags": []
          },
          "execution_count": 26
        }
      ]
    },
    {
      "cell_type": "code",
      "metadata": {
        "_uuid": "68c3e4a5ba07cac3dee67f78ecdd1404c7f83f14",
        "id": "GJjATba55ycl",
        "colab_type": "code",
        "colab": {
          "base_uri": "https://localhost:8080/",
          "height": 1000
        },
        "outputId": "a7b5471d-eaa3-4e5c-9ba0-967a9a6478c9"
      },
      "source": [
        "%%time\n",
        "if model_exists==False:\n",
        "    w2v_model.train(documents, total_examples=len(documents), epochs=W2V_EPOCH)\n",
        "else:\n",
        "    print(\"Trained model loaded\")"
      ],
      "execution_count": null,
      "outputs": [
        {
          "output_type": "stream",
          "text": [
            "2020-09-22 15:40:36,709 : INFO : training model with 8 workers on 30369 vocabulary and 300 features, using sg=0 hs=0 sample=0.001 negative=5 window=7\n",
            "2020-09-22 15:40:37,773 : INFO : EPOCH 1 - PROGRESS: at 3.47% examples, 272804 words/s, in_qsize 15, out_qsize 0\n",
            "2020-09-22 15:40:38,779 : INFO : EPOCH 1 - PROGRESS: at 7.71% examples, 308365 words/s, in_qsize 16, out_qsize 1\n",
            "2020-09-22 15:40:39,801 : INFO : EPOCH 1 - PROGRESS: at 11.51% examples, 307354 words/s, in_qsize 16, out_qsize 0\n",
            "2020-09-22 15:40:40,804 : INFO : EPOCH 1 - PROGRESS: at 15.52% examples, 312563 words/s, in_qsize 15, out_qsize 0\n",
            "2020-09-22 15:40:41,874 : INFO : EPOCH 1 - PROGRESS: at 19.40% examples, 309889 words/s, in_qsize 13, out_qsize 2\n",
            "2020-09-22 15:40:42,890 : INFO : EPOCH 1 - PROGRESS: at 23.85% examples, 318101 words/s, in_qsize 15, out_qsize 0\n",
            "2020-09-22 15:40:43,931 : INFO : EPOCH 1 - PROGRESS: at 27.64% examples, 315382 words/s, in_qsize 15, out_qsize 2\n",
            "2020-09-22 15:40:44,937 : INFO : EPOCH 1 - PROGRESS: at 31.97% examples, 320185 words/s, in_qsize 15, out_qsize 0\n",
            "2020-09-22 15:40:46,011 : INFO : EPOCH 1 - PROGRESS: at 35.65% examples, 315743 words/s, in_qsize 15, out_qsize 0\n",
            "2020-09-22 15:40:47,107 : INFO : EPOCH 1 - PROGRESS: at 39.86% examples, 315869 words/s, in_qsize 14, out_qsize 1\n",
            "2020-09-22 15:40:48,121 : INFO : EPOCH 1 - PROGRESS: at 43.75% examples, 315984 words/s, in_qsize 16, out_qsize 1\n",
            "2020-09-22 15:40:49,166 : INFO : EPOCH 1 - PROGRESS: at 47.86% examples, 316553 words/s, in_qsize 14, out_qsize 1\n",
            "2020-09-22 15:40:50,172 : INFO : EPOCH 1 - PROGRESS: at 52.18% examples, 319403 words/s, in_qsize 14, out_qsize 1\n",
            "2020-09-22 15:40:51,201 : INFO : EPOCH 1 - PROGRESS: at 55.86% examples, 317656 words/s, in_qsize 14, out_qsize 1\n",
            "2020-09-22 15:40:52,238 : INFO : EPOCH 1 - PROGRESS: at 59.87% examples, 317657 words/s, in_qsize 16, out_qsize 0\n",
            "2020-09-22 15:40:53,307 : INFO : EPOCH 1 - PROGRESS: at 63.65% examples, 315993 words/s, in_qsize 11, out_qsize 4\n",
            "2020-09-22 15:40:54,313 : INFO : EPOCH 1 - PROGRESS: at 67.88% examples, 317673 words/s, in_qsize 15, out_qsize 0\n",
            "2020-09-22 15:40:55,443 : INFO : EPOCH 1 - PROGRESS: at 72.32% examples, 318021 words/s, in_qsize 15, out_qsize 0\n",
            "2020-09-22 15:40:56,443 : INFO : EPOCH 1 - PROGRESS: at 75.67% examples, 315883 words/s, in_qsize 14, out_qsize 7\n",
            "2020-09-22 15:40:57,622 : INFO : EPOCH 1 - PROGRESS: at 80.03% examples, 315100 words/s, in_qsize 15, out_qsize 6\n",
            "2020-09-22 15:40:58,660 : INFO : EPOCH 1 - PROGRESS: at 84.80% examples, 318057 words/s, in_qsize 15, out_qsize 0\n",
            "2020-09-22 15:40:59,694 : INFO : EPOCH 1 - PROGRESS: at 88.48% examples, 316926 words/s, in_qsize 14, out_qsize 1\n",
            "2020-09-22 15:41:00,729 : INFO : EPOCH 1 - PROGRESS: at 92.72% examples, 317703 words/s, in_qsize 15, out_qsize 0\n",
            "2020-09-22 15:41:01,743 : INFO : EPOCH 1 - PROGRESS: at 96.85% examples, 318350 words/s, in_qsize 16, out_qsize 0\n",
            "2020-09-22 15:41:02,366 : INFO : worker thread finished; awaiting finish of 7 more threads\n",
            "2020-09-22 15:41:02,374 : INFO : worker thread finished; awaiting finish of 6 more threads\n",
            "2020-09-22 15:41:02,395 : INFO : worker thread finished; awaiting finish of 5 more threads\n",
            "2020-09-22 15:41:02,453 : INFO : worker thread finished; awaiting finish of 4 more threads\n",
            "2020-09-22 15:41:02,460 : INFO : worker thread finished; awaiting finish of 3 more threads\n",
            "2020-09-22 15:41:02,470 : INFO : worker thread finished; awaiting finish of 2 more threads\n",
            "2020-09-22 15:41:02,478 : INFO : worker thread finished; awaiting finish of 1 more threads\n",
            "2020-09-22 15:41:02,479 : INFO : worker thread finished; awaiting finish of 0 more threads\n",
            "2020-09-22 15:41:02,480 : INFO : EPOCH - 1 : training on 9227204 raw words (8223350 effective words) took 25.8s, 319319 effective words/s\n",
            "2020-09-22 15:41:03,569 : INFO : EPOCH 2 - PROGRESS: at 3.80% examples, 290664 words/s, in_qsize 15, out_qsize 1\n",
            "2020-09-22 15:41:04,590 : INFO : EPOCH 2 - PROGRESS: at 7.50% examples, 293696 words/s, in_qsize 15, out_qsize 1\n",
            "2020-09-22 15:41:05,590 : INFO : EPOCH 2 - PROGRESS: at 10.86% examples, 288103 words/s, in_qsize 11, out_qsize 8\n",
            "2020-09-22 15:41:06,748 : INFO : EPOCH 2 - PROGRESS: at 15.84% examples, 305878 words/s, in_qsize 15, out_qsize 0\n",
            "2020-09-22 15:41:07,756 : INFO : EPOCH 2 - PROGRESS: at 20.05% examples, 313319 words/s, in_qsize 15, out_qsize 0\n",
            "2020-09-22 15:41:08,770 : INFO : EPOCH 2 - PROGRESS: at 23.52% examples, 308165 words/s, in_qsize 14, out_qsize 1\n",
            "2020-09-22 15:41:09,852 : INFO : EPOCH 2 - PROGRESS: at 27.64% examples, 308892 words/s, in_qsize 13, out_qsize 2\n",
            "2020-09-22 15:41:10,932 : INFO : EPOCH 2 - PROGRESS: at 31.86% examples, 310549 words/s, in_qsize 15, out_qsize 2\n",
            "2020-09-22 15:41:11,987 : INFO : EPOCH 2 - PROGRESS: at 36.07% examples, 312616 words/s, in_qsize 15, out_qsize 0\n",
            "2020-09-22 15:41:13,047 : INFO : EPOCH 2 - PROGRESS: at 40.19% examples, 313265 words/s, in_qsize 15, out_qsize 0\n",
            "2020-09-22 15:41:14,209 : INFO : EPOCH 2 - PROGRESS: at 44.62% examples, 313349 words/s, in_qsize 14, out_qsize 1\n",
            "2020-09-22 15:41:15,312 : INFO : EPOCH 2 - PROGRESS: at 48.84% examples, 313505 words/s, in_qsize 15, out_qsize 0\n",
            "2020-09-22 15:41:16,332 : INFO : EPOCH 2 - PROGRESS: at 52.51% examples, 312312 words/s, in_qsize 11, out_qsize 7\n",
            "2020-09-22 15:41:17,332 : INFO : EPOCH 2 - PROGRESS: at 56.62% examples, 314083 words/s, in_qsize 16, out_qsize 4\n",
            "2020-09-22 15:41:18,391 : INFO : EPOCH 2 - PROGRESS: at 60.74% examples, 314472 words/s, in_qsize 14, out_qsize 1\n",
            "2020-09-22 15:41:19,476 : INFO : EPOCH 2 - PROGRESS: at 64.95% examples, 314826 words/s, in_qsize 15, out_qsize 1\n",
            "2020-09-22 15:41:20,631 : INFO : EPOCH 2 - PROGRESS: at 69.07% examples, 314717 words/s, in_qsize 16, out_qsize 4\n",
            "2020-09-22 15:41:21,570 : INFO : EPOCH 2 - PROGRESS: at 73.08% examples, 315270 words/s, in_qsize 14, out_qsize 5\n",
            "2020-09-22 15:41:22,664 : INFO : EPOCH 2 - PROGRESS: at 77.42% examples, 315846 words/s, in_qsize 15, out_qsize 0\n",
            "2020-09-22 15:41:23,697 : INFO : EPOCH 2 - PROGRESS: at 81.55% examples, 316410 words/s, in_qsize 16, out_qsize 0\n",
            "2020-09-22 15:41:24,742 : INFO : EPOCH 2 - PROGRESS: at 85.66% examples, 316753 words/s, in_qsize 16, out_qsize 0\n",
            "2020-09-22 15:41:25,820 : INFO : EPOCH 2 - PROGRESS: at 89.78% examples, 316622 words/s, in_qsize 16, out_qsize 0\n",
            "2020-09-22 15:41:26,841 : INFO : EPOCH 2 - PROGRESS: at 94.25% examples, 318319 words/s, in_qsize 15, out_qsize 0\n",
            "2020-09-22 15:41:27,859 : INFO : EPOCH 2 - PROGRESS: at 98.25% examples, 318537 words/s, in_qsize 16, out_qsize 0\n",
            "2020-09-22 15:41:28,142 : INFO : worker thread finished; awaiting finish of 7 more threads\n",
            "2020-09-22 15:41:28,147 : INFO : worker thread finished; awaiting finish of 6 more threads\n",
            "2020-09-22 15:41:28,170 : INFO : worker thread finished; awaiting finish of 5 more threads\n",
            "2020-09-22 15:41:28,172 : INFO : worker thread finished; awaiting finish of 4 more threads\n",
            "2020-09-22 15:41:28,191 : INFO : worker thread finished; awaiting finish of 3 more threads\n",
            "2020-09-22 15:41:28,221 : INFO : worker thread finished; awaiting finish of 2 more threads\n",
            "2020-09-22 15:41:28,236 : INFO : worker thread finished; awaiting finish of 1 more threads\n",
            "2020-09-22 15:41:28,240 : INFO : worker thread finished; awaiting finish of 0 more threads\n",
            "2020-09-22 15:41:28,242 : INFO : EPOCH - 2 : training on 9227204 raw words (8222335 effective words) took 25.7s, 319376 effective words/s\n",
            "2020-09-22 15:41:29,259 : INFO : EPOCH 3 - PROGRESS: at 3.47% examples, 284203 words/s, in_qsize 14, out_qsize 1\n",
            "2020-09-22 15:41:30,322 : INFO : EPOCH 3 - PROGRESS: at 7.71% examples, 306207 words/s, in_qsize 15, out_qsize 0\n",
            "2020-09-22 15:41:31,350 : INFO : EPOCH 3 - PROGRESS: at 11.40% examples, 302441 words/s, in_qsize 15, out_qsize 0\n",
            "2020-09-22 15:41:32,366 : INFO : EPOCH 3 - PROGRESS: at 15.51% examples, 309904 words/s, in_qsize 15, out_qsize 0\n",
            "2020-09-22 15:41:33,392 : INFO : EPOCH 3 - PROGRESS: at 19.30% examples, 308647 words/s, in_qsize 10, out_qsize 5\n",
            "2020-09-22 15:41:34,451 : INFO : EPOCH 3 - PROGRESS: at 23.96% examples, 317742 words/s, in_qsize 14, out_qsize 1\n",
            "2020-09-22 15:41:35,455 : INFO : EPOCH 3 - PROGRESS: at 27.75% examples, 316724 words/s, in_qsize 14, out_qsize 0\n",
            "2020-09-22 15:41:36,457 : INFO : EPOCH 3 - PROGRESS: at 31.97% examples, 320402 words/s, in_qsize 15, out_qsize 0\n",
            "2020-09-22 15:41:37,498 : INFO : EPOCH 3 - PROGRESS: at 35.65% examples, 317099 words/s, in_qsize 16, out_qsize 0\n",
            "2020-09-22 15:41:38,530 : INFO : EPOCH 3 - PROGRESS: at 39.86% examples, 319028 words/s, in_qsize 16, out_qsize 0\n",
            "2020-09-22 15:41:39,551 : INFO : EPOCH 3 - PROGRESS: at 43.54% examples, 316992 words/s, in_qsize 11, out_qsize 2\n",
            "2020-09-22 15:41:40,610 : INFO : EPOCH 3 - PROGRESS: at 47.76% examples, 317958 words/s, in_qsize 14, out_qsize 1\n",
            "2020-09-22 15:41:41,764 : INFO : EPOCH 3 - PROGRESS: at 52.07% examples, 317195 words/s, in_qsize 15, out_qsize 0\n",
            "2020-09-22 15:41:42,864 : INFO : EPOCH 3 - PROGRESS: at 56.62% examples, 318942 words/s, in_qsize 15, out_qsize 0\n",
            "2020-09-22 15:41:43,874 : INFO : EPOCH 3 - PROGRESS: at 60.63% examples, 319421 words/s, in_qsize 15, out_qsize 0\n",
            "2020-09-22 15:41:44,967 : INFO : EPOCH 3 - PROGRESS: at 64.95% examples, 319846 words/s, in_qsize 16, out_qsize 0\n",
            "2020-09-22 15:41:46,034 : INFO : EPOCH 3 - PROGRESS: at 68.86% examples, 318687 words/s, in_qsize 14, out_qsize 1\n",
            "2020-09-22 15:41:47,085 : INFO : EPOCH 3 - PROGRESS: at 73.40% examples, 320748 words/s, in_qsize 15, out_qsize 0\n",
            "2020-09-22 15:41:48,136 : INFO : EPOCH 3 - PROGRESS: at 77.42% examples, 320361 words/s, in_qsize 14, out_qsize 1\n",
            "2020-09-22 15:41:49,161 : INFO : EPOCH 3 - PROGRESS: at 81.23% examples, 319678 words/s, in_qsize 16, out_qsize 2\n",
            "2020-09-22 15:41:50,175 : INFO : EPOCH 3 - PROGRESS: at 85.66% examples, 321446 words/s, in_qsize 15, out_qsize 0\n",
            "2020-09-22 15:41:51,205 : INFO : EPOCH 3 - PROGRESS: at 89.67% examples, 321388 words/s, in_qsize 15, out_qsize 0\n",
            "2020-09-22 15:41:52,265 : INFO : EPOCH 3 - PROGRESS: at 93.70% examples, 320909 words/s, in_qsize 15, out_qsize 0\n",
            "2020-09-22 15:41:53,305 : INFO : EPOCH 3 - PROGRESS: at 97.82% examples, 321356 words/s, in_qsize 15, out_qsize 0\n",
            "2020-09-22 15:41:53,664 : INFO : worker thread finished; awaiting finish of 7 more threads\n",
            "2020-09-22 15:41:53,695 : INFO : worker thread finished; awaiting finish of 6 more threads\n",
            "2020-09-22 15:41:53,702 : INFO : worker thread finished; awaiting finish of 5 more threads\n",
            "2020-09-22 15:41:53,715 : INFO : worker thread finished; awaiting finish of 4 more threads\n",
            "2020-09-22 15:41:53,725 : INFO : worker thread finished; awaiting finish of 3 more threads\n",
            "2020-09-22 15:41:53,729 : INFO : worker thread finished; awaiting finish of 2 more threads\n",
            "2020-09-22 15:41:53,731 : INFO : worker thread finished; awaiting finish of 1 more threads\n",
            "2020-09-22 15:41:53,746 : INFO : worker thread finished; awaiting finish of 0 more threads\n",
            "2020-09-22 15:41:53,747 : INFO : EPOCH - 3 : training on 9227204 raw words (8222695 effective words) took 25.5s, 322572 effective words/s\n",
            "2020-09-22 15:41:54,800 : INFO : EPOCH 4 - PROGRESS: at 3.80% examples, 299817 words/s, in_qsize 15, out_qsize 0\n",
            "2020-09-22 15:41:55,859 : INFO : EPOCH 4 - PROGRESS: at 7.93% examples, 309780 words/s, in_qsize 16, out_qsize 0\n",
            "2020-09-22 15:41:56,868 : INFO : EPOCH 4 - PROGRESS: at 11.62% examples, 306751 words/s, in_qsize 14, out_qsize 1\n",
            "2020-09-22 15:41:58,020 : INFO : EPOCH 4 - PROGRESS: at 16.16% examples, 311432 words/s, in_qsize 15, out_qsize 0\n",
            "2020-09-22 15:41:59,068 : INFO : EPOCH 4 - PROGRESS: at 20.48% examples, 317085 words/s, in_qsize 12, out_qsize 3\n",
            "2020-09-22 15:42:00,104 : INFO : EPOCH 4 - PROGRESS: at 24.61% examples, 318724 words/s, in_qsize 16, out_qsize 0\n",
            "2020-09-22 15:42:01,144 : INFO : EPOCH 4 - PROGRESS: at 28.50% examples, 317268 words/s, in_qsize 16, out_qsize 3\n",
            "2020-09-22 15:42:02,167 : INFO : EPOCH 4 - PROGRESS: at 32.84% examples, 321073 words/s, in_qsize 15, out_qsize 0\n",
            "2020-09-22 15:42:03,168 : INFO : EPOCH 4 - PROGRESS: at 36.83% examples, 321929 words/s, in_qsize 14, out_qsize 0\n",
            "2020-09-22 15:42:04,249 : INFO : EPOCH 4 - PROGRESS: at 41.05% examples, 321839 words/s, in_qsize 16, out_qsize 0\n",
            "2020-09-22 15:42:05,250 : INFO : EPOCH 4 - PROGRESS: at 45.37% examples, 324810 words/s, in_qsize 16, out_qsize 0\n",
            "2020-09-22 15:42:06,346 : INFO : EPOCH 4 - PROGRESS: at 48.95% examples, 319908 words/s, in_qsize 15, out_qsize 4\n",
            "2020-09-22 15:42:07,353 : INFO : EPOCH 4 - PROGRESS: at 53.48% examples, 323746 words/s, in_qsize 16, out_qsize 0\n",
            "2020-09-22 15:42:08,438 : INFO : EPOCH 4 - PROGRESS: at 57.38% examples, 321655 words/s, in_qsize 14, out_qsize 2\n",
            "2020-09-22 15:42:09,474 : INFO : EPOCH 4 - PROGRESS: at 61.50% examples, 321997 words/s, in_qsize 16, out_qsize 1\n",
            "2020-09-22 15:42:10,505 : INFO : EPOCH 4 - PROGRESS: at 65.83% examples, 323434 words/s, in_qsize 15, out_qsize 0\n",
            "2020-09-22 15:42:11,532 : INFO : EPOCH 4 - PROGRESS: at 69.61% examples, 322295 words/s, in_qsize 15, out_qsize 0\n",
            "2020-09-22 15:42:12,551 : INFO : EPOCH 4 - PROGRESS: at 73.62% examples, 322330 words/s, in_qsize 15, out_qsize 0\n",
            "2020-09-22 15:42:13,605 : INFO : EPOCH 4 - PROGRESS: at 77.63% examples, 321838 words/s, in_qsize 15, out_qsize 0\n",
            "2020-09-22 15:42:14,656 : INFO : EPOCH 4 - PROGRESS: at 81.77% examples, 321853 words/s, in_qsize 15, out_qsize 0\n",
            "2020-09-22 15:42:15,676 : INFO : EPOCH 4 - PROGRESS: at 85.88% examples, 322354 words/s, in_qsize 13, out_qsize 1\n",
            "2020-09-22 15:42:16,704 : INFO : EPOCH 4 - PROGRESS: at 89.56% examples, 321053 words/s, in_qsize 16, out_qsize 1\n",
            "2020-09-22 15:42:17,779 : INFO : EPOCH 4 - PROGRESS: at 93.81% examples, 321127 words/s, in_qsize 15, out_qsize 0\n",
            "2020-09-22 15:42:18,780 : INFO : EPOCH 4 - PROGRESS: at 97.93% examples, 321819 words/s, in_qsize 15, out_qsize 3\n",
            "2020-09-22 15:42:19,039 : INFO : worker thread finished; awaiting finish of 7 more threads\n",
            "2020-09-22 15:42:19,059 : INFO : worker thread finished; awaiting finish of 6 more threads\n",
            "2020-09-22 15:42:19,150 : INFO : worker thread finished; awaiting finish of 5 more threads\n",
            "2020-09-22 15:42:19,162 : INFO : worker thread finished; awaiting finish of 4 more threads\n",
            "2020-09-22 15:42:19,167 : INFO : worker thread finished; awaiting finish of 3 more threads\n",
            "2020-09-22 15:42:19,178 : INFO : worker thread finished; awaiting finish of 2 more threads\n",
            "2020-09-22 15:42:19,184 : INFO : worker thread finished; awaiting finish of 1 more threads\n",
            "2020-09-22 15:42:19,187 : INFO : worker thread finished; awaiting finish of 0 more threads\n",
            "2020-09-22 15:42:19,188 : INFO : EPOCH - 4 : training on 9227204 raw words (8222061 effective words) took 25.4s, 323345 effective words/s\n",
            "2020-09-22 15:42:20,350 : INFO : EPOCH 5 - PROGRESS: at 3.80% examples, 270472 words/s, in_qsize 15, out_qsize 2\n",
            "2020-09-22 15:42:21,366 : INFO : EPOCH 5 - PROGRESS: at 8.25% examples, 312108 words/s, in_qsize 15, out_qsize 0\n",
            "2020-09-22 15:42:22,455 : INFO : EPOCH 5 - PROGRESS: at 12.06% examples, 303543 words/s, in_qsize 13, out_qsize 6\n",
            "2020-09-22 15:42:23,487 : INFO : EPOCH 5 - PROGRESS: at 16.38% examples, 313482 words/s, in_qsize 15, out_qsize 0\n",
            "2020-09-22 15:42:24,495 : INFO : EPOCH 5 - PROGRESS: at 20.16% examples, 312686 words/s, in_qsize 10, out_qsize 5\n",
            "2020-09-22 15:42:25,568 : INFO : EPOCH 5 - PROGRESS: at 24.39% examples, 314563 words/s, in_qsize 15, out_qsize 2\n",
            "2020-09-22 15:42:26,692 : INFO : EPOCH 5 - PROGRESS: at 28.61% examples, 313749 words/s, in_qsize 14, out_qsize 1\n",
            "2020-09-22 15:42:27,782 : INFO : EPOCH 5 - PROGRESS: at 32.84% examples, 314348 words/s, in_qsize 12, out_qsize 4\n",
            "2020-09-22 15:42:28,794 : INFO : EPOCH 5 - PROGRESS: at 37.05% examples, 317378 words/s, in_qsize 15, out_qsize 0\n",
            "2020-09-22 15:42:29,826 : INFO : EPOCH 5 - PROGRESS: at 41.37% examples, 320087 words/s, in_qsize 15, out_qsize 0\n",
            "2020-09-22 15:42:30,918 : INFO : EPOCH 5 - PROGRESS: at 45.37% examples, 318894 words/s, in_qsize 15, out_qsize 0\n",
            "2020-09-22 15:42:31,950 : INFO : EPOCH 5 - PROGRESS: at 49.49% examples, 319693 words/s, in_qsize 14, out_qsize 2\n",
            "2020-09-22 15:42:32,930 : INFO : EPOCH 5 - PROGRESS: at 53.16% examples, 318457 words/s, in_qsize 16, out_qsize 5\n",
            "2020-09-22 15:42:34,009 : INFO : EPOCH 5 - PROGRESS: at 57.38% examples, 318743 words/s, in_qsize 16, out_qsize 0\n",
            "2020-09-22 15:42:35,030 : INFO : EPOCH 5 - PROGRESS: at 61.39% examples, 319004 words/s, in_qsize 14, out_qsize 1\n",
            "2020-09-22 15:42:36,044 : INFO : EPOCH 5 - PROGRESS: at 65.61% examples, 320423 words/s, in_qsize 15, out_qsize 0\n",
            "2020-09-22 15:42:37,141 : INFO : EPOCH 5 - PROGRESS: at 69.61% examples, 319201 words/s, in_qsize 15, out_qsize 0\n",
            "2020-09-22 15:42:38,252 : INFO : EPOCH 5 - PROGRESS: at 73.51% examples, 317411 words/s, in_qsize 16, out_qsize 5\n",
            "2020-09-22 15:42:39,339 : INFO : EPOCH 5 - PROGRESS: at 77.96% examples, 318417 words/s, in_qsize 13, out_qsize 2\n",
            "2020-09-22 15:42:40,372 : INFO : EPOCH 5 - PROGRESS: at 82.10% examples, 318865 words/s, in_qsize 14, out_qsize 2\n",
            "2020-09-22 15:42:41,381 : INFO : EPOCH 5 - PROGRESS: at 86.31% examples, 320023 words/s, in_qsize 14, out_qsize 1\n",
            "2020-09-22 15:42:42,501 : INFO : EPOCH 5 - PROGRESS: at 90.65% examples, 319939 words/s, in_qsize 15, out_qsize 0\n",
            "2020-09-22 15:42:43,609 : INFO : EPOCH 5 - PROGRESS: at 95.23% examples, 320724 words/s, in_qsize 15, out_qsize 0\n",
            "2020-09-22 15:42:44,579 : INFO : worker thread finished; awaiting finish of 7 more threads\n",
            "2020-09-22 15:42:44,607 : INFO : worker thread finished; awaiting finish of 6 more threads\n",
            "2020-09-22 15:42:44,622 : INFO : EPOCH 5 - PROGRESS: at 99.45% examples, 321656 words/s, in_qsize 5, out_qsize 1\n",
            "2020-09-22 15:42:44,628 : INFO : worker thread finished; awaiting finish of 5 more threads\n",
            "2020-09-22 15:42:44,649 : INFO : worker thread finished; awaiting finish of 4 more threads\n",
            "2020-09-22 15:42:44,672 : INFO : worker thread finished; awaiting finish of 3 more threads\n",
            "2020-09-22 15:42:44,675 : INFO : worker thread finished; awaiting finish of 2 more threads\n",
            "2020-09-22 15:42:44,688 : INFO : worker thread finished; awaiting finish of 1 more threads\n",
            "2020-09-22 15:42:44,697 : INFO : worker thread finished; awaiting finish of 0 more threads\n",
            "2020-09-22 15:42:44,698 : INFO : EPOCH - 5 : training on 9227204 raw words (8222452 effective words) took 25.5s, 322440 effective words/s\n",
            "2020-09-22 15:42:45,793 : INFO : EPOCH 6 - PROGRESS: at 3.69% examples, 281091 words/s, in_qsize 15, out_qsize 0\n",
            "2020-09-22 15:42:46,816 : INFO : EPOCH 6 - PROGRESS: at 7.93% examples, 309566 words/s, in_qsize 15, out_qsize 0\n",
            "2020-09-22 15:42:47,831 : INFO : EPOCH 6 - PROGRESS: at 11.51% examples, 303132 words/s, in_qsize 15, out_qsize 0\n",
            "2020-09-22 15:42:48,875 : INFO : EPOCH 6 - PROGRESS: at 15.73% examples, 310511 words/s, in_qsize 15, out_qsize 0\n",
            "2020-09-22 15:42:49,877 : INFO : EPOCH 6 - PROGRESS: at 20.05% examples, 319238 words/s, in_qsize 16, out_qsize 0\n",
            "2020-09-22 15:42:50,901 : INFO : EPOCH 6 - PROGRESS: at 23.74% examples, 315424 words/s, in_qsize 16, out_qsize 0\n",
            "2020-09-22 15:42:51,956 : INFO : EPOCH 6 - PROGRESS: at 27.96% examples, 317465 words/s, in_qsize 14, out_qsize 1\n",
            "2020-09-22 15:42:52,980 : INFO : EPOCH 6 - PROGRESS: at 31.97% examples, 318070 words/s, in_qsize 16, out_qsize 0\n",
            "2020-09-22 15:42:54,021 : INFO : EPOCH 6 - PROGRESS: at 36.08% examples, 318815 words/s, in_qsize 15, out_qsize 0\n",
            "2020-09-22 15:42:55,054 : INFO : EPOCH 6 - PROGRESS: at 40.51% examples, 322261 words/s, in_qsize 15, out_qsize 0\n",
            "2020-09-22 15:42:56,073 : INFO : EPOCH 6 - PROGRESS: at 44.51% examples, 322376 words/s, in_qsize 16, out_qsize 0\n",
            "2020-09-22 15:42:57,170 : INFO : EPOCH 6 - PROGRESS: at 48.40% examples, 319740 words/s, in_qsize 16, out_qsize 2\n",
            "2020-09-22 15:42:58,238 : INFO : EPOCH 6 - PROGRESS: at 52.84% examples, 321530 words/s, in_qsize 15, out_qsize 0\n",
            "2020-09-22 15:42:59,315 : INFO : EPOCH 6 - PROGRESS: at 56.73% examples, 319776 words/s, in_qsize 12, out_qsize 3\n",
            "2020-09-22 15:43:00,326 : INFO : EPOCH 6 - PROGRESS: at 61.28% examples, 323051 words/s, in_qsize 16, out_qsize 0\n",
            "2020-09-22 15:43:01,360 : INFO : EPOCH 6 - PROGRESS: at 64.95% examples, 321163 words/s, in_qsize 13, out_qsize 2\n",
            "2020-09-22 15:43:02,370 : INFO : EPOCH 6 - PROGRESS: at 69.18% examples, 322477 words/s, in_qsize 16, out_qsize 3\n",
            "2020-09-22 15:43:03,429 : INFO : EPOCH 6 - PROGRESS: at 73.41% examples, 322777 words/s, in_qsize 15, out_qsize 0\n",
            "2020-09-22 15:43:04,445 : INFO : EPOCH 6 - PROGRESS: at 77.74% examples, 324202 words/s, in_qsize 15, out_qsize 0\n",
            "2020-09-22 15:43:05,464 : INFO : EPOCH 6 - PROGRESS: at 81.77% examples, 324164 words/s, in_qsize 14, out_qsize 0\n",
            "2020-09-22 15:43:06,524 : INFO : EPOCH 6 - PROGRESS: at 85.66% examples, 323119 words/s, in_qsize 16, out_qsize 2\n",
            "2020-09-22 15:43:07,532 : INFO : EPOCH 6 - PROGRESS: at 89.45% examples, 322498 words/s, in_qsize 16, out_qsize 3\n",
            "2020-09-22 15:43:08,682 : INFO : EPOCH 6 - PROGRESS: at 94.03% examples, 322596 words/s, in_qsize 16, out_qsize 0\n",
            "2020-09-22 15:43:09,724 : INFO : EPOCH 6 - PROGRESS: at 98.14% examples, 322696 words/s, in_qsize 16, out_qsize 1\n",
            "2020-09-22 15:43:09,967 : INFO : worker thread finished; awaiting finish of 7 more threads\n",
            "2020-09-22 15:43:09,990 : INFO : worker thread finished; awaiting finish of 6 more threads\n",
            "2020-09-22 15:43:09,992 : INFO : worker thread finished; awaiting finish of 5 more threads\n",
            "2020-09-22 15:43:10,011 : INFO : worker thread finished; awaiting finish of 4 more threads\n",
            "2020-09-22 15:43:10,014 : INFO : worker thread finished; awaiting finish of 3 more threads\n",
            "2020-09-22 15:43:10,036 : INFO : worker thread finished; awaiting finish of 2 more threads\n",
            "2020-09-22 15:43:10,045 : INFO : worker thread finished; awaiting finish of 1 more threads\n",
            "2020-09-22 15:43:10,050 : INFO : worker thread finished; awaiting finish of 0 more threads\n",
            "2020-09-22 15:43:10,051 : INFO : EPOCH - 6 : training on 9227204 raw words (8222354 effective words) took 25.3s, 324548 effective words/s\n",
            "2020-09-22 15:43:11,083 : INFO : EPOCH 7 - PROGRESS: at 3.58% examples, 288794 words/s, in_qsize 15, out_qsize 0\n",
            "2020-09-22 15:43:12,083 : INFO : EPOCH 7 - PROGRESS: at 7.60% examples, 308931 words/s, in_qsize 13, out_qsize 0\n",
            "2020-09-22 15:43:13,102 : INFO : EPOCH 7 - PROGRESS: at 11.51% examples, 310939 words/s, in_qsize 16, out_qsize 0\n",
            "2020-09-22 15:43:14,107 : INFO : EPOCH 7 - PROGRESS: at 15.52% examples, 315142 words/s, in_qsize 14, out_qsize 1\n",
            "2020-09-22 15:43:15,184 : INFO : EPOCH 7 - PROGRESS: at 19.62% examples, 314926 words/s, in_qsize 15, out_qsize 0\n",
            "2020-09-22 15:43:16,216 : INFO : EPOCH 7 - PROGRESS: at 23.63% examples, 315743 words/s, in_qsize 15, out_qsize 0\n",
            "2020-09-22 15:43:17,280 : INFO : EPOCH 7 - PROGRESS: at 27.86% examples, 317323 words/s, in_qsize 14, out_qsize 1\n",
            "2020-09-22 15:43:18,315 : INFO : EPOCH 7 - PROGRESS: at 32.19% examples, 320717 words/s, in_qsize 15, out_qsize 0\n",
            "2020-09-22 15:43:19,420 : INFO : EPOCH 7 - PROGRESS: at 36.18% examples, 318074 words/s, in_qsize 9, out_qsize 6\n",
            "2020-09-22 15:43:20,461 : INFO : EPOCH 7 - PROGRESS: at 40.51% examples, 320504 words/s, in_qsize 15, out_qsize 0\n",
            "2020-09-22 15:43:21,475 : INFO : EPOCH 7 - PROGRESS: at 44.51% examples, 320891 words/s, in_qsize 15, out_qsize 0\n",
            "2020-09-22 15:43:22,493 : INFO : EPOCH 7 - PROGRESS: at 48.52% examples, 321126 words/s, in_qsize 7, out_qsize 5\n",
            "2020-09-22 15:43:23,546 : INFO : EPOCH 7 - PROGRESS: at 53.27% examples, 325135 words/s, in_qsize 14, out_qsize 0\n",
            "2020-09-22 15:43:24,688 : INFO : EPOCH 7 - PROGRESS: at 57.16% examples, 321695 words/s, in_qsize 11, out_qsize 4\n",
            "2020-09-22 15:43:25,707 : INFO : EPOCH 7 - PROGRESS: at 61.60% examples, 324098 words/s, in_qsize 13, out_qsize 1\n",
            "2020-09-22 15:43:26,797 : INFO : EPOCH 7 - PROGRESS: at 65.61% examples, 322662 words/s, in_qsize 15, out_qsize 0\n",
            "2020-09-22 15:43:27,829 : INFO : EPOCH 7 - PROGRESS: at 69.72% examples, 322967 words/s, in_qsize 15, out_qsize 0\n",
            "2020-09-22 15:43:28,893 : INFO : EPOCH 7 - PROGRESS: at 74.05% examples, 323642 words/s, in_qsize 13, out_qsize 2\n",
            "2020-09-22 15:43:29,921 : INFO : EPOCH 7 - PROGRESS: at 77.74% examples, 322138 words/s, in_qsize 12, out_qsize 5\n",
            "2020-09-22 15:43:31,008 : INFO : EPOCH 7 - PROGRESS: at 82.10% examples, 322415 words/s, in_qsize 16, out_qsize 1\n",
            "2020-09-22 15:43:32,041 : INFO : EPOCH 7 - PROGRESS: at 86.32% examples, 323056 words/s, in_qsize 16, out_qsize 0\n",
            "2020-09-22 15:43:33,061 : INFO : EPOCH 7 - PROGRESS: at 90.22% examples, 322677 words/s, in_qsize 16, out_qsize 0\n",
            "2020-09-22 15:43:34,126 : INFO : EPOCH 7 - PROGRESS: at 94.36% examples, 322454 words/s, in_qsize 14, out_qsize 1\n",
            "2020-09-22 15:43:35,149 : INFO : EPOCH 7 - PROGRESS: at 98.58% examples, 323156 words/s, in_qsize 14, out_qsize 0\n",
            "2020-09-22 15:43:35,283 : INFO : worker thread finished; awaiting finish of 7 more threads\n",
            "2020-09-22 15:43:35,300 : INFO : worker thread finished; awaiting finish of 6 more threads\n",
            "2020-09-22 15:43:35,308 : INFO : worker thread finished; awaiting finish of 5 more threads\n",
            "2020-09-22 15:43:35,313 : INFO : worker thread finished; awaiting finish of 4 more threads\n",
            "2020-09-22 15:43:35,359 : INFO : worker thread finished; awaiting finish of 3 more threads\n",
            "2020-09-22 15:43:35,387 : INFO : worker thread finished; awaiting finish of 2 more threads\n",
            "2020-09-22 15:43:35,402 : INFO : worker thread finished; awaiting finish of 1 more threads\n",
            "2020-09-22 15:43:35,407 : INFO : worker thread finished; awaiting finish of 0 more threads\n",
            "2020-09-22 15:43:35,410 : INFO : EPOCH - 7 : training on 9227204 raw words (8223047 effective words) took 25.3s, 324441 effective words/s\n",
            "2020-09-22 15:43:36,478 : INFO : EPOCH 8 - PROGRESS: at 3.58% examples, 278717 words/s, in_qsize 15, out_qsize 0\n",
            "2020-09-22 15:43:37,493 : INFO : EPOCH 8 - PROGRESS: at 7.50% examples, 296906 words/s, in_qsize 15, out_qsize 0\n",
            "2020-09-22 15:43:38,498 : INFO : EPOCH 8 - PROGRESS: at 11.84% examples, 315852 words/s, in_qsize 16, out_qsize 0\n",
            "2020-09-22 15:43:39,509 : INFO : EPOCH 8 - PROGRESS: at 15.84% examples, 318318 words/s, in_qsize 15, out_qsize 0\n",
            "2020-09-22 15:43:40,517 : INFO : EPOCH 8 - PROGRESS: at 19.73% examples, 318194 words/s, in_qsize 15, out_qsize 0\n",
            "2020-09-22 15:43:41,528 : INFO : EPOCH 8 - PROGRESS: at 23.53% examples, 316613 words/s, in_qsize 15, out_qsize 0\n",
            "2020-09-22 15:43:42,560 : INFO : EPOCH 8 - PROGRESS: at 27.86% examples, 320769 words/s, in_qsize 15, out_qsize 0\n",
            "2020-09-22 15:43:43,582 : INFO : EPOCH 8 - PROGRESS: at 31.75% examples, 319976 words/s, in_qsize 16, out_qsize 0\n",
            "2020-09-22 15:43:44,643 : INFO : EPOCH 8 - PROGRESS: at 35.64% examples, 317918 words/s, in_qsize 15, out_qsize 0\n",
            "2020-09-22 15:43:45,717 : INFO : EPOCH 8 - PROGRESS: at 39.76% examples, 317638 words/s, in_qsize 15, out_qsize 3\n",
            "2020-09-22 15:43:46,726 : INFO : EPOCH 8 - PROGRESS: at 43.86% examples, 319207 words/s, in_qsize 15, out_qsize 1\n",
            "2020-09-22 15:43:47,759 : INFO : EPOCH 8 - PROGRESS: at 47.65% examples, 317770 words/s, in_qsize 11, out_qsize 4\n",
            "2020-09-22 15:43:48,798 : INFO : EPOCH 8 - PROGRESS: at 52.07% examples, 320415 words/s, in_qsize 15, out_qsize 0\n",
            "2020-09-22 15:43:49,837 : INFO : EPOCH 8 - PROGRESS: at 56.40% examples, 322042 words/s, in_qsize 15, out_qsize 0\n",
            "2020-09-22 15:43:50,854 : INFO : EPOCH 8 - PROGRESS: at 60.20% examples, 321040 words/s, in_qsize 11, out_qsize 4\n",
            "2020-09-22 15:43:51,926 : INFO : EPOCH 8 - PROGRESS: at 64.51% examples, 321750 words/s, in_qsize 14, out_qsize 1\n",
            "2020-09-22 15:43:52,945 : INFO : EPOCH 8 - PROGRESS: at 68.53% examples, 321865 words/s, in_qsize 14, out_qsize 1\n",
            "2020-09-22 15:43:53,964 : INFO : EPOCH 8 - PROGRESS: at 72.53% examples, 321958 words/s, in_qsize 16, out_qsize 1\n",
            "2020-09-22 15:43:54,967 : INFO : EPOCH 8 - PROGRESS: at 76.55% examples, 322277 words/s, in_qsize 16, out_qsize 0\n",
            "2020-09-22 15:43:56,010 : INFO : EPOCH 8 - PROGRESS: at 80.79% examples, 322835 words/s, in_qsize 16, out_qsize 1\n",
            "2020-09-22 15:43:57,020 : INFO : EPOCH 8 - PROGRESS: at 84.80% examples, 322998 words/s, in_qsize 12, out_qsize 1\n",
            "2020-09-22 15:43:58,083 : INFO : EPOCH 8 - PROGRESS: at 89.02% examples, 323163 words/s, in_qsize 15, out_qsize 0\n",
            "2020-09-22 15:43:59,115 : INFO : EPOCH 8 - PROGRESS: at 92.72% examples, 321857 words/s, in_qsize 14, out_qsize 7\n",
            "2020-09-22 15:44:00,117 : INFO : EPOCH 8 - PROGRESS: at 97.07% examples, 323209 words/s, in_qsize 13, out_qsize 3\n",
            "2020-09-22 15:44:00,651 : INFO : worker thread finished; awaiting finish of 7 more threads\n",
            "2020-09-22 15:44:00,660 : INFO : worker thread finished; awaiting finish of 6 more threads\n",
            "2020-09-22 15:44:00,678 : INFO : worker thread finished; awaiting finish of 5 more threads\n",
            "2020-09-22 15:44:00,690 : INFO : worker thread finished; awaiting finish of 4 more threads\n",
            "2020-09-22 15:44:00,712 : INFO : worker thread finished; awaiting finish of 3 more threads\n",
            "2020-09-22 15:44:00,717 : INFO : worker thread finished; awaiting finish of 2 more threads\n",
            "2020-09-22 15:44:00,719 : INFO : worker thread finished; awaiting finish of 1 more threads\n",
            "2020-09-22 15:44:00,724 : INFO : worker thread finished; awaiting finish of 0 more threads\n",
            "2020-09-22 15:44:00,727 : INFO : EPOCH - 8 : training on 9227204 raw words (8223192 effective words) took 25.3s, 324977 effective words/s\n",
            "2020-09-22 15:44:01,743 : INFO : EPOCH 9 - PROGRESS: at 3.36% examples, 274705 words/s, in_qsize 15, out_qsize 0\n",
            "2020-09-22 15:44:02,771 : INFO : EPOCH 9 - PROGRESS: at 7.17% examples, 289121 words/s, in_qsize 12, out_qsize 4\n",
            "2020-09-22 15:44:03,773 : INFO : EPOCH 9 - PROGRESS: at 11.29% examples, 305308 words/s, in_qsize 15, out_qsize 0\n",
            "2020-09-22 15:44:04,792 : INFO : EPOCH 9 - PROGRESS: at 15.41% examples, 312074 words/s, in_qsize 16, out_qsize 0\n",
            "2020-09-22 15:44:05,813 : INFO : EPOCH 9 - PROGRESS: at 19.73% examples, 319505 words/s, in_qsize 16, out_qsize 0\n",
            "2020-09-22 15:44:06,886 : INFO : EPOCH 9 - PROGRESS: at 23.42% examples, 315297 words/s, in_qsize 14, out_qsize 3\n",
            "2020-09-22 15:44:07,847 : INFO : EPOCH 9 - PROGRESS: at 27.96% examples, 323384 words/s, in_qsize 15, out_qsize 0\n",
            "2020-09-22 15:44:08,885 : INFO : EPOCH 9 - PROGRESS: at 31.42% examples, 317170 words/s, in_qsize 12, out_qsize 3\n",
            "2020-09-22 15:44:09,886 : INFO : EPOCH 9 - PROGRESS: at 35.54% examples, 319433 words/s, in_qsize 13, out_qsize 3\n",
            "2020-09-22 15:44:10,934 : INFO : EPOCH 9 - PROGRESS: at 39.65% examples, 319786 words/s, in_qsize 15, out_qsize 0\n",
            "2020-09-22 15:44:11,938 : INFO : EPOCH 9 - PROGRESS: at 43.96% examples, 322902 words/s, in_qsize 15, out_qsize 1\n",
            "2020-09-22 15:44:13,018 : INFO : EPOCH 9 - PROGRESS: at 47.97% examples, 321352 words/s, in_qsize 15, out_qsize 0\n",
            "2020-09-22 15:44:14,069 : INFO : EPOCH 9 - PROGRESS: at 52.18% examples, 322093 words/s, in_qsize 15, out_qsize 0\n",
            "2020-09-22 15:44:15,096 : INFO : EPOCH 9 - PROGRESS: at 56.08% examples, 321675 words/s, in_qsize 15, out_qsize 2\n",
            "2020-09-22 15:44:16,100 : INFO : EPOCH 9 - PROGRESS: at 59.98% examples, 321282 words/s, in_qsize 16, out_qsize 1\n",
            "2020-09-22 15:44:17,147 : INFO : EPOCH 9 - PROGRESS: at 63.97% examples, 320874 words/s, in_qsize 15, out_qsize 3\n",
            "2020-09-22 15:44:18,235 : INFO : EPOCH 9 - PROGRESS: at 68.31% examples, 321272 words/s, in_qsize 11, out_qsize 4\n",
            "2020-09-22 15:44:19,324 : INFO : EPOCH 9 - PROGRESS: at 72.75% examples, 322098 words/s, in_qsize 15, out_qsize 2\n",
            "2020-09-22 15:44:20,356 : INFO : EPOCH 9 - PROGRESS: at 76.99% examples, 322850 words/s, in_qsize 16, out_qsize 1\n",
            "2020-09-22 15:44:21,379 : INFO : EPOCH 9 - PROGRESS: at 80.80% examples, 321950 words/s, in_qsize 13, out_qsize 5\n",
            "2020-09-22 15:44:22,445 : INFO : EPOCH 9 - PROGRESS: at 85.23% examples, 322962 words/s, in_qsize 16, out_qsize 2\n",
            "2020-09-22 15:44:23,471 : INFO : EPOCH 9 - PROGRESS: at 89.24% examples, 322892 words/s, in_qsize 15, out_qsize 0\n",
            "2020-09-22 15:44:24,509 : INFO : EPOCH 9 - PROGRESS: at 93.81% examples, 324514 words/s, in_qsize 16, out_qsize 0\n",
            "2020-09-22 15:44:25,607 : INFO : EPOCH 9 - PROGRESS: at 97.61% examples, 322719 words/s, in_qsize 12, out_qsize 3\n",
            "2020-09-22 15:44:25,985 : INFO : worker thread finished; awaiting finish of 7 more threads\n",
            "2020-09-22 15:44:25,997 : INFO : worker thread finished; awaiting finish of 6 more threads\n",
            "2020-09-22 15:44:26,046 : INFO : worker thread finished; awaiting finish of 5 more threads\n",
            "2020-09-22 15:44:26,050 : INFO : worker thread finished; awaiting finish of 4 more threads\n",
            "2020-09-22 15:44:26,053 : INFO : worker thread finished; awaiting finish of 3 more threads\n",
            "2020-09-22 15:44:26,057 : INFO : worker thread finished; awaiting finish of 2 more threads\n",
            "2020-09-22 15:44:26,061 : INFO : worker thread finished; awaiting finish of 1 more threads\n",
            "2020-09-22 15:44:26,062 : INFO : worker thread finished; awaiting finish of 0 more threads\n",
            "2020-09-22 15:44:26,063 : INFO : EPOCH - 9 : training on 9227204 raw words (8222981 effective words) took 25.3s, 324686 effective words/s\n",
            "2020-09-22 15:44:27,120 : INFO : EPOCH 10 - PROGRESS: at 3.58% examples, 283323 words/s, in_qsize 15, out_qsize 0\n",
            "2020-09-22 15:44:28,137 : INFO : EPOCH 10 - PROGRESS: at 7.17% examples, 286195 words/s, in_qsize 15, out_qsize 0\n",
            "2020-09-22 15:44:29,246 : INFO : EPOCH 10 - PROGRESS: at 11.62% examples, 304921 words/s, in_qsize 15, out_qsize 0\n",
            "2020-09-22 15:44:30,218 : INFO : EPOCH 10 - PROGRESS: at 15.41% examples, 305752 words/s, in_qsize 16, out_qsize 1\n",
            "2020-09-22 15:44:31,254 : INFO : EPOCH 10 - PROGRESS: at 19.73% examples, 313334 words/s, in_qsize 15, out_qsize 0\n",
            "2020-09-22 15:44:32,264 : INFO : EPOCH 10 - PROGRESS: at 23.96% examples, 318381 words/s, in_qsize 15, out_qsize 0\n",
            "2020-09-22 15:44:33,267 : INFO : EPOCH 10 - PROGRESS: at 27.64% examples, 316116 words/s, in_qsize 15, out_qsize 2\n",
            "2020-09-22 15:44:34,339 : INFO : EPOCH 10 - PROGRESS: at 31.86% examples, 318418 words/s, in_qsize 15, out_qsize 2\n",
            "2020-09-22 15:44:35,336 : INFO : EPOCH 10 - PROGRESS: at 35.65% examples, 316692 words/s, in_qsize 14, out_qsize 3\n",
            "2020-09-22 15:44:36,421 : INFO : EPOCH 10 - PROGRESS: at 40.08% examples, 319945 words/s, in_qsize 16, out_qsize 1\n",
            "2020-09-22 15:44:37,419 : INFO : EPOCH 10 - PROGRESS: at 43.86% examples, 318215 words/s, in_qsize 16, out_qsize 6\n",
            "2020-09-22 15:44:38,430 : INFO : EPOCH 10 - PROGRESS: at 48.19% examples, 321019 words/s, in_qsize 10, out_qsize 0\n",
            "2020-09-22 15:44:39,446 : INFO : EPOCH 10 - PROGRESS: at 52.18% examples, 321303 words/s, in_qsize 16, out_qsize 0\n",
            "2020-09-22 15:44:40,455 : INFO : EPOCH 10 - PROGRESS: at 55.97% examples, 320443 words/s, in_qsize 14, out_qsize 1\n",
            "2020-09-22 15:44:41,486 : INFO : EPOCH 10 - PROGRESS: at 60.09% examples, 320979 words/s, in_qsize 12, out_qsize 3\n",
            "2020-09-22 15:44:42,537 : INFO : EPOCH 10 - PROGRESS: at 64.19% examples, 321050 words/s, in_qsize 14, out_qsize 4\n",
            "2020-09-22 15:44:43,545 : INFO : EPOCH 10 - PROGRESS: at 68.64% examples, 323409 words/s, in_qsize 14, out_qsize 0\n",
            "2020-09-22 15:44:44,554 : INFO : EPOCH 10 - PROGRESS: at 72.64% examples, 323583 words/s, in_qsize 16, out_qsize 2\n",
            "2020-09-22 15:44:45,566 : INFO : EPOCH 10 - PROGRESS: at 76.44% examples, 322763 words/s, in_qsize 15, out_qsize 0\n",
            "2020-09-22 15:44:46,580 : INFO : EPOCH 10 - PROGRESS: at 80.79% examples, 324196 words/s, in_qsize 15, out_qsize 0\n",
            "2020-09-22 15:44:47,586 : INFO : EPOCH 10 - PROGRESS: at 84.70% examples, 323933 words/s, in_qsize 15, out_qsize 1\n",
            "2020-09-22 15:44:48,650 : INFO : EPOCH 10 - PROGRESS: at 88.48% examples, 322952 words/s, in_qsize 15, out_qsize 6\n",
            "2020-09-22 15:44:49,710 : INFO : EPOCH 10 - PROGRESS: at 92.82% examples, 323068 words/s, in_qsize 15, out_qsize 0\n",
            "2020-09-22 15:44:50,725 : INFO : EPOCH 10 - PROGRESS: at 96.75% examples, 322767 words/s, in_qsize 12, out_qsize 2\n",
            "2020-09-22 15:44:51,231 : INFO : worker thread finished; awaiting finish of 7 more threads\n",
            "2020-09-22 15:44:51,239 : INFO : worker thread finished; awaiting finish of 6 more threads\n",
            "2020-09-22 15:44:51,247 : INFO : worker thread finished; awaiting finish of 5 more threads\n",
            "2020-09-22 15:44:51,297 : INFO : worker thread finished; awaiting finish of 4 more threads\n",
            "2020-09-22 15:44:51,345 : INFO : worker thread finished; awaiting finish of 3 more threads\n",
            "2020-09-22 15:44:51,357 : INFO : worker thread finished; awaiting finish of 2 more threads\n",
            "2020-09-22 15:44:51,364 : INFO : worker thread finished; awaiting finish of 1 more threads\n",
            "2020-09-22 15:44:51,370 : INFO : worker thread finished; awaiting finish of 0 more threads\n",
            "2020-09-22 15:44:51,372 : INFO : EPOCH - 10 : training on 9227204 raw words (8222005 effective words) took 25.3s, 325122 effective words/s\n",
            "2020-09-22 15:44:52,458 : INFO : EPOCH 11 - PROGRESS: at 3.69% examples, 294819 words/s, in_qsize 15, out_qsize 2\n",
            "2020-09-22 15:44:53,442 : INFO : EPOCH 11 - PROGRESS: at 7.93% examples, 320129 words/s, in_qsize 14, out_qsize 1\n",
            "2020-09-22 15:44:54,456 : INFO : EPOCH 11 - PROGRESS: at 11.73% examples, 315976 words/s, in_qsize 13, out_qsize 1\n",
            "2020-09-22 15:44:55,534 : INFO : EPOCH 11 - PROGRESS: at 15.73% examples, 315831 words/s, in_qsize 15, out_qsize 0\n",
            "2020-09-22 15:44:56,585 : INFO : EPOCH 11 - PROGRESS: at 19.84% examples, 315026 words/s, in_qsize 13, out_qsize 2\n",
            "2020-09-22 15:44:57,586 : INFO : EPOCH 11 - PROGRESS: at 24.18% examples, 321708 words/s, in_qsize 16, out_qsize 0\n",
            "2020-09-22 15:44:58,670 : INFO : EPOCH 11 - PROGRESS: at 28.18% examples, 319112 words/s, in_qsize 15, out_qsize 0\n",
            "2020-09-22 15:44:59,681 : INFO : EPOCH 11 - PROGRESS: at 32.08% examples, 318878 words/s, in_qsize 15, out_qsize 0\n",
            "2020-09-22 15:45:00,718 : INFO : EPOCH 11 - PROGRESS: at 36.08% examples, 318758 words/s, in_qsize 15, out_qsize 0\n",
            "2020-09-22 15:45:01,763 : INFO : EPOCH 11 - PROGRESS: at 40.40% examples, 320996 words/s, in_qsize 15, out_qsize 0\n",
            "2020-09-22 15:45:02,780 : INFO : EPOCH 11 - PROGRESS: at 44.29% examples, 320474 words/s, in_qsize 15, out_qsize 4\n",
            "2020-09-22 15:45:03,786 : INFO : EPOCH 11 - PROGRESS: at 48.19% examples, 320345 words/s, in_qsize 15, out_qsize 0\n",
            "2020-09-22 15:45:04,790 : INFO : EPOCH 11 - PROGRESS: at 52.18% examples, 320959 words/s, in_qsize 15, out_qsize 0\n",
            "2020-09-22 15:45:05,801 : INFO : EPOCH 11 - PROGRESS: at 56.08% examples, 320705 words/s, in_qsize 15, out_qsize 0\n",
            "2020-09-22 15:45:06,831 : INFO : EPOCH 11 - PROGRESS: at 60.30% examples, 321798 words/s, in_qsize 15, out_qsize 0\n",
            "2020-09-22 15:45:07,846 : INFO : EPOCH 11 - PROGRESS: at 64.30% examples, 321995 words/s, in_qsize 15, out_qsize 0\n",
            "2020-09-22 15:45:08,865 : INFO : EPOCH 11 - PROGRESS: at 68.10% examples, 321041 words/s, in_qsize 15, out_qsize 0\n",
            "2020-09-22 15:45:09,906 : INFO : EPOCH 11 - PROGRESS: at 72.10% examples, 320790 words/s, in_qsize 15, out_qsize 2\n",
            "2020-09-22 15:45:11,029 : INFO : EPOCH 11 - PROGRESS: at 76.33% examples, 320110 words/s, in_qsize 14, out_qsize 1\n",
            "2020-09-22 15:45:12,081 : INFO : EPOCH 11 - PROGRESS: at 80.24% examples, 319339 words/s, in_qsize 9, out_qsize 6\n",
            "2020-09-22 15:45:13,121 : INFO : EPOCH 11 - PROGRESS: at 84.69% examples, 320900 words/s, in_qsize 16, out_qsize 0\n",
            "2020-09-22 15:45:14,129 : INFO : EPOCH 11 - PROGRESS: at 88.80% examples, 321520 words/s, in_qsize 14, out_qsize 1\n",
            "2020-09-22 15:45:15,197 : INFO : EPOCH 11 - PROGRESS: at 92.72% examples, 320541 words/s, in_qsize 15, out_qsize 0\n",
            "2020-09-22 15:45:16,269 : INFO : EPOCH 11 - PROGRESS: at 96.96% examples, 320684 words/s, in_qsize 14, out_qsize 1\n",
            "2020-09-22 15:45:16,750 : INFO : worker thread finished; awaiting finish of 7 more threads\n",
            "2020-09-22 15:45:16,787 : INFO : worker thread finished; awaiting finish of 6 more threads\n",
            "2020-09-22 15:45:16,837 : INFO : worker thread finished; awaiting finish of 5 more threads\n",
            "2020-09-22 15:45:16,843 : INFO : worker thread finished; awaiting finish of 4 more threads\n",
            "2020-09-22 15:45:16,850 : INFO : worker thread finished; awaiting finish of 3 more threads\n",
            "2020-09-22 15:45:16,861 : INFO : worker thread finished; awaiting finish of 2 more threads\n",
            "2020-09-22 15:45:16,865 : INFO : worker thread finished; awaiting finish of 1 more threads\n",
            "2020-09-22 15:45:16,875 : INFO : worker thread finished; awaiting finish of 0 more threads\n",
            "2020-09-22 15:45:16,876 : INFO : EPOCH - 11 : training on 9227204 raw words (8222581 effective words) took 25.5s, 322888 effective words/s\n",
            "2020-09-22 15:45:17,933 : INFO : EPOCH 12 - PROGRESS: at 3.47% examples, 273172 words/s, in_qsize 14, out_qsize 1\n",
            "2020-09-22 15:45:18,964 : INFO : EPOCH 12 - PROGRESS: at 7.60% examples, 300649 words/s, in_qsize 15, out_qsize 0\n",
            "2020-09-22 15:45:19,992 : INFO : EPOCH 12 - PROGRESS: at 11.51% examples, 304460 words/s, in_qsize 15, out_qsize 0\n",
            "2020-09-22 15:45:21,050 : INFO : EPOCH 12 - PROGRESS: at 15.73% examples, 310441 words/s, in_qsize 15, out_qsize 0\n",
            "2020-09-22 15:45:22,149 : INFO : EPOCH 12 - PROGRESS: at 19.84% examples, 309896 words/s, in_qsize 14, out_qsize 4\n",
            "2020-09-22 15:45:23,254 : INFO : EPOCH 12 - PROGRESS: at 24.39% examples, 314918 words/s, in_qsize 15, out_qsize 0\n",
            "2020-09-22 15:45:24,274 : INFO : EPOCH 12 - PROGRESS: at 28.83% examples, 320879 words/s, in_qsize 15, out_qsize 0\n",
            "2020-09-22 15:45:25,324 : INFO : EPOCH 12 - PROGRESS: at 32.51% examples, 316840 words/s, in_qsize 12, out_qsize 3\n",
            "2020-09-22 15:45:26,328 : INFO : EPOCH 12 - PROGRESS: at 36.61% examples, 318994 words/s, in_qsize 15, out_qsize 0\n",
            "2020-09-22 15:45:27,354 : INFO : EPOCH 12 - PROGRESS: at 40.51% examples, 318374 words/s, in_qsize 11, out_qsize 4\n",
            "2020-09-22 15:45:28,481 : INFO : EPOCH 12 - PROGRESS: at 44.83% examples, 318162 words/s, in_qsize 15, out_qsize 0\n",
            "2020-09-22 15:45:29,515 : INFO : EPOCH 12 - PROGRESS: at 49.27% examples, 321030 words/s, in_qsize 16, out_qsize 0\n",
            "2020-09-22 15:45:30,526 : INFO : EPOCH 12 - PROGRESS: at 53.16% examples, 320763 words/s, in_qsize 14, out_qsize 0\n",
            "2020-09-22 15:45:31,559 : INFO : EPOCH 12 - PROGRESS: at 56.95% examples, 319939 words/s, in_qsize 15, out_qsize 1\n",
            "2020-09-22 15:45:32,551 : INFO : EPOCH 12 - PROGRESS: at 60.63% examples, 318556 words/s, in_qsize 14, out_qsize 2\n",
            "2020-09-22 15:45:33,625 : INFO : EPOCH 12 - PROGRESS: at 65.17% examples, 320470 words/s, in_qsize 15, out_qsize 0\n",
            "2020-09-22 15:45:34,644 : INFO : EPOCH 12 - PROGRESS: at 69.39% examples, 321651 words/s, in_qsize 16, out_qsize 0\n",
            "2020-09-22 15:45:35,672 : INFO : EPOCH 12 - PROGRESS: at 73.08% examples, 320144 words/s, in_qsize 15, out_qsize 0\n",
            "2020-09-22 15:45:36,678 : INFO : EPOCH 12 - PROGRESS: at 77.53% examples, 322325 words/s, in_qsize 15, out_qsize 0\n",
            "2020-09-22 15:45:37,818 : INFO : EPOCH 12 - PROGRESS: at 81.66% examples, 320946 words/s, in_qsize 14, out_qsize 1\n",
            "2020-09-22 15:45:38,890 : INFO : EPOCH 12 - PROGRESS: at 85.99% examples, 321504 words/s, in_qsize 15, out_qsize 0\n",
            "2020-09-22 15:45:39,904 : INFO : EPOCH 12 - PROGRESS: at 90.44% examples, 323201 words/s, in_qsize 15, out_qsize 0\n",
            "2020-09-22 15:45:40,945 : INFO : EPOCH 12 - PROGRESS: at 94.25% examples, 322170 words/s, in_qsize 15, out_qsize 0\n",
            "2020-09-22 15:45:41,966 : INFO : EPOCH 12 - PROGRESS: at 98.25% examples, 322196 words/s, in_qsize 15, out_qsize 0\n",
            "2020-09-22 15:45:42,148 : INFO : worker thread finished; awaiting finish of 7 more threads\n",
            "2020-09-22 15:45:42,206 : INFO : worker thread finished; awaiting finish of 6 more threads\n",
            "2020-09-22 15:45:42,220 : INFO : worker thread finished; awaiting finish of 5 more threads\n",
            "2020-09-22 15:45:42,222 : INFO : worker thread finished; awaiting finish of 4 more threads\n",
            "2020-09-22 15:45:42,230 : INFO : worker thread finished; awaiting finish of 3 more threads\n",
            "2020-09-22 15:45:42,234 : INFO : worker thread finished; awaiting finish of 2 more threads\n",
            "2020-09-22 15:45:42,236 : INFO : worker thread finished; awaiting finish of 1 more threads\n",
            "2020-09-22 15:45:42,241 : INFO : worker thread finished; awaiting finish of 0 more threads\n",
            "2020-09-22 15:45:42,242 : INFO : EPOCH - 12 : training on 9227204 raw words (8222957 effective words) took 25.4s, 324352 effective words/s\n",
            "2020-09-22 15:45:43,291 : INFO : EPOCH 13 - PROGRESS: at 3.36% examples, 267119 words/s, in_qsize 13, out_qsize 2\n",
            "2020-09-22 15:45:44,307 : INFO : EPOCH 13 - PROGRESS: at 7.61% examples, 304146 words/s, in_qsize 16, out_qsize 1\n",
            "2020-09-22 15:45:45,317 : INFO : EPOCH 13 - PROGRESS: at 11.29% examples, 302864 words/s, in_qsize 15, out_qsize 0\n",
            "2020-09-22 15:45:46,324 : INFO : EPOCH 13 - PROGRESS: at 15.19% examples, 306643 words/s, in_qsize 14, out_qsize 1\n",
            "2020-09-22 15:45:47,463 : INFO : EPOCH 13 - PROGRESS: at 19.84% examples, 313110 words/s, in_qsize 16, out_qsize 0\n",
            "2020-09-22 15:45:48,482 : INFO : EPOCH 13 - PROGRESS: at 24.18% examples, 319162 words/s, in_qsize 14, out_qsize 1\n",
            "2020-09-22 15:45:49,510 : INFO : EPOCH 13 - PROGRESS: at 27.96% examples, 316944 words/s, in_qsize 15, out_qsize 0\n",
            "2020-09-22 15:45:50,520 : INFO : EPOCH 13 - PROGRESS: at 32.08% examples, 319204 words/s, in_qsize 15, out_qsize 0\n",
            "2020-09-22 15:45:51,557 : INFO : EPOCH 13 - PROGRESS: at 36.08% examples, 319049 words/s, in_qsize 16, out_qsize 1\n",
            "2020-09-22 15:45:52,652 : INFO : EPOCH 13 - PROGRESS: at 40.62% examples, 321399 words/s, in_qsize 15, out_qsize 0\n",
            "2020-09-22 15:45:53,653 : INFO : EPOCH 13 - PROGRESS: at 44.62% examples, 322100 words/s, in_qsize 15, out_qsize 0\n",
            "2020-09-22 15:45:54,690 : INFO : EPOCH 13 - PROGRESS: at 48.51% examples, 321039 words/s, in_qsize 13, out_qsize 2\n",
            "2020-09-22 15:45:55,746 : INFO : EPOCH 13 - PROGRESS: at 52.84% examples, 322339 words/s, in_qsize 15, out_qsize 0\n",
            "2020-09-22 15:45:56,821 : INFO : EPOCH 13 - PROGRESS: at 57.16% examples, 323047 words/s, in_qsize 15, out_qsize 0\n",
            "2020-09-22 15:45:57,920 : INFO : EPOCH 13 - PROGRESS: at 61.50% examples, 323135 words/s, in_qsize 15, out_qsize 0\n",
            "2020-09-22 15:45:58,997 : INFO : EPOCH 13 - PROGRESS: at 65.83% examples, 323621 words/s, in_qsize 15, out_qsize 0\n",
            "2020-09-22 15:46:00,004 : INFO : EPOCH 13 - PROGRESS: at 69.83% examples, 323841 words/s, in_qsize 12, out_qsize 3\n",
            "2020-09-22 15:46:01,038 : INFO : EPOCH 13 - PROGRESS: at 73.94% examples, 324016 words/s, in_qsize 15, out_qsize 0\n",
            "2020-09-22 15:46:02,117 : INFO : EPOCH 13 - PROGRESS: at 78.18% examples, 323903 words/s, in_qsize 14, out_qsize 1\n",
            "2020-09-22 15:46:03,155 : INFO : EPOCH 13 - PROGRESS: at 82.53% examples, 324865 words/s, in_qsize 14, out_qsize 1\n",
            "2020-09-22 15:46:04,201 : INFO : EPOCH 13 - PROGRESS: at 86.21% examples, 323184 words/s, in_qsize 11, out_qsize 6\n",
            "2020-09-22 15:46:05,219 : INFO : EPOCH 13 - PROGRESS: at 90.43% examples, 323974 words/s, in_qsize 16, out_qsize 0\n",
            "2020-09-22 15:46:06,250 : INFO : EPOCH 13 - PROGRESS: at 94.36% examples, 323401 words/s, in_qsize 14, out_qsize 1\n",
            "2020-09-22 15:46:07,273 : INFO : EPOCH 13 - PROGRESS: at 98.58% examples, 324062 words/s, in_qsize 11, out_qsize 3\n",
            "2020-09-22 15:46:07,397 : INFO : worker thread finished; awaiting finish of 7 more threads\n",
            "2020-09-22 15:46:07,404 : INFO : worker thread finished; awaiting finish of 6 more threads\n",
            "2020-09-22 15:46:07,431 : INFO : worker thread finished; awaiting finish of 5 more threads\n",
            "2020-09-22 15:46:07,453 : INFO : worker thread finished; awaiting finish of 4 more threads\n",
            "2020-09-22 15:46:07,457 : INFO : worker thread finished; awaiting finish of 3 more threads\n",
            "2020-09-22 15:46:07,468 : INFO : worker thread finished; awaiting finish of 2 more threads\n",
            "2020-09-22 15:46:07,480 : INFO : worker thread finished; awaiting finish of 1 more threads\n",
            "2020-09-22 15:46:07,483 : INFO : worker thread finished; awaiting finish of 0 more threads\n",
            "2020-09-22 15:46:07,485 : INFO : EPOCH - 13 : training on 9227204 raw words (8223486 effective words) took 25.2s, 325970 effective words/s\n",
            "2020-09-22 15:46:08,564 : INFO : EPOCH 14 - PROGRESS: at 3.47% examples, 267702 words/s, in_qsize 10, out_qsize 5\n",
            "2020-09-22 15:46:09,607 : INFO : EPOCH 14 - PROGRESS: at 7.82% examples, 308931 words/s, in_qsize 15, out_qsize 0\n",
            "2020-09-22 15:46:10,590 : INFO : EPOCH 14 - PROGRESS: at 11.73% examples, 311317 words/s, in_qsize 15, out_qsize 0\n",
            "2020-09-22 15:46:11,615 : INFO : EPOCH 14 - PROGRESS: at 15.84% examples, 315952 words/s, in_qsize 16, out_qsize 0\n",
            "2020-09-22 15:46:12,786 : INFO : EPOCH 14 - PROGRESS: at 20.27% examples, 315051 words/s, in_qsize 13, out_qsize 2\n",
            "2020-09-22 15:46:13,797 : INFO : EPOCH 14 - PROGRESS: at 24.29% examples, 317039 words/s, in_qsize 16, out_qsize 3\n",
            "2020-09-22 15:46:14,804 : INFO : EPOCH 14 - PROGRESS: at 28.61% examples, 321944 words/s, in_qsize 15, out_qsize 0\n",
            "2020-09-22 15:46:15,845 : INFO : EPOCH 14 - PROGRESS: at 32.62% examples, 321942 words/s, in_qsize 16, out_qsize 2\n",
            "2020-09-22 15:46:16,852 : INFO : EPOCH 14 - PROGRESS: at 36.83% examples, 323898 words/s, in_qsize 16, out_qsize 0\n",
            "2020-09-22 15:46:17,878 : INFO : EPOCH 14 - PROGRESS: at 40.62% examples, 321850 words/s, in_qsize 14, out_qsize 2\n",
            "2020-09-22 15:46:18,886 : INFO : EPOCH 14 - PROGRESS: at 44.62% examples, 322279 words/s, in_qsize 15, out_qsize 0\n",
            "2020-09-22 15:46:19,887 : INFO : EPOCH 14 - PROGRESS: at 48.73% examples, 323578 words/s, in_qsize 15, out_qsize 0\n",
            "2020-09-22 15:46:20,908 : INFO : EPOCH 14 - PROGRESS: at 52.51% examples, 322188 words/s, in_qsize 13, out_qsize 2\n",
            "2020-09-22 15:46:21,922 : INFO : EPOCH 14 - PROGRESS: at 56.73% examples, 323630 words/s, in_qsize 15, out_qsize 0\n",
            "2020-09-22 15:46:23,049 : INFO : EPOCH 14 - PROGRESS: at 61.07% examples, 323106 words/s, in_qsize 11, out_qsize 4\n",
            "2020-09-22 15:46:24,059 : INFO : EPOCH 14 - PROGRESS: at 65.39% examples, 324899 words/s, in_qsize 15, out_qsize 0\n",
            "2020-09-22 15:46:25,116 : INFO : EPOCH 14 - PROGRESS: at 69.50% examples, 324628 words/s, in_qsize 15, out_qsize 0\n",
            "2020-09-22 15:46:26,171 : INFO : EPOCH 14 - PROGRESS: at 73.73% examples, 324884 words/s, in_qsize 14, out_qsize 1\n",
            "2020-09-22 15:46:27,240 : INFO : EPOCH 14 - PROGRESS: at 77.96% examples, 324872 words/s, in_qsize 12, out_qsize 5\n",
            "2020-09-22 15:46:28,311 : INFO : EPOCH 14 - PROGRESS: at 82.32% examples, 325285 words/s, in_qsize 14, out_qsize 1\n",
            "2020-09-22 15:46:29,312 : INFO : EPOCH 14 - PROGRESS: at 86.42% examples, 325863 words/s, in_qsize 15, out_qsize 1\n",
            "2020-09-22 15:46:30,391 : INFO : EPOCH 14 - PROGRESS: at 90.76% examples, 326063 words/s, in_qsize 15, out_qsize 0\n",
            "2020-09-22 15:46:31,395 : INFO : EPOCH 14 - PROGRESS: at 94.69% examples, 325774 words/s, in_qsize 15, out_qsize 0\n",
            "2020-09-22 15:46:32,402 : INFO : EPOCH 14 - PROGRESS: at 98.58% examples, 325474 words/s, in_qsize 10, out_qsize 4\n",
            "2020-09-22 15:46:32,429 : INFO : worker thread finished; awaiting finish of 7 more threads\n",
            "2020-09-22 15:46:32,440 : INFO : worker thread finished; awaiting finish of 6 more threads\n",
            "2020-09-22 15:46:32,472 : INFO : worker thread finished; awaiting finish of 5 more threads\n",
            "2020-09-22 15:46:32,521 : INFO : worker thread finished; awaiting finish of 4 more threads\n",
            "2020-09-22 15:46:32,530 : INFO : worker thread finished; awaiting finish of 3 more threads\n",
            "2020-09-22 15:46:32,550 : INFO : worker thread finished; awaiting finish of 2 more threads\n",
            "2020-09-22 15:46:32,555 : INFO : worker thread finished; awaiting finish of 1 more threads\n",
            "2020-09-22 15:46:32,564 : INFO : worker thread finished; awaiting finish of 0 more threads\n",
            "2020-09-22 15:46:32,566 : INFO : EPOCH - 14 : training on 9227204 raw words (8221879 effective words) took 25.1s, 328010 effective words/s\n",
            "2020-09-22 15:46:33,614 : INFO : EPOCH 15 - PROGRESS: at 3.69% examples, 292352 words/s, in_qsize 13, out_qsize 0\n",
            "2020-09-22 15:46:34,653 : INFO : EPOCH 15 - PROGRESS: at 7.93% examples, 313378 words/s, in_qsize 14, out_qsize 1\n",
            "2020-09-22 15:46:35,718 : INFO : EPOCH 15 - PROGRESS: at 12.17% examples, 317808 words/s, in_qsize 16, out_qsize 0\n",
            "2020-09-22 15:46:36,723 : INFO : EPOCH 15 - PROGRESS: at 16.05% examples, 318096 words/s, in_qsize 16, out_qsize 0\n",
            "2020-09-22 15:46:37,732 : INFO : EPOCH 15 - PROGRESS: at 20.27% examples, 323234 words/s, in_qsize 14, out_qsize 0\n",
            "2020-09-22 15:46:38,819 : INFO : EPOCH 15 - PROGRESS: at 24.07% examples, 316931 words/s, in_qsize 15, out_qsize 0\n",
            "2020-09-22 15:46:39,831 : INFO : EPOCH 15 - PROGRESS: at 28.29% examples, 320593 words/s, in_qsize 15, out_qsize 0\n",
            "2020-09-22 15:46:40,845 : INFO : EPOCH 15 - PROGRESS: at 32.41% examples, 322232 words/s, in_qsize 13, out_qsize 0\n",
            "2020-09-22 15:46:41,859 : INFO : EPOCH 15 - PROGRESS: at 36.61% examples, 324436 words/s, in_qsize 15, out_qsize 0\n",
            "2020-09-22 15:46:42,871 : INFO : EPOCH 15 - PROGRESS: at 40.40% examples, 322806 words/s, in_qsize 14, out_qsize 1\n",
            "2020-09-22 15:46:43,925 : INFO : EPOCH 15 - PROGRESS: at 44.62% examples, 324416 words/s, in_qsize 15, out_qsize 0\n",
            "2020-09-22 15:46:44,909 : INFO : EPOCH 15 - PROGRESS: at 48.51% examples, 323669 words/s, in_qsize 15, out_qsize 0\n",
            "2020-09-22 15:46:45,967 : INFO : EPOCH 15 - PROGRESS: at 52.62% examples, 323406 words/s, in_qsize 13, out_qsize 2\n",
            "2020-09-22 15:46:47,009 : INFO : EPOCH 15 - PROGRESS: at 57.06% examples, 325380 words/s, in_qsize 15, out_qsize 0\n",
            "2020-09-22 15:46:48,143 : INFO : EPOCH 15 - PROGRESS: at 61.39% examples, 324590 words/s, in_qsize 13, out_qsize 2\n",
            "2020-09-22 15:46:49,169 : INFO : EPOCH 15 - PROGRESS: at 65.72% examples, 325948 words/s, in_qsize 13, out_qsize 1\n",
            "2020-09-22 15:46:50,242 : INFO : EPOCH 15 - PROGRESS: at 69.61% examples, 324331 words/s, in_qsize 15, out_qsize 0\n",
            "2020-09-22 15:46:51,261 : INFO : EPOCH 15 - PROGRESS: at 73.52% examples, 323791 words/s, in_qsize 12, out_qsize 3\n",
            "2020-09-22 15:46:52,291 : INFO : EPOCH 15 - PROGRESS: at 78.18% examples, 326275 words/s, in_qsize 16, out_qsize 0\n",
            "2020-09-22 15:46:53,372 : INFO : EPOCH 15 - PROGRESS: at 81.77% examples, 324100 words/s, in_qsize 16, out_qsize 6\n",
            "2020-09-22 15:46:54,340 : INFO : EPOCH 15 - PROGRESS: at 85.99% examples, 325024 words/s, in_qsize 14, out_qsize 1\n",
            "2020-09-22 15:46:55,397 : INFO : EPOCH 15 - PROGRESS: at 90.32% examples, 325584 words/s, in_qsize 15, out_qsize 1\n",
            "2020-09-22 15:46:56,418 : INFO : EPOCH 15 - PROGRESS: at 94.25% examples, 325077 words/s, in_qsize 16, out_qsize 0\n",
            "2020-09-22 15:46:57,514 : INFO : EPOCH 15 - PROGRESS: at 98.58% examples, 325081 words/s, in_qsize 14, out_qsize 0\n",
            "2020-09-22 15:46:57,644 : INFO : worker thread finished; awaiting finish of 7 more threads\n",
            "2020-09-22 15:46:57,675 : INFO : worker thread finished; awaiting finish of 6 more threads\n",
            "2020-09-22 15:46:57,716 : INFO : worker thread finished; awaiting finish of 5 more threads\n",
            "2020-09-22 15:46:57,725 : INFO : worker thread finished; awaiting finish of 4 more threads\n",
            "2020-09-22 15:46:57,730 : INFO : worker thread finished; awaiting finish of 3 more threads\n",
            "2020-09-22 15:46:57,741 : INFO : worker thread finished; awaiting finish of 2 more threads\n",
            "2020-09-22 15:46:57,747 : INFO : worker thread finished; awaiting finish of 1 more threads\n",
            "2020-09-22 15:46:57,758 : INFO : worker thread finished; awaiting finish of 0 more threads\n",
            "2020-09-22 15:46:57,760 : INFO : EPOCH - 15 : training on 9227204 raw words (8223060 effective words) took 25.2s, 326549 effective words/s\n",
            "2020-09-22 15:46:58,793 : INFO : EPOCH 16 - PROGRESS: at 3.58% examples, 293106 words/s, in_qsize 14, out_qsize 2\n",
            "2020-09-22 15:46:59,937 : INFO : EPOCH 16 - PROGRESS: at 7.82% examples, 300185 words/s, in_qsize 15, out_qsize 1\n",
            "2020-09-22 15:47:00,921 : INFO : EPOCH 16 - PROGRESS: at 11.84% examples, 308582 words/s, in_qsize 15, out_qsize 0\n",
            "2020-09-22 15:47:01,929 : INFO : EPOCH 16 - PROGRESS: at 15.94% examples, 315116 words/s, in_qsize 15, out_qsize 0\n",
            "2020-09-22 15:47:03,013 : INFO : EPOCH 16 - PROGRESS: at 20.05% examples, 314567 words/s, in_qsize 15, out_qsize 0\n",
            "2020-09-22 15:47:04,031 : INFO : EPOCH 16 - PROGRESS: at 24.06% examples, 316091 words/s, in_qsize 16, out_qsize 0\n",
            "2020-09-22 15:47:05,065 : INFO : EPOCH 16 - PROGRESS: at 28.40% examples, 320107 words/s, in_qsize 15, out_qsize 0\n",
            "2020-09-22 15:47:06,070 : INFO : EPOCH 16 - PROGRESS: at 32.41% examples, 321077 words/s, in_qsize 13, out_qsize 2\n",
            "2020-09-22 15:47:07,107 : INFO : EPOCH 16 - PROGRESS: at 36.29% examples, 319758 words/s, in_qsize 16, out_qsize 0\n",
            "2020-09-22 15:47:08,122 : INFO : EPOCH 16 - PROGRESS: at 40.40% examples, 321136 words/s, in_qsize 15, out_qsize 0\n",
            "2020-09-22 15:47:09,174 : INFO : EPOCH 16 - PROGRESS: at 44.62% examples, 321966 words/s, in_qsize 16, out_qsize 0\n",
            "2020-09-22 15:47:10,204 : INFO : EPOCH 16 - PROGRESS: at 48.51% examples, 321094 words/s, in_qsize 15, out_qsize 0\n",
            "2020-09-22 15:47:11,300 : INFO : EPOCH 16 - PROGRESS: at 52.84% examples, 321432 words/s, in_qsize 15, out_qsize 0\n",
            "2020-09-22 15:47:12,317 : INFO : EPOCH 16 - PROGRESS: at 57.16% examples, 323492 words/s, in_qsize 15, out_qsize 0\n",
            "2020-09-22 15:47:13,376 : INFO : EPOCH 16 - PROGRESS: at 61.06% examples, 322088 words/s, in_qsize 11, out_qsize 3\n",
            "2020-09-22 15:47:14,432 : INFO : EPOCH 16 - PROGRESS: at 65.06% examples, 321445 words/s, in_qsize 15, out_qsize 4\n",
            "2020-09-22 15:47:15,443 : INFO : EPOCH 16 - PROGRESS: at 69.29% examples, 322726 words/s, in_qsize 15, out_qsize 0\n",
            "2020-09-22 15:47:16,511 : INFO : EPOCH 16 - PROGRESS: at 73.51% examples, 322862 words/s, in_qsize 16, out_qsize 0\n",
            "2020-09-22 15:47:17,554 : INFO : EPOCH 16 - PROGRESS: at 77.42% examples, 322042 words/s, in_qsize 15, out_qsize 2\n",
            "2020-09-22 15:47:18,573 : INFO : EPOCH 16 - PROGRESS: at 81.77% examples, 323423 words/s, in_qsize 16, out_qsize 0\n",
            "2020-09-22 15:47:19,612 : INFO : EPOCH 16 - PROGRESS: at 85.77% examples, 323118 words/s, in_qsize 15, out_qsize 0\n",
            "2020-09-22 15:47:20,613 : INFO : EPOCH 16 - PROGRESS: at 89.78% examples, 323389 words/s, in_qsize 15, out_qsize 0\n",
            "2020-09-22 15:47:21,660 : INFO : EPOCH 16 - PROGRESS: at 93.92% examples, 323370 words/s, in_qsize 15, out_qsize 0\n",
            "2020-09-22 15:47:22,694 : INFO : EPOCH 16 - PROGRESS: at 97.82% examples, 322818 words/s, in_qsize 11, out_qsize 4\n",
            "2020-09-22 15:47:22,979 : INFO : worker thread finished; awaiting finish of 7 more threads\n",
            "2020-09-22 15:47:22,981 : INFO : worker thread finished; awaiting finish of 6 more threads\n",
            "2020-09-22 15:47:22,982 : INFO : worker thread finished; awaiting finish of 5 more threads\n",
            "2020-09-22 15:47:22,985 : INFO : worker thread finished; awaiting finish of 4 more threads\n",
            "2020-09-22 15:47:22,989 : INFO : worker thread finished; awaiting finish of 3 more threads\n",
            "2020-09-22 15:47:22,992 : INFO : worker thread finished; awaiting finish of 2 more threads\n",
            "2020-09-22 15:47:23,027 : INFO : worker thread finished; awaiting finish of 1 more threads\n",
            "2020-09-22 15:47:23,042 : INFO : worker thread finished; awaiting finish of 0 more threads\n",
            "2020-09-22 15:47:23,044 : INFO : EPOCH - 16 : training on 9227204 raw words (8223906 effective words) took 25.3s, 325444 effective words/s\n",
            "2020-09-22 15:47:24,098 : INFO : EPOCH 17 - PROGRESS: at 3.80% examples, 299709 words/s, in_qsize 15, out_qsize 0\n",
            "2020-09-22 15:47:25,131 : INFO : EPOCH 17 - PROGRESS: at 7.71% examples, 308232 words/s, in_qsize 15, out_qsize 0\n",
            "2020-09-22 15:47:26,149 : INFO : EPOCH 17 - PROGRESS: at 11.62% examples, 308531 words/s, in_qsize 15, out_qsize 0\n",
            "2020-09-22 15:47:27,155 : INFO : EPOCH 17 - PROGRESS: at 15.95% examples, 319730 words/s, in_qsize 15, out_qsize 0\n",
            "2020-09-22 15:47:28,242 : INFO : EPOCH 17 - PROGRESS: at 19.84% examples, 314470 words/s, in_qsize 15, out_qsize 2\n",
            "2020-09-22 15:47:29,317 : INFO : EPOCH 17 - PROGRESS: at 24.06% examples, 315972 words/s, in_qsize 12, out_qsize 3\n",
            "2020-09-22 15:47:30,393 : INFO : EPOCH 17 - PROGRESS: at 28.61% examples, 320627 words/s, in_qsize 15, out_qsize 0\n",
            "2020-09-22 15:47:31,440 : INFO : EPOCH 17 - PROGRESS: at 32.95% examples, 323074 words/s, in_qsize 12, out_qsize 1\n",
            "2020-09-22 15:47:32,466 : INFO : EPOCH 17 - PROGRESS: at 36.51% examples, 319083 words/s, in_qsize 15, out_qsize 5\n",
            "2020-09-22 15:47:33,484 : INFO : EPOCH 17 - PROGRESS: at 41.05% examples, 323809 words/s, in_qsize 15, out_qsize 0\n",
            "2020-09-22 15:47:34,580 : INFO : EPOCH 17 - PROGRESS: at 44.83% examples, 320044 words/s, in_qsize 15, out_qsize 3\n",
            "2020-09-22 15:47:35,597 : INFO : EPOCH 17 - PROGRESS: at 49.05% examples, 321818 words/s, in_qsize 16, out_qsize 0\n",
            "2020-09-22 15:47:36,665 : INFO : EPOCH 17 - PROGRESS: at 53.16% examples, 321445 words/s, in_qsize 16, out_qsize 1\n",
            "2020-09-22 15:47:37,770 : INFO : EPOCH 17 - PROGRESS: at 57.16% examples, 319736 words/s, in_qsize 9, out_qsize 8\n",
            "2020-09-22 15:47:38,777 : INFO : EPOCH 17 - PROGRESS: at 61.82% examples, 323615 words/s, in_qsize 15, out_qsize 0\n",
            "2020-09-22 15:47:39,780 : INFO : EPOCH 17 - PROGRESS: at 65.93% examples, 324421 words/s, in_qsize 15, out_qsize 0\n",
            "2020-09-22 15:47:40,818 : INFO : EPOCH 17 - PROGRESS: at 70.05% examples, 324532 words/s, in_qsize 15, out_qsize 0\n",
            "2020-09-22 15:47:41,910 : INFO : EPOCH 17 - PROGRESS: at 73.94% examples, 323589 words/s, in_qsize 15, out_qsize 3\n",
            "2020-09-22 15:47:42,894 : INFO : EPOCH 17 - PROGRESS: at 78.40% examples, 325158 words/s, in_qsize 15, out_qsize 0\n",
            "2020-09-22 15:47:43,954 : INFO : EPOCH 17 - PROGRESS: at 82.42% examples, 324426 words/s, in_qsize 15, out_qsize 0\n",
            "2020-09-22 15:47:44,967 : INFO : EPOCH 17 - PROGRESS: at 86.21% examples, 323647 words/s, in_qsize 11, out_qsize 4\n",
            "2020-09-22 15:47:45,976 : INFO : EPOCH 17 - PROGRESS: at 90.33% examples, 324176 words/s, in_qsize 14, out_qsize 2\n",
            "2020-09-22 15:47:46,988 : INFO : EPOCH 17 - PROGRESS: at 94.36% examples, 324224 words/s, in_qsize 14, out_qsize 1\n",
            "2020-09-22 15:47:48,002 : INFO : EPOCH 17 - PROGRESS: at 98.36% examples, 324250 words/s, in_qsize 14, out_qsize 2\n",
            "2020-09-22 15:47:48,194 : INFO : worker thread finished; awaiting finish of 7 more threads\n",
            "2020-09-22 15:47:48,203 : INFO : worker thread finished; awaiting finish of 6 more threads\n",
            "2020-09-22 15:47:48,210 : INFO : worker thread finished; awaiting finish of 5 more threads\n",
            "2020-09-22 15:47:48,218 : INFO : worker thread finished; awaiting finish of 4 more threads\n",
            "2020-09-22 15:47:48,248 : INFO : worker thread finished; awaiting finish of 3 more threads\n",
            "2020-09-22 15:47:48,257 : INFO : worker thread finished; awaiting finish of 2 more threads\n",
            "2020-09-22 15:47:48,275 : INFO : worker thread finished; awaiting finish of 1 more threads\n",
            "2020-09-22 15:47:48,277 : INFO : worker thread finished; awaiting finish of 0 more threads\n",
            "2020-09-22 15:47:48,279 : INFO : EPOCH - 17 : training on 9227204 raw words (8222533 effective words) took 25.2s, 326026 effective words/s\n",
            "2020-09-22 15:47:49,339 : INFO : EPOCH 18 - PROGRESS: at 3.58% examples, 284149 words/s, in_qsize 16, out_qsize 1\n",
            "2020-09-22 15:47:50,340 : INFO : EPOCH 18 - PROGRESS: at 7.71% examples, 310605 words/s, in_qsize 15, out_qsize 0\n",
            "2020-09-22 15:47:51,378 : INFO : EPOCH 18 - PROGRESS: at 11.62% examples, 313823 words/s, in_qsize 15, out_qsize 1\n",
            "2020-09-22 15:47:52,396 : INFO : EPOCH 18 - PROGRESS: at 15.73% examples, 315601 words/s, in_qsize 15, out_qsize 0\n",
            "2020-09-22 15:47:53,424 : INFO : EPOCH 18 - PROGRESS: at 19.62% examples, 314841 words/s, in_qsize 15, out_qsize 3\n",
            "2020-09-22 15:47:54,434 : INFO : EPOCH 18 - PROGRESS: at 24.06% examples, 322577 words/s, in_qsize 15, out_qsize 0\n",
            "2020-09-22 15:47:55,456 : INFO : EPOCH 18 - PROGRESS: at 27.86% examples, 320081 words/s, in_qsize 15, out_qsize 0\n",
            "2020-09-22 15:47:56,514 : INFO : EPOCH 18 - PROGRESS: at 32.19% examples, 322268 words/s, in_qsize 15, out_qsize 0\n",
            "2020-09-22 15:47:57,693 : INFO : EPOCH 18 - PROGRESS: at 36.51% examples, 320377 words/s, in_qsize 16, out_qsize 4\n",
            "2020-09-22 15:47:58,682 : INFO : EPOCH 18 - PROGRESS: at 40.62% examples, 321874 words/s, in_qsize 16, out_qsize 0\n",
            "2020-09-22 15:47:59,683 : INFO : EPOCH 18 - PROGRESS: at 44.73% examples, 323287 words/s, in_qsize 15, out_qsize 0\n",
            "2020-09-22 15:48:00,768 : INFO : EPOCH 18 - PROGRESS: at 48.84% examples, 322321 words/s, in_qsize 15, out_qsize 0\n",
            "2020-09-22 15:48:01,770 : INFO : EPOCH 18 - PROGRESS: at 53.16% examples, 324820 words/s, in_qsize 16, out_qsize 1\n",
            "2020-09-22 15:48:02,783 : INFO : EPOCH 18 - PROGRESS: at 57.06% examples, 324252 words/s, in_qsize 14, out_qsize 1\n",
            "2020-09-22 15:48:03,868 : INFO : EPOCH 18 - PROGRESS: at 61.07% examples, 322823 words/s, in_qsize 16, out_qsize 1\n",
            "2020-09-22 15:48:04,914 : INFO : EPOCH 18 - PROGRESS: at 65.61% examples, 325013 words/s, in_qsize 15, out_qsize 0\n",
            "2020-09-22 15:48:06,026 : INFO : EPOCH 18 - PROGRESS: at 68.85% examples, 321059 words/s, in_qsize 16, out_qsize 6\n",
            "2020-09-22 15:48:07,010 : INFO : EPOCH 18 - PROGRESS: at 73.30% examples, 322401 words/s, in_qsize 16, out_qsize 0\n",
            "2020-09-22 15:48:08,111 : INFO : EPOCH 18 - PROGRESS: at 77.64% examples, 323202 words/s, in_qsize 15, out_qsize 0\n",
            "2020-09-22 15:48:09,069 : INFO : EPOCH 18 - PROGRESS: at 81.77% examples, 323877 words/s, in_qsize 13, out_qsize 0\n",
            "2020-09-22 15:48:10,076 : INFO : EPOCH 18 - PROGRESS: at 85.13% examples, 321569 words/s, in_qsize 15, out_qsize 0\n",
            "2020-09-22 15:48:11,087 : INFO : EPOCH 18 - PROGRESS: at 89.34% examples, 322555 words/s, in_qsize 14, out_qsize 0\n",
            "2020-09-22 15:48:12,120 : INFO : EPOCH 18 - PROGRESS: at 93.26% examples, 322243 words/s, in_qsize 15, out_qsize 1\n",
            "2020-09-22 15:48:13,190 : INFO : EPOCH 18 - PROGRESS: at 97.07% examples, 320678 words/s, in_qsize 15, out_qsize 8\n",
            "2020-09-22 15:48:13,545 : INFO : worker thread finished; awaiting finish of 7 more threads\n",
            "2020-09-22 15:48:13,553 : INFO : worker thread finished; awaiting finish of 6 more threads\n",
            "2020-09-22 15:48:13,610 : INFO : worker thread finished; awaiting finish of 5 more threads\n",
            "2020-09-22 15:48:13,639 : INFO : worker thread finished; awaiting finish of 4 more threads\n",
            "2020-09-22 15:48:13,645 : INFO : worker thread finished; awaiting finish of 3 more threads\n",
            "2020-09-22 15:48:13,650 : INFO : worker thread finished; awaiting finish of 2 more threads\n",
            "2020-09-22 15:48:13,652 : INFO : worker thread finished; awaiting finish of 1 more threads\n",
            "2020-09-22 15:48:13,653 : INFO : worker thread finished; awaiting finish of 0 more threads\n",
            "2020-09-22 15:48:13,654 : INFO : EPOCH - 18 : training on 9227204 raw words (8222019 effective words) took 25.4s, 324334 effective words/s\n",
            "2020-09-22 15:48:14,672 : INFO : EPOCH 19 - PROGRESS: at 3.69% examples, 301996 words/s, in_qsize 15, out_qsize 0\n",
            "2020-09-22 15:48:15,695 : INFO : EPOCH 19 - PROGRESS: at 7.28% examples, 294595 words/s, in_qsize 16, out_qsize 4\n",
            "2020-09-22 15:48:16,834 : INFO : EPOCH 19 - PROGRESS: at 11.73% examples, 304086 words/s, in_qsize 9, out_qsize 6\n",
            "2020-09-22 15:48:17,916 : INFO : EPOCH 19 - PROGRESS: at 15.95% examples, 308390 words/s, in_qsize 9, out_qsize 6\n",
            "2020-09-22 15:48:18,934 : INFO : EPOCH 19 - PROGRESS: at 19.84% examples, 309650 words/s, in_qsize 15, out_qsize 5\n",
            "2020-09-22 15:48:19,944 : INFO : EPOCH 19 - PROGRESS: at 24.18% examples, 316617 words/s, in_qsize 14, out_qsize 1\n",
            "2020-09-22 15:48:21,004 : INFO : EPOCH 19 - PROGRESS: at 28.29% examples, 317025 words/s, in_qsize 14, out_qsize 1\n",
            "2020-09-22 15:48:22,102 : INFO : EPOCH 19 - PROGRESS: at 32.62% examples, 319521 words/s, in_qsize 15, out_qsize 1\n",
            "2020-09-22 15:48:23,167 : INFO : EPOCH 19 - PROGRESS: at 36.94% examples, 319840 words/s, in_qsize 16, out_qsize 0\n",
            "2020-09-22 15:48:24,418 : INFO : EPOCH 19 - PROGRESS: at 41.48% examples, 319461 words/s, in_qsize 16, out_qsize 5\n",
            "2020-09-22 15:48:25,376 : INFO : EPOCH 19 - PROGRESS: at 45.70% examples, 321611 words/s, in_qsize 15, out_qsize 1\n",
            "2020-09-22 15:48:26,468 : INFO : EPOCH 19 - PROGRESS: at 49.48% examples, 318083 words/s, in_qsize 13, out_qsize 7\n",
            "2020-09-22 15:48:27,492 : INFO : EPOCH 19 - PROGRESS: at 54.24% examples, 322902 words/s, in_qsize 15, out_qsize 0\n",
            "2020-09-22 15:48:28,505 : INFO : EPOCH 19 - PROGRESS: at 57.81% examples, 320699 words/s, in_qsize 13, out_qsize 2\n",
            "2020-09-22 15:48:29,556 : INFO : EPOCH 19 - PROGRESS: at 62.03% examples, 321334 words/s, in_qsize 15, out_qsize 0\n",
            "2020-09-22 15:48:30,604 : INFO : EPOCH 19 - PROGRESS: at 66.58% examples, 323552 words/s, in_qsize 15, out_qsize 0\n",
            "2020-09-22 15:48:31,720 : INFO : EPOCH 19 - PROGRESS: at 70.81% examples, 323233 words/s, in_qsize 15, out_qsize 1\n",
            "2020-09-22 15:48:32,700 : INFO : EPOCH 19 - PROGRESS: at 74.91% examples, 323956 words/s, in_qsize 15, out_qsize 0\n",
            "2020-09-22 15:48:33,735 : INFO : EPOCH 19 - PROGRESS: at 79.27% examples, 324996 words/s, in_qsize 15, out_qsize 0\n",
            "2020-09-22 15:48:34,751 : INFO : EPOCH 19 - PROGRESS: at 82.75% examples, 322870 words/s, in_qsize 15, out_qsize 5\n",
            "2020-09-22 15:48:35,786 : INFO : EPOCH 19 - PROGRESS: at 86.75% examples, 322655 words/s, in_qsize 12, out_qsize 6\n",
            "2020-09-22 15:48:36,836 : INFO : EPOCH 19 - PROGRESS: at 91.42% examples, 324545 words/s, in_qsize 15, out_qsize 0\n",
            "2020-09-22 15:48:37,867 : INFO : EPOCH 19 - PROGRESS: at 95.88% examples, 325818 words/s, in_qsize 15, out_qsize 0\n",
            "2020-09-22 15:48:38,720 : INFO : worker thread finished; awaiting finish of 7 more threads\n",
            "2020-09-22 15:48:38,738 : INFO : worker thread finished; awaiting finish of 6 more threads\n",
            "2020-09-22 15:48:38,740 : INFO : worker thread finished; awaiting finish of 5 more threads\n",
            "2020-09-22 15:48:38,759 : INFO : worker thread finished; awaiting finish of 4 more threads\n",
            "2020-09-22 15:48:38,799 : INFO : worker thread finished; awaiting finish of 3 more threads\n",
            "2020-09-22 15:48:38,822 : INFO : worker thread finished; awaiting finish of 2 more threads\n",
            "2020-09-22 15:48:38,829 : INFO : worker thread finished; awaiting finish of 1 more threads\n",
            "2020-09-22 15:48:38,838 : INFO : worker thread finished; awaiting finish of 0 more threads\n",
            "2020-09-22 15:48:38,839 : INFO : EPOCH - 19 : training on 9227204 raw words (8223720 effective words) took 25.2s, 326720 effective words/s\n",
            "2020-09-22 15:48:39,865 : INFO : EPOCH 20 - PROGRESS: at 3.14% examples, 254876 words/s, in_qsize 12, out_qsize 3\n",
            "2020-09-22 15:48:40,915 : INFO : EPOCH 20 - PROGRESS: at 7.71% examples, 307089 words/s, in_qsize 14, out_qsize 2\n",
            "2020-09-22 15:48:41,937 : INFO : EPOCH 20 - PROGRESS: at 11.73% examples, 311800 words/s, in_qsize 14, out_qsize 1\n",
            "2020-09-22 15:48:42,961 : INFO : EPOCH 20 - PROGRESS: at 15.84% examples, 316383 words/s, in_qsize 15, out_qsize 0\n",
            "2020-09-22 15:48:43,987 : INFO : EPOCH 20 - PROGRESS: at 20.05% examples, 320775 words/s, in_qsize 15, out_qsize 0\n",
            "2020-09-22 15:48:44,988 : INFO : EPOCH 20 - PROGRESS: at 23.85% examples, 319340 words/s, in_qsize 15, out_qsize 1\n",
            "2020-09-22 15:48:46,074 : INFO : EPOCH 20 - PROGRESS: at 28.18% examples, 320677 words/s, in_qsize 15, out_qsize 0\n",
            "2020-09-22 15:48:47,082 : INFO : EPOCH 20 - PROGRESS: at 32.41% examples, 323644 words/s, in_qsize 15, out_qsize 0\n",
            "2020-09-22 15:48:48,090 : INFO : EPOCH 20 - PROGRESS: at 36.51% examples, 324957 words/s, in_qsize 15, out_qsize 0\n",
            "2020-09-22 15:48:49,098 : INFO : EPOCH 20 - PROGRESS: at 40.62% examples, 326035 words/s, in_qsize 15, out_qsize 0\n",
            "2020-09-22 15:48:50,120 : INFO : EPOCH 20 - PROGRESS: at 44.83% examples, 327272 words/s, in_qsize 15, out_qsize 0\n",
            "2020-09-22 15:48:51,151 : INFO : EPOCH 20 - PROGRESS: at 48.51% examples, 324504 words/s, in_qsize 11, out_qsize 4\n",
            "2020-09-22 15:48:52,286 : INFO : EPOCH 20 - PROGRESS: at 53.05% examples, 324952 words/s, in_qsize 12, out_qsize 3\n",
            "2020-09-22 15:48:53,331 : INFO : EPOCH 20 - PROGRESS: at 57.49% examples, 326747 words/s, in_qsize 13, out_qsize 2\n",
            "2020-09-22 15:48:54,333 : INFO : EPOCH 20 - PROGRESS: at 61.82% examples, 328606 words/s, in_qsize 15, out_qsize 0\n",
            "2020-09-22 15:48:55,364 : INFO : EPOCH 20 - PROGRESS: at 65.61% examples, 326955 words/s, in_qsize 15, out_qsize 0\n",
            "2020-09-22 15:48:56,371 : INFO : EPOCH 20 - PROGRESS: at 69.83% examples, 327996 words/s, in_qsize 16, out_qsize 0\n",
            "2020-09-22 15:48:57,421 : INFO : EPOCH 20 - PROGRESS: at 73.51% examples, 325754 words/s, in_qsize 10, out_qsize 5\n",
            "2020-09-22 15:48:58,508 : INFO : EPOCH 20 - PROGRESS: at 77.96% examples, 327072 words/s, in_qsize 15, out_qsize 2\n",
            "2020-09-22 15:48:59,550 : INFO : EPOCH 20 - PROGRESS: at 82.32% examples, 327094 words/s, in_qsize 14, out_qsize 1\n",
            "2020-09-22 15:49:00,556 : INFO : EPOCH 20 - PROGRESS: at 86.20% examples, 326730 words/s, in_qsize 15, out_qsize 0\n",
            "2020-09-22 15:49:01,568 : INFO : EPOCH 20 - PROGRESS: at 90.43% examples, 327433 words/s, in_qsize 15, out_qsize 0\n",
            "2020-09-22 15:49:02,606 : INFO : EPOCH 20 - PROGRESS: at 94.79% examples, 328188 words/s, in_qsize 15, out_qsize 0\n",
            "2020-09-22 15:49:03,626 : INFO : EPOCH 20 - PROGRESS: at 98.79% examples, 327912 words/s, in_qsize 12, out_qsize 0\n",
            "2020-09-22 15:49:03,738 : INFO : worker thread finished; awaiting finish of 7 more threads\n",
            "2020-09-22 15:49:03,746 : INFO : worker thread finished; awaiting finish of 6 more threads\n",
            "2020-09-22 15:49:03,751 : INFO : worker thread finished; awaiting finish of 5 more threads\n",
            "2020-09-22 15:49:03,760 : INFO : worker thread finished; awaiting finish of 4 more threads\n",
            "2020-09-22 15:49:03,766 : INFO : worker thread finished; awaiting finish of 3 more threads\n",
            "2020-09-22 15:49:03,812 : INFO : worker thread finished; awaiting finish of 2 more threads\n",
            "2020-09-22 15:49:03,822 : INFO : worker thread finished; awaiting finish of 1 more threads\n",
            "2020-09-22 15:49:03,827 : INFO : worker thread finished; awaiting finish of 0 more threads\n",
            "2020-09-22 15:49:03,831 : INFO : EPOCH - 20 : training on 9227204 raw words (8222986 effective words) took 25.0s, 329185 effective words/s\n",
            "2020-09-22 15:49:04,879 : INFO : EPOCH 21 - PROGRESS: at 3.47% examples, 278112 words/s, in_qsize 15, out_qsize 0\n",
            "2020-09-22 15:49:05,899 : INFO : EPOCH 21 - PROGRESS: at 7.82% examples, 313684 words/s, in_qsize 16, out_qsize 0\n",
            "2020-09-22 15:49:06,972 : INFO : EPOCH 21 - PROGRESS: at 11.84% examples, 311580 words/s, in_qsize 14, out_qsize 1\n",
            "2020-09-22 15:49:08,008 : INFO : EPOCH 21 - PROGRESS: at 16.05% examples, 317414 words/s, in_qsize 15, out_qsize 0\n",
            "2020-09-22 15:49:09,034 : INFO : EPOCH 21 - PROGRESS: at 20.38% examples, 323282 words/s, in_qsize 13, out_qsize 0\n",
            "2020-09-22 15:49:10,074 : INFO : EPOCH 21 - PROGRESS: at 24.06% examples, 317976 words/s, in_qsize 14, out_qsize 1\n",
            "2020-09-22 15:49:11,090 : INFO : EPOCH 21 - PROGRESS: at 28.50% examples, 323791 words/s, in_qsize 15, out_qsize 0\n",
            "2020-09-22 15:49:12,162 : INFO : EPOCH 21 - PROGRESS: at 32.30% examples, 319553 words/s, in_qsize 15, out_qsize 0\n",
            "2020-09-22 15:49:13,208 : INFO : EPOCH 21 - PROGRESS: at 36.51% examples, 320949 words/s, in_qsize 14, out_qsize 1\n",
            "2020-09-22 15:49:14,222 : INFO : EPOCH 21 - PROGRESS: at 40.94% examples, 324772 words/s, in_qsize 15, out_qsize 1\n",
            "2020-09-22 15:49:15,235 : INFO : EPOCH 21 - PROGRESS: at 44.62% examples, 322465 words/s, in_qsize 15, out_qsize 0\n",
            "2020-09-22 15:49:16,236 : INFO : EPOCH 21 - PROGRESS: at 48.84% examples, 324476 words/s, in_qsize 15, out_qsize 0\n",
            "2020-09-22 15:49:17,254 : INFO : EPOCH 21 - PROGRESS: at 52.62% examples, 323172 words/s, in_qsize 16, out_qsize 1\n",
            "2020-09-22 15:49:18,368 : INFO : EPOCH 21 - PROGRESS: at 56.95% examples, 322869 words/s, in_qsize 16, out_qsize 0\n",
            "2020-09-22 15:49:19,378 : INFO : EPOCH 21 - PROGRESS: at 60.96% examples, 323093 words/s, in_qsize 14, out_qsize 1\n",
            "2020-09-22 15:49:20,420 : INFO : EPOCH 21 - PROGRESS: at 64.95% examples, 322647 words/s, in_qsize 13, out_qsize 2\n",
            "2020-09-22 15:49:21,504 : INFO : EPOCH 21 - PROGRESS: at 69.50% examples, 324043 words/s, in_qsize 15, out_qsize 0\n",
            "2020-09-22 15:49:22,639 : INFO : EPOCH 21 - PROGRESS: at 73.62% examples, 322488 words/s, in_qsize 11, out_qsize 4\n",
            "2020-09-22 15:49:23,690 : INFO : EPOCH 21 - PROGRESS: at 78.18% examples, 324239 words/s, in_qsize 15, out_qsize 0\n",
            "2020-09-22 15:49:24,762 : INFO : EPOCH 21 - PROGRESS: at 82.43% examples, 324249 words/s, in_qsize 15, out_qsize 0\n",
            "2020-09-22 15:49:25,767 : INFO : EPOCH 21 - PROGRESS: at 86.75% examples, 325617 words/s, in_qsize 16, out_qsize 0\n",
            "2020-09-22 15:49:26,774 : INFO : EPOCH 21 - PROGRESS: at 90.76% examples, 325681 words/s, in_qsize 12, out_qsize 0\n",
            "2020-09-22 15:49:27,918 : INFO : EPOCH 21 - PROGRESS: at 94.68% examples, 323602 words/s, in_qsize 14, out_qsize 7\n",
            "2020-09-22 15:49:28,923 : INFO : EPOCH 21 - PROGRESS: at 99.11% examples, 325171 words/s, in_qsize 9, out_qsize 1\n",
            "2020-09-22 15:49:28,944 : INFO : worker thread finished; awaiting finish of 7 more threads\n",
            "2020-09-22 15:49:28,953 : INFO : worker thread finished; awaiting finish of 6 more threads\n",
            "2020-09-22 15:49:28,955 : INFO : worker thread finished; awaiting finish of 5 more threads\n",
            "2020-09-22 15:49:28,959 : INFO : worker thread finished; awaiting finish of 4 more threads\n",
            "2020-09-22 15:49:28,961 : INFO : worker thread finished; awaiting finish of 3 more threads\n",
            "2020-09-22 15:49:28,971 : INFO : worker thread finished; awaiting finish of 2 more threads\n",
            "2020-09-22 15:49:29,002 : INFO : worker thread finished; awaiting finish of 1 more threads\n",
            "2020-09-22 15:49:29,010 : INFO : worker thread finished; awaiting finish of 0 more threads\n",
            "2020-09-22 15:49:29,012 : INFO : EPOCH - 21 : training on 9227204 raw words (8222421 effective words) took 25.2s, 326835 effective words/s\n",
            "2020-09-22 15:49:30,037 : INFO : EPOCH 22 - PROGRESS: at 3.14% examples, 255630 words/s, in_qsize 9, out_qsize 6\n",
            "2020-09-22 15:49:31,074 : INFO : EPOCH 22 - PROGRESS: at 7.50% examples, 300254 words/s, in_qsize 15, out_qsize 2\n",
            "2020-09-22 15:49:32,076 : INFO : EPOCH 22 - PROGRESS: at 11.95% examples, 321462 words/s, in_qsize 15, out_qsize 0\n",
            "2020-09-22 15:49:33,137 : INFO : EPOCH 22 - PROGRESS: at 15.73% examples, 314298 words/s, in_qsize 15, out_qsize 0\n",
            "2020-09-22 15:49:34,237 : INFO : EPOCH 22 - PROGRESS: at 19.84% examples, 312871 words/s, in_qsize 15, out_qsize 0\n",
            "2020-09-22 15:49:35,372 : INFO : EPOCH 22 - PROGRESS: at 23.20% examples, 300484 words/s, in_qsize 13, out_qsize 2\n",
            "2020-09-22 15:49:36,658 : INFO : EPOCH 22 - PROGRESS: at 25.80% examples, 277862 words/s, in_qsize 13, out_qsize 2\n",
            "2020-09-22 15:49:37,930 : INFO : EPOCH 22 - PROGRESS: at 28.40% examples, 262150 words/s, in_qsize 14, out_qsize 1\n",
            "2020-09-22 15:49:39,268 : INFO : EPOCH 22 - PROGRESS: at 30.99% examples, 248794 words/s, in_qsize 12, out_qsize 3\n",
            "2020-09-22 15:49:40,552 : INFO : EPOCH 22 - PROGRESS: at 33.59% examples, 239597 words/s, in_qsize 13, out_qsize 2\n",
            "2020-09-22 15:49:41,772 : INFO : EPOCH 22 - PROGRESS: at 36.18% examples, 233435 words/s, in_qsize 15, out_qsize 0\n",
            "2020-09-22 15:49:42,806 : INFO : EPOCH 22 - PROGRESS: at 40.40% examples, 241123 words/s, in_qsize 15, out_qsize 0\n",
            "2020-09-22 15:49:43,824 : INFO : EPOCH 22 - PROGRESS: at 44.40% examples, 246801 words/s, in_qsize 15, out_qsize 0\n",
            "2020-09-22 15:49:44,830 : INFO : EPOCH 22 - PROGRESS: at 48.62% examples, 253084 words/s, in_qsize 15, out_qsize 0\n",
            "2020-09-22 15:49:45,842 : INFO : EPOCH 22 - PROGRESS: at 52.40% examples, 256414 words/s, in_qsize 16, out_qsize 0\n",
            "2020-09-22 15:49:46,866 : INFO : EPOCH 22 - PROGRESS: at 56.51% examples, 261007 words/s, in_qsize 15, out_qsize 0\n",
            "2020-09-22 15:49:47,949 : INFO : EPOCH 22 - PROGRESS: at 60.31% examples, 262704 words/s, in_qsize 16, out_qsize 6\n",
            "2020-09-22 15:49:48,937 : INFO : EPOCH 22 - PROGRESS: at 64.84% examples, 268015 words/s, in_qsize 15, out_qsize 0\n",
            "2020-09-22 15:49:49,953 : INFO : EPOCH 22 - PROGRESS: at 68.75% examples, 270336 words/s, in_qsize 14, out_qsize 3\n",
            "2020-09-22 15:49:51,105 : INFO : EPOCH 22 - PROGRESS: at 73.40% examples, 273560 words/s, in_qsize 15, out_qsize 0\n",
            "2020-09-22 15:49:52,135 : INFO : EPOCH 22 - PROGRESS: at 77.42% examples, 275625 words/s, in_qsize 15, out_qsize 0\n",
            "2020-09-22 15:49:53,167 : INFO : EPOCH 22 - PROGRESS: at 81.67% examples, 278242 words/s, in_qsize 16, out_qsize 0\n",
            "2020-09-22 15:49:54,287 : INFO : EPOCH 22 - PROGRESS: at 86.10% examples, 280356 words/s, in_qsize 15, out_qsize 0\n",
            "2020-09-22 15:49:55,293 : INFO : EPOCH 22 - PROGRESS: at 90.00% examples, 281832 words/s, in_qsize 14, out_qsize 1\n",
            "2020-09-22 15:49:56,362 : INFO : EPOCH 22 - PROGRESS: at 94.14% examples, 283173 words/s, in_qsize 15, out_qsize 0\n",
            "2020-09-22 15:49:57,473 : INFO : EPOCH 22 - PROGRESS: at 98.58% examples, 284951 words/s, in_qsize 8, out_qsize 6\n",
            "2020-09-22 15:49:57,508 : INFO : worker thread finished; awaiting finish of 7 more threads\n",
            "2020-09-22 15:49:57,539 : INFO : worker thread finished; awaiting finish of 6 more threads\n",
            "2020-09-22 15:49:57,565 : INFO : worker thread finished; awaiting finish of 5 more threads\n",
            "2020-09-22 15:49:57,608 : INFO : worker thread finished; awaiting finish of 4 more threads\n",
            "2020-09-22 15:49:57,610 : INFO : worker thread finished; awaiting finish of 3 more threads\n",
            "2020-09-22 15:49:57,632 : INFO : worker thread finished; awaiting finish of 2 more threads\n",
            "2020-09-22 15:49:57,653 : INFO : worker thread finished; awaiting finish of 1 more threads\n",
            "2020-09-22 15:49:57,658 : INFO : worker thread finished; awaiting finish of 0 more threads\n",
            "2020-09-22 15:49:57,660 : INFO : EPOCH - 22 : training on 9227204 raw words (8222529 effective words) took 28.6s, 287171 effective words/s\n",
            "2020-09-22 15:49:58,815 : INFO : EPOCH 23 - PROGRESS: at 3.80% examples, 274526 words/s, in_qsize 15, out_qsize 0\n",
            "2020-09-22 15:49:59,820 : INFO : EPOCH 23 - PROGRESS: at 7.93% examples, 303649 words/s, in_qsize 15, out_qsize 0\n",
            "2020-09-22 15:50:00,833 : INFO : EPOCH 23 - PROGRESS: at 12.17% examples, 316363 words/s, in_qsize 13, out_qsize 2\n",
            "2020-09-22 15:50:01,903 : INFO : EPOCH 23 - PROGRESS: at 16.05% examples, 312027 words/s, in_qsize 15, out_qsize 3\n",
            "2020-09-22 15:50:02,922 : INFO : EPOCH 23 - PROGRESS: at 20.16% examples, 315989 words/s, in_qsize 16, out_qsize 2\n",
            "2020-09-22 15:50:03,943 : INFO : EPOCH 23 - PROGRESS: at 23.95% examples, 314284 words/s, in_qsize 12, out_qsize 3\n",
            "2020-09-22 15:50:05,027 : INFO : EPOCH 23 - PROGRESS: at 28.40% examples, 317592 words/s, in_qsize 16, out_qsize 1\n",
            "2020-09-22 15:50:06,032 : INFO : EPOCH 23 - PROGRESS: at 32.52% examples, 319879 words/s, in_qsize 16, out_qsize 2\n",
            "2020-09-22 15:50:07,059 : INFO : EPOCH 23 - PROGRESS: at 36.72% examples, 321893 words/s, in_qsize 15, out_qsize 0\n",
            "2020-09-22 15:50:08,111 : INFO : EPOCH 23 - PROGRESS: at 40.40% examples, 318436 words/s, in_qsize 13, out_qsize 2\n",
            "2020-09-22 15:50:09,114 : INFO : EPOCH 23 - PROGRESS: at 44.83% examples, 322437 words/s, in_qsize 15, out_qsize 1\n",
            "2020-09-22 15:50:10,139 : INFO : EPOCH 23 - PROGRESS: at 48.51% examples, 320216 words/s, in_qsize 14, out_qsize 1\n",
            "2020-09-22 15:50:11,163 : INFO : EPOCH 23 - PROGRESS: at 52.51% examples, 320357 words/s, in_qsize 15, out_qsize 0\n",
            "2020-09-22 15:50:12,183 : INFO : EPOCH 23 - PROGRESS: at 56.84% examples, 322420 words/s, in_qsize 16, out_qsize 0\n",
            "2020-09-22 15:50:13,190 : INFO : EPOCH 23 - PROGRESS: at 60.74% examples, 322168 words/s, in_qsize 16, out_qsize 0\n",
            "2020-09-22 15:50:14,314 : INFO : EPOCH 23 - PROGRESS: at 65.17% examples, 322351 words/s, in_qsize 15, out_qsize 0\n",
            "2020-09-22 15:50:15,331 : INFO : EPOCH 23 - PROGRESS: at 69.18% examples, 322458 words/s, in_qsize 15, out_qsize 2\n",
            "2020-09-22 15:50:16,334 : INFO : EPOCH 23 - PROGRESS: at 73.08% examples, 322302 words/s, in_qsize 13, out_qsize 2\n",
            "2020-09-22 15:50:17,387 : INFO : EPOCH 23 - PROGRESS: at 77.31% examples, 322697 words/s, in_qsize 16, out_qsize 1\n",
            "2020-09-22 15:50:18,388 : INFO : EPOCH 23 - PROGRESS: at 81.34% examples, 323030 words/s, in_qsize 15, out_qsize 0\n",
            "2020-09-22 15:50:19,412 : INFO : EPOCH 23 - PROGRESS: at 85.45% examples, 323379 words/s, in_qsize 15, out_qsize 0\n",
            "2020-09-22 15:50:20,488 : INFO : EPOCH 23 - PROGRESS: at 89.89% examples, 324157 words/s, in_qsize 16, out_qsize 1\n",
            "2020-09-22 15:50:21,552 : INFO : EPOCH 23 - PROGRESS: at 94.25% examples, 324610 words/s, in_qsize 15, out_qsize 0\n",
            "2020-09-22 15:50:22,616 : INFO : EPOCH 23 - PROGRESS: at 98.47% examples, 324690 words/s, in_qsize 15, out_qsize 0\n",
            "2020-09-22 15:50:22,715 : INFO : worker thread finished; awaiting finish of 7 more threads\n",
            "2020-09-22 15:50:22,742 : INFO : worker thread finished; awaiting finish of 6 more threads\n",
            "2020-09-22 15:50:22,814 : INFO : worker thread finished; awaiting finish of 5 more threads\n",
            "2020-09-22 15:50:22,835 : INFO : worker thread finished; awaiting finish of 4 more threads\n",
            "2020-09-22 15:50:22,839 : INFO : worker thread finished; awaiting finish of 3 more threads\n",
            "2020-09-22 15:50:22,842 : INFO : worker thread finished; awaiting finish of 2 more threads\n",
            "2020-09-22 15:50:22,850 : INFO : worker thread finished; awaiting finish of 1 more threads\n",
            "2020-09-22 15:50:22,857 : INFO : worker thread finished; awaiting finish of 0 more threads\n",
            "2020-09-22 15:50:22,858 : INFO : EPOCH - 23 : training on 9227204 raw words (8222296 effective words) took 25.2s, 326562 effective words/s\n",
            "2020-09-22 15:50:23,920 : INFO : EPOCH 24 - PROGRESS: at 3.58% examples, 280602 words/s, in_qsize 16, out_qsize 0\n",
            "2020-09-22 15:50:25,083 : INFO : EPOCH 24 - PROGRESS: at 7.93% examples, 294070 words/s, in_qsize 9, out_qsize 6\n",
            "2020-09-22 15:50:26,112 : INFO : EPOCH 24 - PROGRESS: at 12.06% examples, 306307 words/s, in_qsize 11, out_qsize 6\n",
            "2020-09-22 15:50:27,166 : INFO : EPOCH 24 - PROGRESS: at 16.38% examples, 313225 words/s, in_qsize 15, out_qsize 1\n",
            "2020-09-22 15:50:28,286 : INFO : EPOCH 24 - PROGRESS: at 20.59% examples, 312598 words/s, in_qsize 11, out_qsize 4\n",
            "2020-09-22 15:50:29,398 : INFO : EPOCH 24 - PROGRESS: at 25.15% examples, 316672 words/s, in_qsize 16, out_qsize 0\n",
            "2020-09-22 15:50:30,433 : INFO : EPOCH 24 - PROGRESS: at 29.37% examples, 319278 words/s, in_qsize 14, out_qsize 1\n",
            "2020-09-22 15:50:31,518 : INFO : EPOCH 24 - PROGRESS: at 33.92% examples, 322480 words/s, in_qsize 15, out_qsize 0\n",
            "2020-09-22 15:50:32,634 : INFO : EPOCH 24 - PROGRESS: at 38.02% examples, 320322 words/s, in_qsize 13, out_qsize 3\n",
            "2020-09-22 15:50:33,655 : INFO : EPOCH 24 - PROGRESS: at 42.13% examples, 321392 words/s, in_qsize 15, out_qsize 0\n",
            "2020-09-22 15:50:34,681 : INFO : EPOCH 24 - PROGRESS: at 46.02% examples, 320615 words/s, in_qsize 11, out_qsize 4\n",
            "2020-09-22 15:50:35,733 : INFO : EPOCH 24 - PROGRESS: at 50.13% examples, 320751 words/s, in_qsize 13, out_qsize 4\n",
            "2020-09-22 15:50:36,783 : INFO : EPOCH 24 - PROGRESS: at 54.67% examples, 323471 words/s, in_qsize 15, out_qsize 0\n",
            "2020-09-22 15:50:37,828 : INFO : EPOCH 24 - PROGRESS: at 58.58% examples, 322314 words/s, in_qsize 14, out_qsize 1\n",
            "2020-09-22 15:50:38,910 : INFO : EPOCH 24 - PROGRESS: at 62.57% examples, 321124 words/s, in_qsize 16, out_qsize 2\n",
            "2020-09-22 15:50:39,976 : INFO : EPOCH 24 - PROGRESS: at 67.23% examples, 323510 words/s, in_qsize 15, out_qsize 0\n",
            "2020-09-22 15:50:41,003 : INFO : EPOCH 24 - PROGRESS: at 71.13% examples, 322878 words/s, in_qsize 15, out_qsize 0\n",
            "2020-09-22 15:50:42,064 : INFO : EPOCH 24 - PROGRESS: at 75.46% examples, 323586 words/s, in_qsize 16, out_qsize 0\n",
            "2020-09-22 15:50:43,120 : INFO : EPOCH 24 - PROGRESS: at 79.71% examples, 323842 words/s, in_qsize 15, out_qsize 2\n",
            "2020-09-22 15:50:44,172 : INFO : EPOCH 24 - PROGRESS: at 83.83% examples, 323753 words/s, in_qsize 16, out_qsize 1\n",
            "2020-09-22 15:50:45,255 : INFO : EPOCH 24 - PROGRESS: at 88.37% examples, 324785 words/s, in_qsize 15, out_qsize 0\n",
            "2020-09-22 15:50:46,293 : INFO : EPOCH 24 - PROGRESS: at 92.72% examples, 325578 words/s, in_qsize 15, out_qsize 0\n",
            "2020-09-22 15:50:47,342 : INFO : EPOCH 24 - PROGRESS: at 96.64% examples, 324724 words/s, in_qsize 15, out_qsize 1\n",
            "2020-09-22 15:50:47,895 : INFO : worker thread finished; awaiting finish of 7 more threads\n",
            "2020-09-22 15:50:47,915 : INFO : worker thread finished; awaiting finish of 6 more threads\n",
            "2020-09-22 15:50:47,922 : INFO : worker thread finished; awaiting finish of 5 more threads\n",
            "2020-09-22 15:50:47,949 : INFO : worker thread finished; awaiting finish of 4 more threads\n",
            "2020-09-22 15:50:47,990 : INFO : worker thread finished; awaiting finish of 3 more threads\n",
            "2020-09-22 15:50:48,010 : INFO : worker thread finished; awaiting finish of 2 more threads\n",
            "2020-09-22 15:50:48,015 : INFO : worker thread finished; awaiting finish of 1 more threads\n",
            "2020-09-22 15:50:48,017 : INFO : worker thread finished; awaiting finish of 0 more threads\n",
            "2020-09-22 15:50:48,018 : INFO : EPOCH - 24 : training on 9227204 raw words (8222873 effective words) took 25.1s, 327018 effective words/s\n",
            "2020-09-22 15:50:49,044 : INFO : EPOCH 25 - PROGRESS: at 3.36% examples, 272261 words/s, in_qsize 15, out_qsize 1\n",
            "2020-09-22 15:50:50,049 : INFO : EPOCH 25 - PROGRESS: at 7.38% examples, 299708 words/s, in_qsize 14, out_qsize 0\n",
            "2020-09-22 15:50:51,070 : INFO : EPOCH 25 - PROGRESS: at 11.84% examples, 319361 words/s, in_qsize 16, out_qsize 0\n",
            "2020-09-22 15:50:52,116 : INFO : EPOCH 25 - PROGRESS: at 15.62% examples, 313766 words/s, in_qsize 16, out_qsize 1\n",
            "2020-09-22 15:50:53,186 : INFO : EPOCH 25 - PROGRESS: at 20.05% examples, 319501 words/s, in_qsize 15, out_qsize 0\n",
            "2020-09-22 15:50:54,186 : INFO : EPOCH 25 - PROGRESS: at 23.96% examples, 319699 words/s, in_qsize 15, out_qsize 0\n",
            "2020-09-22 15:50:55,267 : INFO : EPOCH 25 - PROGRESS: at 28.40% examples, 322420 words/s, in_qsize 15, out_qsize 0\n",
            "2020-09-22 15:50:56,290 : INFO : EPOCH 25 - PROGRESS: at 32.40% examples, 322378 words/s, in_qsize 14, out_qsize 1\n",
            "2020-09-22 15:50:57,316 : INFO : EPOCH 25 - PROGRESS: at 36.61% examples, 324162 words/s, in_qsize 16, out_qsize 0\n",
            "2020-09-22 15:50:58,455 : INFO : EPOCH 25 - PROGRESS: at 40.94% examples, 322927 words/s, in_qsize 15, out_qsize 0\n",
            "2020-09-22 15:50:59,540 : INFO : EPOCH 25 - PROGRESS: at 45.37% examples, 324212 words/s, in_qsize 15, out_qsize 0\n",
            "2020-09-22 15:51:00,561 : INFO : EPOCH 25 - PROGRESS: at 49.38% examples, 324109 words/s, in_qsize 14, out_qsize 3\n",
            "2020-09-22 15:51:01,590 : INFO : EPOCH 25 - PROGRESS: at 53.38% examples, 323833 words/s, in_qsize 14, out_qsize 1\n",
            "2020-09-22 15:51:02,615 : INFO : EPOCH 25 - PROGRESS: at 57.49% examples, 324277 words/s, in_qsize 15, out_qsize 2\n",
            "2020-09-22 15:51:03,649 : INFO : EPOCH 25 - PROGRESS: at 62.03% examples, 326759 words/s, in_qsize 15, out_qsize 1\n",
            "2020-09-22 15:51:04,732 : INFO : EPOCH 25 - PROGRESS: at 65.82% examples, 324864 words/s, in_qsize 15, out_qsize 4\n",
            "2020-09-22 15:51:05,700 : INFO : EPOCH 25 - PROGRESS: at 70.16% examples, 326625 words/s, in_qsize 16, out_qsize 0\n",
            "2020-09-22 15:51:06,722 : INFO : EPOCH 25 - PROGRESS: at 73.95% examples, 325425 words/s, in_qsize 16, out_qsize 0\n",
            "2020-09-22 15:51:07,723 : INFO : EPOCH 25 - PROGRESS: at 78.51% examples, 327903 words/s, in_qsize 15, out_qsize 0\n",
            "2020-09-22 15:51:08,725 : INFO : EPOCH 25 - PROGRESS: at 82.10% examples, 326223 words/s, in_qsize 15, out_qsize 0\n",
            "2020-09-22 15:51:09,803 : INFO : EPOCH 25 - PROGRESS: at 86.42% examples, 326428 words/s, in_qsize 14, out_qsize 1\n",
            "2020-09-22 15:51:10,893 : INFO : EPOCH 25 - PROGRESS: at 90.65% examples, 326049 words/s, in_qsize 15, out_qsize 0\n",
            "2020-09-22 15:51:11,931 : INFO : EPOCH 25 - PROGRESS: at 94.80% examples, 326039 words/s, in_qsize 15, out_qsize 1\n",
            "2020-09-22 15:51:13,032 : INFO : EPOCH 25 - PROGRESS: at 98.90% examples, 325220 words/s, in_qsize 6, out_qsize 7\n",
            "2020-09-22 15:51:13,041 : INFO : worker thread finished; awaiting finish of 7 more threads\n",
            "2020-09-22 15:51:13,048 : INFO : worker thread finished; awaiting finish of 6 more threads\n",
            "2020-09-22 15:51:13,054 : INFO : worker thread finished; awaiting finish of 5 more threads\n",
            "2020-09-22 15:51:13,060 : INFO : worker thread finished; awaiting finish of 4 more threads\n",
            "2020-09-22 15:51:13,065 : INFO : worker thread finished; awaiting finish of 3 more threads\n",
            "2020-09-22 15:51:13,080 : INFO : worker thread finished; awaiting finish of 2 more threads\n",
            "2020-09-22 15:51:13,107 : INFO : worker thread finished; awaiting finish of 1 more threads\n",
            "2020-09-22 15:51:13,125 : INFO : worker thread finished; awaiting finish of 0 more threads\n",
            "2020-09-22 15:51:13,126 : INFO : EPOCH - 25 : training on 9227204 raw words (8221641 effective words) took 25.1s, 327594 effective words/s\n",
            "2020-09-22 15:51:14,143 : INFO : EPOCH 26 - PROGRESS: at 3.14% examples, 257793 words/s, in_qsize 15, out_qsize 0\n",
            "2020-09-22 15:51:15,205 : INFO : EPOCH 26 - PROGRESS: at 7.28% examples, 289131 words/s, in_qsize 15, out_qsize 5\n",
            "2020-09-22 15:51:16,210 : INFO : EPOCH 26 - PROGRESS: at 11.62% examples, 310712 words/s, in_qsize 15, out_qsize 0\n",
            "2020-09-22 15:51:17,217 : INFO : EPOCH 26 - PROGRESS: at 15.95% examples, 321275 words/s, in_qsize 16, out_qsize 0\n",
            "2020-09-22 15:51:18,350 : INFO : EPOCH 26 - PROGRESS: at 20.05% examples, 316342 words/s, in_qsize 15, out_qsize 3\n",
            "2020-09-22 15:51:19,365 : INFO : EPOCH 26 - PROGRESS: at 24.28% examples, 320599 words/s, in_qsize 16, out_qsize 4\n",
            "2020-09-22 15:51:20,367 : INFO : EPOCH 26 - PROGRESS: at 27.96% examples, 318048 words/s, in_qsize 12, out_qsize 3\n",
            "2020-09-22 15:51:21,430 : INFO : EPOCH 26 - PROGRESS: at 32.30% examples, 320297 words/s, in_qsize 16, out_qsize 0\n",
            "2020-09-22 15:51:22,445 : INFO : EPOCH 26 - PROGRESS: at 36.62% examples, 323633 words/s, in_qsize 15, out_qsize 0\n",
            "2020-09-22 15:51:23,539 : INFO : EPOCH 26 - PROGRESS: at 40.73% examples, 322755 words/s, in_qsize 15, out_qsize 1\n",
            "2020-09-22 15:51:24,585 : INFO : EPOCH 26 - PROGRESS: at 44.94% examples, 323048 words/s, in_qsize 15, out_qsize 0\n",
            "2020-09-22 15:51:25,600 : INFO : EPOCH 26 - PROGRESS: at 49.05% examples, 323912 words/s, in_qsize 15, out_qsize 2\n",
            "2020-09-22 15:51:26,682 : INFO : EPOCH 26 - PROGRESS: at 53.16% examples, 323045 words/s, in_qsize 15, out_qsize 0\n",
            "2020-09-22 15:51:27,766 : INFO : EPOCH 26 - PROGRESS: at 57.49% examples, 323464 words/s, in_qsize 15, out_qsize 0\n",
            "2020-09-22 15:51:28,810 : INFO : EPOCH 26 - PROGRESS: at 61.61% examples, 323515 words/s, in_qsize 15, out_qsize 3\n",
            "2020-09-22 15:51:29,815 : INFO : EPOCH 26 - PROGRESS: at 65.93% examples, 325366 words/s, in_qsize 13, out_qsize 1\n",
            "2020-09-22 15:51:30,817 : INFO : EPOCH 26 - PROGRESS: at 69.61% examples, 324074 words/s, in_qsize 16, out_qsize 2\n",
            "2020-09-22 15:51:31,924 : INFO : EPOCH 26 - PROGRESS: at 74.16% examples, 324865 words/s, in_qsize 15, out_qsize 0\n",
            "2020-09-22 15:51:32,943 : INFO : EPOCH 26 - PROGRESS: at 78.29% examples, 325243 words/s, in_qsize 16, out_qsize 0\n",
            "2020-09-22 15:51:33,997 : INFO : EPOCH 26 - PROGRESS: at 82.64% examples, 325892 words/s, in_qsize 16, out_qsize 1\n",
            "2020-09-22 15:51:35,095 : INFO : EPOCH 26 - PROGRESS: at 86.53% examples, 324724 words/s, in_qsize 15, out_qsize 3\n",
            "2020-09-22 15:51:36,069 : INFO : EPOCH 26 - PROGRESS: at 90.87% examples, 325959 words/s, in_qsize 13, out_qsize 0\n",
            "2020-09-22 15:51:37,076 : INFO : EPOCH 26 - PROGRESS: at 95.12% examples, 326749 words/s, in_qsize 15, out_qsize 0\n",
            "2020-09-22 15:51:38,095 : INFO : EPOCH 26 - PROGRESS: at 99.22% examples, 326971 words/s, in_qsize 8, out_qsize 0\n",
            "2020-09-22 15:51:38,134 : INFO : worker thread finished; awaiting finish of 7 more threads\n",
            "2020-09-22 15:51:38,157 : INFO : worker thread finished; awaiting finish of 6 more threads\n",
            "2020-09-22 15:51:38,178 : INFO : worker thread finished; awaiting finish of 5 more threads\n",
            "2020-09-22 15:51:38,196 : INFO : worker thread finished; awaiting finish of 4 more threads\n",
            "2020-09-22 15:51:38,233 : INFO : worker thread finished; awaiting finish of 3 more threads\n",
            "2020-09-22 15:51:38,250 : INFO : worker thread finished; awaiting finish of 2 more threads\n",
            "2020-09-22 15:51:38,259 : INFO : worker thread finished; awaiting finish of 1 more threads\n",
            "2020-09-22 15:51:38,268 : INFO : worker thread finished; awaiting finish of 0 more threads\n",
            "2020-09-22 15:51:38,269 : INFO : EPOCH - 26 : training on 9227204 raw words (8222192 effective words) took 25.1s, 327223 effective words/s\n",
            "2020-09-22 15:51:39,306 : INFO : EPOCH 27 - PROGRESS: at 3.36% examples, 269744 words/s, in_qsize 14, out_qsize 1\n",
            "2020-09-22 15:51:40,327 : INFO : EPOCH 27 - PROGRESS: at 7.93% examples, 317920 words/s, in_qsize 15, out_qsize 0\n",
            "2020-09-22 15:51:41,365 : INFO : EPOCH 27 - PROGRESS: at 11.62% examples, 309178 words/s, in_qsize 13, out_qsize 2\n",
            "2020-09-22 15:51:42,379 : INFO : EPOCH 27 - PROGRESS: at 15.73% examples, 315234 words/s, in_qsize 15, out_qsize 0\n",
            "2020-09-22 15:51:43,477 : INFO : EPOCH 27 - PROGRESS: at 20.05% examples, 317130 words/s, in_qsize 14, out_qsize 1\n",
            "2020-09-22 15:51:44,487 : INFO : EPOCH 27 - PROGRESS: at 23.84% examples, 315840 words/s, in_qsize 13, out_qsize 2\n",
            "2020-09-22 15:51:45,574 : INFO : EPOCH 27 - PROGRESS: at 28.29% examples, 318800 words/s, in_qsize 14, out_qsize 1\n",
            "2020-09-22 15:51:46,625 : INFO : EPOCH 27 - PROGRESS: at 32.73% examples, 322440 words/s, in_qsize 16, out_qsize 0\n",
            "2020-09-22 15:51:47,663 : INFO : EPOCH 27 - PROGRESS: at 36.62% examples, 320940 words/s, in_qsize 15, out_qsize 0\n",
            "2020-09-22 15:51:48,733 : INFO : EPOCH 27 - PROGRESS: at 40.83% examples, 321330 words/s, in_qsize 15, out_qsize 0\n",
            "2020-09-22 15:51:49,795 : INFO : EPOCH 27 - PROGRESS: at 45.16% examples, 323366 words/s, in_qsize 15, out_qsize 1\n",
            "2020-09-22 15:51:50,773 : INFO : EPOCH 27 - PROGRESS: at 49.27% examples, 324480 words/s, in_qsize 15, out_qsize 0\n",
            "2020-09-22 15:51:51,794 : INFO : EPOCH 27 - PROGRESS: at 53.38% examples, 325024 words/s, in_qsize 13, out_qsize 2\n",
            "2020-09-22 15:51:52,833 : INFO : EPOCH 27 - PROGRESS: at 57.71% examples, 326304 words/s, in_qsize 15, out_qsize 0\n",
            "2020-09-22 15:51:53,870 : INFO : EPOCH 27 - PROGRESS: at 61.39% examples, 324043 words/s, in_qsize 15, out_qsize 0\n",
            "2020-09-22 15:51:54,907 : INFO : EPOCH 27 - PROGRESS: at 65.50% examples, 324182 words/s, in_qsize 15, out_qsize 0\n",
            "2020-09-22 15:51:55,908 : INFO : EPOCH 27 - PROGRESS: at 69.83% examples, 325990 words/s, in_qsize 16, out_qsize 0\n",
            "2020-09-22 15:51:56,925 : INFO : EPOCH 27 - PROGRESS: at 73.83% examples, 325870 words/s, in_qsize 13, out_qsize 1\n",
            "2020-09-22 15:51:57,976 : INFO : EPOCH 27 - PROGRESS: at 77.74% examples, 324753 words/s, in_qsize 15, out_qsize 0\n",
            "2020-09-22 15:51:58,992 : INFO : EPOCH 27 - PROGRESS: at 81.66% examples, 324313 words/s, in_qsize 15, out_qsize 3\n",
            "2020-09-22 15:51:59,993 : INFO : EPOCH 27 - PROGRESS: at 86.21% examples, 326581 words/s, in_qsize 15, out_qsize 0\n",
            "2020-09-22 15:52:01,089 : INFO : EPOCH 27 - PROGRESS: at 90.44% examples, 326108 words/s, in_qsize 15, out_qsize 0\n",
            "2020-09-22 15:52:02,127 : INFO : EPOCH 27 - PROGRESS: at 94.47% examples, 325714 words/s, in_qsize 13, out_qsize 3\n",
            "2020-09-22 15:52:03,137 : INFO : EPOCH 27 - PROGRESS: at 98.79% examples, 326817 words/s, in_qsize 12, out_qsize 0\n",
            "2020-09-22 15:52:03,314 : INFO : worker thread finished; awaiting finish of 7 more threads\n",
            "2020-09-22 15:52:03,337 : INFO : worker thread finished; awaiting finish of 6 more threads\n",
            "2020-09-22 15:52:03,338 : INFO : worker thread finished; awaiting finish of 5 more threads\n",
            "2020-09-22 15:52:03,343 : INFO : worker thread finished; awaiting finish of 4 more threads\n",
            "2020-09-22 15:52:03,355 : INFO : worker thread finished; awaiting finish of 3 more threads\n",
            "2020-09-22 15:52:03,389 : INFO : worker thread finished; awaiting finish of 2 more threads\n",
            "2020-09-22 15:52:03,403 : INFO : worker thread finished; awaiting finish of 1 more threads\n",
            "2020-09-22 15:52:03,411 : INFO : worker thread finished; awaiting finish of 0 more threads\n",
            "2020-09-22 15:52:03,413 : INFO : EPOCH - 27 : training on 9227204 raw words (8221962 effective words) took 25.1s, 327174 effective words/s\n",
            "2020-09-22 15:52:04,492 : INFO : EPOCH 28 - PROGRESS: at 3.47% examples, 267126 words/s, in_qsize 13, out_qsize 2\n",
            "2020-09-22 15:52:05,501 : INFO : EPOCH 28 - PROGRESS: at 7.60% examples, 300293 words/s, in_qsize 15, out_qsize 2\n",
            "2020-09-22 15:52:06,587 : INFO : EPOCH 28 - PROGRESS: at 11.73% examples, 304269 words/s, in_qsize 15, out_qsize 0\n",
            "2020-09-22 15:52:07,638 : INFO : EPOCH 28 - PROGRESS: at 16.16% examples, 314904 words/s, in_qsize 15, out_qsize 0\n",
            "2020-09-22 15:52:08,681 : INFO : EPOCH 28 - PROGRESS: at 20.27% examples, 316885 words/s, in_qsize 16, out_qsize 0\n",
            "2020-09-22 15:52:09,694 : INFO : EPOCH 28 - PROGRESS: at 23.95% examples, 314012 words/s, in_qsize 14, out_qsize 1\n",
            "2020-09-22 15:52:10,733 : INFO : EPOCH 28 - PROGRESS: at 28.29% examples, 318158 words/s, in_qsize 15, out_qsize 0\n",
            "2020-09-22 15:52:11,737 : INFO : EPOCH 28 - PROGRESS: at 32.30% examples, 319366 words/s, in_qsize 15, out_qsize 0\n",
            "2020-09-22 15:52:12,761 : INFO : EPOCH 28 - PROGRESS: at 36.07% examples, 317715 words/s, in_qsize 15, out_qsize 0\n",
            "2020-09-22 15:52:13,817 : INFO : EPOCH 28 - PROGRESS: at 40.51% examples, 320607 words/s, in_qsize 15, out_qsize 0\n",
            "2020-09-22 15:52:14,923 : INFO : EPOCH 28 - PROGRESS: at 44.62% examples, 319185 words/s, in_qsize 16, out_qsize 0\n",
            "2020-09-22 15:52:15,952 : INFO : EPOCH 28 - PROGRESS: at 48.41% examples, 317861 words/s, in_qsize 15, out_qsize 3\n",
            "2020-09-22 15:52:17,005 : INFO : EPOCH 28 - PROGRESS: at 52.73% examples, 319477 words/s, in_qsize 15, out_qsize 0\n",
            "2020-09-22 15:52:18,030 : INFO : EPOCH 28 - PROGRESS: at 56.62% examples, 319040 words/s, in_qsize 13, out_qsize 2\n",
            "2020-09-22 15:52:19,061 : INFO : EPOCH 28 - PROGRESS: at 60.96% examples, 320797 words/s, in_qsize 15, out_qsize 0\n",
            "2020-09-22 15:52:20,082 : INFO : EPOCH 28 - PROGRESS: at 64.73% examples, 319838 words/s, in_qsize 15, out_qsize 0\n",
            "2020-09-22 15:52:21,085 : INFO : EPOCH 28 - PROGRESS: at 68.85% examples, 320828 words/s, in_qsize 14, out_qsize 0\n",
            "2020-09-22 15:52:22,094 : INFO : EPOCH 28 - PROGRESS: at 73.08% examples, 322081 words/s, in_qsize 14, out_qsize 0\n",
            "2020-09-22 15:52:23,122 : INFO : EPOCH 28 - PROGRESS: at 77.20% examples, 322451 words/s, in_qsize 15, out_qsize 0\n",
            "2020-09-22 15:52:24,136 : INFO : EPOCH 28 - PROGRESS: at 80.90% examples, 321291 words/s, in_qsize 12, out_qsize 3\n",
            "2020-09-22 15:52:25,224 : INFO : EPOCH 28 - PROGRESS: at 85.13% examples, 321185 words/s, in_qsize 16, out_qsize 1\n",
            "2020-09-22 15:52:26,243 : INFO : EPOCH 28 - PROGRESS: at 89.56% examples, 322849 words/s, in_qsize 15, out_qsize 0\n",
            "2020-09-22 15:52:27,282 : INFO : EPOCH 28 - PROGRESS: at 93.37% examples, 321884 words/s, in_qsize 15, out_qsize 2\n",
            "2020-09-22 15:52:28,286 : INFO : EPOCH 28 - PROGRESS: at 97.61% examples, 322823 words/s, in_qsize 15, out_qsize 0\n",
            "2020-09-22 15:52:28,689 : INFO : worker thread finished; awaiting finish of 7 more threads\n",
            "2020-09-22 15:52:28,696 : INFO : worker thread finished; awaiting finish of 6 more threads\n",
            "2020-09-22 15:52:28,700 : INFO : worker thread finished; awaiting finish of 5 more threads\n",
            "2020-09-22 15:52:28,731 : INFO : worker thread finished; awaiting finish of 4 more threads\n",
            "2020-09-22 15:52:28,755 : INFO : worker thread finished; awaiting finish of 3 more threads\n",
            "2020-09-22 15:52:28,779 : INFO : worker thread finished; awaiting finish of 2 more threads\n",
            "2020-09-22 15:52:28,785 : INFO : worker thread finished; awaiting finish of 1 more threads\n",
            "2020-09-22 15:52:28,797 : INFO : worker thread finished; awaiting finish of 0 more threads\n",
            "2020-09-22 15:52:28,798 : INFO : EPOCH - 28 : training on 9227204 raw words (8222800 effective words) took 25.4s, 324072 effective words/s\n",
            "2020-09-22 15:52:29,871 : INFO : EPOCH 29 - PROGRESS: at 3.47% examples, 268584 words/s, in_qsize 15, out_qsize 0\n",
            "2020-09-22 15:52:30,927 : INFO : EPOCH 29 - PROGRESS: at 7.82% examples, 302905 words/s, in_qsize 15, out_qsize 0\n",
            "2020-09-22 15:52:31,980 : INFO : EPOCH 29 - PROGRESS: at 11.95% examples, 309210 words/s, in_qsize 16, out_qsize 2\n",
            "2020-09-22 15:52:32,983 : INFO : EPOCH 29 - PROGRESS: at 16.37% examples, 322345 words/s, in_qsize 15, out_qsize 0\n",
            "2020-09-22 15:52:34,017 : INFO : EPOCH 29 - PROGRESS: at 20.05% examples, 316440 words/s, in_qsize 14, out_qsize 1\n",
            "2020-09-22 15:52:35,083 : INFO : EPOCH 29 - PROGRESS: at 24.39% examples, 319493 words/s, in_qsize 15, out_qsize 0\n",
            "2020-09-22 15:52:36,157 : INFO : EPOCH 29 - PROGRESS: at 28.40% examples, 317665 words/s, in_qsize 14, out_qsize 6\n",
            "2020-09-22 15:52:37,181 : INFO : EPOCH 29 - PROGRESS: at 32.73% examples, 321351 words/s, in_qsize 15, out_qsize 0\n",
            "2020-09-22 15:52:38,258 : INFO : EPOCH 29 - PROGRESS: at 36.83% examples, 322005 words/s, in_qsize 14, out_qsize 6\n",
            "2020-09-22 15:52:39,232 : INFO : EPOCH 29 - PROGRESS: at 41.16% examples, 324772 words/s, in_qsize 15, out_qsize 0\n",
            "2020-09-22 15:52:40,262 : INFO : EPOCH 29 - PROGRESS: at 45.26% examples, 325140 words/s, in_qsize 15, out_qsize 0\n",
            "2020-09-22 15:52:41,290 : INFO : EPOCH 29 - PROGRESS: at 49.06% examples, 323362 words/s, in_qsize 15, out_qsize 0\n",
            "2020-09-22 15:52:42,334 : INFO : EPOCH 29 - PROGRESS: at 53.16% examples, 323439 words/s, in_qsize 15, out_qsize 1\n",
            "2020-09-22 15:52:43,383 : INFO : EPOCH 29 - PROGRESS: at 57.38% examples, 324008 words/s, in_qsize 14, out_qsize 1\n",
            "2020-09-22 15:52:44,389 : INFO : EPOCH 29 - PROGRESS: at 61.82% examples, 326535 words/s, in_qsize 14, out_qsize 0\n",
            "2020-09-22 15:52:45,468 : INFO : EPOCH 29 - PROGRESS: at 65.39% examples, 323031 words/s, in_qsize 9, out_qsize 6\n",
            "2020-09-22 15:52:46,513 : INFO : EPOCH 29 - PROGRESS: at 69.61% examples, 323586 words/s, in_qsize 11, out_qsize 4\n",
            "2020-09-22 15:52:47,555 : INFO : EPOCH 29 - PROGRESS: at 74.16% examples, 325548 words/s, in_qsize 14, out_qsize 1\n",
            "2020-09-22 15:52:48,626 : INFO : EPOCH 29 - PROGRESS: at 78.40% examples, 325489 words/s, in_qsize 15, out_qsize 0\n",
            "2020-09-22 15:52:49,755 : INFO : EPOCH 29 - PROGRESS: at 82.53% examples, 324094 words/s, in_qsize 15, out_qsize 0\n",
            "2020-09-22 15:52:50,760 : INFO : EPOCH 29 - PROGRESS: at 86.64% examples, 324668 words/s, in_qsize 16, out_qsize 1\n",
            "2020-09-22 15:52:51,861 : INFO : EPOCH 29 - PROGRESS: at 90.87% examples, 324217 words/s, in_qsize 16, out_qsize 4\n",
            "2020-09-22 15:52:52,874 : INFO : EPOCH 29 - PROGRESS: at 95.44% examples, 326114 words/s, in_qsize 15, out_qsize 1\n",
            "2020-09-22 15:52:53,842 : INFO : worker thread finished; awaiting finish of 7 more threads\n",
            "2020-09-22 15:52:53,848 : INFO : worker thread finished; awaiting finish of 6 more threads\n",
            "2020-09-22 15:52:53,868 : INFO : worker thread finished; awaiting finish of 5 more threads\n",
            "2020-09-22 15:52:53,889 : INFO : EPOCH 29 - PROGRESS: at 99.56% examples, 326447 words/s, in_qsize 4, out_qsize 1\n",
            "2020-09-22 15:52:53,891 : INFO : worker thread finished; awaiting finish of 4 more threads\n",
            "2020-09-22 15:52:53,908 : INFO : worker thread finished; awaiting finish of 3 more threads\n",
            "2020-09-22 15:52:53,938 : INFO : worker thread finished; awaiting finish of 2 more threads\n",
            "2020-09-22 15:52:53,940 : INFO : worker thread finished; awaiting finish of 1 more threads\n",
            "2020-09-22 15:52:53,944 : INFO : worker thread finished; awaiting finish of 0 more threads\n",
            "2020-09-22 15:52:53,946 : INFO : EPOCH - 29 : training on 9227204 raw words (8222570 effective words) took 25.1s, 327130 effective words/s\n",
            "2020-09-22 15:52:54,982 : INFO : EPOCH 30 - PROGRESS: at 3.58% examples, 287732 words/s, in_qsize 15, out_qsize 0\n",
            "2020-09-22 15:52:56,084 : INFO : EPOCH 30 - PROGRESS: at 7.93% examples, 311454 words/s, in_qsize 15, out_qsize 1\n",
            "2020-09-22 15:52:57,148 : INFO : EPOCH 30 - PROGRESS: at 11.95% examples, 307499 words/s, in_qsize 12, out_qsize 3\n",
            "2020-09-22 15:52:58,163 : INFO : EPOCH 30 - PROGRESS: at 15.95% examples, 311607 words/s, in_qsize 10, out_qsize 5\n",
            "2020-09-22 15:52:59,223 : INFO : EPOCH 30 - PROGRESS: at 20.27% examples, 316540 words/s, in_qsize 13, out_qsize 3\n",
            "2020-09-22 15:53:00,257 : INFO : EPOCH 30 - PROGRESS: at 24.50% examples, 319753 words/s, in_qsize 16, out_qsize 0\n",
            "2020-09-22 15:53:01,330 : INFO : EPOCH 30 - PROGRESS: at 28.61% examples, 320588 words/s, in_qsize 15, out_qsize 0\n",
            "2020-09-22 15:53:02,439 : INFO : EPOCH 30 - PROGRESS: at 32.73% examples, 317316 words/s, in_qsize 10, out_qsize 6\n",
            "2020-09-22 15:53:03,464 : INFO : EPOCH 30 - PROGRESS: at 36.83% examples, 318711 words/s, in_qsize 16, out_qsize 0\n",
            "2020-09-22 15:53:04,520 : INFO : EPOCH 30 - PROGRESS: at 41.05% examples, 319746 words/s, in_qsize 14, out_qsize 1\n",
            "2020-09-22 15:53:05,526 : INFO : EPOCH 30 - PROGRESS: at 44.94% examples, 319632 words/s, in_qsize 14, out_qsize 1\n",
            "2020-09-22 15:53:06,533 : INFO : EPOCH 30 - PROGRESS: at 49.06% examples, 321007 words/s, in_qsize 15, out_qsize 0\n",
            "2020-09-22 15:53:07,533 : INFO : EPOCH 30 - PROGRESS: at 53.38% examples, 323618 words/s, in_qsize 15, out_qsize 0\n",
            "2020-09-22 15:53:08,555 : INFO : EPOCH 30 - PROGRESS: at 57.38% examples, 323563 words/s, in_qsize 15, out_qsize 0\n",
            "2020-09-22 15:53:09,572 : INFO : EPOCH 30 - PROGRESS: at 61.28% examples, 323020 words/s, in_qsize 14, out_qsize 1\n",
            "2020-09-22 15:53:10,626 : INFO : EPOCH 30 - PROGRESS: at 65.27% examples, 322353 words/s, in_qsize 15, out_qsize 1\n",
            "2020-09-22 15:53:11,649 : INFO : EPOCH 30 - PROGRESS: at 69.18% examples, 321851 words/s, in_qsize 15, out_qsize 0\n",
            "2020-09-22 15:53:12,729 : INFO : EPOCH 30 - PROGRESS: at 73.19% examples, 320879 words/s, in_qsize 14, out_qsize 1\n",
            "2020-09-22 15:53:13,823 : INFO : EPOCH 30 - PROGRESS: at 77.42% examples, 321656 words/s, in_qsize 13, out_qsize 6\n",
            "2020-09-22 15:53:14,800 : INFO : EPOCH 30 - PROGRESS: at 81.55% examples, 321908 words/s, in_qsize 15, out_qsize 0\n",
            "2020-09-22 15:53:15,825 : INFO : EPOCH 30 - PROGRESS: at 85.23% examples, 320662 words/s, in_qsize 14, out_qsize 6\n",
            "2020-09-22 15:53:16,827 : INFO : EPOCH 30 - PROGRESS: at 89.89% examples, 323354 words/s, in_qsize 15, out_qsize 0\n",
            "2020-09-22 15:53:17,866 : INFO : EPOCH 30 - PROGRESS: at 93.70% examples, 322333 words/s, in_qsize 15, out_qsize 0\n",
            "2020-09-22 15:53:18,951 : INFO : EPOCH 30 - PROGRESS: at 97.71% examples, 321513 words/s, in_qsize 11, out_qsize 4\n",
            "2020-09-22 15:53:19,229 : INFO : worker thread finished; awaiting finish of 7 more threads\n",
            "2020-09-22 15:53:19,234 : INFO : worker thread finished; awaiting finish of 6 more threads\n",
            "2020-09-22 15:53:19,251 : INFO : worker thread finished; awaiting finish of 5 more threads\n",
            "2020-09-22 15:53:19,284 : INFO : worker thread finished; awaiting finish of 4 more threads\n",
            "2020-09-22 15:53:19,298 : INFO : worker thread finished; awaiting finish of 3 more threads\n",
            "2020-09-22 15:53:19,313 : INFO : worker thread finished; awaiting finish of 2 more threads\n",
            "2020-09-22 15:53:19,333 : INFO : worker thread finished; awaiting finish of 1 more threads\n",
            "2020-09-22 15:53:19,341 : INFO : worker thread finished; awaiting finish of 0 more threads\n",
            "2020-09-22 15:53:19,342 : INFO : EPOCH - 30 : training on 9227204 raw words (8223136 effective words) took 25.4s, 323985 effective words/s\n",
            "2020-09-22 15:53:20,486 : INFO : EPOCH 31 - PROGRESS: at 3.58% examples, 260888 words/s, in_qsize 15, out_qsize 7\n",
            "2020-09-22 15:53:21,557 : INFO : EPOCH 31 - PROGRESS: at 7.93% examples, 295843 words/s, in_qsize 16, out_qsize 6\n",
            "2020-09-22 15:53:22,660 : INFO : EPOCH 31 - PROGRESS: at 12.28% examples, 309595 words/s, in_qsize 15, out_qsize 1\n",
            "2020-09-22 15:53:23,625 : INFO : EPOCH 31 - PROGRESS: at 16.48% examples, 317480 words/s, in_qsize 15, out_qsize 0\n",
            "2020-09-22 15:53:24,678 : INFO : EPOCH 31 - PROGRESS: at 20.16% examples, 311548 words/s, in_qsize 15, out_qsize 2\n",
            "2020-09-22 15:53:25,750 : INFO : EPOCH 31 - PROGRESS: at 24.39% examples, 315626 words/s, in_qsize 15, out_qsize 1\n",
            "2020-09-22 15:53:26,832 : INFO : EPOCH 31 - PROGRESS: at 28.61% examples, 314703 words/s, in_qsize 14, out_qsize 1\n",
            "2020-09-22 15:53:27,863 : INFO : EPOCH 31 - PROGRESS: at 32.73% examples, 316333 words/s, in_qsize 15, out_qsize 2\n",
            "2020-09-22 15:53:28,875 : INFO : EPOCH 31 - PROGRESS: at 36.61% examples, 316397 words/s, in_qsize 15, out_qsize 2\n",
            "2020-09-22 15:53:29,905 : INFO : EPOCH 31 - PROGRESS: at 40.73% examples, 317571 words/s, in_qsize 14, out_qsize 1\n",
            "2020-09-22 15:53:30,942 : INFO : EPOCH 31 - PROGRESS: at 44.94% examples, 319136 words/s, in_qsize 14, out_qsize 1\n",
            "2020-09-22 15:53:31,950 : INFO : EPOCH 31 - PROGRESS: at 49.06% examples, 320510 words/s, in_qsize 15, out_qsize 0\n",
            "2020-09-22 15:53:32,962 : INFO : EPOCH 31 - PROGRESS: at 52.84% examples, 319575 words/s, in_qsize 14, out_qsize 2\n",
            "2020-09-22 15:53:34,044 : INFO : EPOCH 31 - PROGRESS: at 56.95% examples, 319106 words/s, in_qsize 15, out_qsize 0\n",
            "2020-09-22 15:53:35,098 : INFO : EPOCH 31 - PROGRESS: at 60.85% examples, 318212 words/s, in_qsize 15, out_qsize 1\n",
            "2020-09-22 15:53:36,181 : INFO : EPOCH 31 - PROGRESS: at 64.95% examples, 317756 words/s, in_qsize 11, out_qsize 4\n",
            "2020-09-22 15:53:37,295 : INFO : EPOCH 31 - PROGRESS: at 69.29% examples, 317904 words/s, in_qsize 12, out_qsize 5\n",
            "2020-09-22 15:53:38,298 : INFO : EPOCH 31 - PROGRESS: at 73.83% examples, 320794 words/s, in_qsize 15, out_qsize 0\n",
            "2020-09-22 15:53:39,330 : INFO : EPOCH 31 - PROGRESS: at 77.63% examples, 319823 words/s, in_qsize 15, out_qsize 0\n",
            "2020-09-22 15:53:40,334 : INFO : EPOCH 31 - PROGRESS: at 81.77% examples, 320657 words/s, in_qsize 16, out_qsize 0\n",
            "2020-09-22 15:53:41,446 : INFO : EPOCH 31 - PROGRESS: at 85.99% examples, 320238 words/s, in_qsize 15, out_qsize 0\n",
            "2020-09-22 15:53:42,517 : INFO : EPOCH 31 - PROGRESS: at 90.11% examples, 320044 words/s, in_qsize 13, out_qsize 2\n",
            "2020-09-22 15:53:43,521 : INFO : EPOCH 31 - PROGRESS: at 94.14% examples, 320376 words/s, in_qsize 13, out_qsize 3\n",
            "2020-09-22 15:53:44,587 : INFO : EPOCH 31 - PROGRESS: at 98.47% examples, 320954 words/s, in_qsize 12, out_qsize 3\n",
            "2020-09-22 15:53:44,764 : INFO : worker thread finished; awaiting finish of 7 more threads\n",
            "2020-09-22 15:53:44,769 : INFO : worker thread finished; awaiting finish of 6 more threads\n",
            "2020-09-22 15:53:44,775 : INFO : worker thread finished; awaiting finish of 5 more threads\n",
            "2020-09-22 15:53:44,779 : INFO : worker thread finished; awaiting finish of 4 more threads\n",
            "2020-09-22 15:53:44,791 : INFO : worker thread finished; awaiting finish of 3 more threads\n",
            "2020-09-22 15:53:44,793 : INFO : worker thread finished; awaiting finish of 2 more threads\n",
            "2020-09-22 15:53:44,839 : INFO : worker thread finished; awaiting finish of 1 more threads\n",
            "2020-09-22 15:53:44,849 : INFO : worker thread finished; awaiting finish of 0 more threads\n",
            "2020-09-22 15:53:44,850 : INFO : EPOCH - 31 : training on 9227204 raw words (8222523 effective words) took 25.5s, 322565 effective words/s\n",
            "2020-09-22 15:53:45,976 : INFO : EPOCH 32 - PROGRESS: at 3.69% examples, 272713 words/s, in_qsize 14, out_qsize 1\n",
            "2020-09-22 15:53:46,984 : INFO : EPOCH 32 - PROGRESS: at 7.71% examples, 298466 words/s, in_qsize 15, out_qsize 0\n",
            "2020-09-22 15:53:48,044 : INFO : EPOCH 32 - PROGRESS: at 11.95% examples, 308355 words/s, in_qsize 15, out_qsize 0\n",
            "2020-09-22 15:53:49,081 : INFO : EPOCH 32 - PROGRESS: at 15.94% examples, 310642 words/s, in_qsize 15, out_qsize 0\n",
            "2020-09-22 15:53:50,190 : INFO : EPOCH 32 - PROGRESS: at 20.27% examples, 312821 words/s, in_qsize 15, out_qsize 0\n",
            "2020-09-22 15:53:51,208 : INFO : EPOCH 32 - PROGRESS: at 24.39% examples, 316015 words/s, in_qsize 14, out_qsize 1\n",
            "2020-09-22 15:53:52,243 : INFO : EPOCH 32 - PROGRESS: at 28.61% examples, 318750 words/s, in_qsize 15, out_qsize 0\n",
            "2020-09-22 15:53:53,279 : INFO : EPOCH 32 - PROGRESS: at 32.30% examples, 316569 words/s, in_qsize 15, out_qsize 1\n",
            "2020-09-22 15:53:54,261 : INFO : EPOCH 32 - PROGRESS: at 36.72% examples, 321399 words/s, in_qsize 16, out_qsize 1\n",
            "2020-09-22 15:53:55,268 : INFO : EPOCH 32 - PROGRESS: at 40.51% examples, 320259 words/s, in_qsize 16, out_qsize 0\n",
            "2020-09-22 15:53:56,294 : INFO : EPOCH 32 - PROGRESS: at 44.51% examples, 320323 words/s, in_qsize 15, out_qsize 0\n",
            "2020-09-22 15:53:57,349 : INFO : EPOCH 32 - PROGRESS: at 48.62% examples, 321106 words/s, in_qsize 15, out_qsize 0\n",
            "2020-09-22 15:53:58,342 : INFO : EPOCH 32 - PROGRESS: at 52.62% examples, 321245 words/s, in_qsize 13, out_qsize 2\n",
            "2020-09-22 15:53:59,457 : INFO : EPOCH 32 - PROGRESS: at 56.84% examples, 320543 words/s, in_qsize 16, out_qsize 0\n",
            "2020-09-22 15:54:00,487 : INFO : EPOCH 32 - PROGRESS: at 61.28% examples, 322804 words/s, in_qsize 15, out_qsize 0\n",
            "2020-09-22 15:54:01,491 : INFO : EPOCH 32 - PROGRESS: at 65.38% examples, 323663 words/s, in_qsize 15, out_qsize 0\n",
            "2020-09-22 15:54:02,560 : INFO : EPOCH 32 - PROGRESS: at 69.50% examples, 323239 words/s, in_qsize 15, out_qsize 0\n",
            "2020-09-22 15:54:03,575 : INFO : EPOCH 32 - PROGRESS: at 73.41% examples, 322830 words/s, in_qsize 15, out_qsize 0\n",
            "2020-09-22 15:54:04,603 : INFO : EPOCH 32 - PROGRESS: at 77.63% examples, 323600 words/s, in_qsize 15, out_qsize 0\n",
            "2020-09-22 15:54:05,663 : INFO : EPOCH 32 - PROGRESS: at 81.66% examples, 322972 words/s, in_qsize 15, out_qsize 0\n",
            "2020-09-22 15:54:06,689 : INFO : EPOCH 32 - PROGRESS: at 85.66% examples, 322885 words/s, in_qsize 15, out_qsize 1\n",
            "2020-09-22 15:54:07,733 : INFO : EPOCH 32 - PROGRESS: at 89.78% examples, 322960 words/s, in_qsize 14, out_qsize 1\n",
            "2020-09-22 15:54:08,749 : INFO : EPOCH 32 - PROGRESS: at 93.92% examples, 323367 words/s, in_qsize 14, out_qsize 1\n",
            "2020-09-22 15:54:09,785 : INFO : EPOCH 32 - PROGRESS: at 98.04% examples, 323493 words/s, in_qsize 16, out_qsize 1\n",
            "2020-09-22 15:54:10,014 : INFO : worker thread finished; awaiting finish of 7 more threads\n",
            "2020-09-22 15:54:10,028 : INFO : worker thread finished; awaiting finish of 6 more threads\n",
            "2020-09-22 15:54:10,030 : INFO : worker thread finished; awaiting finish of 5 more threads\n",
            "2020-09-22 15:54:10,056 : INFO : worker thread finished; awaiting finish of 4 more threads\n",
            "2020-09-22 15:54:10,134 : INFO : worker thread finished; awaiting finish of 3 more threads\n",
            "2020-09-22 15:54:10,136 : INFO : worker thread finished; awaiting finish of 2 more threads\n",
            "2020-09-22 15:54:10,140 : INFO : worker thread finished; awaiting finish of 1 more threads\n",
            "2020-09-22 15:54:10,144 : INFO : worker thread finished; awaiting finish of 0 more threads\n",
            "2020-09-22 15:54:10,145 : INFO : EPOCH - 32 : training on 9227204 raw words (8222785 effective words) took 25.3s, 325270 effective words/s\n",
            "2020-09-22 15:54:10,146 : INFO : training on a 295270528 raw words (263125327 effective words) took 813.4s, 323474 effective words/s\n"
          ],
          "name": "stderr"
        },
        {
          "output_type": "stream",
          "text": [
            "CPU times: user 25min 42s, sys: 9.47 s, total: 25min 51s\n",
            "Wall time: 13min 33s\n"
          ],
          "name": "stdout"
        }
      ]
    },
    {
      "cell_type": "code",
      "metadata": {
        "_uuid": "27cc2651c74227115d8bfd8c40e5618048e05edd",
        "id": "DNxQK-hB5ycp",
        "colab_type": "code",
        "colab": {
          "base_uri": "https://localhost:8080/",
          "height": 255
        },
        "outputId": "51da1a0c-70a1-4ca1-a690-fe78713c6da3"
      },
      "source": [
        "w2v_model.most_similar(\"love\")"
      ],
      "execution_count": null,
      "outputs": [
        {
          "output_type": "stream",
          "text": [
            "/usr/local/lib/python3.6/dist-packages/ipykernel_launcher.py:1: DeprecationWarning: Call to deprecated `most_similar` (Method will be removed in 4.0.0, use self.wv.most_similar() instead).\n",
            "  \"\"\"Entry point for launching an IPython kernel.\n",
            "2020-09-22 15:56:15,949 : INFO : precomputing L2-norms of word weight vectors\n"
          ],
          "name": "stderr"
        },
        {
          "output_type": "execute_result",
          "data": {
            "text/plain": [
              "[('luv', 0.5692778825759888),\n",
              " ('loves', 0.5512661933898926),\n",
              " ('loved', 0.542873203754425),\n",
              " ('adore', 0.529658317565918),\n",
              " ('amazing', 0.49579358100891113),\n",
              " ('looove', 0.4846128523349762),\n",
              " ('awesome', 0.4726632833480835),\n",
              " ('miss', 0.4431297481060028),\n",
              " ('lovee', 0.44265204668045044),\n",
              " ('loooove', 0.4408748745918274)]"
            ]
          },
          "metadata": {
            "tags": []
          },
          "execution_count": 28
        }
      ]
    },
    {
      "cell_type": "markdown",
      "metadata": {
        "_uuid": "e13563644468037258598637b49373ca96b9b879",
        "id": "Ud_GuD_05ycs",
        "colab_type": "text"
      },
      "source": [
        "### Tokenize Text"
      ]
    },
    {
      "cell_type": "code",
      "metadata": {
        "_uuid": "6852bc709a7cd20173cbeeb218505078f8f37c57",
        "id": "hBvZW9VT5ycs",
        "colab_type": "code",
        "colab": {
          "base_uri": "https://localhost:8080/",
          "height": 67
        },
        "outputId": "28e6cb6b-c082-4780-81b0-2a9adb175403"
      },
      "source": [
        "%%time\n",
        "tokenizer = Tokenizer()\n",
        "tokenizer.fit_on_texts(df_train.text)\n",
        "\n",
        "vocab_size = len(tokenizer.word_index) + 1\n",
        "print(\"Total words\", vocab_size)"
      ],
      "execution_count": null,
      "outputs": [
        {
          "output_type": "stream",
          "text": [
            "Total words 290419\n",
            "CPU times: user 18.3 s, sys: 115 ms, total: 18.4 s\n",
            "Wall time: 18.4 s\n"
          ],
          "name": "stdout"
        }
      ]
    },
    {
      "cell_type": "code",
      "metadata": {
        "_uuid": "45de439df3015030c71f84c2d170346936a1d68f",
        "id": "mg3wHbW55ycv",
        "colab_type": "code",
        "colab": {
          "base_uri": "https://localhost:8080/",
          "height": 50
        },
        "outputId": "699e096a-39fb-419e-afbb-b9571b6de3a4"
      },
      "source": [
        "%%time\n",
        "x_train = pad_sequences(tokenizer.texts_to_sequences(df_train.text), maxlen=SEQUENCE_LENGTH)\n",
        "x_test = pad_sequences(tokenizer.texts_to_sequences(df_test.text), maxlen=SEQUENCE_LENGTH)"
      ],
      "execution_count": null,
      "outputs": [
        {
          "output_type": "stream",
          "text": [
            "CPU times: user 26.8 s, sys: 795 ms, total: 27.6 s\n",
            "Wall time: 27.7 s\n"
          ],
          "name": "stdout"
        }
      ]
    },
    {
      "cell_type": "markdown",
      "metadata": {
        "_uuid": "03b35903fc6260e190d6928d240ef7432de117fc",
        "id": "0Jr_HzPT5ycz",
        "colab_type": "text"
      },
      "source": [
        "### Label Encoder "
      ]
    },
    {
      "cell_type": "code",
      "metadata": {
        "_uuid": "33676e0efa39e97d89bd650b8b4eae933a22fbf0",
        "id": "HFD-VXG95yc0",
        "colab_type": "code",
        "colab": {
          "base_uri": "https://localhost:8080/",
          "height": 34
        },
        "outputId": "4ae380c5-88f9-4e1d-fc5d-42719ee2068d"
      },
      "source": [
        "labels = df_train.target.unique().tolist()\n",
        "labels.append(NEUTRAL)\n",
        "labels"
      ],
      "execution_count": null,
      "outputs": [
        {
          "output_type": "execute_result",
          "data": {
            "text/plain": [
              "['POSITIVE', 'NEGATIVE', 'NEUTRAL']"
            ]
          },
          "metadata": {
            "tags": []
          },
          "execution_count": 31
        }
      ]
    },
    {
      "cell_type": "code",
      "metadata": {
        "_uuid": "04239a9bef76e7922fd86098a5601dfde8ee4665",
        "id": "YzK386Gp5yc4",
        "colab_type": "code",
        "colab": {
          "base_uri": "https://localhost:8080/",
          "height": 50
        },
        "outputId": "c425f81f-31e1-4d45-eae8-a6103cd945f6"
      },
      "source": [
        "encoder = LabelEncoder()\n",
        "encoder.fit(df_train.target.tolist())\n",
        "\n",
        "y_train = encoder.transform(df_train.target.tolist())\n",
        "y_test = encoder.transform(df_test.target.tolist())\n",
        "\n",
        "y_train = y_train.reshape(-1,1)\n",
        "y_test = y_test.reshape(-1,1)\n",
        "\n",
        "print(\"y_train\",y_train.shape)\n",
        "print(\"y_test\",y_test.shape)"
      ],
      "execution_count": null,
      "outputs": [
        {
          "output_type": "stream",
          "text": [
            "y_train (1280000, 1)\n",
            "y_test (320000, 1)\n"
          ],
          "name": "stdout"
        }
      ]
    },
    {
      "cell_type": "code",
      "metadata": {
        "_uuid": "04299c886911ca135583ab64878f213939a2990c",
        "id": "tfsZibZ95yc-",
        "colab_type": "code",
        "colab": {
          "base_uri": "https://localhost:8080/",
          "height": 101
        },
        "outputId": "abdd86ee-b039-4f19-a713-69dbb77381b5"
      },
      "source": [
        "print(\"x_train\", x_train.shape)\n",
        "print(\"y_train\", y_train.shape)\n",
        "print()\n",
        "print(\"x_test\", x_test.shape)\n",
        "print(\"y_test\", y_test.shape)"
      ],
      "execution_count": null,
      "outputs": [
        {
          "output_type": "stream",
          "text": [
            "x_train (1280000, 300)\n",
            "y_train (1280000, 1)\n",
            "\n",
            "x_test (320000, 300)\n",
            "y_test (320000, 1)\n"
          ],
          "name": "stdout"
        }
      ]
    },
    {
      "cell_type": "code",
      "metadata": {
        "_uuid": "232533fb27b7be99d9b8c2f8fb22c9c6bf121a6f",
        "id": "6dfSQOJV5ydB",
        "colab_type": "code",
        "colab": {
          "base_uri": "https://localhost:8080/",
          "height": 185
        },
        "outputId": "a56ec051-4682-4f76-b690-ac1fd4dcb6ff"
      },
      "source": [
        "y_train[:10]"
      ],
      "execution_count": null,
      "outputs": [
        {
          "output_type": "execute_result",
          "data": {
            "text/plain": [
              "array([[1],\n",
              "       [1],\n",
              "       [1],\n",
              "       [0],\n",
              "       [1],\n",
              "       [1],\n",
              "       [1],\n",
              "       [1],\n",
              "       [1],\n",
              "       [1]])"
            ]
          },
          "metadata": {
            "tags": []
          },
          "execution_count": 34
        }
      ]
    },
    {
      "cell_type": "markdown",
      "metadata": {
        "_uuid": "233c0ea94055a03e2e7df3e2a13d036ec963484f",
        "id": "G5HqrCdi5ydE",
        "colab_type": "text"
      },
      "source": [
        "### Embedding layer"
      ]
    },
    {
      "cell_type": "code",
      "metadata": {
        "_uuid": "9ab488374b59e3f30f8b1ea92767d853c4846bac",
        "id": "N-Tr1wRI5ydE",
        "colab_type": "code",
        "colab": {
          "base_uri": "https://localhost:8080/",
          "height": 34
        },
        "outputId": "4303bfe1-cb51-435e-9b38-e4f0e7e7d211"
      },
      "source": [
        "embedding_matrix = np.zeros((vocab_size, W2V_SIZE))\n",
        "for word, i in tokenizer.word_index.items():\n",
        "  if word in w2v_model.wv:\n",
        "    embedding_matrix[i] = w2v_model.wv[word]\n",
        "print(embedding_matrix.shape)"
      ],
      "execution_count": null,
      "outputs": [
        {
          "output_type": "stream",
          "text": [
            "(290419, 300)\n"
          ],
          "name": "stdout"
        }
      ]
    },
    {
      "cell_type": "code",
      "metadata": {
        "_uuid": "833279d91e4286065968237fb5f2a0c2dd4d246c",
        "id": "FrssyEfi5ydH",
        "colab_type": "code",
        "colab": {}
      },
      "source": [
        "embedding_layer = Embedding(vocab_size, W2V_SIZE, weights=[embedding_matrix], input_length=SEQUENCE_LENGTH, trainable=False)"
      ],
      "execution_count": null,
      "outputs": []
    },
    {
      "cell_type": "markdown",
      "metadata": {
        "_uuid": "b299ef78f94c2085942c993a2d58753a7476305a",
        "id": "qR6SCw7g5ydK",
        "colab_type": "text"
      },
      "source": [
        "### Build Model"
      ]
    },
    {
      "cell_type": "code",
      "metadata": {
        "_uuid": "e775ef4f1b74e6412457181383c39f2df554ef3f",
        "id": "7NiEpkb05ydM",
        "colab_type": "code",
        "colab": {
          "base_uri": "https://localhost:8080/",
          "height": 302
        },
        "outputId": "bbce9c49-6503-4ae8-a9ce-b8525bf8cebc"
      },
      "source": [
        "model_exists=os.path.isfile('/content/drive/My Drive/Copy of model.h5')\n",
        "if model_exists:\n",
        "    from keras.models import load_model\n",
        "    model = load_model('/content/drive/My Drive/Copy of model.h5')\n",
        "    print(\"Keras model file found and loaded.\")\n",
        "else:\n",
        "    model = Sequential()\n",
        "    model.add(embedding_layer)\n",
        "    model.add(Dropout(0.5))\n",
        "    model.add(LSTM(100, dropout=0.2, recurrent_dropout=0.2))\n",
        "    model.add(Dense(1, activation='sigmoid'))\n",
        "\n",
        "model.summary()"
      ],
      "execution_count": null,
      "outputs": [
        {
          "output_type": "stream",
          "text": [
            "Keras model file found and loaded.\n",
            "Model: \"sequential_1\"\n",
            "_________________________________________________________________\n",
            "Layer (type)                 Output Shape              Param #   \n",
            "=================================================================\n",
            "embedding_1 (Embedding)      (None, 300, 300)          87125700  \n",
            "_________________________________________________________________\n",
            "dropout_1 (Dropout)          (None, 300, 300)          0         \n",
            "_________________________________________________________________\n",
            "lstm_1 (LSTM)                (None, 100)               160400    \n",
            "_________________________________________________________________\n",
            "dense_1 (Dense)              (None, 1)                 101       \n",
            "=================================================================\n",
            "Total params: 87,286,201\n",
            "Trainable params: 160,501\n",
            "Non-trainable params: 87,125,700\n",
            "_________________________________________________________________\n"
          ],
          "name": "stdout"
        }
      ]
    },
    {
      "cell_type": "markdown",
      "metadata": {
        "_uuid": "28d22eafd0c7d798dcf3d742bc92fb8577939e6c",
        "id": "PdKXkROU5ydR",
        "colab_type": "text"
      },
      "source": [
        "### Compile model"
      ]
    },
    {
      "cell_type": "code",
      "metadata": {
        "_uuid": "1331e08d590bb2aa2033706c8faca217afc0f1c3",
        "id": "bXkV36DM5ydR",
        "colab_type": "code",
        "colab": {
          "base_uri": "https://localhost:8080/",
          "height": 34
        },
        "outputId": "fb92e723-3536-4d48-f354-b5a40236ec9a"
      },
      "source": [
        "if not model_exists:\n",
        "    model.compile(loss='binary_crossentropy',\n",
        "                  optimizer=\"adam\",\n",
        "                  metrics=['accuracy'])\n",
        "else:\n",
        "    print(\"Compiled Model Loaded.\")"
      ],
      "execution_count": null,
      "outputs": [
        {
          "output_type": "stream",
          "text": [
            "Compiled Model Loaded.\n"
          ],
          "name": "stdout"
        }
      ]
    },
    {
      "cell_type": "markdown",
      "metadata": {
        "_uuid": "c7733127cb8b380e0c807268903bf4d03ef92542",
        "id": "q7g3wazi5ydU",
        "colab_type": "text"
      },
      "source": [
        "### Callbacks"
      ]
    },
    {
      "cell_type": "code",
      "metadata": {
        "_uuid": "a688df590386f5748da6fe00b01904fe6c71619e",
        "id": "kmG-Jp9A5ydV",
        "colab_type": "code",
        "colab": {}
      },
      "source": [
        "callbacks = [ ReduceLROnPlateau(monitor='val_loss', patience=5, cooldown=0),\n",
        "              EarlyStopping(monitor='val_acc', min_delta=1e-4, patience=5)]"
      ],
      "execution_count": null,
      "outputs": []
    },
    {
      "cell_type": "markdown",
      "metadata": {
        "_uuid": "8d0873633dd49179c8cae17377641b97d323ef3b",
        "id": "MVWAXq_s5ydY",
        "colab_type": "text"
      },
      "source": [
        "### Train"
      ]
    },
    {
      "cell_type": "code",
      "metadata": {
        "_uuid": "2b659d390c6577dc5cdb6b6297934279b4e801d5",
        "id": "lYzhZfLy5ydZ",
        "colab_type": "code",
        "colab": {
          "base_uri": "https://localhost:8080/",
          "height": 50
        },
        "outputId": "7258b7fb-271b-4b33-d467-fc81c0b15208"
      },
      "source": [
        "%%time\n",
        "if not model_exists:#if model doesn't exist, fit the model on the training set\n",
        "    from keras.callbacks import CSVLogger\n",
        "\n",
        "    csv_logger = CSVLogger('training.log', separator=',', append=False)\n",
        "    history = model.fit(x_train, y_train,\n",
        "                        batch_size=BATCH_SIZE,\n",
        "                        epochs=EPOCHS,\n",
        "                        validation_split=0.1,\n",
        "                        verbose=1,\n",
        "                        callbacks=callbacks)\n",
        "    #storing history for visualization\n",
        "    pickle_out = open(\"../input/trained-model/history.pickle\",\"wb\")\n",
        "    pickle.dump(history.histpry, pickle_out)\n",
        "    pickle_out.close()\n",
        "else:\n",
        "    if os.path.isfile('../input/trained-model/history.pickle'):\n",
        "        history=pickle.load('../input/trained-model/history.pickle')\n",
        "        print(\"History file found and loaded.\")"
      ],
      "execution_count": null,
      "outputs": [
        {
          "output_type": "stream",
          "text": [
            "CPU times: user 254 µs, sys: 3 µs, total: 257 µs\n",
            "Wall time: 266 µs\n"
          ],
          "name": "stdout"
        }
      ]
    },
    {
      "cell_type": "markdown",
      "metadata": {
        "_uuid": "267258196d96796ac69a7b8c466314bcf5d6ee42",
        "id": "toSANz2R5ydb",
        "colab_type": "text"
      },
      "source": [
        "### Evaluate"
      ]
    },
    {
      "cell_type": "code",
      "metadata": {
        "_uuid": "98ecd8f1b8b74594c3ea775dd68a094e92458022",
        "id": "luabHg3e5ydc",
        "colab_type": "code",
        "colab": {
          "base_uri": "https://localhost:8080/",
          "height": 118
        },
        "outputId": "fd5dc762-06c0-4232-9a36-5c2ecfb0c1ba"
      },
      "source": [
        "%%time\n",
        "score = model.evaluate(x_test, y_test, batch_size=BATCH_SIZE)\n",
        "print()\n",
        "print(\"ACCURACY:\",score[1])\n",
        "print(\"LOSS:\",score[0])"
      ],
      "execution_count": null,
      "outputs": [
        {
          "output_type": "stream",
          "text": [
            "313/313 [==============================] - 1236s 4s/step - loss: 0.4443 - accuracy: 0.7911\n",
            "\n",
            "ACCURACY: 0.7911343574523926\n",
            "LOSS: 0.44429531693458557\n",
            "CPU times: user 26min 55s, sys: 8min 21s, total: 35min 16s\n",
            "Wall time: 20min 41s\n"
          ],
          "name": "stdout"
        }
      ]
    },
    {
      "cell_type": "markdown",
      "metadata": {
        "_uuid": "6bdfc0f6a6af5bebc0271d83dd7432c91001409b",
        "id": "ywQ48_Zh5ydi",
        "colab_type": "text"
      },
      "source": [
        "### Predict"
      ]
    },
    {
      "cell_type": "code",
      "metadata": {
        "_uuid": "f0b0fa3d4b1bb14b3f5e3d169a369f3ebef29ae1",
        "id": "WQyx01XD5ydi",
        "colab_type": "code",
        "colab": {}
      },
      "source": [
        "def decode_sentiment(score, include_neutral=True):\n",
        "    if include_neutral:        \n",
        "        label = NEUTRAL\n",
        "        if score <= SENTIMENT_THRESHOLDS[0]:\n",
        "            label = NEGATIVE\n",
        "        elif score >= SENTIMENT_THRESHOLDS[1]:\n",
        "            label = POSITIVE\n",
        "\n",
        "        return label\n",
        "    else:\n",
        "        return NEGATIVE if score < 0.5 else POSITIVE"
      ],
      "execution_count": null,
      "outputs": []
    },
    {
      "cell_type": "code",
      "metadata": {
        "_uuid": "ed4086d651f2f8cbed11d3c909a8873607d29a06",
        "id": "Yfps6thj5ydl",
        "colab_type": "code",
        "colab": {}
      },
      "source": [
        "def predict(text, include_neutral=True):\n",
        "    start_at = time.time()\n",
        "    # Tokenize text\n",
        "    x_test = pad_sequences(tokenizer.texts_to_sequences([text]), maxlen=SEQUENCE_LENGTH)\n",
        "    # Predict\n",
        "    score = model.predict([x_test])[0]\n",
        "    # Decode sentiment\n",
        "    label = decode_sentiment(score, include_neutral=include_neutral)\n",
        "\n",
        "    return {\"label\": label, \"score\": float(score),\n",
        "       \"elapsed_time\": time.time()-start_at}  "
      ],
      "execution_count": null,
      "outputs": []
    },
    {
      "cell_type": "code",
      "metadata": {
        "_uuid": "ca38b1e6c9b5acfed7467de2cf02a78333108872",
        "id": "V5WcOFK45ydo",
        "colab_type": "code",
        "colab": {
          "base_uri": "https://localhost:8080/",
          "height": 67
        },
        "outputId": "85eee581-6b5a-42c6-c1d1-371db9d89495"
      },
      "source": [
        "predict(\"I love the music\")"
      ],
      "execution_count": null,
      "outputs": [
        {
          "output_type": "execute_result",
          "data": {
            "text/plain": [
              "{'elapsed_time': 0.37374186515808105,\n",
              " 'label': 'POSITIVE',\n",
              " 'score': 0.9656286239624023}"
            ]
          },
          "metadata": {
            "tags": []
          },
          "execution_count": 44
        }
      ]
    },
    {
      "cell_type": "code",
      "metadata": {
        "_uuid": "0e5fe647533be0148850de349fea6ef6f71303d1",
        "id": "JufMgVmO5yds",
        "colab_type": "code",
        "colab": {
          "base_uri": "https://localhost:8080/",
          "height": 67
        },
        "outputId": "b701a60b-dec1-4d2a-b307-b915db34650f"
      },
      "source": [
        "predict(\"I hate the rain\")"
      ],
      "execution_count": null,
      "outputs": [
        {
          "output_type": "execute_result",
          "data": {
            "text/plain": [
              "{'elapsed_time': 0.11222577095031738,\n",
              " 'label': 'NEGATIVE',\n",
              " 'score': 0.01075369119644165}"
            ]
          },
          "metadata": {
            "tags": []
          },
          "execution_count": 45
        }
      ]
    },
    {
      "cell_type": "code",
      "metadata": {
        "_uuid": "37064dffcc8920d34ccd54fac7c8b50e583a8269",
        "id": "I3nCUHkW5yd0",
        "colab_type": "code",
        "colab": {
          "base_uri": "https://localhost:8080/",
          "height": 67
        },
        "outputId": "eb0c1071-a9b5-4700-acad-1311af10a61c"
      },
      "source": [
        "predict(\"i don't know what i'm doing\")"
      ],
      "execution_count": null,
      "outputs": [
        {
          "output_type": "execute_result",
          "data": {
            "text/plain": [
              "{'elapsed_time': 0.0966649055480957,\n",
              " 'label': 'NEGATIVE',\n",
              " 'score': 0.2742375135421753}"
            ]
          },
          "metadata": {
            "tags": []
          },
          "execution_count": 46
        }
      ]
    },
    {
      "cell_type": "code",
      "metadata": {
        "id": "o9l2ZEatJ7YM",
        "colab_type": "code",
        "colab": {
          "base_uri": "https://localhost:8080/",
          "height": 67
        },
        "outputId": "d11594fd-6249-457b-e587-62042ceba46f"
      },
      "source": [
        "predict(\"teju likes to dance\")"
      ],
      "execution_count": null,
      "outputs": [
        {
          "output_type": "execute_result",
          "data": {
            "text/plain": [
              "{'elapsed_time': 0.09816884994506836,\n",
              " 'label': 'POSITIVE',\n",
              " 'score': 0.8790203332901001}"
            ]
          },
          "metadata": {
            "tags": []
          },
          "execution_count": 47
        }
      ]
    },
    {
      "cell_type": "code",
      "metadata": {
        "id": "qqU3weDCKBr7",
        "colab_type": "code",
        "colab": {
          "base_uri": "https://localhost:8080/",
          "height": 67
        },
        "outputId": "89d5565e-88c1-4516-8e89-e465f510b418"
      },
      "source": [
        "predict(\"rekha hates slow internet connection\")"
      ],
      "execution_count": null,
      "outputs": [
        {
          "output_type": "execute_result",
          "data": {
            "text/plain": [
              "{'elapsed_time': 0.10019731521606445,\n",
              " 'label': 'NEGATIVE',\n",
              " 'score': 0.013744771480560303}"
            ]
          },
          "metadata": {
            "tags": []
          },
          "execution_count": 48
        }
      ]
    },
    {
      "cell_type": "markdown",
      "metadata": {
        "_uuid": "3ee72e47f84b6dbc32e02a783de5ec1661f157e1",
        "id": "PXtpKgFF5yd5",
        "colab_type": "text"
      },
      "source": [
        "### Confusion Matrix"
      ]
    },
    {
      "cell_type": "code",
      "metadata": {
        "_uuid": "0e920173eb05f04aecdd735bc5dff0f5be5f8d15",
        "id": "E8Adxcn45yd5",
        "colab_type": "code",
        "colab": {
          "base_uri": "https://localhost:8080/",
          "height": 67
        },
        "outputId": "4c3d38bc-8c6b-4b0b-ac99-597a99d4fd57"
      },
      "source": [
        "%%time\n",
        "y_pred_1d = []\n",
        "y_test_1d = list(df_test.target)\n",
        "scores = model.predict(x_test, verbose=1, batch_size=8000)\n",
        "y_pred_1d = [decode_sentiment(score, include_neutral=False) for score in scores]"
      ],
      "execution_count": null,
      "outputs": [
        {
          "output_type": "stream",
          "text": [
            "40/40 [==============================] - 1081s 27s/step\n",
            "CPU times: user 26min 12s, sys: 8min 36s, total: 34min 49s\n",
            "Wall time: 18min 30s\n"
          ],
          "name": "stdout"
        }
      ]
    },
    {
      "cell_type": "code",
      "metadata": {
        "_uuid": "b3575191bb425ab871f3f41e83812ee84bb7e595",
        "id": "cg8HjzMq5yeB",
        "colab_type": "code",
        "colab": {}
      },
      "source": [
        "def plot_confusion_matrix(cm, classes,\n",
        "                          title='Confusion matrix',\n",
        "                          cmap=plt.cm.Blues):\n",
        "    \"\"\"\n",
        "    This function prints and plots the confusion matrix.\n",
        "    Normalization can be applied by setting `normalize=True`.\n",
        "    \"\"\"\n",
        "\n",
        "    cm = cm.astype('float') / cm.sum(axis=1)[:, np.newaxis]\n",
        "\n",
        "    plt.imshow(cm, interpolation='nearest', cmap=cmap)\n",
        "    plt.title(title, fontsize=30)\n",
        "    plt.colorbar()\n",
        "    tick_marks = np.arange(len(classes))\n",
        "    plt.xticks(tick_marks, classes, rotation=90, fontsize=22)\n",
        "    plt.yticks(tick_marks, classes, fontsize=22)\n",
        "\n",
        "    fmt = '.2f'\n",
        "    thresh = cm.max() / 2.\n",
        "    for i, j in itertools.product(range(cm.shape[0]), range(cm.shape[1])):\n",
        "        plt.text(j, i, format(cm[i, j], fmt),\n",
        "                 horizontalalignment=\"center\",\n",
        "                 color=\"white\" if cm[i, j] > thresh else \"black\")\n",
        "\n",
        "    plt.ylabel('True label', fontsize=25)\n",
        "    plt.xlabel('Predicted label', fontsize=25)"
      ],
      "execution_count": null,
      "outputs": []
    },
    {
      "cell_type": "code",
      "metadata": {
        "_uuid": "a57dc6f6211c144491a70f533225edfa95a2dc66",
        "id": "dNA2yTu65yeI",
        "colab_type": "code",
        "colab": {
          "base_uri": "https://localhost:8080/",
          "height": 802
        },
        "outputId": "d0f48fd3-3d87-4097-dc05-36f2e9ca3aed"
      },
      "source": [
        "%%time\n",
        "\n",
        "cnf_matrix = confusion_matrix(y_test_1d, y_pred_1d)\n",
        "plt.figure(figsize=(12,12))\n",
        "plot_confusion_matrix(cnf_matrix, classes=df_train.target.unique(), title=\"Confusion matrix\")\n",
        "plt.show()"
      ],
      "execution_count": null,
      "outputs": [
        {
          "output_type": "display_data",
          "data": {
            "image/png": "[encoded data removed]",
            "text/plain": [
              "<Figure size 864x864 with 2 Axes>"
            ]
          },
          "metadata": {
            "tags": [],
            "needs_background": "light"
          }
        },
        {
          "output_type": "stream",
          "text": [
            "CPU times: user 1.27 s, sys: 22 ms, total: 1.29 s\n",
            "Wall time: 1.38 s\n"
          ],
          "name": "stdout"
        }
      ]
    },
    {
      "cell_type": "markdown",
      "metadata": {
        "_uuid": "e23b957348dcc084249d3cc7538b972da471c2cd",
        "id": "Jrighkh55yeO",
        "colab_type": "text"
      },
      "source": [
        "### Classification Report"
      ]
    },
    {
      "cell_type": "code",
      "metadata": {
        "_uuid": "a7fe05b7caa1c984ff1deb0be2f7c6bc043df9f5",
        "id": "veewudLq5yeP",
        "colab_type": "code",
        "colab": {
          "base_uri": "https://localhost:8080/",
          "height": 168
        },
        "outputId": "1ab55f33-9f42-41f5-bb4b-9df04ddb92eb"
      },
      "source": [
        "print(classification_report(y_test_1d, y_pred_1d))"
      ],
      "execution_count": null,
      "outputs": [
        {
          "output_type": "stream",
          "text": [
            "              precision    recall  f1-score   support\n",
            "\n",
            "    NEGATIVE       0.79      0.79      0.79    159494\n",
            "    POSITIVE       0.79      0.80      0.79    160506\n",
            "\n",
            "    accuracy                           0.79    320000\n",
            "   macro avg       0.79      0.79      0.79    320000\n",
            "weighted avg       0.79      0.79      0.79    320000\n",
            "\n"
          ],
          "name": "stdout"
        }
      ]
    },
    {
      "cell_type": "markdown",
      "metadata": {
        "_uuid": "4eb300f0c6693a618587c7dcf32f77f5416cbfb9",
        "id": "YTqIUgSN5yeS",
        "colab_type": "text"
      },
      "source": [
        "### Accuracy Score"
      ]
    },
    {
      "cell_type": "code",
      "metadata": {
        "_uuid": "5cf76e6e09f8a60ed25947932b94c772eda44d23",
        "id": "MebSDnJw5yeT",
        "colab_type": "code",
        "colab": {
          "base_uri": "https://localhost:8080/",
          "height": 34
        },
        "outputId": "812a6c43-d680-4f6c-d954-d307b05501d1"
      },
      "source": [
        "accuracy_score(y_test_1d, y_pred_1d)"
      ],
      "execution_count": null,
      "outputs": [
        {
          "output_type": "execute_result",
          "data": {
            "text/plain": [
              "0.791134375"
            ]
          },
          "metadata": {
            "tags": []
          },
          "execution_count": 53
        }
      ]
    },
    {
      "cell_type": "markdown",
      "metadata": {
        "_uuid": "4f014c32f3833db282e1a075c526604f34e3158c",
        "id": "IJl5vCQo5yeW",
        "colab_type": "text"
      },
      "source": [
        "### Save model"
      ]
    },
    {
      "cell_type": "code",
      "metadata": {
        "_uuid": "3b2b3ad5b592977b404acfa1c9ad303a62837255",
        "id": "nGphHQmD5yeW",
        "colab_type": "code",
        "colab": {
          "base_uri": "https://localhost:8080/",
          "height": 84
        },
        "outputId": "e452be13-3a27-4025-87d9-b8af4af49af5"
      },
      "source": [
        "model.save(KERAS_MODEL)\n",
        "w2v_model.save(WORD2VEC_MODEL)\n",
        "pickle.dump(tokenizer, open(TOKENIZER_MODEL, \"wb\"), protocol=0)\n",
        "pickle.dump(encoder, open(ENCODER_MODEL, \"wb\"), protocol=0)"
      ],
      "execution_count": null,
      "outputs": [
        {
          "output_type": "stream",
          "text": [
            "2020-09-22 16:44:24,490 : INFO : saving Word2Vec object under model.w2v, separately None\n",
            "2020-09-22 16:44:24,492 : INFO : not storing attribute vectors_norm\n",
            "2020-09-22 16:44:24,494 : INFO : not storing attribute cum_table\n",
            "2020-09-22 16:44:25,679 : INFO : saved model.w2v\n"
          ],
          "name": "stderr"
        }
      ]
    },
    {
      "cell_type": "code",
      "metadata": {
        "_uuid": "cc363c54782894757f5ea8820c6a170f2e16ef93",
        "id": "CHNdHEJp5yea",
        "colab_type": "code",
        "colab": {}
      },
      "source": [
        ""
      ],
      "execution_count": null,
      "outputs": []
    }
  ]
}